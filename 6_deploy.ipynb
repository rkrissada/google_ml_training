{
  "nbformat": 4,
  "nbformat_minor": 0,
  "metadata": {
    "colab": {
      "name": "6_deploy.ipynb",
      "version": "0.3.2",
      "provenance": [],
      "include_colab_link": true
    },
    "language_info": {
      "codemirror_mode": {
        "name": "ipython",
        "version": 3
      },
      "file_extension": ".py",
      "mimetype": "text/x-python",
      "name": "python",
      "nbconvert_exporter": "python",
      "pygments_lexer": "ipython3",
      "version": "3.5.6"
    },
    "kernelspec": {
      "display_name": "Python 3",
      "language": "python",
      "name": "python3"
    }
  },
  "cells": [
    {
      "cell_type": "markdown",
      "metadata": {
        "id": "view-in-github",
        "colab_type": "text"
      },
      "source": [
        "<a href=\"https://colab.research.google.com/github/rkrissada/google_ml_training/blob/master/6_deploy.ipynb\" target=\"_parent\"><img src=\"https://colab.research.google.com/assets/colab-badge.svg\" alt=\"Open In Colab\"/></a>"
      ]
    },
    {
      "cell_type": "markdown",
      "metadata": {
        "id": "NSNJ9x4CS_Kw",
        "colab_type": "text"
      },
      "source": [
        "<h1> Deploying and predicting with model </h1>\n",
        "\n",
        "This notebook illustrates:\n",
        "<ol>\n",
        "<li> Deploying model\n",
        "<li> Predicting with model\n",
        "</ol>"
      ]
    },
    {
      "cell_type": "code",
      "metadata": {
        "id": "HF3kv6xTS_Kx",
        "colab_type": "code",
        "colab": {}
      },
      "source": [
        "# change these to try this notebook out\n",
        "BUCKET = 'qwiklabs-gcp-03f3aae32d6f97d5'\n",
        "PROJECT = 'qwiklabs-gcp-03f3aae32d6f97d5'\n",
        "REGION = 'us-central1'"
      ],
      "execution_count": 0,
      "outputs": []
    },
    {
      "cell_type": "code",
      "metadata": {
        "id": "4l4xxf4xS_K1",
        "colab_type": "code",
        "colab": {}
      },
      "source": [
        "import os\n",
        "os.environ['BUCKET'] = BUCKET\n",
        "os.environ['PROJECT'] = PROJECT\n",
        "os.environ['REGION'] = REGION\n",
        "os.environ['TFVERSION'] = '1.7'  "
      ],
      "execution_count": 0,
      "outputs": []
    },
    {
      "cell_type": "code",
      "metadata": {
        "id": "wfeQjs5fS_K3",
        "colab_type": "code",
        "colab": {}
      },
      "source": [
        "%%bash\n",
        "if ! gsutil ls | grep -q gs://${BUCKET}/; then\n",
        "  gsutil mb -l ${REGION} gs://${BUCKET}\n",
        "fi"
      ],
      "execution_count": 0,
      "outputs": []
    },
    {
      "cell_type": "code",
      "metadata": {
        "id": "ARCnlyH-S_K6",
        "colab_type": "code",
        "colab": {},
        "outputId": "cd7175fe-2fd9-4de1-ee4c-3896c96dff16"
      },
      "source": [
        "%bash\n",
        "# copy solution to Lab #5 (skip this step if you still have results from Lab 5 in your bucket)\n",
        "gsutil -m cp -R gs://cloud-training-demos/babyweight/trained_model gs://${BUCKET}/babyweight/trained_model"
      ],
      "execution_count": 0,
      "outputs": [
        {
          "output_type": "stream",
          "text": [
            "Copying gs://cloud-training-demos/babyweight/trained_model/checkpoint...\n",
            "/ [0 files][    0.0 B/  187.0 B]                                                \rCopying gs://cloud-training-demos/babyweight/trained_model/eval/events.out.tfevents.1529348264.cmle-training-master-a137ac0fff-0-9q8r4...\n",
            "/ [0 files][    0.0 B/539.6 KiB]                                                \rCopying gs://cloud-training-demos/babyweight/trained_model/events.out.tfevents.1529347276.cmle-training-master-a137ac0fff-0-9q8r4...\n",
            "/ [0 files][    0.0 B/  2.2 MiB]                                                \rCopying gs://cloud-training-demos/babyweight/trained_model/export/exporter/1529348266/saved_model.pb...\n",
            "/ [0 files][    0.0 B/  2.4 MiB]                                                \rCopying gs://cloud-training-demos/babyweight/trained_model/export/exporter/1529348266/variables/variables.data-00000-of-00001...\n",
            "/ [0 files][    0.0 B/  2.7 MiB]                                                \rCopying gs://cloud-training-demos/babyweight/trained_model/export/exporter/1529348266/variables/variables.index...\n",
            "-\r- [1/58 files][  187.0 B/ 12.1 MiB]   0% Done                                   \r- [1/58 files][  187.0 B/ 12.1 MiB]   0% Done                                   \r- [2/58 files][539.6 KiB/ 12.1 MiB]   4% Done                                   \rCopying gs://cloud-training-demos/babyweight/trained_model/export/exporter/1529348864/saved_model.pb...\n",
            "- [2/58 files][539.6 KiB/ 12.1 MiB]   4% Done                                   \r- [3/58 files][  2.2 MiB/ 12.1 MiB]  18% Done                                   \rCopying gs://cloud-training-demos/babyweight/trained_model/export/exporter/1529348864/variables/variables.data-00000-of-00001...\n",
            "- [3/58 files][  2.2 MiB/ 12.1 MiB]  18% Done                                   \rCopying gs://cloud-training-demos/babyweight/trained_model/export/exporter/1529348864/variables/variables.index...\n",
            "- [4/58 files][  2.5 MiB/ 12.1 MiB]  20% Done                                   \r- [4/58 files][  2.5 MiB/ 12.1 MiB]  20% Done                                   \rCopying gs://cloud-training-demos/babyweight/trained_model/export/exporter/1529349460/saved_model.pb...\n",
            "- [5/58 files][  2.7 MiB/ 12.1 MiB]  22% Done                                   \r- [5/58 files][  2.7 MiB/ 12.1 MiB]  22% Done                                   \r- [6/58 files][  2.7 MiB/ 12.1 MiB]  22% Done                                   \rCopying gs://cloud-training-demos/babyweight/trained_model/export/exporter/1529349460/variables/variables.data-00000-of-00001...\n",
            "- [6/58 files][  2.7 MiB/ 12.1 MiB]  22% Done                                   \rCopying gs://cloud-training-demos/babyweight/trained_model/export/exporter/1529349460/variables/variables.index...\n",
            "\\\r\\ [7/58 files][  2.9 MiB/ 12.1 MiB]  24% Done                                   \r\\ [7/58 files][  2.9 MiB/ 12.1 MiB]  24% Done                                   \rCopying gs://cloud-training-demos/babyweight/trained_model/export/exporter/1529350065/saved_model.pb...\n",
            "\\ [8/58 files][  3.1 MiB/ 12.1 MiB]  26% Done                                   \r\\ [8/58 files][  3.1 MiB/ 12.1 MiB]  26% Done                                   \rCopying gs://cloud-training-demos/babyweight/trained_model/export/exporter/1529350065/variables/variables.data-00000-of-00001...\n",
            "\\ [9/58 files][  3.1 MiB/ 12.1 MiB]  26% Done                                   \r\\ [9/58 files][  3.1 MiB/ 12.1 MiB]  26% Done                                   \r\\ [10/58 files][  3.4 MiB/ 12.1 MiB]  27% Done                                  \rCopying gs://cloud-training-demos/babyweight/trained_model/export/exporter/1529350065/variables/variables.index...\n",
            "\\ [10/58 files][  3.4 MiB/ 12.1 MiB]  27% Done                                  \rCopying gs://cloud-training-demos/babyweight/trained_model/export/exporter/1529350672/saved_model.pb...\n",
            "\\ [11/58 files][  3.6 MiB/ 12.1 MiB]  29% Done                                  \r\\ [11/58 files][  3.6 MiB/ 12.1 MiB]  29% Done                                  \r\\ [12/58 files][  3.6 MiB/ 12.1 MiB]  29% Done                                  \rCopying gs://cloud-training-demos/babyweight/trained_model/export/exporter/1529350672/variables/variables.data-00000-of-00001...\n",
            "\\ [12/58 files][  3.6 MiB/ 12.1 MiB]  29% Done                                  \r\\ [13/58 files][  3.8 MiB/ 12.1 MiB]  31% Done                                  \rCopying gs://cloud-training-demos/babyweight/trained_model/export/exporter/1529350672/variables/variables.index...\n",
            "\\ [13/58 files][  3.8 MiB/ 12.1 MiB]  31% Done                                  \rCopying gs://cloud-training-demos/babyweight/trained_model/export/exporter/1529351274/saved_model.pb...\n",
            "|\r| [14/58 files][  4.1 MiB/ 12.1 MiB]  33% Done                                  \r| [14/58 files][  4.1 MiB/ 12.1 MiB]  33% Done                                  \r| [15/58 files][  4.1 MiB/ 12.1 MiB]  33% Done                                  \rCopying gs://cloud-training-demos/babyweight/trained_model/export/exporter/1529351274/variables/variables.data-00000-of-00001...\n",
            "| [15/58 files][  4.1 MiB/ 12.1 MiB]  33% Done                                  \rCopying gs://cloud-training-demos/babyweight/trained_model/export/exporter/1529351274/variables/variables.index...\n",
            "| [16/58 files][  4.3 MiB/ 12.1 MiB]  35% Done                                  \r| [16/58 files][  4.3 MiB/ 12.1 MiB]  35% Done                                  \r| [17/58 files][  4.5 MiB/ 12.1 MiB]  37% Done                                  \rCopying gs://cloud-training-demos/babyweight/trained_model/export/exporter/1529351873/saved_model.pb...\n",
            "| [17/58 files][  4.5 MiB/ 12.1 MiB]  37% Done                                  \rCopying gs://cloud-training-demos/babyweight/trained_model/export/exporter/1529351873/variables/variables.data-00000-of-00001...\n",
            "| [18/58 files][  4.5 MiB/ 12.1 MiB]  37% Done                                  \r| [18/58 files][  4.5 MiB/ 12.1 MiB]  37% Done                                  \rCopying gs://cloud-training-demos/babyweight/trained_model/export/exporter/1529351873/variables/variables.index...\n",
            "/\r/ [19/58 files][  4.8 MiB/ 12.1 MiB]  39% Done                                  \r/ [19/58 files][  4.8 MiB/ 12.1 MiB]  39% Done                                  \rCopying gs://cloud-training-demos/babyweight/trained_model/export/exporter/1529352472/saved_model.pb...\n",
            "/ [20/58 files][  5.0 MiB/ 12.1 MiB]  41% Done                                  \r/ [20/58 files][  5.0 MiB/ 12.1 MiB]  41% Done                                  \rCopying gs://cloud-training-demos/babyweight/trained_model/export/exporter/1529352472/variables/variables.data-00000-of-00001...\n",
            "Copying gs://cloud-training-demos/babyweight/trained_model/export/exporter/1529352472/variables/variables.index...\n",
            "/ [21/58 files][  5.2 MiB/ 12.1 MiB]  43% Done                                  \r/ [22/58 files][  5.2 MiB/ 12.1 MiB]  43% Done                                  \r/ [22/58 files][  5.2 MiB/ 12.1 MiB]  43% Done                                  \r/ [22/58 files][  5.2 MiB/ 12.1 MiB]  43% Done                                  \rCopying gs://cloud-training-demos/babyweight/trained_model/export/exporter/1529353074/saved_model.pb...\n",
            "/ [23/58 files][  5.5 MiB/ 12.1 MiB]  45% Done                                  \r/ [23/58 files][  5.5 MiB/ 12.1 MiB]  45% Done                                  \rCopying gs://cloud-training-demos/babyweight/trained_model/export/exporter/1529353074/variables/variables.data-00000-of-00001...\n",
            "/ [24/58 files][  5.5 MiB/ 12.1 MiB]  45% Done                                  \r/ [24/58 files][  5.5 MiB/ 12.1 MiB]  45% Done                                  \rCopying gs://cloud-training-demos/babyweight/trained_model/export/exporter/1529353074/variables/variables.index...\n",
            "-\r- [25/58 files][  5.7 MiB/ 12.1 MiB]  47% Done                                  \r- [25/58 files][  5.7 MiB/ 12.1 MiB]  47% Done                                  \rCopying gs://cloud-training-demos/babyweight/trained_model/export/exporter/1529353677/saved_model.pb...\n",
            "- [26/58 files][  5.7 MiB/ 12.1 MiB]  47% Done                                  \r- [26/58 files][  5.7 MiB/ 12.1 MiB]  47% Done                                  \r- [27/58 files][  5.9 MiB/ 12.1 MiB]  49% Done                                  \rCopying gs://cloud-training-demos/babyweight/trained_model/export/exporter/1529353677/variables/variables.data-00000-of-00001...\n",
            "- [27/58 files][  5.9 MiB/ 12.1 MiB]  49% Done                                  \r- [28/58 files][  6.2 MiB/ 12.1 MiB]  50% Done                                  \rCopying gs://cloud-training-demos/babyweight/trained_model/export/exporter/1529353677/variables/variables.index...\n",
            "- [28/58 files][  6.2 MiB/ 12.1 MiB]  50% Done                                  \r- [29/58 files][  6.4 MiB/ 12.1 MiB]  53% Done                                  \rCopying gs://cloud-training-demos/babyweight/trained_model/export/exporter/1529354267/saved_model.pb...\n",
            "- [29/58 files][  6.4 MiB/ 12.1 MiB]  53% Done                                  \r- [30/58 files][  6.4 MiB/ 12.1 MiB]  53% Done                                  \rCopying gs://cloud-training-demos/babyweight/trained_model/export/exporter/1529354267/variables/variables.data-00000-of-00001...\n",
            "- [30/58 files][  6.4 MiB/ 12.1 MiB]  53% Done                                  \rCopying gs://cloud-training-demos/babyweight/trained_model/export/exporter/1529354267/variables/variables.index...\n",
            "\\\r\\ [31/58 files][  6.6 MiB/ 12.1 MiB]  55% Done                                  \r\\ [31/58 files][  6.6 MiB/ 12.1 MiB]  55% Done                                  \r\\ [32/58 files][  6.7 MiB/ 12.1 MiB]  55% Done                                  \r\\ [33/58 files][  6.9 MiB/ 12.1 MiB]  56% Done                                  \rCopying gs://cloud-training-demos/babyweight/trained_model/export/exporter/1529354862/saved_model.pb...\n",
            "Copying gs://cloud-training-demos/babyweight/trained_model/export/exporter/1529354862/variables/variables.data-00000-of-00001...\n",
            "\\ [33/58 files][  6.9 MiB/ 12.1 MiB]  56% Done                                  \r\\ [33/58 files][  6.9 MiB/ 12.1 MiB]  56% Done                                  \rCopying gs://cloud-training-demos/babyweight/trained_model/export/exporter/1529354862/variables/variables.index...\n",
            "Copying gs://cloud-training-demos/babyweight/trained_model/export/exporter/1529355466/saved_model.pb...\n",
            "\\ [34/58 files][  7.1 MiB/ 12.1 MiB]  58% Done                                  \r\\ [35/58 files][  7.3 MiB/ 12.1 MiB]  60% Done                                  \r\\ [35/58 files][  7.3 MiB/ 12.1 MiB]  60% Done                                  \r\\ [35/58 files][  7.3 MiB/ 12.1 MiB]  60% Done                                  \rCopying gs://cloud-training-demos/babyweight/trained_model/export/exporter/1529355466/variables/variables.data-00000-of-00001...\n",
            "\\ [36/58 files][  7.3 MiB/ 12.1 MiB]  60% Done                                  \r\\ [36/58 files][  7.3 MiB/ 12.1 MiB]  60% Done                                  \rCopying gs://cloud-training-demos/babyweight/trained_model/export/exporter/1529355466/variables/variables.index...\n",
            "|\r| [37/58 files][  7.5 MiB/ 12.1 MiB]  62% Done                                  \r| [37/58 files][  7.5 MiB/ 12.1 MiB]  62% Done                                  \rCopying gs://cloud-training-demos/babyweight/trained_model/graph.pbtxt...\n",
            "| [38/58 files][  7.8 MiB/ 12.1 MiB]  64% Done                                  \r| [38/58 files][  7.8 MiB/ 12.1 MiB]  64% Done                                  \rCopying gs://cloud-training-demos/babyweight/trained_model/model.ckpt-342784.data-00000-of-00003...\n",
            "Copying gs://cloud-training-demos/babyweight/trained_model/model.ckpt-342784.data-00001-of-00003...\n",
            "| [39/58 files][  8.0 MiB/ 12.1 MiB]  66% Done                                  \r| [40/58 files][  8.0 MiB/ 12.1 MiB]  66% Done                                  \r| [40/58 files][  8.0 MiB/ 12.1 MiB]  66% Done                                  \r| [40/58 files][  8.0 MiB/ 12.1 MiB]  66% Done                                  \r| [41/58 files][  8.3 MiB/ 12.1 MiB]  68% Done                                  \rCopying gs://cloud-training-demos/babyweight/trained_model/model.ckpt-342784.data-00002-of-00003...\n",
            "| [41/58 files][  8.3 MiB/ 12.1 MiB]  68% Done                                  \rCopying gs://cloud-training-demos/babyweight/trained_model/model.ckpt-342784.index...\n",
            "| [42/58 files][  8.3 MiB/ 12.1 MiB]  68% Done                                  \r| [42/58 files][  8.3 MiB/ 12.1 MiB]  68% Done                                  \rCopying gs://cloud-training-demos/babyweight/trained_model/model.ckpt-342784.meta...\n",
            "/\r/ [43/58 files][  9.2 MiB/ 12.1 MiB]  76% Done                                  \r/ [43/58 files][  9.2 MiB/ 12.1 MiB]  76% Done                                  \rCopying gs://cloud-training-demos/babyweight/trained_model/model.ckpt-376661.data-00000-of-00003...\n",
            "/ [44/58 files][  9.2 MiB/ 12.1 MiB]  76% Done                                  \r/ [44/58 files][  9.2 MiB/ 12.1 MiB]  76% Done                                  \rCopying gs://cloud-training-demos/babyweight/trained_model/model.ckpt-376661.data-00001-of-00003...\n",
            "/ [45/58 files][  9.7 MiB/ 12.1 MiB]  80% Done                                  \r/ [45/58 files][  9.7 MiB/ 12.1 MiB]  80% Done                                  \rCopying gs://cloud-training-demos/babyweight/trained_model/model.ckpt-376661.data-00002-of-00003...\n",
            "/ [46/58 files][  9.7 MiB/ 12.1 MiB]  80% Done                                  \r/ [46/58 files][  9.7 MiB/ 12.1 MiB]  80% Done                                  \r/ [47/58 files][  9.7 MiB/ 12.1 MiB]  80% Done                                  \rCopying gs://cloud-training-demos/babyweight/trained_model/model.ckpt-376661.index...\n",
            "/ [47/58 files][  9.7 MiB/ 12.1 MiB]  80% Done                                  \rCopying gs://cloud-training-demos/babyweight/trained_model/model.ckpt-376661.meta...\n",
            "-\r- [48/58 files][ 10.1 MiB/ 12.1 MiB]  84% Done                                  \r- [48/58 files][ 10.1 MiB/ 12.1 MiB]  84% Done                                  \rCopying gs://cloud-training-demos/babyweight/trained_model/model.ckpt-390628.data-00000-of-00003...\n",
            "- [49/58 files][ 10.1 MiB/ 12.1 MiB]  84% Done                                  \r- [49/58 files][ 10.1 MiB/ 12.1 MiB]  84% Done                                  \r- [50/58 files][ 10.6 MiB/ 12.1 MiB]  88% Done                                  \rCopying gs://cloud-training-demos/babyweight/trained_model/model.ckpt-390628.data-00001-of-00003...\n",
            "- [50/58 files][ 10.6 MiB/ 12.1 MiB]  88% Done                                  \rCopying gs://cloud-training-demos/babyweight/trained_model/model.ckpt-390628.data-00002-of-00003...\n",
            "- [51/58 files][ 10.6 MiB/ 12.1 MiB]  88% Done                                  \r- [51/58 files][ 10.6 MiB/ 12.1 MiB]  88% Done                                  \rCopying gs://cloud-training-demos/babyweight/trained_model/model.ckpt-390628.index...\n",
            "Copying gs://cloud-training-demos/babyweight/trained_model/model.ckpt-390628.meta...\n",
            "- [52/58 files][ 11.1 MiB/ 12.1 MiB]  92% Done                                  \r- [53/58 files][ 11.1 MiB/ 12.1 MiB]  92% Done                                  \r- [53/58 files][ 11.1 MiB/ 12.1 MiB]  92% Done                                  \r- [53/58 files][ 11.1 MiB/ 12.1 MiB]  92% Done                                  \r\\\r\\ [54/58 files][ 11.1 MiB/ 12.1 MiB]  92% Done                                  \r\\ [55/58 files][ 11.6 MiB/ 12.1 MiB]  96% Done                                  \r\\ [56/58 files][ 11.6 MiB/ 12.1 MiB]  96% Done                                  \r\\ [57/58 files][ 11.6 MiB/ 12.1 MiB]  96% Done                                  \r\\ [58/58 files][ 12.1 MiB/ 12.1 MiB] 100% Done                                  \r\n",
            "Operation completed over 58 objects/12.1 MiB.                                    \n"
          ],
          "name": "stderr"
        }
      ]
    },
    {
      "cell_type": "markdown",
      "metadata": {
        "id": "gVBy0pDCS_K_",
        "colab_type": "text"
      },
      "source": [
        "## Task 1\n",
        "\n",
        "What files are present in the model trained directory (gs://${BUCKET}/babyweight/trained_model)?\n",
        "\n",
        "Hint (highlight to see): <p style='color:white'>\n",
        "Run gsutil ls in a bash cell.\n",
        "Answer: model checkpoints are in the trained model directory and several exported models (model architecture + weights) are in the export/exporter subdirectory\n",
        "</p>"
      ]
    },
    {
      "cell_type": "markdown",
      "metadata": {
        "id": "87u_99NaS_K_",
        "colab_type": "text"
      },
      "source": [
        "<h2> Task 2: Deploy trained, exported model </h2>\n",
        "\n",
        "Uncomment and run the the appropriate gcloud lines ONE-BY-ONE to \n",
        "deploy the trained model to act as a REST web service.\n",
        "\n",
        "Hint (highlight to see): <p style='color:white'>\n",
        "The very first time, you need only the last two gcloud calls to create the model and the version.\n",
        "To experiment later, you might need to delete any deployed version, but should not have to recreate the model\n",
        "</p>"
      ]
    },
    {
      "cell_type": "code",
      "metadata": {
        "id": "WEKxu_RcS_LA",
        "colab_type": "code",
        "colab": {},
        "outputId": "fbcd4aee-e374-4dc1-e8ee-f496a8b62c25"
      },
      "source": [
        "%bash\n",
        "gsutil ls gs://${BUCKET}/babyweight/trained_model/export/exporter/"
      ],
      "execution_count": 0,
      "outputs": [
        {
          "output_type": "stream",
          "text": [
            "gs://qwiklabs-gcp-03f3aae32d6f97d5/babyweight/trained_model/export/exporter/1529348266/\n",
            "gs://qwiklabs-gcp-03f3aae32d6f97d5/babyweight/trained_model/export/exporter/1529348864/\n",
            "gs://qwiklabs-gcp-03f3aae32d6f97d5/babyweight/trained_model/export/exporter/1529349460/\n",
            "gs://qwiklabs-gcp-03f3aae32d6f97d5/babyweight/trained_model/export/exporter/1529350065/\n",
            "gs://qwiklabs-gcp-03f3aae32d6f97d5/babyweight/trained_model/export/exporter/1529350672/\n",
            "gs://qwiklabs-gcp-03f3aae32d6f97d5/babyweight/trained_model/export/exporter/1529351274/\n",
            "gs://qwiklabs-gcp-03f3aae32d6f97d5/babyweight/trained_model/export/exporter/1529351873/\n",
            "gs://qwiklabs-gcp-03f3aae32d6f97d5/babyweight/trained_model/export/exporter/1529352472/\n",
            "gs://qwiklabs-gcp-03f3aae32d6f97d5/babyweight/trained_model/export/exporter/1529353074/\n",
            "gs://qwiklabs-gcp-03f3aae32d6f97d5/babyweight/trained_model/export/exporter/1529353677/\n",
            "gs://qwiklabs-gcp-03f3aae32d6f97d5/babyweight/trained_model/export/exporter/1529354267/\n",
            "gs://qwiklabs-gcp-03f3aae32d6f97d5/babyweight/trained_model/export/exporter/1529354862/\n",
            "gs://qwiklabs-gcp-03f3aae32d6f97d5/babyweight/trained_model/export/exporter/1529355466/\n"
          ],
          "name": "stdout"
        }
      ]
    },
    {
      "cell_type": "code",
      "metadata": {
        "id": "Q7cMGtm5S_LD",
        "colab_type": "code",
        "colab": {},
        "outputId": "2f34eb5a-b6de-45ae-9961-8436c352bd0b"
      },
      "source": [
        "%bash\n",
        "MODEL_NAME=\"babyweight\"\n",
        "MODEL_VERSION=\"ml_on_gcp\"\n",
        "MODEL_LOCATION=$(gsutil ls gs://${BUCKET}/babyweight/trained_model/export/exporter/ | tail -1)\n",
        "echo \"Deleting and deploying $MODEL_NAME $MODEL_VERSION from $MODEL_LOCATION ... this will take a few minutes\"\n",
        "#gcloud ml-engine versions delete ${MODEL_VERSION} --model ${MODEL_NAME}\n",
        "#gcloud ml-engine models delete ${MODEL_NAME}\n",
        "gcloud ml-engine models create ${MODEL_NAME} --regions $REGION\n",
        "gcloud ml-engine versions create ${MODEL_VERSION} --model ${MODEL_NAME} --origin ${MODEL_LOCATION} --runtime-version $TFVERSION"
      ],
      "execution_count": 0,
      "outputs": [
        {
          "output_type": "stream",
          "text": [
            "Deleting and deploying babyweight ml_on_gcp from gs://qwiklabs-gcp-03f3aae32d6f97d5/babyweight/trained_model/export/exporter/1529355466/ ... this will take a few minutes\n"
          ],
          "name": "stdout"
        },
        {
          "output_type": "stream",
          "text": [
            "Created ml engine model [projects/qwiklabs-gcp-03f3aae32d6f97d5/models/babyweight].\n",
            "Creating version (this might take a few minutes)......\n",
            "................................................................................................................................................................................................................................................................................................done.\n"
          ],
          "name": "stderr"
        }
      ]
    },
    {
      "cell_type": "markdown",
      "metadata": {
        "id": "PvjQrHB3S_LG",
        "colab_type": "text"
      },
      "source": [
        "## Task 3: Write Python code to invoke the deployed model (online prediction)\n",
        "\n",
        "<p>\n",
        "Send a JSON request to the endpoint of the service to make it predict a baby's weight. The order of the responses are the order of the instances.\n",
        "\n",
        "The deployed model requires the input instances to be formatted as follows:\n",
        "<pre>\n",
        "{\n",
        "      'key': 'b1',\n",
        "      'is_male': 'True',\n",
        "      'mother_age': 26.0,\n",
        "      'plurality': 'Single(1)',\n",
        "      'gestation_weeks': 39\n",
        "},\n",
        "</pre>\n",
        "The key is an arbitrary string.  Allowed values for is_male are True, False and Unknown.\n",
        "Allowed values for plurality are Single(1), Twins(2), Triplets(3), Multiple(2+)"
      ]
    },
    {
      "cell_type": "code",
      "metadata": {
        "id": "r5P2Q8L9S_LG",
        "colab_type": "code",
        "colab": {},
        "outputId": "115cdce4-33d7-4c2c-c026-9008b65dd09d"
      },
      "source": [
        "from oauth2client.client import GoogleCredentials\n",
        "import requests\n",
        "import json\n",
        "\n",
        "MODEL_NAME = 'babyweight'\n",
        "MODEL_VERSION = 'ml_on_gcp'\n",
        "\n",
        "token = GoogleCredentials.get_application_default().get_access_token().access_token\n",
        "api = 'https://ml.googleapis.com/v1/projects/{}/models/{}/versions/{}:predict' \\\n",
        "         .format(PROJECT, MODEL_NAME, MODEL_VERSION)\n",
        "headers = {'Authorization': 'Bearer ' + token }\n",
        "data = {\n",
        "  'instances': [\n",
        "    {\n",
        "      'key': 'b1',\n",
        "      'is_male': 'True',\n",
        "      'mother_age': 26.0,\n",
        "      'plurality': 'Single(1)',\n",
        "      'gestation_weeks': 39\n",
        "    },\n",
        "    {\n",
        "      'key': 'g1',\n",
        "      'is_male': 'False',\n",
        "      'mother_age': 29.0,\n",
        "      'plurality': 'Single(1)',\n",
        "      'gestation_weeks': 38\n",
        "    },\n",
        "    {\n",
        "      'key': 'b2',\n",
        "      'is_male': 'True',\n",
        "      'mother_age': 26.0,\n",
        "      'plurality': 'Triplets(3)',\n",
        "      'gestation_weeks': 39\n",
        "    },\n",
        "    {\n",
        "      'key': 'u1',\n",
        "      'is_male': 'Unknown',\n",
        "      'mother_age': 29.0,\n",
        "      'plurality': 'Multiple(2+)',\n",
        "      'gestation_weeks': 38\n",
        "    },\n",
        "  ]\n",
        "}\n",
        "response = requests.post(api, json=data, headers=headers)\n",
        "print(response.content)"
      ],
      "execution_count": 0,
      "outputs": [
        {
          "output_type": "stream",
          "text": [
            "b'{\"predictions\": [{\"predictions\": [7.740230083465576], \"key\": [\"b1\"]}, {\"predictions\": [7.247548580169678], \"key\": [\"g1\"]}, {\"predictions\": [6.182091236114502], \"key\": [\"b2\"]}, {\"predictions\": [6.13692569732666], \"key\": [\"u1\"]}]}'\n"
          ],
          "name": "stdout"
        }
      ]
    },
    {
      "cell_type": "markdown",
      "metadata": {
        "id": "0HSnDcleS_LJ",
        "colab_type": "text"
      },
      "source": [
        "<h2> Task 4: Try out batch prediction </h2>\n",
        "<p>\n",
        "Batch prediction is commonly used when you thousands to millions of predictions.\n",
        "Create a file withe one instance per line and submit using gcloud."
      ]
    },
    {
      "cell_type": "code",
      "metadata": {
        "id": "PIfazNg6S_LK",
        "colab_type": "code",
        "colab": {},
        "outputId": "a35645b4-72a4-4d10-c1b8-99219befae37"
      },
      "source": [
        "%writefile inputs.json\n",
        "{\"key\": \"b1\", \"is_male\": \"True\", \"mother_age\": 26.0, \"plurality\": \"Single(1)\", \"gestation_weeks\": 39}\n",
        "{\"key\": \"g1\", \"is_male\": \"False\", \"mother_age\": 26.0, \"plurality\": \"Single(1)\", \"gestation_weeks\": 39}"
      ],
      "execution_count": 0,
      "outputs": [
        {
          "output_type": "stream",
          "text": [
            "Overwriting inputs.json\n"
          ],
          "name": "stdout"
        }
      ]
    },
    {
      "cell_type": "code",
      "metadata": {
        "id": "pAn7i3ZtS_LO",
        "colab_type": "code",
        "colab": {},
        "outputId": "9ef5e1cd-811c-4e88-f46f-7e2f658e98ca"
      },
      "source": [
        "%bash\n",
        "INPUT=gs://${BUCKET}/babyweight/batchpred/inputs.json\n",
        "OUTPUT=gs://${BUCKET}/babyweight/batchpred/outputs\n",
        "gsutil cp inputs.json $INPUT\n",
        "gsutil -m rm -rf $OUTPUT \n",
        "gcloud ml-engine jobs submit prediction babypred_$(date -u +%y%m%d_%H%M%S) \\\n",
        "  --data-format=TEXT --region ${REGION} \\\n",
        "  --input-paths=$INPUT \\\n",
        "  --output-path=$OUTPUT \\\n",
        "  --model=babyweight --version=ml_on_gcp"
      ],
      "execution_count": 0,
      "outputs": [
        {
          "output_type": "stream",
          "text": [
            "jobId: babypred_190503_132148\n",
            "state: QUEUED\n"
          ],
          "name": "stdout"
        },
        {
          "output_type": "stream",
          "text": [
            "Copying file://inputs.json [Content-Type=application/json]...\n",
            "/ [0 files][    0.0 B/  204.0 B]                                                \r/ [1 files][  204.0 B/  204.0 B]                                                \r\n",
            "Operation completed over 1 objects/204.0 B.                                      \n",
            "CommandException: 1 files/objects could not be removed.\n",
            "Job [babypred_190503_132148] submitted successfully.\n",
            "Your job is still active. You may view the status of your job with the command\n",
            "\n",
            "  $ gcloud ml-engine jobs describe babypred_190503_132148\n",
            "\n",
            "or continue streaming the logs with the command\n",
            "\n",
            "  $ gcloud ml-engine jobs stream-logs babypred_190503_132148\n"
          ],
          "name": "stderr"
        }
      ]
    },
    {
      "cell_type": "markdown",
      "metadata": {
        "id": "8Nskeru-S_LR",
        "colab_type": "text"
      },
      "source": [
        "Copyright 2017 Google Inc. Licensed under the Apache License, Version 2.0 (the \"License\"); you may not use this file except in compliance with the License. You may obtain a copy of the License at http://www.apache.org/licenses/LICENSE-2.0 Unless required by applicable law or agreed to in writing, software distributed under the License is distributed on an \"AS IS\" BASIS, WITHOUT WARRANTIES OR CONDITIONS OF ANY KIND, either express or implied. See the License for the specific language governing permissions and limitations under the License"
      ]
    }
  ]
}