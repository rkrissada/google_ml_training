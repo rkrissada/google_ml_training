{
  "nbformat": 4,
  "nbformat_minor": 0,
  "metadata": {
    "colab": {
      "name": "content_based_preproc.ipynb",
      "version": "0.3.2",
      "provenance": [],
      "include_colab_link": true
    },
    "language_info": {
      "codemirror_mode": {
        "name": "ipython",
        "version": 2
      },
      "file_extension": ".py",
      "mimetype": "text/x-python",
      "name": "python",
      "nbconvert_exporter": "python",
      "pygments_lexer": "ipython2",
      "version": "2.7.15"
    },
    "kernelspec": {
      "display_name": "Python 2",
      "language": "python",
      "name": "python2"
    }
  },
  "cells": [
    {
      "cell_type": "markdown",
      "metadata": {
        "id": "view-in-github",
        "colab_type": "text"
      },
      "source": [
        "<a href=\"https://colab.research.google.com/github/rkrissada/google_ml_training/blob/master/content_based_preproc.ipynb\" target=\"_parent\"><img src=\"https://colab.research.google.com/assets/colab-badge.svg\" alt=\"Open In Colab\"/></a>"
      ]
    },
    {
      "cell_type": "markdown",
      "metadata": {
        "id": "aiubv3WjpzYh",
        "colab_type": "text"
      },
      "source": [
        "## Create datasets for the Content-based Filter"
      ]
    },
    {
      "cell_type": "markdown",
      "metadata": {
        "id": "Iip921cnpzYl",
        "colab_type": "text"
      },
      "source": [
        "This notebook builds the data we will use for creating our content based model. We'll collect the data via a collection of SQL queries from the publicly avialable Kurier.at dataset in BigQuery.\n",
        "Kurier.at is an Austrian newsite. The goal of these labs is to recommend an article for a visitor to the site. In this lab we collect the data for training. In the subsequent notebook we train the recommender model. \n",
        "\n",
        "This notebook illustrates\n",
        "* how to pull data from BigQuery table and write to local files\n",
        "* how to make reproducible train and test splits "
      ]
    },
    {
      "cell_type": "code",
      "metadata": {
        "id": "0zarngcnpzYn",
        "colab_type": "code",
        "colab": {},
        "outputId": "1038eb20-803b-451d-e0c3-2ff0c73100d6"
      },
      "source": [
        "import os\n",
        "import tensorflow as tf\n",
        "import numpy as np\n",
        "import google.datalab.bigquery as bq\n",
        "\n",
        "PROJECT = 'qwiklabs-gcp-1d5aaaec2a18ca9e' # REPLACE WITH YOUR PROJECT ID\n",
        "BUCKET = 'qwiklabs-gcp-1d5aaaec2a18ca9e' # REPLACE WITH YOUR BUCKET NAME\n",
        "REGION = 'qwiklabs-gcp-1d5aaaec2a18ca9e' # REPLACE WITH YOUR BUCKET REGION e.g. us-central1\n",
        "\n",
        "# do not change these\n",
        "os.environ['PROJECT'] = PROJECT\n",
        "os.environ['BUCKET'] = BUCKET\n",
        "os.environ['REGION'] = REGION\n",
        "os.environ['TFVERSION'] = '1.8'"
      ],
      "execution_count": 0,
      "outputs": [
        {
          "output_type": "stream",
          "text": [
            "/usr/local/envs/py2env/lib/python2.7/site-packages/h5py/__init__.py:36: FutureWarning: Conversion of the second argument of issubdtype from `float` to `np.floating` is deprecated. In future, it will be treated as `np.float64 == np.dtype(float).type`.\n",
            "  from ._conv import register_converters as _register_converters\n"
          ],
          "name": "stderr"
        }
      ]
    },
    {
      "cell_type": "code",
      "metadata": {
        "id": "Qf6q_uD_pzYz",
        "colab_type": "code",
        "colab": {},
        "outputId": "907bb707-de1e-44bb-f670-c14a66b652d7"
      },
      "source": [
        "%%bash\n",
        "gcloud  config  set project $PROJECT\n",
        "gcloud config set compute/region $REGION"
      ],
      "execution_count": 0,
      "outputs": [
        {
          "output_type": "stream",
          "text": [
            "Updated property [core/project].\n",
            "Updated property [compute/region].\n"
          ],
          "name": "stderr"
        }
      ]
    },
    {
      "cell_type": "markdown",
      "metadata": {
        "id": "2b_ypxd4pzY3",
        "colab_type": "text"
      },
      "source": [
        "We will use this helper funciton to write lists containing article ids, categories, and authors for each article in our database to local file. "
      ]
    },
    {
      "cell_type": "code",
      "metadata": {
        "id": "Z0NO0E3ppzY4",
        "colab_type": "code",
        "colab": {}
      },
      "source": [
        "def write_list_to_disk(my_list, filename):\n",
        "  with open(filename, 'w') as f:\n",
        "    for item in my_list:\n",
        "        line = \"%s\\n\" % item\n",
        "        f.write(str(line.encode('utf8')))"
      ],
      "execution_count": 0,
      "outputs": []
    },
    {
      "cell_type": "markdown",
      "metadata": {
        "id": "iynJfGPLpzY8",
        "colab_type": "text"
      },
      "source": [
        "### Pull data from BigQuery\n",
        "\n",
        "The cell below creates a local text file containing all the article ids (i.e. 'content ids') in the dataset. \n",
        "\n",
        "Have a look at the original dataset in [BigQuery](https://bigquery.cloud.google.com/welcome/). Then read through the query below and make sure you understand what it is doing. "
      ]
    },
    {
      "cell_type": "code",
      "metadata": {
        "id": "M8kY9WE3pzY-",
        "colab_type": "code",
        "colab": {},
        "outputId": "26beac2c-9b5c-4224-f666-fa0f576b86f3"
      },
      "source": [
        "sql=\"\"\"\n",
        "#standardSQL\n",
        "SELECT  \n",
        "  (SELECT MAX(IF(index=10, value, NULL)) FROM UNNEST(hits.customDimensions)) AS content_id \n",
        "FROM `cloud-training-demos.GA360_test.ga_sessions_sample`,   \n",
        "  UNNEST(hits) AS hits\n",
        "WHERE \n",
        "  # only include hits on pages\n",
        "  hits.type = \"PAGE\"\n",
        "  AND (SELECT MAX(IF(index=10, value, NULL)) FROM UNNEST(hits.customDimensions)) IS NOT NULL\n",
        "GROUP BY\n",
        "  content_id\n",
        "\"\"\"\n",
        "content_ids_list = bq.Query(sql).execute().result().to_dataframe()['content_id'].tolist()\n",
        "write_list_to_disk(content_ids_list, \"content_ids.txt\")\n",
        "print(\"Some sample content IDs {}\".format(content_ids_list[:3]))\n",
        "print(\"The total number of articles is {}\".format(len(content_ids_list)))"
      ],
      "execution_count": 0,
      "outputs": [
        {
          "output_type": "stream",
          "text": [
            "Some sample content IDs ['299824032', '299865757', '299918857']\n",
            "The total number of articles is 15634\n"
          ],
          "name": "stdout"
        }
      ]
    },
    {
      "cell_type": "markdown",
      "metadata": {
        "id": "RtdAHiJtpzZN",
        "colab_type": "text"
      },
      "source": [
        "In the following cells, you will create a local file which contains a list of article categories and a list of article authors.\n",
        "\n",
        "**Hint**: For the TODO below, modify the query above changing 'content_id' to the necessary field and changing index=10 \n",
        "to the appropriate index.  \n",
        "Refer back to the original dataset, use the `hits.customDimensions.index` \n",
        "field to find the correct index."
      ]
    },
    {
      "cell_type": "code",
      "metadata": {
        "id": "Gs3i0N3hpzZQ",
        "colab_type": "code",
        "colab": {},
        "outputId": "7a3deffe-1a04-4e96-f2c6-0825da6bfec3"
      },
      "source": [
        "sql=\"\"\"\n",
        "#standardSQL\n",
        "SELECT\n",
        "  REGEXP_EXTRACT((SELECT MAX(IF(index=2, value, NULL)) FROM UNNEST(hits.customDimensions)), r\"^[^,]+\")  AS first_author  \n",
        "FROM `cloud-training-demos.GA360_test.ga_sessions_sample`,   \n",
        "  UNNEST(hits) AS hits\n",
        "WHERE \n",
        "  # only include hits on pages\n",
        "  hits.type = \"PAGE\"\n",
        "  AND (SELECT MAX(IF(index=2, value, NULL)) FROM UNNEST(hits.customDimensions)) IS NOT NULL\n",
        "GROUP BY   \n",
        "  first_author\n",
        "\"\"\"\n",
        "authors_list = bq.Query(sql).execute().result().to_dataframe()['first_author'].tolist()\n",
        "write_list_to_disk(authors_list, \"authors.txt\")\n",
        "print(\"Some sample authors {}\".format(authors_list[:10]))\n",
        "print(\"The total number of authors is {}\".format(len(authors_list)))"
      ],
      "execution_count": 0,
      "outputs": [
        {
          "output_type": "stream",
          "text": [
            "Some sample authors ['Marlene Patsalidis', 'Yvonne Widler', 'Thomas  Trescher', 'Johanna Hager', 'Elisabeth Spitzer', 'Daniela Wahl', 'Stefan Berndl', 'Heinz Wagner', 'Brigitte Schokarth', 'Mathias Kainz']\n",
            "The total number of authors is 385\n"
          ],
          "name": "stdout"
        }
      ]
    },
    {
      "cell_type": "markdown",
      "metadata": {
        "id": "ZdKcWGwopzZf",
        "colab_type": "text"
      },
      "source": [
        "When creating the author list, we'll only use the first author information for each article.  "
      ]
    },
    {
      "cell_type": "code",
      "metadata": {
        "id": "Mvk6bhWVpzZn",
        "colab_type": "code",
        "colab": {},
        "outputId": "4a507d76-0eed-427b-d01f-d35ede105672"
      },
      "source": [
        "sql=\"\"\"\n",
        "#standardSQL\n",
        "SELECT\n",
        "  REGEXP_EXTRACT((SELECT MAX(IF(index=2, value, NULL)) FROM UNNEST(hits.customDimensions)), r\"^[^,]+\")  AS first_author  \n",
        "FROM `cloud-training-demos.GA360_test.ga_sessions_sample`,   \n",
        "  UNNEST(hits) AS hits\n",
        "WHERE \n",
        "  # only include hits on pages\n",
        "  hits.type = \"PAGE\"\n",
        "  AND (SELECT MAX(IF(index=2, value, NULL)) FROM UNNEST(hits.customDimensions)) IS NOT NULL\n",
        "GROUP BY   \n",
        "  first_author\n",
        "\"\"\"\n",
        "authors_list = bq.Query(sql).execute().result().to_dataframe()['first_author'].tolist()\n",
        "write_list_to_disk(authors_list, \"authors.txt\")\n",
        "print(\"Some sample authors {}\".format(authors_list[:10]))\n",
        "print(\"The total number of authors is {}\".format(len(authors_list)))"
      ],
      "execution_count": 0,
      "outputs": [
        {
          "output_type": "stream",
          "text": [
            "Some sample authors ['Marlene Patsalidis', 'Yvonne Widler', 'Thomas  Trescher', 'Johanna Hager', 'Elisabeth Spitzer', 'Daniela Wahl', 'Stefan Berndl', 'Heinz Wagner', 'Brigitte Schokarth', 'Mathias Kainz']\n",
            "The total number of authors is 385\n"
          ],
          "name": "stdout"
        }
      ]
    },
    {
      "cell_type": "markdown",
      "metadata": {
        "id": "hUBz2KfnpzZx",
        "colab_type": "text"
      },
      "source": [
        "### Create train and test sets.\n",
        "\n",
        "In this section, we will create the train/test split of our data for training our model. Read through the query and complete the TODO at the bottom.  \n",
        "Use the concatenated values for visitor id and content id to create a farm fingerprint, taking 90% of the data for the training set. "
      ]
    },
    {
      "cell_type": "code",
      "metadata": {
        "id": "xL_BbwnrpzZ1",
        "colab_type": "code",
        "colab": {},
        "outputId": "6ce7f5b5-8db1-4368-909b-e274ad603396"
      },
      "source": [
        "sql=\"\"\"\n",
        "WITH site_history as (\n",
        "  SELECT\n",
        "      fullVisitorId as visitor_id,\n",
        "      (SELECT MAX(IF(index=10, value, NULL)) FROM UNNEST(hits.customDimensions)) AS content_id,\n",
        "      (SELECT MAX(IF(index=7, value, NULL)) FROM UNNEST(hits.customDimensions)) AS category, \n",
        "      (SELECT MAX(IF(index=6, value, NULL)) FROM UNNEST(hits.customDimensions)) AS title,\n",
        "      (SELECT MAX(IF(index=2, value, NULL)) FROM UNNEST(hits.customDimensions)) AS author_list,\n",
        "      SPLIT(RPAD((SELECT MAX(IF(index=4, value, NULL)) FROM UNNEST(hits.customDimensions)), 7), '.') as year_month_array,\n",
        "      LEAD(hits.customDimensions, 1) OVER (PARTITION BY fullVisitorId ORDER BY hits.time ASC) as nextCustomDimensions\n",
        "  FROM \n",
        "    `cloud-training-demos.GA360_test.ga_sessions_sample`,   \n",
        "     UNNEST(hits) AS hits\n",
        "   WHERE \n",
        "     # only include hits on pages\n",
        "      hits.type = \"PAGE\"\n",
        "      AND\n",
        "      fullVisitorId IS NOT NULL\n",
        "      AND\n",
        "      hits.time != 0\n",
        "      AND\n",
        "      hits.time IS NOT NULL\n",
        "      AND\n",
        "      (SELECT MAX(IF(index=10, value, NULL)) FROM UNNEST(hits.customDimensions)) IS NOT NULL\n",
        ")\n",
        "SELECT\n",
        "  visitor_id,\n",
        "  content_id,\n",
        "  category,\n",
        "  REGEXP_REPLACE(title, r\",\", \"\") as title,\n",
        "  REGEXP_EXTRACT(author_list, r\"^[^,]+\") as author,\n",
        "  DATE_DIFF(DATE(CAST(year_month_array[OFFSET(0)] AS INT64), CAST(year_month_array[OFFSET(1)] AS INT64), 1), DATE(1970,1,1), MONTH) as months_since_epoch,\n",
        "  (SELECT MAX(IF(index=10, value, NULL)) FROM UNNEST(nextCustomDimensions)) as next_content_id\n",
        "FROM\n",
        "  site_history\n",
        "WHERE (SELECT MAX(IF(index=10, value, NULL)) FROM UNNEST(nextCustomDimensions)) IS NOT NULL\n",
        "      AND MOD(ABS(FARM_FINGERPRINT(CONCAT(visitor_id, content_id))), 10) < 9\n",
        "\"\"\"\n",
        "training_set_df = bq.Query(sql).execute().result().to_dataframe()\n",
        "training_set_df.to_csv('training_set.csv', header=False, index=False, encoding='utf-8')\n",
        "training_set_df.head()"
      ],
      "execution_count": 0,
      "outputs": [
        {
          "output_type": "execute_result",
          "data": {
            "text/html": [
              "<div>\n",
              "<style scoped>\n",
              "    .dataframe tbody tr th:only-of-type {\n",
              "        vertical-align: middle;\n",
              "    }\n",
              "\n",
              "    .dataframe tbody tr th {\n",
              "        vertical-align: top;\n",
              "    }\n",
              "\n",
              "    .dataframe thead th {\n",
              "        text-align: right;\n",
              "    }\n",
              "</style>\n",
              "<table border=\"1\" class=\"dataframe\">\n",
              "  <thead>\n",
              "    <tr style=\"text-align: right;\">\n",
              "      <th></th>\n",
              "      <th>visitor_id</th>\n",
              "      <th>content_id</th>\n",
              "      <th>category</th>\n",
              "      <th>title</th>\n",
              "      <th>author</th>\n",
              "      <th>months_since_epoch</th>\n",
              "      <th>next_content_id</th>\n",
              "    </tr>\n",
              "  </thead>\n",
              "  <tbody>\n",
              "    <tr>\n",
              "      <th>0</th>\n",
              "      <td>1002711106576646390</td>\n",
              "      <td>298972803</td>\n",
              "      <td>News</td>\n",
              "      <td>\"Moslem-Mama\": FPÖ-Mann hat selbst iranische W...</td>\n",
              "      <td>Matthias Hofer</td>\n",
              "      <td>574</td>\n",
              "      <td>299925700</td>\n",
              "    </tr>\n",
              "    <tr>\n",
              "      <th>1</th>\n",
              "      <td>1002995626699943875</td>\n",
              "      <td>299836255</td>\n",
              "      <td>News</td>\n",
              "      <td>Blümel Kneissl &amp;Co.: Das sind die Fixstarter</td>\n",
              "      <td>None</td>\n",
              "      <td>574</td>\n",
              "      <td>299972800</td>\n",
              "    </tr>\n",
              "    <tr>\n",
              "      <th>2</th>\n",
              "      <td>1002995626699943875</td>\n",
              "      <td>299972800</td>\n",
              "      <td>News</td>\n",
              "      <td>Strengere Regeln für Schüler Eltern – und auch...</td>\n",
              "      <td>None</td>\n",
              "      <td>574</td>\n",
              "      <td>299972248</td>\n",
              "    </tr>\n",
              "    <tr>\n",
              "      <th>3</th>\n",
              "      <td>1002995626699943875</td>\n",
              "      <td>299972248</td>\n",
              "      <td>News</td>\n",
              "      <td>Bildungsexperte Salcher: \"Lehrer nach Leistung...</td>\n",
              "      <td>Bernhard Gaul</td>\n",
              "      <td>574</td>\n",
              "      <td>299972800</td>\n",
              "    </tr>\n",
              "    <tr>\n",
              "      <th>4</th>\n",
              "      <td>1002995626699943875</td>\n",
              "      <td>299972800</td>\n",
              "      <td>News</td>\n",
              "      <td>Strengere Regeln für Schüler Eltern – und auch...</td>\n",
              "      <td>None</td>\n",
              "      <td>574</td>\n",
              "      <td>299826767</td>\n",
              "    </tr>\n",
              "  </tbody>\n",
              "</table>\n",
              "</div>"
            ],
            "text/plain": [
              "            visitor_id content_id category  \\\n",
              "0  1002711106576646390  298972803     News   \n",
              "1  1002995626699943875  299836255     News   \n",
              "2  1002995626699943875  299972800     News   \n",
              "3  1002995626699943875  299972248     News   \n",
              "4  1002995626699943875  299972800     News   \n",
              "\n",
              "                                               title          author  \\\n",
              "0  \"Moslem-Mama\": FPÖ-Mann hat selbst iranische W...  Matthias Hofer   \n",
              "1       Blümel Kneissl &Co.: Das sind die Fixstarter            None   \n",
              "2  Strengere Regeln für Schüler Eltern – und auch...            None   \n",
              "3  Bildungsexperte Salcher: \"Lehrer nach Leistung...   Bernhard Gaul   \n",
              "4  Strengere Regeln für Schüler Eltern – und auch...            None   \n",
              "\n",
              "   months_since_epoch next_content_id  \n",
              "0                 574       299925700  \n",
              "1                 574       299972800  \n",
              "2                 574       299972248  \n",
              "3                 574       299972800  \n",
              "4                 574       299826767  "
            ]
          },
          "metadata": {
            "tags": []
          },
          "execution_count": 8
        }
      ]
    },
    {
      "cell_type": "markdown",
      "metadata": {
        "id": "L5OgjwVepzZ7",
        "colab_type": "text"
      },
      "source": [
        "Repeat the query as above but change outcome of the farm fingerprint hash to collect the remaining 10% of the data for the test set."
      ]
    },
    {
      "cell_type": "code",
      "metadata": {
        "id": "ripiTQXZpzZ8",
        "colab_type": "code",
        "colab": {},
        "outputId": "07f84c3e-bd91-4516-fd22-9899aecbc3ea"
      },
      "source": [
        "sql=\"\"\"\n",
        "WITH site_history as (\n",
        "  SELECT\n",
        "      fullVisitorId as visitor_id,\n",
        "      (SELECT MAX(IF(index=10, value, NULL)) FROM UNNEST(hits.customDimensions)) AS content_id,\n",
        "      (SELECT MAX(IF(index=7, value, NULL)) FROM UNNEST(hits.customDimensions)) AS category, \n",
        "      (SELECT MAX(IF(index=6, value, NULL)) FROM UNNEST(hits.customDimensions)) AS title,\n",
        "      (SELECT MAX(IF(index=2, value, NULL)) FROM UNNEST(hits.customDimensions)) AS author_list,\n",
        "      SPLIT(RPAD((SELECT MAX(IF(index=4, value, NULL)) FROM UNNEST(hits.customDimensions)), 7), '.') as year_month_array,\n",
        "      LEAD(hits.customDimensions, 1) OVER (PARTITION BY fullVisitorId ORDER BY hits.time ASC) as nextCustomDimensions\n",
        "  FROM \n",
        "    `cloud-training-demos.GA360_test.ga_sessions_sample`,   \n",
        "     UNNEST(hits) AS hits\n",
        "   WHERE \n",
        "     # only include hits on pages\n",
        "      hits.type = \"PAGE\"\n",
        "      AND\n",
        "      fullVisitorId IS NOT NULL\n",
        "      AND\n",
        "      hits.time != 0\n",
        "      AND\n",
        "      hits.time IS NOT NULL\n",
        "      AND\n",
        "      (SELECT MAX(IF(index=10, value, NULL)) FROM UNNEST(hits.customDimensions)) IS NOT NULL\n",
        ")\n",
        "SELECT\n",
        "  visitor_id,\n",
        "  content_id,\n",
        "  category,\n",
        "  REGEXP_REPLACE(title, r\",\", \"\") as title,\n",
        "  REGEXP_EXTRACT(author_list, r\"^[^,]+\") as author,\n",
        "  DATE_DIFF(DATE(CAST(year_month_array[OFFSET(0)] AS INT64), CAST(year_month_array[OFFSET(1)] AS INT64), 1), DATE(1970,1,1), MONTH) as months_since_epoch,\n",
        "  (SELECT MAX(IF(index=10, value, NULL)) FROM UNNEST(nextCustomDimensions)) as next_content_id\n",
        "FROM\n",
        "  site_history\n",
        "WHERE (SELECT MAX(IF(index=10, value, NULL)) FROM UNNEST(nextCustomDimensions)) IS NOT NULL\n",
        "      AND MOD(ABS(FARM_FINGERPRINT(CONCAT(visitor_id, content_id))), 10) >= 9\n",
        "\"\"\"\n",
        "test_set_df = bq.Query(sql).execute().result().to_dataframe()\n",
        "test_set_df.to_csv('test_set.csv', header=False, index=False, encoding='utf-8')\n",
        "test_set_df.head()"
      ],
      "execution_count": 0,
      "outputs": [
        {
          "output_type": "execute_result",
          "data": {
            "text/html": [
              "<div>\n",
              "<style scoped>\n",
              "    .dataframe tbody tr th:only-of-type {\n",
              "        vertical-align: middle;\n",
              "    }\n",
              "\n",
              "    .dataframe tbody tr th {\n",
              "        vertical-align: top;\n",
              "    }\n",
              "\n",
              "    .dataframe thead th {\n",
              "        text-align: right;\n",
              "    }\n",
              "</style>\n",
              "<table border=\"1\" class=\"dataframe\">\n",
              "  <thead>\n",
              "    <tr style=\"text-align: right;\">\n",
              "      <th></th>\n",
              "      <th>visitor_id</th>\n",
              "      <th>content_id</th>\n",
              "      <th>category</th>\n",
              "      <th>title</th>\n",
              "      <th>author</th>\n",
              "      <th>months_since_epoch</th>\n",
              "      <th>next_content_id</th>\n",
              "    </tr>\n",
              "  </thead>\n",
              "  <tbody>\n",
              "    <tr>\n",
              "      <th>0</th>\n",
              "      <td>1000196974485173657</td>\n",
              "      <td>299925700</td>\n",
              "      <td>Lifestyle</td>\n",
              "      <td>Nach Tod von Vater: Tochter bekommt jedes Jahr...</td>\n",
              "      <td>Marlene Patsalidis</td>\n",
              "      <td>574</td>\n",
              "      <td>299972194</td>\n",
              "    </tr>\n",
              "    <tr>\n",
              "      <th>1</th>\n",
              "      <td>1000196974485173657</td>\n",
              "      <td>299972194</td>\n",
              "      <td>News</td>\n",
              "      <td>LIVE: Spielstand bei Sturm - Admira</td>\n",
              "      <td>Mathias Kainz</td>\n",
              "      <td>574</td>\n",
              "      <td>299816215</td>\n",
              "    </tr>\n",
              "    <tr>\n",
              "      <th>2</th>\n",
              "      <td>1000196974485173657</td>\n",
              "      <td>299972194</td>\n",
              "      <td>News</td>\n",
              "      <td>Dominante Grazer nehmen Admira auseinander</td>\n",
              "      <td>Mathias Kainz</td>\n",
              "      <td>574</td>\n",
              "      <td>299410466</td>\n",
              "    </tr>\n",
              "    <tr>\n",
              "      <th>3</th>\n",
              "      <td>1007505561418545529</td>\n",
              "      <td>299407839</td>\n",
              "      <td>Stars &amp; Kultur</td>\n",
              "      <td>Trump: 165 Millionen Dollar für 5 Tage Urlaub</td>\n",
              "      <td>Elisabeth Spitzer</td>\n",
              "      <td>574</td>\n",
              "      <td>299816215</td>\n",
              "    </tr>\n",
              "    <tr>\n",
              "      <th>4</th>\n",
              "      <td>1017855659516706306</td>\n",
              "      <td>298846345</td>\n",
              "      <td>Stars &amp; Kultur</td>\n",
              "      <td>Meghan Markle: Lottogewinn veränderte ihr Leben</td>\n",
              "      <td>Elisabeth Spitzer</td>\n",
              "      <td>574</td>\n",
              "      <td>299814775</td>\n",
              "    </tr>\n",
              "  </tbody>\n",
              "</table>\n",
              "</div>"
            ],
            "text/plain": [
              "            visitor_id content_id        category  \\\n",
              "0  1000196974485173657  299925700       Lifestyle   \n",
              "1  1000196974485173657  299972194            News   \n",
              "2  1000196974485173657  299972194            News   \n",
              "3  1007505561418545529  299407839  Stars & Kultur   \n",
              "4  1017855659516706306  298846345  Stars & Kultur   \n",
              "\n",
              "                                               title              author  \\\n",
              "0  Nach Tod von Vater: Tochter bekommt jedes Jahr...  Marlene Patsalidis   \n",
              "1                LIVE: Spielstand bei Sturm - Admira       Mathias Kainz   \n",
              "2         Dominante Grazer nehmen Admira auseinander       Mathias Kainz   \n",
              "3      Trump: 165 Millionen Dollar für 5 Tage Urlaub   Elisabeth Spitzer   \n",
              "4    Meghan Markle: Lottogewinn veränderte ihr Leben   Elisabeth Spitzer   \n",
              "\n",
              "   months_since_epoch next_content_id  \n",
              "0                 574       299972194  \n",
              "1                 574       299816215  \n",
              "2                 574       299410466  \n",
              "3                 574       299816215  \n",
              "4                 574       299814775  "
            ]
          },
          "metadata": {
            "tags": []
          },
          "execution_count": 10
        }
      ]
    },
    {
      "cell_type": "markdown",
      "metadata": {
        "id": "hz7QnkmkpzZ_",
        "colab_type": "text"
      },
      "source": [
        "Let's have a look at the two csv files we just created containing the training and test set. We'll also do a line count of both files to confirm that we have achieved an approximate 90/10 train/test split.  \n",
        "In the next notebook, **Content Based Filtering** we will build a model to recommend an article given information about the current article being read, such as the category, title, author, and publish date. "
      ]
    },
    {
      "cell_type": "code",
      "metadata": {
        "id": "MkkjCuTNpzaD",
        "colab_type": "code",
        "colab": {},
        "outputId": "c0c8a5d0-3003-4dcb-cc8a-d3a79bc985be"
      },
      "source": [
        "%%bash\n",
        "wc -l *_set.csv"
      ],
      "execution_count": 0,
      "outputs": [
        {
          "output_type": "stream",
          "text": [
            "   25599 test_set.csv\n",
            "  232308 training_set.csv\n",
            "  257907 total\n"
          ],
          "name": "stdout"
        }
      ]
    },
    {
      "cell_type": "code",
      "metadata": {
        "id": "1ltrXatnpzaN",
        "colab_type": "code",
        "colab": {},
        "outputId": "96f159c4-615c-4dfd-967e-e02fd4d90fe4"
      },
      "source": [
        "!head *_set.csv"
      ],
      "execution_count": 0,
      "outputs": [
        {
          "output_type": "stream",
          "text": [
            "==> test_set.csv <==\r\n",
            "1000196974485173657,299925700,Lifestyle,Nach Tod von Vater: Tochter bekommt jedes Jahr Blumen,Marlene Patsalidis,574,299972194\r\n",
            "1000196974485173657,299972194,News,LIVE: Spielstand bei Sturm - Admira,Mathias Kainz,574,299816215\r\n",
            "1000196974485173657,299972194,News,Dominante Grazer nehmen Admira auseinander,Mathias Kainz,574,299410466\r\n",
            "1007505561418545529,299407839,Stars & Kultur,Trump: 165 Millionen Dollar für 5 Tage Urlaub,Elisabeth Spitzer,574,299816215\r\n",
            "1017855659516706306,298846345,Stars & Kultur,Meghan Markle: Lottogewinn veränderte ihr Leben,Elisabeth Spitzer,574,299814775\r\n",
            "1020191185375536307,299827911,News,\"\"\"Vulkanausbrüche sind normal\"\"\",Michaela Reibenwein,574,187077794\r\n",
            "1021039862358799317,299911496,News,Papst auf Myanmar-Besuch: Franziskus trifft Aung San Suu Kyi,,574,299912041\r\n",
            "1032965470337888105,299826775,Lifestyle,Auf Bank ausgeruht: Pensionist muss Strafe zahlen,Marlene Patsalidis,574,299918253\r\n",
            "1034151839179551865,297547655,Stars & Kultur,\"Ozzy Osbourne spricht über Affäre: \"\"War ein Idiot\"\"\",Christina Michlits,574,200635196\r\n",
            "1037372952958101754,299816215,News,Fahnenskandal von Mailand: Die Austria zeigt Flagge,Alexander Strecha,574,299836841\r\n",
            "\r\n",
            "==> training_set.csv <==\r\n",
            "1002711106576646390,298972803,News,\"\"\"Moslem-Mama\"\": FPÖ-Mann hat selbst iranische Wurzeln\",Matthias Hofer,574,299925700\r\n",
            "1002995626699943875,299836255,News,Blümel Kneissl &Co.: Das sind die Fixstarter,,574,299972800\r\n",
            "1002995626699943875,299972800,News,Strengere Regeln für Schüler Eltern – und auch Lehrer,,574,299972248\r\n",
            "1002995626699943875,299972248,News,\"Bildungsexperte Salcher: \"\"Lehrer nach Leistung bezahlen\"\"\",Bernhard Gaul,574,299972800\r\n",
            "1002995626699943875,299972800,News,Strengere Regeln für Schüler Eltern – und auch Lehrer,,574,299826767\r\n",
            "1002995626699943875,299826767,Lifestyle,Titanic-Regisseur: Darum musste Jack sterben,Elisabeth Mittendorfer,574,299826767\r\n",
            "1004901419659412835,299785089,Stars & Kultur,Prinz Harry & Meghan Markle: Verlobung ist offiziell,Elisabeth Spitzer,574,299937546\r\n",
            "1004901419659412835,299937546,Stars & Kultur,Harry & Meghan Markle: Erste Details zur Hochzeit,Elisabeth Spitzer,574,299914459\r\n",
            "1004901419659412835,299914459,Stars & Kultur,\"\"\"Hat mich gerettet\"\": Andre Agassi über Steffi Graf & Familie\",Christina Michlits,574,299826775\r\n",
            "1004901419659412835,299826775,Lifestyle,Auf Bank ausgeruht: Pensionist muss Strafe zahlen,Marlene Patsalidis,574,299907275\r\n"
          ],
          "name": "stdout"
        }
      ]
    },
    {
      "cell_type": "code",
      "metadata": {
        "id": "tGy9yuO2pzaR",
        "colab_type": "code",
        "colab": {}
      },
      "source": [
        ""
      ],
      "execution_count": 0,
      "outputs": []
    }
  ]
}