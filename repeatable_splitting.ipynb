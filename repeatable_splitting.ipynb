{
  "nbformat": 4,
  "nbformat_minor": 0,
  "metadata": {
    "colab": {
      "name": "repeatable_splitting.ipynb",
      "version": "0.3.2",
      "provenance": [],
      "include_colab_link": true
    },
    "language_info": {
      "codemirror_mode": {
        "name": "ipython",
        "version": 3
      },
      "file_extension": ".py",
      "mimetype": "text/x-python",
      "name": "python",
      "nbconvert_exporter": "python",
      "pygments_lexer": "ipython3",
      "version": "3.5.6"
    },
    "kernelspec": {
      "display_name": "Python 3",
      "language": "python",
      "name": "python3"
    }
  },
  "cells": [
    {
      "cell_type": "markdown",
      "metadata": {
        "id": "view-in-github",
        "colab_type": "text"
      },
      "source": [
        "<a href=\"https://colab.research.google.com/github/rkrissada/google_ml_training/blob/master/repeatable_splitting.ipynb\" target=\"_parent\"><img src=\"https://colab.research.google.com/assets/colab-badge.svg\" alt=\"Open In Colab\"/></a>"
      ]
    },
    {
      "metadata": {
        "id": "xoyOmdqkeQ8r",
        "colab_type": "text"
      },
      "cell_type": "markdown",
      "source": [
        "<h1> Repeatable splitting </h1>\n",
        "\n",
        "In this notebook, we will explore the impact of different ways of creating machine learning datasets.\n",
        "\n",
        "<p>\n",
        "\n",
        "Repeatability is important in machine learning. If you do the same thing now and 5 minutes from now and get different answers, then it makes experimentation difficult. In other words, you will find it difficult to gauge whether a change you made has resulted in an improvement or not."
      ]
    },
    {
      "metadata": {
        "id": "vNaAsPKBeQ8s",
        "colab_type": "code",
        "colab": {}
      },
      "cell_type": "code",
      "source": [
        "import google.datalab.bigquery as bq"
      ],
      "execution_count": 0,
      "outputs": []
    },
    {
      "metadata": {
        "id": "Il_8RSHYeQ8v",
        "colab_type": "text"
      },
      "cell_type": "markdown",
      "source": [
        "<h3> Create a simple machine learning model </h3>\n",
        "\n",
        "The dataset that we will use is <a href=\"https://bigquery.cloud.google.com/table/bigquery-samples:airline_ontime_data.flights\">a BigQuery public dataset</a> of airline arrival data. Click on the link, and look at the column names. Switch to the Details tab to verify that the number of records is 70 million, and then switch to the Preview tab to look at a few rows.\n",
        "<p>\n",
        "We want to predict the arrival delay of an airline based on the departure delay. The model that we will use is a zero-bias linear model:\n",
        "$$ delay_{arrival} = \\alpha * delay_{departure} $$\n",
        "<p>\n",
        "To train the model is to estimate a good value for $\\alpha$. \n",
        "<p>\n",
        "One approach to estimate alpha is to use this formula:\n",
        "$$ \\alpha = \\frac{\\sum delay_{departure} delay_{arrival} }{  \\sum delay_{departure}^2 } $$\n",
        "Because we'd like to capture the idea that this relationship is different for flights from New York to Los Angeles vs. flights from Austin to Indianapolis (shorter flight, less busy airports), we'd compute a different $alpha$ for each airport-pair.  For simplicity, we'll do this model only for flights between Denver and Los Angeles."
      ]
    },
    {
      "metadata": {
        "id": "9qiWlXCIeQ8w",
        "colab_type": "text"
      },
      "cell_type": "markdown",
      "source": [
        "<h2> Naive random split (not repeatable) </h2>"
      ]
    },
    {
      "metadata": {
        "id": "iF4xVYR-eQ8x",
        "colab_type": "code",
        "colab": {}
      },
      "cell_type": "code",
      "source": [
        "compute_alpha = \"\"\"\n",
        "#standardSQL\n",
        "SELECT \n",
        "   SAFE_DIVIDE(SUM(arrival_delay * departure_delay), SUM(departure_delay * departure_delay)) AS alpha\n",
        "FROM\n",
        "(\n",
        "   SELECT RAND() AS splitfield,\n",
        "   arrival_delay,\n",
        "   departure_delay\n",
        "FROM\n",
        "  `bigquery-samples.airline_ontime_data.flights`\n",
        "WHERE\n",
        "  departure_airport = 'DEN' AND arrival_airport = 'LAX'\n",
        ")\n",
        "WHERE\n",
        "  splitfield < 0.8\n",
        "\"\"\""
      ],
      "execution_count": 0,
      "outputs": []
    },
    {
      "metadata": {
        "id": "rqKUJvHTeQ80",
        "colab_type": "code",
        "colab": {},
        "outputId": "ec3d9770-d1c9-48dd-84f3-eb31f0a5eb96"
      },
      "cell_type": "code",
      "source": [
        "results = bq.Query(compute_alpha).execute().result().to_dataframe()\n",
        "alpha = results['alpha'][0]\n",
        "print(alpha)"
      ],
      "execution_count": 0,
      "outputs": [
        {
          "output_type": "stream",
          "text": [
            "0.9765001844305087\n"
          ],
          "name": "stdout"
        }
      ]
    },
    {
      "metadata": {
        "id": "VGjY9LNWeQ85",
        "colab_type": "text"
      },
      "cell_type": "markdown",
      "source": [
        "<h3> What is wrong with calculating RMSE on the training and test data as follows? </h3>"
      ]
    },
    {
      "metadata": {
        "id": "tl-S3S9ceQ86",
        "colab_type": "code",
        "colab": {},
        "outputId": "a9e7ee1e-db96-47b1-b32c-306576b07b63"
      },
      "cell_type": "code",
      "source": [
        "compute_rmse = \"\"\"\n",
        "#standardSQL\n",
        "SELECT\n",
        "  dataset,\n",
        "  SQRT(AVG((arrival_delay - ALPHA * departure_delay)*(arrival_delay - ALPHA * departure_delay))) AS rmse,\n",
        "  COUNT(arrival_delay) AS num_flights\n",
        "FROM (\n",
        "  SELECT\n",
        "    IF (RAND() < 0.8, 'train', 'eval') AS dataset,\n",
        "    arrival_delay,\n",
        "    departure_delay\n",
        "  FROM\n",
        "    `bigquery-samples.airline_ontime_data.flights`\n",
        "  WHERE\n",
        "    departure_airport = 'DEN'\n",
        "    AND arrival_airport = 'LAX' )\n",
        "GROUP BY\n",
        "  dataset\n",
        "\"\"\"\n",
        "bq.Query(compute_rmse.replace('ALPHA', str(alpha))).execute().result()"
      ],
      "execution_count": 0,
      "outputs": [
        {
          "output_type": "execute_result",
          "data": {
            "text/html": [
              "\n",
              "    <div class=\"bqtv\" id=\"1_155645948316\"><table><tr><th>dataset</th><th>rmse</th><th>num_flights</th></tr><tr><td>train</td><td>13.078908644182459</td><td>63566</td></tr><tr><td>eval</td><td>13.103081109115422</td><td>16123</td></tr></table></div>\n",
              "    <br />(rows: 2, time: 1.3s,     1GB processed, job: job_2D9ldWxSwz4WGmG9tGx8ngRX5F_Y)<br />\n",
              "    <script src=\"/static/components/requirejs/require.js\"></script>\n",
              "    <script>\n",
              "      require.config({\n",
              "        paths: {\n",
              "          base: '/static/base',\n",
              "          d3: '//cdnjs.cloudflare.com/ajax/libs/d3/3.4.13/d3',\n",
              "          plotly: 'https://cdn.plot.ly/plotly-1.5.1.min.js?noext',\n",
              "          jquery: '//ajax.googleapis.com/ajax/libs/jquery/2.0.0/jquery.min'\n",
              "        },\n",
              "        map: {\n",
              "          '*': {\n",
              "            datalab: 'nbextensions/gcpdatalab'\n",
              "          }\n",
              "        },\n",
              "        shim: {\n",
              "          plotly: {\n",
              "            deps: ['d3', 'jquery'],\n",
              "            exports: 'plotly'\n",
              "          }\n",
              "        }\n",
              "      });\n",
              "\n",
              "      require(['datalab/charting', 'datalab/element!1_155645948316', 'base/js/events',\n",
              "          'datalab/style!/nbextensions/gcpdatalab/charting.css'],\n",
              "        function(charts, dom, events) {\n",
              "          charts.render('gcharts', dom, events, 'table', [], {\"rows\": [{\"c\": [{\"v\": \"train\"}, {\"v\": 13.078908644182459}, {\"v\": 63566}]}, {\"c\": [{\"v\": \"eval\"}, {\"v\": 13.103081109115422}, {\"v\": 16123}]}], \"cols\": [{\"label\": \"dataset\", \"type\": \"string\", \"id\": \"dataset\"}, {\"label\": \"rmse\", \"type\": \"number\", \"id\": \"rmse\"}, {\"label\": \"num_flights\", \"type\": \"number\", \"id\": \"num_flights\"}]},\n",
              "            {\n",
              "              pageSize: 25,\n",
              "              cssClassNames:  {\n",
              "                tableRow: 'gchart-table-row',\n",
              "                headerRow: 'gchart-table-headerrow',\n",
              "                oddTableRow: 'gchart-table-oddrow',\n",
              "                selectedTableRow: 'gchart-table-selectedrow',\n",
              "                hoverTableRow: 'gchart-table-hoverrow',\n",
              "                tableCell: 'gchart-table-cell',\n",
              "                headerCell: 'gchart-table-headercell',\n",
              "                rowNumberCell: 'gchart-table-rownumcell'\n",
              "              }\n",
              "            },\n",
              "            {source_index: 0, fields: 'dataset,rmse,num_flights'},\n",
              "            0,\n",
              "            2);\n",
              "        }\n",
              "      );\n",
              "    </script>\n",
              "  "
            ],
            "text/plain": [
              "QueryResultsTable job_2D9ldWxSwz4WGmG9tGx8ngRX5F_Y"
            ]
          },
          "metadata": {
            "tags": []
          },
          "execution_count": 4
        }
      ]
    },
    {
      "metadata": {
        "id": "QxapZEHceQ89",
        "colab_type": "text"
      },
      "cell_type": "markdown",
      "source": [
        "Hint:\n",
        "* Are you really getting the same training data in the compute_rmse query as in the compute_alpha query?\n",
        "* Do you get the same answers each time you rerun the compute_alpha and compute_rmse blocks?"
      ]
    },
    {
      "metadata": {
        "id": "3n2jbJTleQ89",
        "colab_type": "text"
      },
      "cell_type": "markdown",
      "source": [
        "<h3> How do we correctly train and evaluate? </h3>\n",
        "<br/>\n",
        "Here's the right way to compute the RMSE using the actual training and held-out (evaluation) data. Note how much harder this feels.\n",
        "\n",
        "Although the calculations are now correct, the experiment is still not repeatable.\n",
        "\n",
        "Try running it several times; do you get the same answer?"
      ]
    },
    {
      "metadata": {
        "id": "ExLDvflAeQ9A",
        "colab_type": "code",
        "colab": {}
      },
      "cell_type": "code",
      "source": [
        "train_and_eval_rand = \"\"\"\n",
        "#standardSQL\n",
        "WITH\n",
        "  alldata AS (\n",
        "  SELECT\n",
        "    IF (RAND() < 0.8,\n",
        "      'train',\n",
        "      'eval') AS dataset,\n",
        "    arrival_delay,\n",
        "    departure_delay\n",
        "  FROM\n",
        "    `bigquery-samples.airline_ontime_data.flights`\n",
        "  WHERE\n",
        "    departure_airport = 'DEN'\n",
        "    AND arrival_airport = 'LAX' ),\n",
        "  training AS (\n",
        "  SELECT\n",
        "    SAFE_DIVIDE( SUM(arrival_delay * departure_delay) , SUM(departure_delay * departure_delay)) AS alpha\n",
        "  FROM\n",
        "    alldata\n",
        "  WHERE\n",
        "    dataset = 'train' )\n",
        "SELECT\n",
        "  MAX(alpha) AS alpha,\n",
        "  dataset,\n",
        "  SQRT(AVG((arrival_delay - alpha * departure_delay)*(arrival_delay - alpha * departure_delay))) AS rmse,\n",
        "  COUNT(arrival_delay) AS num_flights\n",
        "FROM\n",
        "  alldata,\n",
        "  training\n",
        "GROUP BY\n",
        "  dataset\n",
        "\"\"\""
      ],
      "execution_count": 0,
      "outputs": []
    },
    {
      "metadata": {
        "id": "6DmdS3ifeQ9C",
        "colab_type": "code",
        "colab": {},
        "outputId": "e15e2761-dde8-433c-ab98-0c743644e8d3"
      },
      "cell_type": "code",
      "source": [
        "bq.Query(train_and_eval_rand).execute().result()"
      ],
      "execution_count": 0,
      "outputs": [
        {
          "output_type": "execute_result",
          "data": {
            "text/html": [
              "\n",
              "    <div class=\"bqtv\" id=\"2_155645950448\"><table><tr><th>alpha</th><th>dataset</th><th>rmse</th><th>num_flights</th></tr><tr><td>0.976238360507064</td><td>eval</td><td>13.013723703343159</td><td>15978</td></tr><tr><td>0.976238360507064</td><td>train</td><td>13.101302834287674</td><td>63711</td></tr></table></div>\n",
              "    <br />(rows: 2, time: 1.8s,     1GB processed, job: job_lyoL10iiUyihVtp1k0Snf2RxqLmz)<br />\n",
              "    <script src=\"/static/components/requirejs/require.js\"></script>\n",
              "    <script>\n",
              "      require.config({\n",
              "        paths: {\n",
              "          base: '/static/base',\n",
              "          d3: '//cdnjs.cloudflare.com/ajax/libs/d3/3.4.13/d3',\n",
              "          plotly: 'https://cdn.plot.ly/plotly-1.5.1.min.js?noext',\n",
              "          jquery: '//ajax.googleapis.com/ajax/libs/jquery/2.0.0/jquery.min'\n",
              "        },\n",
              "        map: {\n",
              "          '*': {\n",
              "            datalab: 'nbextensions/gcpdatalab'\n",
              "          }\n",
              "        },\n",
              "        shim: {\n",
              "          plotly: {\n",
              "            deps: ['d3', 'jquery'],\n",
              "            exports: 'plotly'\n",
              "          }\n",
              "        }\n",
              "      });\n",
              "\n",
              "      require(['datalab/charting', 'datalab/element!2_155645950448', 'base/js/events',\n",
              "          'datalab/style!/nbextensions/gcpdatalab/charting.css'],\n",
              "        function(charts, dom, events) {\n",
              "          charts.render('gcharts', dom, events, 'table', [], {\"rows\": [{\"c\": [{\"v\": 0.976238360507064}, {\"v\": \"eval\"}, {\"v\": 13.013723703343159}, {\"v\": 15978}]}, {\"c\": [{\"v\": 0.976238360507064}, {\"v\": \"train\"}, {\"v\": 13.101302834287674}, {\"v\": 63711}]}], \"cols\": [{\"label\": \"alpha\", \"type\": \"number\", \"id\": \"alpha\"}, {\"label\": \"dataset\", \"type\": \"string\", \"id\": \"dataset\"}, {\"label\": \"rmse\", \"type\": \"number\", \"id\": \"rmse\"}, {\"label\": \"num_flights\", \"type\": \"number\", \"id\": \"num_flights\"}]},\n",
              "            {\n",
              "              pageSize: 25,\n",
              "              cssClassNames:  {\n",
              "                tableRow: 'gchart-table-row',\n",
              "                headerRow: 'gchart-table-headerrow',\n",
              "                oddTableRow: 'gchart-table-oddrow',\n",
              "                selectedTableRow: 'gchart-table-selectedrow',\n",
              "                hoverTableRow: 'gchart-table-hoverrow',\n",
              "                tableCell: 'gchart-table-cell',\n",
              "                headerCell: 'gchart-table-headercell',\n",
              "                rowNumberCell: 'gchart-table-rownumcell'\n",
              "              }\n",
              "            },\n",
              "            {source_index: 1, fields: 'alpha,dataset,rmse,num_flights'},\n",
              "            0,\n",
              "            2);\n",
              "        }\n",
              "      );\n",
              "    </script>\n",
              "  "
            ],
            "text/plain": [
              "QueryResultsTable job_lyoL10iiUyihVtp1k0Snf2RxqLmz"
            ]
          },
          "metadata": {
            "tags": []
          },
          "execution_count": 6
        }
      ]
    },
    {
      "metadata": {
        "id": "YNXQ-hlJeQ9F",
        "colab_type": "text"
      },
      "cell_type": "markdown",
      "source": [
        "<h2> Using HASH of date to split the data </h2>\n",
        "\n",
        "Let's split by date and train."
      ]
    },
    {
      "metadata": {
        "id": "r4UHB1WxeQ9F",
        "colab_type": "code",
        "colab": {},
        "outputId": "b2547695-9633-425b-b6e4-e58d3c2b815f"
      },
      "cell_type": "code",
      "source": [
        "compute_alpha = \"\"\"\n",
        "#standardSQL\n",
        "SELECT \n",
        "   SAFE_DIVIDE(SUM(arrival_delay * departure_delay), SUM(departure_delay * departure_delay)) AS alpha\n",
        "FROM\n",
        "  `bigquery-samples.airline_ontime_data.flights`\n",
        "WHERE\n",
        "  departure_airport = 'DEN' AND arrival_airport = 'LAX'\n",
        "  AND MOD(ABS(FARM_FINGERPRINT(date)), 10) < 8\n",
        "\"\"\"\n",
        "results = bq.Query(compute_alpha).execute().result().to_dataframe()\n",
        "alpha = results['alpha'][0]\n",
        "print(alpha)"
      ],
      "execution_count": 0,
      "outputs": [
        {
          "output_type": "stream",
          "text": [
            "0.9758039143620403\n"
          ],
          "name": "stdout"
        }
      ]
    },
    {
      "metadata": {
        "id": "llJ2XsEseQ9I",
        "colab_type": "text"
      },
      "cell_type": "markdown",
      "source": [
        "We can now use the alpha to compute RMSE. Because the alpha value is repeatable, we don't need to worry that the alpha in the compute_rmse will be different from the alpha computed in the compute_alpha."
      ]
    },
    {
      "metadata": {
        "id": "mW5WcvPjeQ9I",
        "colab_type": "code",
        "colab": {},
        "outputId": "042ea1b7-32a1-45e8-faf3-eb91186f87ca"
      },
      "cell_type": "code",
      "source": [
        "compute_rmse = \"\"\"\n",
        "#standardSQL\n",
        "SELECT\n",
        "  IF(MOD(ABS(FARM_FINGERPRINT(date)), 10) < 8, 'train', 'eval') AS dataset,\n",
        "  SQRT(AVG((arrival_delay - ALPHA * departure_delay)*(arrival_delay - ALPHA * departure_delay))) AS rmse,\n",
        "  COUNT(arrival_delay) AS num_flights\n",
        "FROM\n",
        "    `bigquery-samples.airline_ontime_data.flights`\n",
        "WHERE\n",
        "    departure_airport = 'DEN'\n",
        "    AND arrival_airport = 'LAX'\n",
        "GROUP BY\n",
        "  dataset\n",
        "\"\"\"\n",
        "print(bq.Query(compute_rmse.replace('ALPHA', str(alpha))).execute().result().to_dataframe().head())"
      ],
      "execution_count": 0,
      "outputs": [
        {
          "output_type": "stream",
          "text": [
            "  dataset       rmse  num_flights\n",
            "0    eval  12.764685        15671\n",
            "1   train  13.160712        64018\n"
          ],
          "name": "stdout"
        }
      ]
    },
    {
      "metadata": {
        "id": "rgf6xkG7eQ9L",
        "colab_type": "text"
      },
      "cell_type": "markdown",
      "source": [
        "Note also that the RMSE on the evaluation dataset more from the RMSE on the training dataset when we do the split correctly.  This should be expected; in the RAND() case, there was leakage between training and evaluation datasets, because there is high correlation between flights on the same day.\n",
        "<p>\n",
        "This is one of the biggest dangers with doing machine learning splits the wrong way -- <b> you will develop a false sense of confidence in how good your model is! </b>"
      ]
    },
    {
      "metadata": {
        "id": "6jdgYRr5eQ9M",
        "colab_type": "text"
      },
      "cell_type": "markdown",
      "source": [
        "Copyright 2018 Google Inc.\n",
        "Licensed under the Apache License, Version 2.0 (the \"License\"); you may not use this file except in compliance with the License. You may obtain a copy of the License at\n",
        "http://www.apache.org/licenses/LICENSE-2.0\n",
        "Unless required by applicable law or agreed to in writing, software distributed under the License is distributed on an \"AS IS\" BASIS, WITHOUT WARRANTIES OR CONDITIONS OF ANY KIND, either express or implied. See the License for the specific language governing permissions and limitations under the License."
      ]
    }
  ]
}