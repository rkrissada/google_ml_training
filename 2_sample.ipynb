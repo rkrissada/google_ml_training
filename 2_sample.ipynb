{
  "nbformat": 4,
  "nbformat_minor": 0,
  "metadata": {
    "colab": {
      "name": "2_sample.ipynb",
      "version": "0.3.2",
      "provenance": [],
      "include_colab_link": true
    },
    "language_info": {
      "codemirror_mode": {
        "name": "ipython",
        "version": 3
      },
      "file_extension": ".py",
      "mimetype": "text/x-python",
      "name": "python",
      "nbconvert_exporter": "python",
      "pygments_lexer": "ipython3",
      "version": "3.5.6"
    },
    "kernelspec": {
      "display_name": "Python 3",
      "language": "python",
      "name": "python3"
    }
  },
  "cells": [
    {
      "cell_type": "markdown",
      "metadata": {
        "id": "view-in-github",
        "colab_type": "text"
      },
      "source": [
        "<a href=\"https://colab.research.google.com/github/rkrissada/google_ml_training/blob/master/2_sample.ipynb\" target=\"_parent\"><img src=\"https://colab.research.google.com/assets/colab-badge.svg\" alt=\"Open In Colab\"/></a>"
      ]
    },
    {
      "cell_type": "markdown",
      "metadata": {
        "id": "iEbJfdP0RjGI",
        "colab_type": "text"
      },
      "source": [
        "<h1> 2. Creating a sampled dataset </h1>\n",
        "\n",
        "This notebook illustrates:\n",
        "<ol>\n",
        "<li> Sampling a BigQuery dataset to create datasets for ML\n",
        "<li> Preprocessing with Pandas\n",
        "</ol>"
      ]
    },
    {
      "cell_type": "code",
      "metadata": {
        "id": "inACd5i_RjGJ",
        "colab_type": "code",
        "colab": {}
      },
      "source": [
        "# change these to try this notebook out\n",
        "BUCKET = 'qwiklabs-gcp-394bd6ac587bed14'\n",
        "PROJECT = 'qwiklabs-gcp-394bd6ac587bed14'\n",
        "REGION = 'us-central1'"
      ],
      "execution_count": 0,
      "outputs": []
    },
    {
      "cell_type": "code",
      "metadata": {
        "id": "OAtsydQHRjGM",
        "colab_type": "code",
        "colab": {}
      },
      "source": [
        "import os\n",
        "os.environ['BUCKET'] = BUCKET\n",
        "os.environ['PROJECT'] = PROJECT\n",
        "os.environ['REGION'] = REGION"
      ],
      "execution_count": 0,
      "outputs": []
    },
    {
      "cell_type": "code",
      "metadata": {
        "id": "cmmYdnnsRjGO",
        "colab_type": "code",
        "colab": {}
      },
      "source": [
        "%%bash\n",
        "if ! gsutil ls | grep -q gs://${BUCKET}/; then\n",
        "  gsutil mb -l ${REGION} gs://${BUCKET}\n",
        "fi"
      ],
      "execution_count": 0,
      "outputs": []
    },
    {
      "cell_type": "markdown",
      "metadata": {
        "id": "fyx65ZhyRjGQ",
        "colab_type": "text"
      },
      "source": [
        "<h2> Create ML dataset by sampling using BigQuery </h2>\n",
        "<p>\n",
        "Let's sample the BigQuery data to create smaller datasets.\n",
        "</p>"
      ]
    },
    {
      "cell_type": "code",
      "metadata": {
        "id": "a_19yQfwRjGR",
        "colab_type": "code",
        "colab": {}
      },
      "source": [
        "# Create SQL query using natality data after the year 2000\n",
        "import google.datalab.bigquery as bq\n",
        "query = \"\"\"\n",
        "SELECT\n",
        "  weight_pounds,\n",
        "  is_male,\n",
        "  mother_age,\n",
        "  plurality,\n",
        "  gestation_weeks,\n",
        "  ABS(FARM_FINGERPRINT(CONCAT(CAST(YEAR AS STRING), CAST(month AS STRING)))) AS hashmonth\n",
        "FROM\n",
        "  publicdata.samples.natality\n",
        "WHERE year > 2000\n",
        "\"\"\""
      ],
      "execution_count": 0,
      "outputs": []
    },
    {
      "cell_type": "code",
      "metadata": {
        "id": "Fy3qhzUlRjGT",
        "colab_type": "code",
        "colab": {},
        "outputId": "aec0a77f-06b2-45bd-8c33-569b28452bbb"
      },
      "source": [
        "df = bq.Query(\"SELECT hashmonth, COUNT(weight_pounds) AS num_babies FROM (\" + query + \") GROUP BY hashmonth\").execute().result().to_dataframe()\n",
        "print(\"There are {} unique hashmonths.\".format(len(df)))\n",
        "df.head()"
      ],
      "execution_count": 0,
      "outputs": [
        {
          "output_type": "stream",
          "text": [
            "There are 96 unique hashmonths.\n"
          ],
          "name": "stdout"
        },
        {
          "output_type": "execute_result",
          "data": {
            "text/html": [
              "<div>\n",
              "<style scoped>\n",
              "    .dataframe tbody tr th:only-of-type {\n",
              "        vertical-align: middle;\n",
              "    }\n",
              "\n",
              "    .dataframe tbody tr th {\n",
              "        vertical-align: top;\n",
              "    }\n",
              "\n",
              "    .dataframe thead th {\n",
              "        text-align: right;\n",
              "    }\n",
              "</style>\n",
              "<table border=\"1\" class=\"dataframe\">\n",
              "  <thead>\n",
              "    <tr style=\"text-align: right;\">\n",
              "      <th></th>\n",
              "      <th>hashmonth</th>\n",
              "      <th>num_babies</th>\n",
              "    </tr>\n",
              "  </thead>\n",
              "  <tbody>\n",
              "    <tr>\n",
              "      <th>0</th>\n",
              "      <td>6392072535155213407</td>\n",
              "      <td>323758</td>\n",
              "    </tr>\n",
              "    <tr>\n",
              "      <th>1</th>\n",
              "      <td>8387817883864991792</td>\n",
              "      <td>331629</td>\n",
              "    </tr>\n",
              "    <tr>\n",
              "      <th>2</th>\n",
              "      <td>9183605629983195042</td>\n",
              "      <td>329975</td>\n",
              "    </tr>\n",
              "    <tr>\n",
              "      <th>3</th>\n",
              "      <td>328012383083104805</td>\n",
              "      <td>359891</td>\n",
              "    </tr>\n",
              "    <tr>\n",
              "      <th>4</th>\n",
              "      <td>8391424625589759186</td>\n",
              "      <td>364497</td>\n",
              "    </tr>\n",
              "  </tbody>\n",
              "</table>\n",
              "</div>"
            ],
            "text/plain": [
              "             hashmonth  num_babies\n",
              "0  6392072535155213407      323758\n",
              "1  8387817883864991792      331629\n",
              "2  9183605629983195042      329975\n",
              "3   328012383083104805      359891\n",
              "4  8391424625589759186      364497"
            ]
          },
          "metadata": {
            "tags": []
          },
          "execution_count": 5
        }
      ]
    },
    {
      "cell_type": "markdown",
      "metadata": {
        "id": "zmuOutelRjGZ",
        "colab_type": "text"
      },
      "source": [
        "## Lab Task #1\n",
        "\n",
        "Sample the BigQuery resultset (above) so that you have approximately 12,000 training examples and 3000 evaluation examples.\n",
        "The training and evaluation datasets have to be well-distributed (not all the babies are born in Jan 2005, for example)\n",
        "and should not overlap (no baby is part of both training and evaluation datasets).\n",
        "\n",
        "Hint (highlight to see): <p style='color:white'>You will use MOD() on the hashmonth to divide the dataset into non-overlapping training and evaluation datasets, and RAND() to sample these to the desired size.</p>"
      ]
    },
    {
      "cell_type": "code",
      "metadata": {
        "id": "dH2vHvomRjGa",
        "colab_type": "code",
        "colab": {},
        "outputId": "e8256a3d-119f-4340-89e1-c92c3ef69867"
      },
      "source": [
        "trainQuery = \"SELECT * FROM (\" + query + \") WHERE MOD(hashmonth, 4) < 3 AND RAND() < 0.0005\"\n",
        "evalQuery = \"SELECT * FROM (\" + query + \") WHERE MOD(hashmonth, 4) = 3 AND RAND() < 0.0005\"\n",
        "traindf = bq.Query(trainQuery).execute().result().to_dataframe()\n",
        "evaldf = bq.Query(evalQuery).execute().result().to_dataframe()\n",
        "print(\"There are {} examples in the train dataset and {} in the eval dataset\".format(len(traindf), len(evaldf)))"
      ],
      "execution_count": 0,
      "outputs": [
        {
          "output_type": "stream",
          "text": [
            "There are 13559 examples in the train dataset and 3272 in the eval dataset\n"
          ],
          "name": "stdout"
        }
      ]
    },
    {
      "cell_type": "markdown",
      "metadata": {
        "id": "kcsksm1TRjGd",
        "colab_type": "text"
      },
      "source": [
        "## Lab Task #2\n",
        "\n",
        "Use Pandas to:\n",
        "* Clean up the data to remove rows that are missing any of the fields.\n",
        "* Simulate the lack of ultrasound.\n",
        "* Change the plurality column to be a string.\n",
        "\n",
        "Hint (highlight to see): <p>\n",
        "Filtering:\n",
        "<pre style='color:white'>\n",
        "df = df[df.weight_pounds > 0]\n",
        "</pre>\n",
        "Lack of ultrasound:\n",
        "<pre style='color:white'>\n",
        "nous = df.copy(deep=True)\n",
        "nous['is_male'] = 'Unknown'\n",
        "</pre>\n",
        "Modify plurality to be a string:\n",
        "<pre style='color:white'>\n",
        "twins_etc = dict(zip([1,2,3,4,5],\n",
        "                   ['Single(1)', 'Twins(2)', 'Triplets(3)', 'Quadruplets(4)', 'Quintuplets(5)']))\n",
        "df['plurality'].replace(twins_etc, inplace=True)\n",
        "</pre>\n",
        "</p>"
      ]
    },
    {
      "cell_type": "code",
      "metadata": {
        "id": "E375mIAPRjGe",
        "colab_type": "code",
        "colab": {},
        "outputId": "a73dc985-d2ba-4302-cad3-5a7d00df6d86"
      },
      "source": [
        "traindf.head()"
      ],
      "execution_count": 0,
      "outputs": [
        {
          "output_type": "execute_result",
          "data": {
            "text/html": [
              "<div>\n",
              "<style scoped>\n",
              "    .dataframe tbody tr th:only-of-type {\n",
              "        vertical-align: middle;\n",
              "    }\n",
              "\n",
              "    .dataframe tbody tr th {\n",
              "        vertical-align: top;\n",
              "    }\n",
              "\n",
              "    .dataframe thead th {\n",
              "        text-align: right;\n",
              "    }\n",
              "</style>\n",
              "<table border=\"1\" class=\"dataframe\">\n",
              "  <thead>\n",
              "    <tr style=\"text-align: right;\">\n",
              "      <th></th>\n",
              "      <th>weight_pounds</th>\n",
              "      <th>is_male</th>\n",
              "      <th>mother_age</th>\n",
              "      <th>plurality</th>\n",
              "      <th>gestation_weeks</th>\n",
              "      <th>hashmonth</th>\n",
              "    </tr>\n",
              "  </thead>\n",
              "  <tbody>\n",
              "    <tr>\n",
              "      <th>0</th>\n",
              "      <td>7.374463</td>\n",
              "      <td>True</td>\n",
              "      <td>25</td>\n",
              "      <td>1</td>\n",
              "      <td>38.0</td>\n",
              "      <td>774501970389208065</td>\n",
              "    </tr>\n",
              "    <tr>\n",
              "      <th>1</th>\n",
              "      <td>7.874912</td>\n",
              "      <td>True</td>\n",
              "      <td>24</td>\n",
              "      <td>1</td>\n",
              "      <td>39.0</td>\n",
              "      <td>774501970389208065</td>\n",
              "    </tr>\n",
              "    <tr>\n",
              "      <th>2</th>\n",
              "      <td>7.312733</td>\n",
              "      <td>False</td>\n",
              "      <td>36</td>\n",
              "      <td>1</td>\n",
              "      <td>39.0</td>\n",
              "      <td>774501970389208065</td>\n",
              "    </tr>\n",
              "    <tr>\n",
              "      <th>3</th>\n",
              "      <td>7.627994</td>\n",
              "      <td>False</td>\n",
              "      <td>19</td>\n",
              "      <td>1</td>\n",
              "      <td>40.0</td>\n",
              "      <td>774501970389208065</td>\n",
              "    </tr>\n",
              "    <tr>\n",
              "      <th>4</th>\n",
              "      <td>6.137669</td>\n",
              "      <td>True</td>\n",
              "      <td>24</td>\n",
              "      <td>1</td>\n",
              "      <td>36.0</td>\n",
              "      <td>774501970389208065</td>\n",
              "    </tr>\n",
              "  </tbody>\n",
              "</table>\n",
              "</div>"
            ],
            "text/plain": [
              "   weight_pounds  is_male  mother_age  plurality  gestation_weeks  \\\n",
              "0       7.374463     True          25          1             38.0   \n",
              "1       7.874912     True          24          1             39.0   \n",
              "2       7.312733    False          36          1             39.0   \n",
              "3       7.627994    False          19          1             40.0   \n",
              "4       6.137669     True          24          1             36.0   \n",
              "\n",
              "            hashmonth  \n",
              "0  774501970389208065  \n",
              "1  774501970389208065  \n",
              "2  774501970389208065  \n",
              "3  774501970389208065  \n",
              "4  774501970389208065  "
            ]
          },
          "metadata": {
            "tags": []
          },
          "execution_count": 7
        }
      ]
    },
    {
      "cell_type": "code",
      "metadata": {
        "id": "QPGVKmy_RjGh",
        "colab_type": "code",
        "colab": {},
        "outputId": "30c10e53-ba7e-40b3-9fe5-8fd091b19fc5"
      },
      "source": [
        "traindf.describe()"
      ],
      "execution_count": 0,
      "outputs": [
        {
          "output_type": "execute_result",
          "data": {
            "text/html": [
              "<div>\n",
              "<style scoped>\n",
              "    .dataframe tbody tr th:only-of-type {\n",
              "        vertical-align: middle;\n",
              "    }\n",
              "\n",
              "    .dataframe tbody tr th {\n",
              "        vertical-align: top;\n",
              "    }\n",
              "\n",
              "    .dataframe thead th {\n",
              "        text-align: right;\n",
              "    }\n",
              "</style>\n",
              "<table border=\"1\" class=\"dataframe\">\n",
              "  <thead>\n",
              "    <tr style=\"text-align: right;\">\n",
              "      <th></th>\n",
              "      <th>weight_pounds</th>\n",
              "      <th>mother_age</th>\n",
              "      <th>plurality</th>\n",
              "      <th>gestation_weeks</th>\n",
              "      <th>hashmonth</th>\n",
              "    </tr>\n",
              "  </thead>\n",
              "  <tbody>\n",
              "    <tr>\n",
              "      <th>count</th>\n",
              "      <td>13549.000000</td>\n",
              "      <td>13559.000000</td>\n",
              "      <td>13559.000000</td>\n",
              "      <td>13479.000000</td>\n",
              "      <td>1.355900e+04</td>\n",
              "    </tr>\n",
              "    <tr>\n",
              "      <th>mean</th>\n",
              "      <td>7.221074</td>\n",
              "      <td>27.299653</td>\n",
              "      <td>1.033631</td>\n",
              "      <td>38.580162</td>\n",
              "      <td>4.396483e+18</td>\n",
              "    </tr>\n",
              "    <tr>\n",
              "      <th>std</th>\n",
              "      <td>1.330929</td>\n",
              "      <td>6.127677</td>\n",
              "      <td>0.189070</td>\n",
              "      <td>2.626883</td>\n",
              "      <td>2.790354e+18</td>\n",
              "    </tr>\n",
              "    <tr>\n",
              "      <th>min</th>\n",
              "      <td>0.502654</td>\n",
              "      <td>12.000000</td>\n",
              "      <td>1.000000</td>\n",
              "      <td>17.000000</td>\n",
              "      <td>1.244589e+17</td>\n",
              "    </tr>\n",
              "    <tr>\n",
              "      <th>25%</th>\n",
              "      <td>6.563162</td>\n",
              "      <td>22.000000</td>\n",
              "      <td>1.000000</td>\n",
              "      <td>38.000000</td>\n",
              "      <td>1.622638e+18</td>\n",
              "    </tr>\n",
              "    <tr>\n",
              "      <th>50%</th>\n",
              "      <td>7.312733</td>\n",
              "      <td>27.000000</td>\n",
              "      <td>1.000000</td>\n",
              "      <td>39.000000</td>\n",
              "      <td>4.329667e+18</td>\n",
              "    </tr>\n",
              "    <tr>\n",
              "      <th>75%</th>\n",
              "      <td>8.062305</td>\n",
              "      <td>32.000000</td>\n",
              "      <td>1.000000</td>\n",
              "      <td>40.000000</td>\n",
              "      <td>7.108882e+18</td>\n",
              "    </tr>\n",
              "    <tr>\n",
              "      <th>max</th>\n",
              "      <td>12.187154</td>\n",
              "      <td>50.000000</td>\n",
              "      <td>4.000000</td>\n",
              "      <td>47.000000</td>\n",
              "      <td>9.183606e+18</td>\n",
              "    </tr>\n",
              "  </tbody>\n",
              "</table>\n",
              "</div>"
            ],
            "text/plain": [
              "       weight_pounds    mother_age     plurality  gestation_weeks  \\\n",
              "count   13549.000000  13559.000000  13559.000000     13479.000000   \n",
              "mean        7.221074     27.299653      1.033631        38.580162   \n",
              "std         1.330929      6.127677      0.189070         2.626883   \n",
              "min         0.502654     12.000000      1.000000        17.000000   \n",
              "25%         6.563162     22.000000      1.000000        38.000000   \n",
              "50%         7.312733     27.000000      1.000000        39.000000   \n",
              "75%         8.062305     32.000000      1.000000        40.000000   \n",
              "max        12.187154     50.000000      4.000000        47.000000   \n",
              "\n",
              "          hashmonth  \n",
              "count  1.355900e+04  \n",
              "mean   4.396483e+18  \n",
              "std    2.790354e+18  \n",
              "min    1.244589e+17  \n",
              "25%    1.622638e+18  \n",
              "50%    4.329667e+18  \n",
              "75%    7.108882e+18  \n",
              "max    9.183606e+18  "
            ]
          },
          "metadata": {
            "tags": []
          },
          "execution_count": 8
        }
      ]
    },
    {
      "cell_type": "code",
      "metadata": {
        "id": "HH9DgQ3sRjGj",
        "colab_type": "code",
        "colab": {}
      },
      "source": [
        "import pandas as pd\n",
        "\n",
        "def preprocess(df):\n",
        "  df = df[df.weight_pounds > 0]\n",
        "  df = df[df.mother_age > 0]\n",
        "  df = df[df.gestation_weeks > 0]\n",
        "  df = df[df.plurality > 0]\n",
        "  \n",
        "  # modify plurality field to be a string\n",
        "  twins_etc = dict(zip([1,2,3,4,5],\n",
        "                   ['Single(1)', 'Twins(2)', 'Triplets(3)', 'Quadruplets(4)', 'Quintuplets(5)']))\n",
        "  df['plurality'].replace(twins_etc, inplace=True)\n",
        "  \n",
        "  # now create extra rows to simulate lack of ultrasound\n",
        "  nous = df.copy(deep=True)\n",
        "  nous.loc[nous['plurality'] != 'Single(1)', 'plurality'] = 'Multiple(2+)'\n",
        "  nous['is_male'] = 'Unknown'\n",
        "  \n",
        "  return pd.concat([df, nous])"
      ],
      "execution_count": 0,
      "outputs": []
    },
    {
      "cell_type": "code",
      "metadata": {
        "id": "yhF86YoiRjGn",
        "colab_type": "code",
        "colab": {},
        "outputId": "a993d1ea-e622-4d8c-9ff4-4dbd2ca5b068"
      },
      "source": [
        "traindf.head()# Let's see a small sample of the training data now after our preprocessing\n",
        "traindf = preprocess(traindf)\n",
        "evaldf = preprocess(evaldf)\n",
        "traindf.head()"
      ],
      "execution_count": 0,
      "outputs": [
        {
          "output_type": "execute_result",
          "data": {
            "text/html": [
              "<div>\n",
              "<style scoped>\n",
              "    .dataframe tbody tr th:only-of-type {\n",
              "        vertical-align: middle;\n",
              "    }\n",
              "\n",
              "    .dataframe tbody tr th {\n",
              "        vertical-align: top;\n",
              "    }\n",
              "\n",
              "    .dataframe thead th {\n",
              "        text-align: right;\n",
              "    }\n",
              "</style>\n",
              "<table border=\"1\" class=\"dataframe\">\n",
              "  <thead>\n",
              "    <tr style=\"text-align: right;\">\n",
              "      <th></th>\n",
              "      <th>weight_pounds</th>\n",
              "      <th>is_male</th>\n",
              "      <th>mother_age</th>\n",
              "      <th>plurality</th>\n",
              "      <th>gestation_weeks</th>\n",
              "      <th>hashmonth</th>\n",
              "    </tr>\n",
              "  </thead>\n",
              "  <tbody>\n",
              "    <tr>\n",
              "      <th>0</th>\n",
              "      <td>7.374463</td>\n",
              "      <td>True</td>\n",
              "      <td>25</td>\n",
              "      <td>Single(1)</td>\n",
              "      <td>38.0</td>\n",
              "      <td>774501970389208065</td>\n",
              "    </tr>\n",
              "    <tr>\n",
              "      <th>1</th>\n",
              "      <td>7.874912</td>\n",
              "      <td>True</td>\n",
              "      <td>24</td>\n",
              "      <td>Single(1)</td>\n",
              "      <td>39.0</td>\n",
              "      <td>774501970389208065</td>\n",
              "    </tr>\n",
              "    <tr>\n",
              "      <th>2</th>\n",
              "      <td>7.312733</td>\n",
              "      <td>False</td>\n",
              "      <td>36</td>\n",
              "      <td>Single(1)</td>\n",
              "      <td>39.0</td>\n",
              "      <td>774501970389208065</td>\n",
              "    </tr>\n",
              "    <tr>\n",
              "      <th>3</th>\n",
              "      <td>7.627994</td>\n",
              "      <td>False</td>\n",
              "      <td>19</td>\n",
              "      <td>Single(1)</td>\n",
              "      <td>40.0</td>\n",
              "      <td>774501970389208065</td>\n",
              "    </tr>\n",
              "    <tr>\n",
              "      <th>4</th>\n",
              "      <td>6.137669</td>\n",
              "      <td>True</td>\n",
              "      <td>24</td>\n",
              "      <td>Single(1)</td>\n",
              "      <td>36.0</td>\n",
              "      <td>774501970389208065</td>\n",
              "    </tr>\n",
              "  </tbody>\n",
              "</table>\n",
              "</div>"
            ],
            "text/plain": [
              "   weight_pounds is_male  mother_age  plurality  gestation_weeks  \\\n",
              "0       7.374463    True          25  Single(1)             38.0   \n",
              "1       7.874912    True          24  Single(1)             39.0   \n",
              "2       7.312733   False          36  Single(1)             39.0   \n",
              "3       7.627994   False          19  Single(1)             40.0   \n",
              "4       6.137669    True          24  Single(1)             36.0   \n",
              "\n",
              "            hashmonth  \n",
              "0  774501970389208065  \n",
              "1  774501970389208065  \n",
              "2  774501970389208065  \n",
              "3  774501970389208065  \n",
              "4  774501970389208065  "
            ]
          },
          "metadata": {
            "tags": []
          },
          "execution_count": 10
        }
      ]
    },
    {
      "cell_type": "code",
      "metadata": {
        "id": "GOKVRNmXRjGq",
        "colab_type": "code",
        "colab": {},
        "outputId": "335b4d5f-84bc-4497-9876-3cc41972d7a5"
      },
      "source": [
        "traindf.tail()"
      ],
      "execution_count": 0,
      "outputs": [
        {
          "output_type": "execute_result",
          "data": {
            "text/html": [
              "<div>\n",
              "<style scoped>\n",
              "    .dataframe tbody tr th:only-of-type {\n",
              "        vertical-align: middle;\n",
              "    }\n",
              "\n",
              "    .dataframe tbody tr th {\n",
              "        vertical-align: top;\n",
              "    }\n",
              "\n",
              "    .dataframe thead th {\n",
              "        text-align: right;\n",
              "    }\n",
              "</style>\n",
              "<table border=\"1\" class=\"dataframe\">\n",
              "  <thead>\n",
              "    <tr style=\"text-align: right;\">\n",
              "      <th></th>\n",
              "      <th>weight_pounds</th>\n",
              "      <th>is_male</th>\n",
              "      <th>mother_age</th>\n",
              "      <th>plurality</th>\n",
              "      <th>gestation_weeks</th>\n",
              "      <th>hashmonth</th>\n",
              "    </tr>\n",
              "  </thead>\n",
              "  <tbody>\n",
              "    <tr>\n",
              "      <th>13554</th>\n",
              "      <td>9.250597</td>\n",
              "      <td>Unknown</td>\n",
              "      <td>24</td>\n",
              "      <td>Single(1)</td>\n",
              "      <td>39.0</td>\n",
              "      <td>6637442812569910270</td>\n",
              "    </tr>\n",
              "    <tr>\n",
              "      <th>13555</th>\n",
              "      <td>8.560550</td>\n",
              "      <td>Unknown</td>\n",
              "      <td>26</td>\n",
              "      <td>Single(1)</td>\n",
              "      <td>39.0</td>\n",
              "      <td>6637442812569910270</td>\n",
              "    </tr>\n",
              "    <tr>\n",
              "      <th>13556</th>\n",
              "      <td>8.703850</td>\n",
              "      <td>Unknown</td>\n",
              "      <td>30</td>\n",
              "      <td>Single(1)</td>\n",
              "      <td>39.0</td>\n",
              "      <td>6637442812569910270</td>\n",
              "    </tr>\n",
              "    <tr>\n",
              "      <th>13557</th>\n",
              "      <td>6.499227</td>\n",
              "      <td>Unknown</td>\n",
              "      <td>16</td>\n",
              "      <td>Single(1)</td>\n",
              "      <td>40.0</td>\n",
              "      <td>6637442812569910270</td>\n",
              "    </tr>\n",
              "    <tr>\n",
              "      <th>13558</th>\n",
              "      <td>8.937540</td>\n",
              "      <td>Unknown</td>\n",
              "      <td>25</td>\n",
              "      <td>Single(1)</td>\n",
              "      <td>40.0</td>\n",
              "      <td>6637442812569910270</td>\n",
              "    </tr>\n",
              "  </tbody>\n",
              "</table>\n",
              "</div>"
            ],
            "text/plain": [
              "       weight_pounds  is_male  mother_age  plurality  gestation_weeks  \\\n",
              "13554       9.250597  Unknown          24  Single(1)             39.0   \n",
              "13555       8.560550  Unknown          26  Single(1)             39.0   \n",
              "13556       8.703850  Unknown          30  Single(1)             39.0   \n",
              "13557       6.499227  Unknown          16  Single(1)             40.0   \n",
              "13558       8.937540  Unknown          25  Single(1)             40.0   \n",
              "\n",
              "                 hashmonth  \n",
              "13554  6637442812569910270  \n",
              "13555  6637442812569910270  \n",
              "13556  6637442812569910270  \n",
              "13557  6637442812569910270  \n",
              "13558  6637442812569910270  "
            ]
          },
          "metadata": {
            "tags": []
          },
          "execution_count": 11
        }
      ]
    },
    {
      "cell_type": "code",
      "metadata": {
        "id": "tngstBY_RjGt",
        "colab_type": "code",
        "colab": {},
        "outputId": "0555b8ee-5594-498c-c8d2-48a79d025cdc"
      },
      "source": [
        "traindf.describe()"
      ],
      "execution_count": 0,
      "outputs": [
        {
          "output_type": "execute_result",
          "data": {
            "text/html": [
              "<div>\n",
              "<style scoped>\n",
              "    .dataframe tbody tr th:only-of-type {\n",
              "        vertical-align: middle;\n",
              "    }\n",
              "\n",
              "    .dataframe tbody tr th {\n",
              "        vertical-align: top;\n",
              "    }\n",
              "\n",
              "    .dataframe thead th {\n",
              "        text-align: right;\n",
              "    }\n",
              "</style>\n",
              "<table border=\"1\" class=\"dataframe\">\n",
              "  <thead>\n",
              "    <tr style=\"text-align: right;\">\n",
              "      <th></th>\n",
              "      <th>weight_pounds</th>\n",
              "      <th>mother_age</th>\n",
              "      <th>gestation_weeks</th>\n",
              "      <th>hashmonth</th>\n",
              "    </tr>\n",
              "  </thead>\n",
              "  <tbody>\n",
              "    <tr>\n",
              "      <th>count</th>\n",
              "      <td>26944.000000</td>\n",
              "      <td>26944.000000</td>\n",
              "      <td>26944.000000</td>\n",
              "      <td>2.694400e+04</td>\n",
              "    </tr>\n",
              "    <tr>\n",
              "      <th>mean</th>\n",
              "      <td>7.220448</td>\n",
              "      <td>27.298322</td>\n",
              "      <td>38.584694</td>\n",
              "      <td>4.395249e+18</td>\n",
              "    </tr>\n",
              "    <tr>\n",
              "      <th>std</th>\n",
              "      <td>1.331492</td>\n",
              "      <td>6.122371</td>\n",
              "      <td>2.610543</td>\n",
              "      <td>2.788041e+18</td>\n",
              "    </tr>\n",
              "    <tr>\n",
              "      <th>min</th>\n",
              "      <td>0.502654</td>\n",
              "      <td>12.000000</td>\n",
              "      <td>17.000000</td>\n",
              "      <td>1.244589e+17</td>\n",
              "    </tr>\n",
              "    <tr>\n",
              "      <th>25%</th>\n",
              "      <td>6.563162</td>\n",
              "      <td>22.000000</td>\n",
              "      <td>38.000000</td>\n",
              "      <td>1.622638e+18</td>\n",
              "    </tr>\n",
              "    <tr>\n",
              "      <th>50%</th>\n",
              "      <td>7.312733</td>\n",
              "      <td>27.000000</td>\n",
              "      <td>39.000000</td>\n",
              "      <td>4.329667e+18</td>\n",
              "    </tr>\n",
              "    <tr>\n",
              "      <th>75%</th>\n",
              "      <td>8.062305</td>\n",
              "      <td>32.000000</td>\n",
              "      <td>40.000000</td>\n",
              "      <td>7.108882e+18</td>\n",
              "    </tr>\n",
              "    <tr>\n",
              "      <th>max</th>\n",
              "      <td>12.187154</td>\n",
              "      <td>50.000000</td>\n",
              "      <td>47.000000</td>\n",
              "      <td>9.183606e+18</td>\n",
              "    </tr>\n",
              "  </tbody>\n",
              "</table>\n",
              "</div>"
            ],
            "text/plain": [
              "       weight_pounds    mother_age  gestation_weeks     hashmonth\n",
              "count   26944.000000  26944.000000     26944.000000  2.694400e+04\n",
              "mean        7.220448     27.298322        38.584694  4.395249e+18\n",
              "std         1.331492      6.122371         2.610543  2.788041e+18\n",
              "min         0.502654     12.000000        17.000000  1.244589e+17\n",
              "25%         6.563162     22.000000        38.000000  1.622638e+18\n",
              "50%         7.312733     27.000000        39.000000  4.329667e+18\n",
              "75%         8.062305     32.000000        40.000000  7.108882e+18\n",
              "max        12.187154     50.000000        47.000000  9.183606e+18"
            ]
          },
          "metadata": {
            "tags": []
          },
          "execution_count": 12
        }
      ]
    },
    {
      "cell_type": "markdown",
      "metadata": {
        "id": "O5yv4atcRjGx",
        "colab_type": "text"
      },
      "source": [
        "## Lab Task #3\n",
        "\n",
        "Write the cleaned out data into CSV files.  Change the name of the Pandas dataframes (traindf, evaldf) appropriately.\n",
        "\n"
      ]
    },
    {
      "cell_type": "code",
      "metadata": {
        "id": "Snt2tNbRRjGy",
        "colab_type": "code",
        "colab": {}
      },
      "source": [
        "traindf.to_csv('train.csv', index=False, header=False)\n",
        "evaldf.to_csv('eval.csv', index=False, header=False)"
      ],
      "execution_count": 0,
      "outputs": []
    },
    {
      "cell_type": "code",
      "metadata": {
        "id": "3LQTI7tuRjG0",
        "colab_type": "code",
        "colab": {},
        "outputId": "ede0dc04-f38e-4aba-929c-30a568acae67"
      },
      "source": [
        "%bash\n",
        "wc -l *.csv\n",
        "head *.csv\n",
        "tail *.csv"
      ],
      "execution_count": 0,
      "outputs": [
        {
          "output_type": "stream",
          "text": [
            "   6492 eval.csv\n",
            "  26944 train.csv\n",
            "  33436 total\n",
            "==> eval.csv <==\n",
            "7.4736706818,False,24,Single(1),42.0,1891060869255459203\n",
            "7.25100379718,True,45,Single(1),39.0,7146494315947640619\n",
            "6.56316153974,True,22,Single(1),39.0,6392072535155213407\n",
            "6.0627122049999995,True,22,Single(1),34.0,1866590652208008467\n",
            "8.2452885988,False,35,Single(1),39.0,8904940584331855459\n",
            "7.1870697412,True,23,Single(1),39.0,6141045177192779423\n",
            "8.50102482272,False,20,Single(1),41.0,8904940584331855459\n",
            "7.1760466281,True,26,Single(1),43.0,8904940584331855459\n",
            "5.43659938092,False,26,Single(1),37.0,7146494315947640619\n",
            "6.4374980503999994,False,21,Single(1),38.0,74931465496927487\n",
            "\n",
            "==> train.csv <==\n",
            "7.3744626639,True,25,Single(1),38.0,774501970389208065\n",
            "7.87491199864,True,24,Single(1),39.0,774501970389208065\n",
            "7.31273323054,False,36,Single(1),39.0,774501970389208065\n",
            "7.6279942652,False,19,Single(1),40.0,774501970389208065\n",
            "6.13766937408,True,24,Single(1),36.0,774501970389208065\n",
            "7.12534030784,False,21,Single(1),39.0,774501970389208065\n",
            "2.62570554042,True,26,Single(1),29.0,774501970389208065\n",
            "7.50012615324,True,30,Single(1),38.0,774501970389208065\n",
            "7.1870697412,False,20,Single(1),39.0,774501970389208065\n",
            "8.75014717878,True,18,Single(1),40.0,774501970389208065\n",
            "==> eval.csv <==\n",
            "5.45864560712,Unknown,27,Single(1),37.0,4740473290291881219\n",
            "7.68751907594,Unknown,25,Single(1),39.0,270792696282171059\n",
            "4.81269117946,Unknown,18,Single(1),36.0,270792696282171059\n",
            "7.7492485093,Unknown,44,Single(1),38.0,1639186255933990135\n",
            "9.2704381171,Unknown,32,Single(1),40.0,74931465496927487\n",
            "7.5618555866,Unknown,25,Single(1),39.0,6392072535155213407\n",
            "8.000575487979999,Unknown,18,Single(1),37.0,6392072535155213407\n",
            "7.50012615324,Unknown,34,Single(1),37.0,2246942437170405963\n",
            "7.7492485093,Unknown,33,Single(1),40.0,6392072535155213407\n",
            "5.99877814902,Unknown,20,Single(1),38.0,1569531340167098963\n",
            "\n",
            "==> train.csv <==\n",
            "6.9996768185,Unknown,32,Single(1),39.0,6637442812569910270\n",
            "6.503636729,Unknown,34,Single(1),35.0,6637442812569910270\n",
            "8.2893810512,Unknown,33,Single(1),41.0,6637442812569910270\n",
            "7.7492485093,Unknown,19,Single(1),40.0,6637442812569910270\n",
            "6.8894456875,Unknown,15,Single(1),40.0,6637442812569910270\n",
            "9.25059651352,Unknown,24,Single(1),39.0,6637442812569910270\n",
            "8.560549633459999,Unknown,26,Single(1),39.0,6637442812569910270\n",
            "8.70385010376,Unknown,30,Single(1),39.0,6637442812569910270\n",
            "6.4992274837599995,Unknown,16,Single(1),40.0,6637442812569910270\n",
            "8.93754010148,Unknown,25,Single(1),40.0,6637442812569910270\n"
          ],
          "name": "stdout"
        }
      ]
    },
    {
      "cell_type": "markdown",
      "metadata": {
        "id": "ZaUYx9wlRjG5",
        "colab_type": "text"
      },
      "source": [
        "Copyright 2017-2018 Google Inc. Licensed under the Apache License, Version 2.0 (the \"License\"); you may not use this file except in compliance with the License. You may obtain a copy of the License at http://www.apache.org/licenses/LICENSE-2.0 Unless required by applicable law or agreed to in writing, software distributed under the License is distributed on an \"AS IS\" BASIS, WITHOUT WARRANTIES OR CONDITIONS OF ANY KIND, either express or implied. See the License for the specific language governing permissions and limitations under the License"
      ]
    }
  ]
}