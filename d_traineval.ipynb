{
  "nbformat": 4,
  "nbformat_minor": 0,
  "metadata": {
    "colab": {
      "name": "d_traineval.ipynb",
      "version": "0.3.2",
      "provenance": [],
      "include_colab_link": true
    },
    "language_info": {
      "codemirror_mode": {
        "name": "ipython",
        "version": 3
      },
      "file_extension": ".py",
      "mimetype": "text/x-python",
      "name": "python",
      "nbconvert_exporter": "python",
      "pygments_lexer": "ipython3",
      "version": "3.5.6"
    },
    "kernelspec": {
      "display_name": "Python 3",
      "language": "python",
      "name": "python3"
    }
  },
  "cells": [
    {
      "cell_type": "markdown",
      "metadata": {
        "id": "view-in-github",
        "colab_type": "text"
      },
      "source": [
        "<a href=\"https://colab.research.google.com/github/rkrissada/google_ml_training/blob/master/d_traineval.ipynb\" target=\"_parent\"><img src=\"https://colab.research.google.com/assets/colab-badge.svg\" alt=\"Open In Colab\"/></a>"
      ]
    },
    {
      "metadata": {
        "id": "zgMpUuuik1o8",
        "colab_type": "text"
      },
      "cell_type": "markdown",
      "source": [
        "<h1> 2d. Distributed training and monitoring </h1>\n",
        "\n",
        "In this notebook, we refactor to call ```train_and_evaluate``` instead of hand-coding our ML pipeline. This allows us to carry out evaluation as part of our training loop instead of as a separate step. It also adds in failure-handling that is necessary for distributed training capabilities.\n",
        "\n",
        "We also use TensorBoard to monitor the training."
      ]
    },
    {
      "metadata": {
        "id": "Hh6rDv1Ok1o9",
        "colab_type": "code",
        "colab": {},
        "outputId": "80b4027a-297d-41b5-db85-7819dc1254a7"
      },
      "cell_type": "code",
      "source": [
        "import datalab.bigquery as bq\n",
        "import tensorflow as tf\n",
        "import numpy as np\n",
        "import shutil\n",
        "from google.datalab.ml import TensorBoard\n",
        "print(tf.__version__)"
      ],
      "execution_count": 0,
      "outputs": [
        {
          "output_type": "stream",
          "text": [
            "/usr/local/envs/py3env/lib/python3.5/site-packages/h5py/__init__.py:36: FutureWarning: Conversion of the second argument of issubdtype from `float` to `np.floating` is deprecated. In future, it will be treated as `np.float64 == np.dtype(float).type`.\n",
            "  from ._conv import register_converters as _register_converters\n"
          ],
          "name": "stderr"
        },
        {
          "output_type": "stream",
          "text": [
            "1.8.0\n"
          ],
          "name": "stdout"
        }
      ]
    },
    {
      "metadata": {
        "id": "zpO_Vy4Bk1pC",
        "colab_type": "text"
      },
      "cell_type": "markdown",
      "source": [
        "<h2> Input </h2>\n",
        "\n",
        "Read data created in Lab1a, but this time make it more general, so that we are reading in batches.  Instead of using Pandas, we will use add a filename queue to the TensorFlow graph."
      ]
    },
    {
      "metadata": {
        "id": "7FaSww2ok1pD",
        "colab_type": "code",
        "colab": {}
      },
      "cell_type": "code",
      "source": [
        "CSV_COLUMNS = ['fare_amount', 'pickuplon','pickuplat','dropofflon','dropofflat','passengers', 'key']\n",
        "LABEL_COLUMN = 'fare_amount'\n",
        "DEFAULTS = [[0.0], [-74.0], [40.0], [-74.0], [40.7], [1.0], ['nokey']]\n",
        "\n",
        "def read_dataset(filename, mode, batch_size = 512):\n",
        "      def decode_csv(value_column):\n",
        "          columns = tf.decode_csv(value_column, record_defaults = DEFAULTS)\n",
        "          features = dict(zip(CSV_COLUMNS, columns))\n",
        "          label = features.pop(LABEL_COLUMN)\n",
        "          # No need to features.pop('key') since it is not specified in the INPUT_COLUMNS.\n",
        "          # The key passes through the graph unused.\n",
        "          return features, label\n",
        "\n",
        "      # Create list of file names that match \"glob\" pattern (i.e. data_file_*.csv)\n",
        "      filenames_dataset = tf.data.Dataset.list_files(filename)\n",
        "      # Read lines from text files\n",
        "      textlines_dataset = filenames_dataset.flat_map(tf.data.TextLineDataset)\n",
        "      # Parse text lines as comma-separated values (CSV)\n",
        "      dataset = textlines_dataset.map(decode_csv)\n",
        "\n",
        "      # Note:\n",
        "      # use tf.data.Dataset.flat_map to apply one to many transformations (here: filename -> text lines)\n",
        "      # use tf.data.Dataset.map      to apply one to one  transformations (here: text line -> feature list)\n",
        "\n",
        "      if mode == tf.estimator.ModeKeys.TRAIN:\n",
        "          num_epochs = None # indefinitely\n",
        "          dataset = dataset.shuffle(buffer_size = 10 * batch_size)\n",
        "      else:\n",
        "          num_epochs = 1 # end-of-input after this\n",
        "\n",
        "      dataset = dataset.repeat(num_epochs).batch(batch_size)\n",
        "      \n",
        "      return dataset"
      ],
      "execution_count": 0,
      "outputs": []
    },
    {
      "metadata": {
        "id": "K-S-bGXJk1pF",
        "colab_type": "text"
      },
      "cell_type": "markdown",
      "source": [
        "<h2> Create features out of input data </h2>\n",
        "\n",
        "For now, pass these through.  (same as previous lab)"
      ]
    },
    {
      "metadata": {
        "id": "x_n2rzV_k1pG",
        "colab_type": "code",
        "colab": {}
      },
      "cell_type": "code",
      "source": [
        "INPUT_COLUMNS = [\n",
        "    tf.feature_column.numeric_column('pickuplon'),\n",
        "    tf.feature_column.numeric_column('pickuplat'),\n",
        "    tf.feature_column.numeric_column('dropofflat'),\n",
        "    tf.feature_column.numeric_column('dropofflon'),\n",
        "    tf.feature_column.numeric_column('passengers'),\n",
        "]\n",
        "\n",
        "def add_more_features(feats):\n",
        "    # Nothing to add (yet!)\n",
        "    return feats\n",
        "\n",
        "feature_cols = add_more_features(INPUT_COLUMNS)"
      ],
      "execution_count": 0,
      "outputs": []
    },
    {
      "metadata": {
        "id": "deeXGctvk1pI",
        "colab_type": "text"
      },
      "cell_type": "markdown",
      "source": [
        "<h2> Serving input function </h2>"
      ]
    },
    {
      "metadata": {
        "id": "wMq7A_eyk1pJ",
        "colab_type": "code",
        "colab": {}
      },
      "cell_type": "code",
      "source": [
        "# Defines the expected shape of the JSON feed that the model\n",
        "# will receive once deployed behind a REST API in production.\n",
        "def serving_input_fn():\n",
        "    json_feature_placeholders = {\n",
        "        'pickuplon' : tf.placeholder(tf.float32, [None]),\n",
        "        'pickuplat' : tf.placeholder(tf.float32, [None]),\n",
        "        'dropofflat' : tf.placeholder(tf.float32, [None]),\n",
        "        'dropofflon' : tf.placeholder(tf.float32, [None]),\n",
        "        'passengers' : tf.placeholder(tf.float32, [None]),\n",
        "    }\n",
        "    # You can transforma data here from the input format to the format expected by your model.\n",
        "    features = json_feature_placeholders # no transformation needed\n",
        "    return tf.estimator.export.ServingInputReceiver(features, json_feature_placeholders)"
      ],
      "execution_count": 0,
      "outputs": []
    },
    {
      "metadata": {
        "id": "j9VrlA6sk1pL",
        "colab_type": "text"
      },
      "cell_type": "markdown",
      "source": [
        "<h2> tf.estimator.train_and_evaluate </h2>"
      ]
    },
    {
      "metadata": {
        "id": "-yGGUKo8k1pM",
        "colab_type": "code",
        "colab": {}
      },
      "cell_type": "code",
      "source": [
        "def train_and_evaluate(output_dir, num_train_steps):\n",
        "    estimator = tf.estimator.LinearRegressor(\n",
        "                       model_dir = output_dir,\n",
        "                       feature_columns = feature_cols)\n",
        "    \n",
        "    train_spec=tf.estimator.TrainSpec(\n",
        "                       input_fn = lambda: read_dataset('./taxi-train.csv', mode = tf.estimator.ModeKeys.TRAIN),\n",
        "                       max_steps = num_train_steps)\n",
        "\n",
        "    exporter = tf.estimator.LatestExporter('exporter', serving_input_fn)\n",
        "\n",
        "    eval_spec=tf.estimator.EvalSpec(\n",
        "                       input_fn = lambda: read_dataset('./taxi-valid.csv', mode = tf.estimator.ModeKeys.EVAL),\n",
        "                       steps = None,\n",
        "                       start_delay_secs = 1, # start evaluating after N seconds\n",
        "                       throttle_secs = 10,  # evaluate every N seconds\n",
        "                       exporters = exporter)\n",
        "    \n",
        "    tf.estimator.train_and_evaluate(estimator, train_spec, eval_spec)"
      ],
      "execution_count": 0,
      "outputs": []
    },
    {
      "metadata": {
        "id": "sDzzEZnZk1pO",
        "colab_type": "text"
      },
      "cell_type": "markdown",
      "source": [
        "<h2> Monitoring with TensorBoard </h2>\n",
        "<br/>\n",
        "Use \"refresh\" in Tensorboard during training to see progress."
      ]
    },
    {
      "metadata": {
        "id": "G5Hc2VwDk1pP",
        "colab_type": "code",
        "colab": {},
        "outputId": "696ad62a-1511-4805-a6fc-4df09256bb83"
      },
      "cell_type": "code",
      "source": [
        "OUTDIR = './taxi_trained'\n",
        "TensorBoard().start(OUTDIR)"
      ],
      "execution_count": 0,
      "outputs": [
        {
          "output_type": "display_data",
          "data": {
            "text/html": [
              "<p>TensorBoard was started successfully with pid 739. Click <a href=\"/_proxy/45815/\" target=\"_blank\">here</a> to access it.</p>"
            ]
          },
          "metadata": {
            "tags": []
          }
        },
        {
          "output_type": "execute_result",
          "data": {
            "text/plain": [
              "739"
            ]
          },
          "metadata": {
            "tags": []
          },
          "execution_count": 8
        }
      ]
    },
    {
      "metadata": {
        "id": "6LPYYAFEk1pS",
        "colab_type": "text"
      },
      "cell_type": "markdown",
      "source": [
        "<h2>Run training</h2>"
      ]
    },
    {
      "metadata": {
        "id": "zPnUJzOOk1pT",
        "colab_type": "code",
        "colab": {},
        "outputId": "5b6f0f33-906c-4ce3-ece6-9fb86b240151"
      },
      "cell_type": "code",
      "source": [
        "# Run training    \n",
        "shutil.rmtree(OUTDIR, ignore_errors = True) # start fresh each time\n",
        "tf.summary.FileWriterCache.clear() # ensure filewriter cache is clear for TensorBoard events file\n",
        "train_and_evaluate(OUTDIR, num_train_steps = 500)"
      ],
      "execution_count": 0,
      "outputs": [
        {
          "output_type": "stream",
          "text": [
            "INFO:tensorflow:Using default config.\n",
            "INFO:tensorflow:Using config: {'_tf_random_seed': None, '_service': None, '_save_checkpoints_steps': None, '_train_distribute': None, '_log_step_count_steps': 100, '_model_dir': './taxi_trained', '_session_config': None, '_num_worker_replicas': 1, '_keep_checkpoint_max': 5, '_save_checkpoints_secs': 600, '_global_id_in_cluster': 0, '_master': '', '_keep_checkpoint_every_n_hours': 10000, '_is_chief': True, '_save_summary_steps': 100, '_num_ps_replicas': 0, '_cluster_spec': <tensorflow.python.training.server_lib.ClusterSpec object at 0x7f976233be80>, '_evaluation_master': '', '_task_id': 0, '_task_type': 'worker'}\n",
            "INFO:tensorflow:Running training and evaluation locally (non-distributed).\n",
            "INFO:tensorflow:Start train and evaluate loop. The evaluate will happen after 10 secs (eval_spec.throttle_secs) or training is finished.\n",
            "INFO:tensorflow:Calling model_fn.\n",
            "INFO:tensorflow:Done calling model_fn.\n",
            "INFO:tensorflow:Create CheckpointSaverHook.\n",
            "INFO:tensorflow:Graph was finalized.\n",
            "INFO:tensorflow:Running local_init_op.\n",
            "INFO:tensorflow:Done running local_init_op.\n",
            "INFO:tensorflow:Saving checkpoints for 1 into ./taxi_trained/model.ckpt.\n",
            "INFO:tensorflow:step = 1, loss = 105526.61\n",
            "INFO:tensorflow:global_step/sec: 37.6808\n",
            "INFO:tensorflow:step = 101, loss = 39781.773 (2.659 sec)\n",
            "INFO:tensorflow:global_step/sec: 36.1755\n",
            "INFO:tensorflow:step = 201, loss = 46360.668 (2.767 sec)\n",
            "INFO:tensorflow:global_step/sec: 39.2441\n",
            "INFO:tensorflow:step = 301, loss = 43935.71 (2.545 sec)\n",
            "INFO:tensorflow:Saving checkpoints for 304 into ./taxi_trained/model.ckpt.\n",
            "INFO:tensorflow:Loss for final step: 43426.56.\n",
            "INFO:tensorflow:Calling model_fn.\n",
            "INFO:tensorflow:Done calling model_fn.\n",
            "INFO:tensorflow:Starting evaluation at 2019-04-29-15:08:23\n",
            "INFO:tensorflow:Graph was finalized.\n",
            "INFO:tensorflow:Restoring parameters from ./taxi_trained/model.ckpt-304\n",
            "INFO:tensorflow:Running local_init_op.\n",
            "INFO:tensorflow:Done running local_init_op.\n",
            "INFO:tensorflow:Finished evaluation at 2019-04-29-15:08:23\n",
            "INFO:tensorflow:Saving dict for global step 304: average_loss = 109.94222, global_step = 304, loss = 45763.45\n",
            "INFO:tensorflow:Calling model_fn.\n",
            "INFO:tensorflow:Done calling model_fn.\n",
            "INFO:tensorflow:Signatures INCLUDED in export for Classify: None\n",
            "INFO:tensorflow:Signatures INCLUDED in export for Predict: ['predict']\n",
            "INFO:tensorflow:Signatures INCLUDED in export for Regress: None\n",
            "INFO:tensorflow:Signatures EXCLUDED from export because they cannot be be served via TensorFlow Serving APIs:\n",
            "INFO:tensorflow:'serving_default' : Regression input must be a single string Tensor; got {'dropofflat': <tf.Tensor 'Placeholder_2:0' shape=(?,) dtype=float32>, 'dropofflon': <tf.Tensor 'Placeholder_3:0' shape=(?,) dtype=float32>, 'passengers': <tf.Tensor 'Placeholder_4:0' shape=(?,) dtype=float32>, 'pickuplon': <tf.Tensor 'Placeholder:0' shape=(?,) dtype=float32>, 'pickuplat': <tf.Tensor 'Placeholder_1:0' shape=(?,) dtype=float32>}\n",
            "INFO:tensorflow:'regression' : Regression input must be a single string Tensor; got {'dropofflat': <tf.Tensor 'Placeholder_2:0' shape=(?,) dtype=float32>, 'dropofflon': <tf.Tensor 'Placeholder_3:0' shape=(?,) dtype=float32>, 'passengers': <tf.Tensor 'Placeholder_4:0' shape=(?,) dtype=float32>, 'pickuplon': <tf.Tensor 'Placeholder:0' shape=(?,) dtype=float32>, 'pickuplat': <tf.Tensor 'Placeholder_1:0' shape=(?,) dtype=float32>}\n",
            "WARNING:tensorflow:Export includes no default signature!\n",
            "INFO:tensorflow:Restoring parameters from ./taxi_trained/model.ckpt-304\n",
            "INFO:tensorflow:Assets added to graph.\n",
            "INFO:tensorflow:No assets to write.\n",
            "INFO:tensorflow:SavedModel written to: b\"./taxi_trained/export/exporter/temp-b'1556550503'/saved_model.pb\"\n",
            "INFO:tensorflow:Calling model_fn.\n",
            "INFO:tensorflow:Done calling model_fn.\n",
            "INFO:tensorflow:Create CheckpointSaverHook.\n",
            "INFO:tensorflow:Graph was finalized.\n",
            "INFO:tensorflow:Restoring parameters from ./taxi_trained/model.ckpt-304\n",
            "INFO:tensorflow:Running local_init_op.\n",
            "INFO:tensorflow:Done running local_init_op.\n",
            "INFO:tensorflow:Saving checkpoints for 305 into ./taxi_trained/model.ckpt.\n",
            "INFO:tensorflow:step = 305, loss = 34583.67\n",
            "INFO:tensorflow:global_step/sec: 38.1219\n",
            "INFO:tensorflow:step = 405, loss = 40304.742 (2.627 sec)\n",
            "INFO:tensorflow:Saving checkpoints for 500 into ./taxi_trained/model.ckpt.\n",
            "INFO:tensorflow:Loss for final step: 43332.508.\n",
            "INFO:tensorflow:Calling model_fn.\n",
            "INFO:tensorflow:Done calling model_fn.\n",
            "INFO:tensorflow:Starting evaluation at 2019-04-29-15:08:30\n",
            "INFO:tensorflow:Graph was finalized.\n",
            "INFO:tensorflow:Restoring parameters from ./taxi_trained/model.ckpt-500\n",
            "INFO:tensorflow:Running local_init_op.\n",
            "INFO:tensorflow:Done running local_init_op.\n",
            "INFO:tensorflow:Finished evaluation at 2019-04-29-15:08:31\n",
            "INFO:tensorflow:Saving dict for global step 500: average_loss = 109.04348, global_step = 500, loss = 45389.348\n",
            "INFO:tensorflow:Calling model_fn.\n",
            "INFO:tensorflow:Done calling model_fn.\n",
            "INFO:tensorflow:Signatures INCLUDED in export for Classify: None\n",
            "INFO:tensorflow:Signatures INCLUDED in export for Predict: ['predict']\n",
            "INFO:tensorflow:Signatures INCLUDED in export for Regress: None\n",
            "INFO:tensorflow:Signatures EXCLUDED from export because they cannot be be served via TensorFlow Serving APIs:\n",
            "INFO:tensorflow:'serving_default' : Regression input must be a single string Tensor; got {'dropofflat': <tf.Tensor 'Placeholder_2:0' shape=(?,) dtype=float32>, 'dropofflon': <tf.Tensor 'Placeholder_3:0' shape=(?,) dtype=float32>, 'passengers': <tf.Tensor 'Placeholder_4:0' shape=(?,) dtype=float32>, 'pickuplon': <tf.Tensor 'Placeholder:0' shape=(?,) dtype=float32>, 'pickuplat': <tf.Tensor 'Placeholder_1:0' shape=(?,) dtype=float32>}\n",
            "INFO:tensorflow:'regression' : Regression input must be a single string Tensor; got {'dropofflat': <tf.Tensor 'Placeholder_2:0' shape=(?,) dtype=float32>, 'dropofflon': <tf.Tensor 'Placeholder_3:0' shape=(?,) dtype=float32>, 'passengers': <tf.Tensor 'Placeholder_4:0' shape=(?,) dtype=float32>, 'pickuplon': <tf.Tensor 'Placeholder:0' shape=(?,) dtype=float32>, 'pickuplat': <tf.Tensor 'Placeholder_1:0' shape=(?,) dtype=float32>}\n",
            "WARNING:tensorflow:Export includes no default signature!\n",
            "INFO:tensorflow:Restoring parameters from ./taxi_trained/model.ckpt-500\n",
            "INFO:tensorflow:Assets added to graph.\n",
            "INFO:tensorflow:No assets to write.\n",
            "INFO:tensorflow:SavedModel written to: b\"./taxi_trained/export/exporter/temp-b'1556550511'/saved_model.pb\"\n"
          ],
          "name": "stdout"
        }
      ]
    },
    {
      "metadata": {
        "id": "c5_4VchUk1pV",
        "colab_type": "text"
      },
      "cell_type": "markdown",
      "source": [
        "<h4> You can now shut Tensorboard down </h4>"
      ]
    },
    {
      "metadata": {
        "id": "vjgZHYp_k1pW",
        "colab_type": "code",
        "colab": {},
        "outputId": "87eae478-0a22-4145-f64a-8aea3f66eb61"
      },
      "cell_type": "code",
      "source": [
        "# to list Tensorboard instances\n",
        "TensorBoard().list()"
      ],
      "execution_count": 0,
      "outputs": [
        {
          "output_type": "execute_result",
          "data": {
            "text/html": [
              "<div>\n",
              "<style scoped>\n",
              "    .dataframe tbody tr th:only-of-type {\n",
              "        vertical-align: middle;\n",
              "    }\n",
              "\n",
              "    .dataframe tbody tr th {\n",
              "        vertical-align: top;\n",
              "    }\n",
              "\n",
              "    .dataframe thead th {\n",
              "        text-align: right;\n",
              "    }\n",
              "</style>\n",
              "<table border=\"1\" class=\"dataframe\">\n",
              "  <thead>\n",
              "    <tr style=\"text-align: right;\">\n",
              "      <th></th>\n",
              "      <th>logdir</th>\n",
              "      <th>pid</th>\n",
              "      <th>port</th>\n",
              "    </tr>\n",
              "  </thead>\n",
              "  <tbody>\n",
              "    <tr>\n",
              "      <th>0</th>\n",
              "      <td>./taxi_trained</td>\n",
              "      <td>203</td>\n",
              "      <td>40607</td>\n",
              "    </tr>\n",
              "    <tr>\n",
              "      <th>1</th>\n",
              "      <td>./taxi_trained</td>\n",
              "      <td>739</td>\n",
              "      <td>45815</td>\n",
              "    </tr>\n",
              "  </tbody>\n",
              "</table>\n",
              "</div>"
            ],
            "text/plain": [
              "           logdir  pid   port\n",
              "0  ./taxi_trained  203  40607\n",
              "1  ./taxi_trained  739  45815"
            ]
          },
          "metadata": {
            "tags": []
          },
          "execution_count": 9
        }
      ]
    },
    {
      "metadata": {
        "id": "DFji2C3dk1pZ",
        "colab_type": "code",
        "colab": {},
        "outputId": "d235bc4c-a7e8-4f57-9f17-00e179357af8"
      },
      "cell_type": "code",
      "source": [
        "pids_df = TensorBoard.list()\n",
        "if not pids_df.empty:\n",
        "    for pid in pids_df['pid']:\n",
        "        TensorBoard().stop(pid)\n",
        "        print('Stopped TensorBoard with pid {}'.format(pid))"
      ],
      "execution_count": 0,
      "outputs": [
        {
          "output_type": "stream",
          "text": [
            "Stopped TensorBoard with pid 203\n",
            "Stopped TensorBoard with pid 739\n"
          ],
          "name": "stdout"
        }
      ]
    },
    {
      "metadata": {
        "id": "5dssi6SYk1pb",
        "colab_type": "text"
      },
      "cell_type": "markdown",
      "source": [
        "## Challenge Exercise\n",
        "\n",
        "Modify your solution to the challenge exercise in c_dataset.ipynb appropriately."
      ]
    },
    {
      "metadata": {
        "id": "B6BASMSQk1pc",
        "colab_type": "text"
      },
      "cell_type": "markdown",
      "source": [
        "Copyright 2017 Google Inc. Licensed under the Apache License, Version 2.0 (the \"License\"); you may not use this file except in compliance with the License. You may obtain a copy of the License at http://www.apache.org/licenses/LICENSE-2.0 Unless required by applicable law or agreed to in writing, software distributed under the License is distributed on an \"AS IS\" BASIS, WITHOUT WARRANTIES OR CONDITIONS OF ANY KIND, either express or implied. See the License for the specific language governing permissions and limitations under the License"
      ]
    }
  ]
}