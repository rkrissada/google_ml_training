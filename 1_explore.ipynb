{
  "nbformat": 4,
  "nbformat_minor": 0,
  "metadata": {
    "colab": {
      "name": "1_explore.ipynb",
      "version": "0.3.2",
      "provenance": [],
      "include_colab_link": true
    },
    "language_info": {
      "codemirror_mode": {
        "name": "ipython",
        "version": 3
      },
      "file_extension": ".py",
      "mimetype": "text/x-python",
      "name": "python",
      "nbconvert_exporter": "python",
      "pygments_lexer": "ipython3",
      "version": "3.5.6"
    },
    "kernelspec": {
      "display_name": "Python 3",
      "language": "python",
      "name": "python3"
    }
  },
  "cells": [
    {
      "cell_type": "markdown",
      "metadata": {
        "id": "view-in-github",
        "colab_type": "text"
      },
      "source": [
        "<a href=\"https://colab.research.google.com/github/rkrissada/google_ml_training/blob/master/1_explore.ipynb\" target=\"_parent\"><img src=\"https://colab.research.google.com/assets/colab-badge.svg\" alt=\"Open In Colab\"/></a>"
      ]
    },
    {
      "cell_type": "markdown",
      "metadata": {
        "id": "EZRZT6TTROkP",
        "colab_type": "text"
      },
      "source": [
        "<h1> 1. Exploring natality dataset </h1>\n",
        "\n",
        "This notebook illustrates:\n",
        "<ol>\n",
        "<li> Exploring a BigQuery dataset using Datalab\n",
        "</ol>"
      ]
    },
    {
      "cell_type": "code",
      "metadata": {
        "id": "Lkf6b_brROkR",
        "colab_type": "code",
        "colab": {}
      },
      "source": [
        "# change these to try this notebook out\n",
        "BUCKET = 'qwiklabs-gcp-970292b0fff857ee'   # CHANGE this to a globally unique value. Your project name is a good option to try.\n",
        "PROJECT = 'qwiklabs-gcp-970292b0fff857ee'     # CHANGE this to your project name\n",
        "REGION = 'us-central1'               # CHANGE this to one of the regions supported by Cloud ML Engine https://cloud.google.com/ml-engine/docs/tensorflow/regions"
      ],
      "execution_count": 0,
      "outputs": []
    },
    {
      "cell_type": "code",
      "metadata": {
        "id": "He57-PDTROkU",
        "colab_type": "code",
        "colab": {}
      },
      "source": [
        "import os\n",
        "os.environ['BUCKET'] = BUCKET\n",
        "os.environ['PROJECT'] = PROJECT\n",
        "os.environ['REGION'] = REGION"
      ],
      "execution_count": 0,
      "outputs": []
    },
    {
      "cell_type": "code",
      "metadata": {
        "id": "HdDD9Lu-ROkX",
        "colab_type": "code",
        "colab": {}
      },
      "source": [
        "%%bash\n",
        "if ! gsutil ls | grep -q gs://${BUCKET}/; then\n",
        "  gsutil mb -l ${REGION} gs://${BUCKET}\n",
        "fi"
      ],
      "execution_count": 0,
      "outputs": []
    },
    {
      "cell_type": "markdown",
      "metadata": {
        "id": "J040KKP_ROkZ",
        "colab_type": "text"
      },
      "source": [
        "<h2> Explore data </h2>\n",
        "\n",
        "The data is natality data (record of births in the US). My goal is to predict the baby's weight given a number of factors about the pregnancy and the baby's mother.  Later, we will want to split the data into training and eval datasets. The hash of the year-month will be used for that -- this way, twins born on the same day won't end up in different cuts of the data."
      ]
    },
    {
      "cell_type": "code",
      "metadata": {
        "id": "H66h-ME1ROka",
        "colab_type": "code",
        "colab": {}
      },
      "source": [
        "# Create SQL query using natality data after the year 2000\n",
        "query = \"\"\"\n",
        "SELECT\n",
        "  weight_pounds,\n",
        "  is_male,\n",
        "  mother_age,\n",
        "  plurality,\n",
        "  gestation_weeks,\n",
        "  ABS(FARM_FINGERPRINT(CONCAT(CAST(YEAR AS STRING), CAST(month AS STRING)))) AS hashmonth\n",
        "FROM\n",
        "  publicdata.samples.natality\n",
        "WHERE year > 2000\n",
        "\"\"\""
      ],
      "execution_count": 0,
      "outputs": []
    },
    {
      "cell_type": "code",
      "metadata": {
        "id": "rrFrcwBbROkd",
        "colab_type": "code",
        "colab": {},
        "outputId": "a55b2c2f-eb37-4a95-cb25-8148924a8a7b"
      },
      "source": [
        "# Call BigQuery and examine in dataframe\n",
        "import google.datalab.bigquery as bq\n",
        "df = bq.Query(query + \" LIMIT 100\").execute().result().to_dataframe()\n",
        "df.head()"
      ],
      "execution_count": 0,
      "outputs": [
        {
          "output_type": "execute_result",
          "data": {
            "text/html": [
              "<div>\n",
              "<style scoped>\n",
              "    .dataframe tbody tr th:only-of-type {\n",
              "        vertical-align: middle;\n",
              "    }\n",
              "\n",
              "    .dataframe tbody tr th {\n",
              "        vertical-align: top;\n",
              "    }\n",
              "\n",
              "    .dataframe thead th {\n",
              "        text-align: right;\n",
              "    }\n",
              "</style>\n",
              "<table border=\"1\" class=\"dataframe\">\n",
              "  <thead>\n",
              "    <tr style=\"text-align: right;\">\n",
              "      <th></th>\n",
              "      <th>weight_pounds</th>\n",
              "      <th>is_male</th>\n",
              "      <th>mother_age</th>\n",
              "      <th>plurality</th>\n",
              "      <th>gestation_weeks</th>\n",
              "      <th>hashmonth</th>\n",
              "    </tr>\n",
              "  </thead>\n",
              "  <tbody>\n",
              "    <tr>\n",
              "      <th>0</th>\n",
              "      <td>8.818490</td>\n",
              "      <td>False</td>\n",
              "      <td>17</td>\n",
              "      <td>1</td>\n",
              "      <td>42</td>\n",
              "      <td>1403073183891835564</td>\n",
              "    </tr>\n",
              "    <tr>\n",
              "      <th>1</th>\n",
              "      <td>8.141671</td>\n",
              "      <td>False</td>\n",
              "      <td>29</td>\n",
              "      <td>1</td>\n",
              "      <td>38</td>\n",
              "      <td>8904940584331855459</td>\n",
              "    </tr>\n",
              "    <tr>\n",
              "      <th>2</th>\n",
              "      <td>5.948072</td>\n",
              "      <td>True</td>\n",
              "      <td>38</td>\n",
              "      <td>1</td>\n",
              "      <td>38</td>\n",
              "      <td>7108882242435606404</td>\n",
              "    </tr>\n",
              "    <tr>\n",
              "      <th>3</th>\n",
              "      <td>8.838332</td>\n",
              "      <td>True</td>\n",
              "      <td>27</td>\n",
              "      <td>1</td>\n",
              "      <td>39</td>\n",
              "      <td>3408502330831153141</td>\n",
              "    </tr>\n",
              "    <tr>\n",
              "      <th>4</th>\n",
              "      <td>9.259415</td>\n",
              "      <td>True</td>\n",
              "      <td>28</td>\n",
              "      <td>1</td>\n",
              "      <td>38</td>\n",
              "      <td>1088037545023002395</td>\n",
              "    </tr>\n",
              "  </tbody>\n",
              "</table>\n",
              "</div>"
            ],
            "text/plain": [
              "   weight_pounds  is_male  mother_age  plurality  gestation_weeks  \\\n",
              "0       8.818490    False          17          1               42   \n",
              "1       8.141671    False          29          1               38   \n",
              "2       5.948072     True          38          1               38   \n",
              "3       8.838332     True          27          1               39   \n",
              "4       9.259415     True          28          1               38   \n",
              "\n",
              "             hashmonth  \n",
              "0  1403073183891835564  \n",
              "1  8904940584331855459  \n",
              "2  7108882242435606404  \n",
              "3  3408502330831153141  \n",
              "4  1088037545023002395  "
            ]
          },
          "metadata": {
            "tags": []
          },
          "execution_count": 5
        }
      ]
    },
    {
      "cell_type": "markdown",
      "metadata": {
        "id": "F43IPJhxROkj",
        "colab_type": "text"
      },
      "source": [
        "## Lab Task #1\n",
        "Using the above code as an example, write a query to find the unique values for each of the columns and the count of those values for babies born after the year 2000.\n",
        "For example, we want to get these values:\n",
        "<pre>\n",
        "is_male\tnum_babies\tavg_wt\n",
        "False\t16245054\t7.104715\n",
        " True\t17026860\t7.349797\n",
        "</pre>\n",
        "This is important to ensure that we have enough examples of each data value, and to verify our hunch that the parameter has predictive value.\n",
        "\n",
        "Hint (highlight to see): <p style='color:white'>Use COUNT(), AVG() and GROUP BY. For example:\n",
        "<pre style='color:white'>\n",
        "SELECT\n",
        "  is_male,\n",
        "  COUNT(1) AS num_babies,\n",
        "  AVG(weight_pounds) AS avg_wt\n",
        "FROM\n",
        "  publicdata.samples.natality\n",
        "WHERE\n",
        "  year > 2000\n",
        "GROUP BY\n",
        "  is_male\n",
        "</pre>\n",
        "</p>"
      ]
    },
    {
      "cell_type": "code",
      "metadata": {
        "id": "n9H-8srIROkk",
        "colab_type": "code",
        "colab": {}
      },
      "source": [
        "query = \"\"\"\n",
        "SELECT\n",
        "  is_male,\n",
        "  COUNT(1) AS num_babies,\n",
        "  AVG(weight_pounds) AS avg_wt\n",
        "FROM\n",
        "  publicdata.samples.natality\n",
        "WHERE\n",
        "  year > 2000\n",
        "GROUP BY\n",
        "  is_male\n",
        "\"\"\""
      ],
      "execution_count": 0,
      "outputs": []
    },
    {
      "cell_type": "code",
      "metadata": {
        "id": "rsSnF6u1ROkn",
        "colab_type": "code",
        "colab": {}
      },
      "source": [
        "df = bq.Query(query + \" LIMIT 100\").execute().result().to_dataframe()"
      ],
      "execution_count": 0,
      "outputs": []
    },
    {
      "cell_type": "code",
      "metadata": {
        "id": "tplFqQTwROkp",
        "colab_type": "code",
        "colab": {},
        "outputId": "622fb4c7-0314-4ae0-b77e-735eafa109d7"
      },
      "source": [
        "df.head()"
      ],
      "execution_count": 0,
      "outputs": [
        {
          "output_type": "execute_result",
          "data": {
            "text/html": [
              "<div>\n",
              "<style scoped>\n",
              "    .dataframe tbody tr th:only-of-type {\n",
              "        vertical-align: middle;\n",
              "    }\n",
              "\n",
              "    .dataframe tbody tr th {\n",
              "        vertical-align: top;\n",
              "    }\n",
              "\n",
              "    .dataframe thead th {\n",
              "        text-align: right;\n",
              "    }\n",
              "</style>\n",
              "<table border=\"1\" class=\"dataframe\">\n",
              "  <thead>\n",
              "    <tr style=\"text-align: right;\">\n",
              "      <th></th>\n",
              "      <th>is_male</th>\n",
              "      <th>num_babies</th>\n",
              "      <th>avg_wt</th>\n",
              "    </tr>\n",
              "  </thead>\n",
              "  <tbody>\n",
              "    <tr>\n",
              "      <th>0</th>\n",
              "      <td>False</td>\n",
              "      <td>16245054</td>\n",
              "      <td>7.104715</td>\n",
              "    </tr>\n",
              "    <tr>\n",
              "      <th>1</th>\n",
              "      <td>True</td>\n",
              "      <td>17026860</td>\n",
              "      <td>7.349797</td>\n",
              "    </tr>\n",
              "  </tbody>\n",
              "</table>\n",
              "</div>"
            ],
            "text/plain": [
              "   is_male  num_babies    avg_wt\n",
              "0    False    16245054  7.104715\n",
              "1     True    17026860  7.349797"
            ]
          },
          "metadata": {
            "tags": []
          },
          "execution_count": 13
        }
      ]
    },
    {
      "cell_type": "markdown",
      "metadata": {
        "id": "N99KLcMRROks",
        "colab_type": "text"
      },
      "source": [
        "## Lab Task #2\n",
        "\n",
        "Which factors seem to play a part in the baby's weight?\n",
        "\n",
        "<b>Bonus:</b> Draw graphs to illustrate your conclusions\n",
        "\n",
        "Hint (highlight to see): <p style='color:white'> The simplest way to plot is to use Pandas' built-in plotting capability\n",
        "<pre style='color:white'>\n",
        "import google.datalab.bigquery as bq\n",
        "df = bq.Query(query).execute().result().to_dataframe()\n",
        "df.plot(x='is_male', y='num_babies', logy=True, kind='bar');\n",
        "df.plot(x='is_male', y='avg_wt', kind='bar');\n",
        "</pre>"
      ]
    },
    {
      "cell_type": "code",
      "metadata": {
        "id": "NjpKcrY0ROkt",
        "colab_type": "code",
        "colab": {},
        "outputId": "508e3e2e-da1d-4394-82eb-818b3e5490ac"
      },
      "source": [
        "df.plot(x='is_male', y='num_babies', logy=True, kind='bar');"
      ],
      "execution_count": 0,
      "outputs": [
        {
          "output_type": "stream",
          "text": [
            "/usr/local/envs/py3env/lib/python3.5/site-packages/matplotlib/font_manager.py:1320: UserWarning: findfont: Font family ['sans-serif'] not found. Falling back to DejaVu Sans\n",
            "  (prop.get_family(), self.defaultFamily[fontext]))\n"
          ],
          "name": "stderr"
        },
        {
          "output_type": "display_data",
          "data": {
            "image/png": "[encoded data removed]",
            "text/plain": [
              "<matplotlib.figure.Figure at 0x7f47fd110400>"
            ]
          },
          "metadata": {
            "tags": []
          }
        }
      ]
    },
    {
      "cell_type": "code",
      "metadata": {
        "id": "jCrdfaEuROkx",
        "colab_type": "code",
        "colab": {},
        "outputId": "caed9f65-e882-4c55-b938-9fc94c468a66"
      },
      "source": [
        "df.plot(x='is_male', y='avg_wt', kind='bar');"
      ],
      "execution_count": 0,
      "outputs": [
        {
          "output_type": "stream",
          "text": [
            "/usr/local/envs/py3env/lib/python3.5/site-packages/matplotlib/font_manager.py:1320: UserWarning: findfont: Font family ['sans-serif'] not found. Falling back to DejaVu Sans\n",
            "  (prop.get_family(), self.defaultFamily[fontext]))\n"
          ],
          "name": "stderr"
        },
        {
          "output_type": "display_data",
          "data": {
            "image/png": "[encoded data removed]",
            "text/plain": [
              "<matplotlib.figure.Figure at 0x7f47fd1042b0>"
            ]
          },
          "metadata": {
            "tags": []
          }
        }
      ]
    },
    {
      "cell_type": "markdown",
      "metadata": {
        "id": "Q7l9Q9DXROk0",
        "colab_type": "text"
      },
      "source": [
        "Copyright 2017-2018 Google Inc. Licensed under the Apache License, Version 2.0 (the \"License\"); you may not use this file except in compliance with the License. You may obtain a copy of the License at http://www.apache.org/licenses/LICENSE-2.0 Unless required by applicable law or agreed to in writing, software distributed under the License is distributed on an \"AS IS\" BASIS, WITHOUT WARRANTIES OR CONDITIONS OF ANY KIND, either express or implied. See the License for the specific language governing permissions and limitations under the License"
      ]
    }
  ]
}