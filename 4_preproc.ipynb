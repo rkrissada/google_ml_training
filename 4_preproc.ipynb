{
  "nbformat": 4,
  "nbformat_minor": 0,
  "metadata": {
    "colab": {
      "name": "4_preproc.ipynb",
      "version": "0.3.2",
      "provenance": [],
      "include_colab_link": true
    },
    "language_info": {
      "codemirror_mode": {
        "name": "ipython",
        "version": 2
      },
      "file_extension": ".py",
      "mimetype": "text/x-python",
      "name": "python",
      "nbconvert_exporter": "python",
      "pygments_lexer": "ipython2",
      "version": "2.7.15"
    },
    "kernelspec": {
      "display_name": "Python 2",
      "language": "python",
      "name": "python2"
    }
  },
  "cells": [
    {
      "cell_type": "markdown",
      "metadata": {
        "id": "view-in-github",
        "colab_type": "text"
      },
      "source": [
        "<a href=\"https://colab.research.google.com/github/rkrissada/google_ml_training/blob/master/4_preproc.ipynb\" target=\"_parent\"><img src=\"https://colab.research.google.com/assets/colab-badge.svg\" alt=\"Open In Colab\"/></a>"
      ]
    },
    {
      "cell_type": "markdown",
      "metadata": {
        "id": "Cwgx21iySJcC",
        "colab_type": "text"
      },
      "source": [
        "<h1> Preprocessing using Dataflow </h1>\n",
        "\n",
        "This notebook illustrates:\n",
        "<ol>\n",
        "<li> Creating datasets for Machine Learning using Dataflow\n",
        "</ol>\n",
        "<p>\n",
        "While Pandas is fine for experimenting, for operationalization of your workflow, it is better to do preprocessing in Apache Beam. This will also help if you need to preprocess data in flight, since Apache Beam also allows for streaming."
      ]
    },
    {
      "cell_type": "markdown",
      "metadata": {
        "id": "8kGTT9D8SJcD",
        "colab_type": "text"
      },
      "source": [
        "Apache Beam only works in Python 2 at the moment, so we're going to switch to the Python 2 kernel. In the above menu, click the dropdown arrow and select `python2`. ![image.png](attachment:image.png)"
      ]
    },
    {
      "cell_type": "markdown",
      "metadata": {
        "id": "F0uOFcdXSJcE",
        "colab_type": "text"
      },
      "source": [
        "Then activate a Python 2 environment and install Apache Beam."
      ]
    },
    {
      "cell_type": "code",
      "metadata": {
        "id": "BV0RfvbTSJcE",
        "colab_type": "code",
        "colab": {},
        "outputId": "aa403a51-5169-45f4-fcef-c645f031f5e5"
      },
      "source": [
        "%%bash\n",
        "conda update -y -n base -c defaults conda\n",
        "source activate py2env\n",
        "pip uninstall -y google-cloud-dataflow\n",
        "conda install -y pytz\n",
        "pip install apache-beam[gcp]==2.9.0"
      ],
      "execution_count": 0,
      "outputs": [
        {
          "output_type": "stream",
          "text": [
            "Solving environment: ...working... done\n",
            "\n",
            "## Package Plan ##\n",
            "\n",
            "  environment location: /usr/local\n",
            "\n",
            "  added / updated specs: \n",
            "    - conda\n",
            "\n",
            "\n",
            "The following packages will be downloaded:\n",
            "\n",
            "    package                    |            build\n",
            "    ---------------------------|-----------------\n",
            "    certifi-2019.3.9           |           py27_0         155 KB  defaults\n",
            "    ca-certificates-2019.1.23  |                0         126 KB  defaults\n",
            "    openssl-1.1.1b             |       h7b6447c_1         4.0 MB  defaults\n",
            "    conda-4.6.14               |           py27_0         2.1 MB  defaults\n",
            "    ------------------------------------------------------------\n",
            "                                           Total:         6.3 MB\n",
            "\n",
            "The following packages will be UPDATED:\n",
            "\n",
            "    ca-certificates: 2018.03.07-0      defaults --> 2019.1.23-0       defaults\n",
            "    certifi:         2018.11.29-py27_0 defaults --> 2019.3.9-py27_0   defaults\n",
            "    conda:           4.5.12-py27_0     defaults --> 4.6.14-py27_0     defaults\n",
            "    openssl:         1.1.1a-h7b6447c_0 defaults --> 1.1.1b-h7b6447c_1 defaults\n",
            "\n",
            "\n",
            "Downloading and Extracting Packages\n",
            "Preparing transaction: ...working... done\n",
            "Verifying transaction: ...working... done\n",
            "Executing transaction: ...working... done\n",
            "Uninstalling google-cloud-dataflow-2.0.0:\n",
            "  Successfully uninstalled google-cloud-dataflow-2.0.0\n",
            "Collecting package metadata: ...working... done\n",
            "Solving environment: ...working... done\n",
            "\n",
            "## Package Plan ##\n",
            "\n",
            "  environment location: /usr/local/envs/py2env\n",
            "\n",
            "  added / updated specs:\n",
            "    - pytz\n",
            "\n",
            "\n",
            "The following packages will be downloaded:\n",
            "\n",
            "    package                    |            build\n",
            "    ---------------------------|-----------------\n",
            "    openssl-1.0.2r             |       h7b6447c_0         3.2 MB  defaults\n",
            "    pytz-2019.1                |             py_0         236 KB  defaults\n",
            "    ------------------------------------------------------------\n",
            "                                           Total:         3.4 MB\n",
            "\n",
            "The following packages will be UPDATED:\n",
            "\n",
            "  ca-certificates                              2018.03.07-0 --> 2019.1.23-0\n",
            "  certifi                                 2018.11.29-py27_0 --> 2019.3.9-py27_0\n",
            "  openssl                                 1.0.2p-h14c3975_0 --> 1.0.2r-h7b6447c_0\n",
            "  pytz               pkgs/main/linux-64::pytz-2018.4-py27_0 --> pkgs/main/noarch::pytz-2019.1-py_0\n",
            "\n",
            "\n",
            "\n",
            "Downloading and Extracting Packages\n",
            "\ropenssl-1.0.2r       | 3.2 MB    |            |   0% \ropenssl-1.0.2r       | 3.2 MB    | #######6   |  76% \ropenssl-1.0.2r       | 3.2 MB    | #########4 |  94% \ropenssl-1.0.2r       | 3.2 MB    | ########## | 100% \n",
            "\rpytz-2019.1          | 236 KB    |            |   0% \rpytz-2019.1          | 236 KB    | #########5 |  95% \rpytz-2019.1          | 236 KB    | ########## | 100% \n",
            "Preparing transaction: ...working... done\n",
            "Verifying transaction: ...working... done\n",
            "Executing transaction: ...working... done\n",
            "Collecting apache-beam[gcp]==2.9.0\n",
            "  Downloading https://files.pythonhosted.org/packages/d4/3d/90aa15779e884feebae4b0c26cad6f52cd4040397a94deb58dad9c8b7300/apache_beam-2.9.0-cp27-cp27mu-manylinux1_x86_64.whl (2.4MB)\n",
            "Requirement already satisfied: dill<=0.2.8.2,>=0.2.6 in /usr/local/envs/py2env/lib/python2.7/site-packages (from apache-beam[gcp]==2.9.0) (0.2.6)\n",
            "Collecting pydot<1.3,>=1.2.0 (from apache-beam[gcp]==2.9.0)\n",
            "  Downloading https://files.pythonhosted.org/packages/c3/f1/e61d6dfe6c1768ed2529761a68f70939e2569da043e9f15a8d84bf56cadf/pydot-1.2.4.tar.gz (132kB)\n",
            "Collecting httplib2<=0.11.3,>=0.8 (from apache-beam[gcp]==2.9.0)\n",
            "  Downloading https://files.pythonhosted.org/packages/fd/ce/aa4a385e3e9fd351737fd2b07edaa56e7a730448465aceda6b35086a0d9b/httplib2-0.11.3.tar.gz (215kB)\n",
            "Requirement already satisfied: pyyaml<4.0.0,>=3.12 in /usr/local/envs/py2env/lib/python2.7/site-packages (from apache-beam[gcp]==2.9.0) (3.13)\n",
            "Collecting typing<3.7.0,>=3.6.0; python_version < \"3.5.0\" (from apache-beam[gcp]==2.9.0)\n",
            "  Downloading https://files.pythonhosted.org/packages/cc/3e/29f92b7aeda5b078c86d14f550bf85cff809042e3429ace7af6193c3bc9f/typing-3.6.6-py2-none-any.whl\n",
            "Requirement already satisfied: mock<3.0.0,>=1.0.1 in /usr/local/envs/py2env/lib/python2.7/site-packages (from apache-beam[gcp]==2.9.0) (2.0.0)\n",
            "Requirement already satisfied: oauth2client<4,>=2.0.1 in /usr/local/envs/py2env/lib/python2.7/site-packages (from apache-beam[gcp]==2.9.0) (2.2.0)\n",
            "Requirement already satisfied: future<1.0.0,>=0.16.0 in /usr/local/envs/py2env/lib/python2.7/site-packages (from apache-beam[gcp]==2.9.0) (0.16.0)\n",
            "Requirement already satisfied: avro<2.0.0,>=1.8.1 in /usr/local/envs/py2env/lib/python2.7/site-packages (from apache-beam[gcp]==2.9.0) (1.8.2)\n",
            "Requirement already satisfied: crcmod<2.0,>=1.7 in /usr/local/envs/py2env/lib/python2.7/site-packages (from apache-beam[gcp]==2.9.0) (1.7)\n",
            "Collecting fastavro<0.22,>=0.21.4 (from apache-beam[gcp]==2.9.0)\n",
            "  Downloading https://files.pythonhosted.org/packages/e0/f2/d2e43dad688eb84db96c191905ee0a142a96ed969b33e90ddc861c2f4bb9/fastavro-0.21.22-cp27-cp27mu-manylinux1_x86_64.whl (1.0MB)\n",
            "Requirement already satisfied: futures<4.0.0,>=3.1.1 in /usr/local/envs/py2env/lib/python2.7/site-packages (from apache-beam[gcp]==2.9.0) (3.2.0)\n",
            "Requirement already satisfied: grpcio<2,>=1.8 in /usr/local/envs/py2env/lib/python2.7/site-packages (from apache-beam[gcp]==2.9.0) (1.17.1)\n",
            "Collecting pyvcf<0.7.0,>=0.6.8 (from apache-beam[gcp]==2.9.0)\n",
            "  Downloading https://files.pythonhosted.org/packages/20/b6/36bfb1760f6983788d916096193fc14c83cce512c7787c93380e09458c09/PyVCF-0.6.8.tar.gz\n",
            "Requirement already satisfied: protobuf<4,>=3.5.0.post1 in /usr/local/envs/py2env/lib/python2.7/site-packages (from apache-beam[gcp]==2.9.0) (3.6.1)\n",
            "Collecting hdfs<3.0.0,>=2.1.0 (from apache-beam[gcp]==2.9.0)\n",
            "  Downloading https://files.pythonhosted.org/packages/38/72/59b384a9fa98ff6060ce2f186ea2e3d7a0491cc784d99d1637e0d1803df2/hdfs-2.5.2.tar.gz\n",
            "Collecting pytz<=2018.4,>=2018.3 (from apache-beam[gcp]==2.9.0)\n",
            "  Downloading https://files.pythonhosted.org/packages/dc/83/15f7833b70d3e067ca91467ca245bae0f6fe56ddc7451aa0dc5606b120f2/pytz-2018.4-py2.py3-none-any.whl (510kB)\n",
            "Collecting google-cloud-pubsub==0.35.4; extra == \"gcp\" (from apache-beam[gcp]==2.9.0)\n",
            "  Downloading https://files.pythonhosted.org/packages/66/f9/bfa284399fb59a8896e0c4164b46185f61f35a90a18c67b366406ad472a6/google_cloud_pubsub-0.35.4-py2.py3-none-any.whl (93kB)\n",
            "Requirement already satisfied: proto-google-cloud-datastore-v1<=0.90.4,>=0.90.0; extra == \"gcp\" in /usr/local/envs/py2env/lib/python2.7/site-packages (from apache-beam[gcp]==2.9.0) (0.90.0)\n",
            "Collecting google-apitools<=0.5.24,>=0.5.23; extra == \"gcp\" (from apache-beam[gcp]==2.9.0)\n",
            "  Downloading https://files.pythonhosted.org/packages/b2/26/abea123a1b5a2b0c1b49c0d8a2e030725f32ae0932d026f2c7a6ee32c8d3/google_apitools-0.5.24-py2-none-any.whl (129kB)\n",
            "Collecting google-cloud-bigquery<1.7.0,>=1.6.0; extra == \"gcp\" (from apache-beam[gcp]==2.9.0)\n",
            "  Downloading https://files.pythonhosted.org/packages/b7/1b/2b95f2fefddbbece38110712c225bfb5649206f4056445653bd5ca4dc86d/google_cloud_bigquery-1.6.1-py2.py3-none-any.whl (83kB)\n",
            "Requirement already satisfied: googledatastore<7.1,>=7.0.1; python_version < \"3.0\" and extra == \"gcp\" in /usr/local/envs/py2env/lib/python2.7/site-packages (from apache-beam[gcp]==2.9.0) (7.0.1)\n",
            "Requirement already satisfied: pyparsing>=2.1.4 in /usr/local/envs/py2env/lib/python2.7/site-packages (from pydot<1.3,>=1.2.0->apache-beam[gcp]==2.9.0) (2.3.0)\n",
            "Requirement already satisfied: funcsigs>=1 in /usr/local/envs/py2env/lib/python2.7/site-packages (from mock<3.0.0,>=1.0.1->apache-beam[gcp]==2.9.0) (1.0.0)\n",
            "Requirement already satisfied: pbr>=0.11 in /usr/local/envs/py2env/lib/python2.7/site-packages (from mock<3.0.0,>=1.0.1->apache-beam[gcp]==2.9.0) (5.1.1)\n",
            "Requirement already satisfied: six>=1.9 in /usr/local/envs/py2env/lib/python2.7/site-packages (from mock<3.0.0,>=1.0.1->apache-beam[gcp]==2.9.0) (1.10.0)\n",
            "Requirement already satisfied: pyasn1>=0.1.7 in /usr/local/envs/py2env/lib/python2.7/site-packages (from oauth2client<4,>=2.0.1->apache-beam[gcp]==2.9.0) (0.4.4)\n",
            "Requirement already satisfied: pyasn1-modules>=0.0.5 in /usr/local/envs/py2env/lib/python2.7/site-packages (from oauth2client<4,>=2.0.1->apache-beam[gcp]==2.9.0) (0.2.2)\n",
            "Requirement already satisfied: rsa>=3.1.4 in /usr/local/envs/py2env/lib/python2.7/site-packages (from oauth2client<4,>=2.0.1->apache-beam[gcp]==2.9.0) (3.4.2)\n",
            "Requirement already satisfied: enum34>=1.0.4 in /usr/local/envs/py2env/lib/python2.7/site-packages (from grpcio<2,>=1.8->apache-beam[gcp]==2.9.0) (1.1.6)\n",
            "Requirement already satisfied: setuptools in /usr/local/envs/py2env/lib/python2.7/site-packages (from pyvcf<0.7.0,>=0.6.8->apache-beam[gcp]==2.9.0) (40.6.3)\n",
            "Collecting docopt (from hdfs<3.0.0,>=2.1.0->apache-beam[gcp]==2.9.0)\n",
            "  Downloading https://files.pythonhosted.org/packages/a2/55/8f8cab2afd404cf578136ef2cc5dfb50baa1761b68c9da1fb1e4eed343c9/docopt-0.6.2.tar.gz\n",
            "Requirement already satisfied: requests>=2.7.0 in /usr/local/envs/py2env/lib/python2.7/site-packages (from hdfs<3.0.0,>=2.1.0->apache-beam[gcp]==2.9.0) (2.18.4)\n",
            "Requirement already satisfied: google-api-core[grpc]<2.0.0dev,>=0.1.3 in /usr/local/envs/py2env/lib/python2.7/site-packages (from google-cloud-pubsub==0.35.4; extra == \"gcp\"->apache-beam[gcp]==2.9.0) (0.1.4)\n",
            "Collecting grpc-google-iam-v1<0.12dev,>=0.11.1 (from google-cloud-pubsub==0.35.4; extra == \"gcp\"->apache-beam[gcp]==2.9.0)\n",
            "  Downloading https://files.pythonhosted.org/packages/9b/28/f26f67381cb23e81271b8d66c00a846ad9d25a909ae1ae1df8222fad2744/grpc-google-iam-v1-0.11.4.tar.gz\n",
            "Requirement already satisfied: googleapis-common-protos<2.0dev,>=1.5.0 in /usr/local/envs/py2env/lib/python2.7/site-packages (from proto-google-cloud-datastore-v1<=0.90.4,>=0.90.0; extra == \"gcp\"->apache-beam[gcp]==2.9.0) (1.5.5)\n",
            "Collecting fasteners>=0.14 (from google-apitools<=0.5.24,>=0.5.23; extra == \"gcp\"->apache-beam[gcp]==2.9.0)\n",
            "  Downloading https://files.pythonhosted.org/packages/14/3a/096c7ad18e102d4f219f5dd15951f9728ca5092a3385d2e8f79a7c1e1017/fasteners-0.14.1-py2.py3-none-any.whl\n",
            "Requirement already satisfied: google-resumable-media>=0.2.1 in /usr/local/envs/py2env/lib/python2.7/site-packages (from google-cloud-bigquery<1.7.0,>=1.6.0; extra == \"gcp\"->apache-beam[gcp]==2.9.0) (0.3.2)\n",
            "Requirement already satisfied: google-cloud-core<0.30dev,>=0.28.0 in /usr/local/envs/py2env/lib/python2.7/site-packages (from google-cloud-bigquery<1.7.0,>=1.6.0; extra == \"gcp\"->apache-beam[gcp]==2.9.0) (0.28.1)\n",
            "Requirement already satisfied: ordereddict in /usr/local/envs/py2env/lib/python2.7/site-packages (from funcsigs>=1->mock<3.0.0,>=1.0.1->apache-beam[gcp]==2.9.0) (1.1)\n",
            "Requirement already satisfied: chardet<3.1.0,>=3.0.2 in /usr/local/envs/py2env/lib/python2.7/site-packages (from requests>=2.7.0->hdfs<3.0.0,>=2.1.0->apache-beam[gcp]==2.9.0) (3.0.4)\n",
            "Requirement already satisfied: idna<2.7,>=2.5 in /usr/local/envs/py2env/lib/python2.7/site-packages (from requests>=2.7.0->hdfs<3.0.0,>=2.1.0->apache-beam[gcp]==2.9.0) (2.6)\n",
            "Requirement already satisfied: urllib3<1.23,>=1.21.1 in /usr/local/envs/py2env/lib/python2.7/site-packages (from requests>=2.7.0->hdfs<3.0.0,>=2.1.0->apache-beam[gcp]==2.9.0) (1.22)\n",
            "Requirement already satisfied: certifi>=2017.4.17 in /usr/local/envs/py2env/lib/python2.7/site-packages (from requests>=2.7.0->hdfs<3.0.0,>=2.1.0->apache-beam[gcp]==2.9.0) (2019.3.9)\n",
            "Requirement already satisfied: google-auth<2.0.0dev,>=0.4.0 in /usr/local/envs/py2env/lib/python2.7/site-packages (from google-api-core[grpc]<2.0.0dev,>=0.1.3->google-cloud-pubsub==0.35.4; extra == \"gcp\"->apache-beam[gcp]==2.9.0) (1.6.2)\n",
            "Collecting monotonic>=0.1 (from fasteners>=0.14->google-apitools<=0.5.24,>=0.5.23; extra == \"gcp\"->apache-beam[gcp]==2.9.0)\n",
            "  Downloading https://files.pythonhosted.org/packages/ac/aa/063eca6a416f397bd99552c534c6d11d57f58f2e94c14780f3bbf818c4cf/monotonic-1.5-py2.py3-none-any.whl\n",
            "Requirement already satisfied: cachetools>=2.0.0 in /usr/local/envs/py2env/lib/python2.7/site-packages (from google-auth<2.0.0dev,>=0.4.0->google-api-core[grpc]<2.0.0dev,>=0.1.3->google-cloud-pubsub==0.35.4; extra == \"gcp\"->apache-beam[gcp]==2.9.0) (2.1.0)\n",
            "Building wheels for collected packages: pydot, httplib2, pyvcf, hdfs, docopt, grpc-google-iam-v1\n",
            "  Running setup.py bdist_wheel for pydot: started\n",
            "  Running setup.py bdist_wheel for pydot: finished with status 'done'\n",
            "  Stored in directory: /content/.cache/pip/wheels/6a/a5/14/25541ebcdeaf97a37b6d05c7ff15f5bd20f5e91b99d313e5b4\n",
            "  Running setup.py bdist_wheel for httplib2: started\n",
            "  Running setup.py bdist_wheel for httplib2: finished with status 'done'\n",
            "  Stored in directory: /content/.cache/pip/wheels/1b/9c/9e/1f6fdb21dbb1fe6a99101d697f12cb8c1fa96c1587df69adba\n",
            "  Running setup.py bdist_wheel for pyvcf: started\n",
            "  Running setup.py bdist_wheel for pyvcf: finished with status 'done'\n",
            "  Stored in directory: /content/.cache/pip/wheels/81/91/41/3272543c0b9c61da9c525f24ee35bae6fe8f60d4858c66805d\n",
            "  Running setup.py bdist_wheel for hdfs: started\n",
            "  Running setup.py bdist_wheel for hdfs: finished with status 'done'\n",
            "  Stored in directory: /content/.cache/pip/wheels/1e/43/63/d5848bd5d5e02c449f1112cb23965a16ad97902fe6b53b87da\n",
            "  Running setup.py bdist_wheel for docopt: started\n",
            "  Running setup.py bdist_wheel for docopt: finished with status 'done'\n",
            "  Stored in directory: /content/.cache/pip/wheels/9b/04/dd/7daf4150b6d9b12949298737de9431a324d4b797ffd63f526e\n",
            "  Running setup.py bdist_wheel for grpc-google-iam-v1: started\n",
            "  Running setup.py bdist_wheel for grpc-google-iam-v1: finished with status 'done'\n",
            "  Stored in directory: /content/.cache/pip/wheels/b6/c6/31/c20321a5a3fde456fc375b7c2814135e6e98bc0d74c40239d9\n",
            "Successfully built pydot httplib2 pyvcf hdfs docopt grpc-google-iam-v1\n",
            "Installing collected packages: pydot, httplib2, typing, fastavro, pyvcf, docopt, hdfs, pytz, grpc-google-iam-v1, google-cloud-pubsub, monotonic, fasteners, google-apitools, google-cloud-bigquery, apache-beam\n",
            "  Found existing installation: httplib2 0.12.0\n",
            "    Uninstalling httplib2-0.12.0:\n",
            "      Successfully uninstalled httplib2-0.12.0\n",
            "  Found existing installation: pytz 2019.1\n",
            "    Uninstalling pytz-2019.1:\n",
            "      Successfully uninstalled pytz-2019.1\n",
            "  Found existing installation: google-apitools 0.5.10\n",
            "    Uninstalling google-apitools-0.5.10:\n",
            "      Successfully uninstalled google-apitools-0.5.10\n",
            "  Found existing installation: google-cloud-bigquery 0.23.0\n",
            "    Uninstalling google-cloud-bigquery-0.23.0:\n",
            "      Successfully uninstalled google-cloud-bigquery-0.23.0\n",
            "Successfully installed apache-beam-2.9.0 docopt-0.6.2 fastavro-0.21.22 fasteners-0.14.1 google-apitools-0.5.24 google-cloud-bigquery-1.6.1 google-cloud-pubsub-0.35.4 grpc-google-iam-v1-0.11.4 hdfs-2.5.2 httplib2-0.11.3 monotonic-1.5 pydot-1.2.4 pytz-2018.4 pyvcf-0.6.8 typing-3.6.6\n"
          ],
          "name": "stdout"
        },
        {
          "output_type": "stream",
          "text": [
            "\rcertifi-2019.3.9     | 155 KB    |            |   0% \rcertifi-2019.3.9     | 155 KB    | ########## | 100% \n",
            "\rca-certificates-2019 | 126 KB    |            |   0% \rca-certificates-2019 | 126 KB    | ########## | 100% \n",
            "\ropenssl-1.1.1b       | 4.0 MB    |            |   0% \ropenssl-1.1.1b       | 4.0 MB    | #######5   |  75% \ropenssl-1.1.1b       | 4.0 MB    | #########7 |  98% \ropenssl-1.1.1b       | 4.0 MB    | ########## | 100% \n",
            "\rconda-4.6.14         | 2.1 MB    |            |   0% \rconda-4.6.14         | 2.1 MB    | #######5   |  75% \rconda-4.6.14         | 2.1 MB    | #########7 |  98% \rconda-4.6.14         | 2.1 MB    | ########## | 100% \n",
            "google-cloud-bigquery 1.6.1 has requirement google-api-core<2.0.0dev,>=1.0.0, but you'll have google-api-core 0.1.4 which is incompatible.\n",
            "googledatastore 7.0.1 has requirement httplib2<0.10,>=0.9.1, but you'll have httplib2 0.11.3 which is incompatible.\n"
          ],
          "name": "stderr"
        }
      ]
    },
    {
      "cell_type": "markdown",
      "metadata": {
        "id": "PnLp5Y3sSJcK",
        "colab_type": "text"
      },
      "source": [
        "After doing a pip install, click **\"Reset Session\"** on the notebook so that the Python environment picks up the new packages."
      ]
    },
    {
      "cell_type": "code",
      "metadata": {
        "id": "eI65N2ebSJcL",
        "colab_type": "code",
        "colab": {}
      },
      "source": [
        "# change these to try this notebook out\n",
        "BUCKET = 'qwiklabs-gcp-501ba4b309a2e113'\n",
        "PROJECT = 'qwiklabs-gcp-501ba4b309a2e113'\n",
        "REGION = 'us-central1'"
      ],
      "execution_count": 0,
      "outputs": []
    },
    {
      "cell_type": "code",
      "metadata": {
        "id": "6_zml6PESJcO",
        "colab_type": "code",
        "colab": {}
      },
      "source": [
        "import os\n",
        "os.environ['BUCKET'] = BUCKET\n",
        "os.environ['PROJECT'] = PROJECT\n",
        "os.environ['REGION'] = REGION"
      ],
      "execution_count": 0,
      "outputs": []
    },
    {
      "cell_type": "code",
      "metadata": {
        "id": "_DcnzEiQSJcR",
        "colab_type": "code",
        "colab": {}
      },
      "source": [
        "%%bash\n",
        "if ! gsutil ls | grep -q gs://${BUCKET}/; then\n",
        "  gsutil mb -l ${REGION} gs://${BUCKET}\n",
        "fi"
      ],
      "execution_count": 0,
      "outputs": []
    },
    {
      "cell_type": "markdown",
      "metadata": {
        "id": "XrJ1v8AsSJcT",
        "colab_type": "text"
      },
      "source": [
        "<h2> Create ML dataset using Dataflow </h2>\n",
        "Let's use Cloud Dataflow to read in the BigQuery data, do some preprocessing, and write it out as CSV files.\n",
        "In this case, I want to do some preprocessing, modifying data so that we can simulate what is known if no ultrasound has been performed. \n",
        "Note that after you launch this, the actual processing is happening on the cloud. Go to the GCP webconsole to the Dataflow section and monitor the running job. It took about 20 minutes for me.\n",
        "<p>\n",
        "If you wish to continue without doing this step, you can copy my preprocessed output:\n",
        "<pre>\n",
        "gsutil -m cp -r gs://cloud-training-demos/babyweight/preproc gs://your-bucket/\n",
        "</pre>\n",
        "But if you do this, you also have to use my TensorFlow model since yours might expect the fields in a different order"
      ]
    },
    {
      "cell_type": "code",
      "metadata": {
        "id": "WLPykv-gSJcT",
        "colab_type": "code",
        "colab": {},
        "outputId": "0706528f-3c96-4497-a1ae-33e865380ee5"
      },
      "source": [
        "import apache_beam as beam\n",
        "import datetime, os\n",
        "\n",
        "def to_csv(rowdict):\n",
        "  import hashlib\n",
        "  import copy\n",
        "\n",
        "  # TODO #1:\n",
        "  # Pull columns from BQ and create line(s) of CSV input\n",
        "  CSV_COLUMNS = 'weight_pounds,is_male,mother_age,plurality,gestation_weeks'.split(',')\n",
        "    \n",
        "  # Create synthetic data where we assume that no ultrasound has been performed\n",
        "  # and so we don't know sex of the baby. Let's assume that we can tell the difference\n",
        "  # between single and multiple, but that the errors rates in determining exact number\n",
        "  # is difficult in the absence of an ultrasound.\n",
        "  no_ultrasound = copy.deepcopy(rowdict)\n",
        "  w_ultrasound = copy.deepcopy(rowdict)\n",
        "\n",
        "  no_ultrasound['is_male'] = 'Unknown'\n",
        "  if rowdict['plurality'] > 1:\n",
        "    no_ultrasound['plurality'] = 'Multiple(2+)'\n",
        "  else:\n",
        "    no_ultrasound['plurality'] = 'Single(1)'\n",
        "\n",
        "  # Change the plurality column to strings\n",
        "  w_ultrasound['plurality'] = ['Single(1)', 'Twins(2)', 'Triplets(3)', 'Quadruplets(4)', 'Quintuplets(5)'][rowdict['plurality'] - 1]\n",
        "\n",
        "  # Write out two rows for each input row, one with ultrasound and one without\n",
        "  for result in [no_ultrasound, w_ultrasound]:\n",
        "    data = ','.join([str(result[k]) if k in result else 'None' for k in CSV_COLUMNS])\n",
        "    key = hashlib.sha224(data).hexdigest()  # hash the columns to form a key\n",
        "    yield str('{},{}'.format(data, key))\n",
        "    \n",
        "def preprocess(in_test_mode):\n",
        "  import shutil, os, subprocess\n",
        "  job_name = 'preprocess-babyweight-features' + '-' + datetime.datetime.now().strftime('%y%m%d-%H%M%S')\n",
        "\n",
        "  if in_test_mode:\n",
        "      print('Launching local job ... hang on')\n",
        "      OUTPUT_DIR = './preproc'\n",
        "      shutil.rmtree(OUTPUT_DIR, ignore_errors=True)\n",
        "      os.makedirs(OUTPUT_DIR)\n",
        "  else:\n",
        "      print('Launching Dataflow job {} ... hang on'.format(job_name))\n",
        "      OUTPUT_DIR = 'gs://{0}/babyweight/preproc/'.format(BUCKET)\n",
        "      try:\n",
        "        subprocess.check_call('gsutil -m rm -r {}'.format(OUTPUT_DIR).split())\n",
        "      except:\n",
        "        pass\n",
        "\n",
        "  options = {\n",
        "      'staging_location': os.path.join(OUTPUT_DIR, 'tmp', 'staging'),\n",
        "      'temp_location': os.path.join(OUTPUT_DIR, 'tmp'),\n",
        "      'job_name': job_name,\n",
        "      'project': PROJECT,\n",
        "      'region': REGION,\n",
        "      'teardown_policy': 'TEARDOWN_ALWAYS',\n",
        "      'no_save_main_session': True,\n",
        "      'max_num_workers': 6\n",
        "  }\n",
        "  opts = beam.pipeline.PipelineOptions(flags = [], **options)\n",
        "  if in_test_mode:\n",
        "      RUNNER = 'DirectRunner'\n",
        "  else:\n",
        "      RUNNER = 'DataflowRunner'\n",
        "  p = beam.Pipeline(RUNNER, options = opts)\n",
        "    \n",
        "  query = \"\"\"\n",
        "SELECT\n",
        "  weight_pounds,\n",
        "  is_male,\n",
        "  mother_age,\n",
        "  plurality,\n",
        "  gestation_weeks,\n",
        "  ABS(FARM_FINGERPRINT(CONCAT(CAST(YEAR AS STRING), CAST(month AS STRING)))) AS hashmonth\n",
        "FROM\n",
        "  publicdata.samples.natality\n",
        "WHERE year > 2000\n",
        "AND weight_pounds > 0\n",
        "AND mother_age > 0\n",
        "AND plurality > 0\n",
        "AND gestation_weeks > 0\n",
        "AND month > 0\n",
        "    \"\"\"\n",
        "\n",
        "  if in_test_mode:\n",
        "    query = query + ' LIMIT 100' \n",
        "\n",
        "  for step in ['train', 'eval']:\n",
        "    if step == 'train':\n",
        "      selquery = 'SELECT * FROM ({}) WHERE MOD(ABS(hashmonth),4) < 3'.format(query)\n",
        "    else:\n",
        "      selquery = 'SELECT * FROM ({}) WHERE MOD(ABS(hashmonth),4) = 3'.format(query)\n",
        "\n",
        "    (p \n",
        "     ## TODO Task #2: Modify the Apache Beam pipeline such that the first part of the pipe reads the data from BigQuery\n",
        "     | '{}_read'.format(step) >> beam.io.Read(beam.io.BigQuerySource(query = selquery, use_standard_sql = True)) \n",
        "     | '{}_csv'.format(step) >> beam.FlatMap(to_csv)\n",
        "     | '{}_out'.format(step) >> beam.io.Write(beam.io.WriteToText(os.path.join(OUTPUT_DIR, '{}.csv'.format(step))))\n",
        "    )\n",
        "\n",
        "  job = p.run()\n",
        "  if in_test_mode:\n",
        "    job.wait_until_finish()\n",
        "    print(\"Done!\")\n",
        " \n",
        "# TODO  Task #3: Once you have verified that the files produced locally are correct, change in_test_mode to False\n",
        "#               to execute this in Cloud Dataflow\n",
        "preprocess(in_test_mode = True)"
      ],
      "execution_count": 0,
      "outputs": [
        {
          "output_type": "stream",
          "text": [
            "Launching local job ... hang on\n"
          ],
          "name": "stdout"
        },
        {
          "output_type": "stream",
          "text": [
            "WARNING:root:Dataset qwiklabs-gcp-501ba4b309a2e113:temp_dataset_df44147089c74f35b15df59c651ce751 does not exist so we will create it as temporary with location=US\n",
            "WARNING:root:Dataset qwiklabs-gcp-501ba4b309a2e113:temp_dataset_b8c0179e45f6446bb26f8aafd116183b does not exist so we will create it as temporary with location=US\n"
          ],
          "name": "stderr"
        },
        {
          "output_type": "stream",
          "text": [
            "Done!\n"
          ],
          "name": "stdout"
        }
      ]
    },
    {
      "cell_type": "code",
      "metadata": {
        "id": "CH47dLfUSJcW",
        "colab_type": "code",
        "colab": {},
        "outputId": "21e6f664-8639-4c45-e998-b68b687a63cf"
      },
      "source": [
        "%bash\n",
        "gsutil ls gs://${BUCKET}/babyweight/preproc/*-00000*"
      ],
      "execution_count": 0,
      "outputs": [
        {
          "output_type": "stream",
          "text": [
            "CommandException: One or more URLs matched no objects.\n"
          ],
          "name": "stderr"
        }
      ]
    },
    {
      "cell_type": "markdown",
      "metadata": {
        "id": "wO0LaGZ2SJcZ",
        "colab_type": "text"
      },
      "source": [
        "Copyright 2017 Google Inc. Licensed under the Apache License, Version 2.0 (the \"License\"); you may not use this file except in compliance with the License. You may obtain a copy of the License at http://www.apache.org/licenses/LICENSE-2.0 Unless required by applicable law or agreed to in writing, software distributed under the License is distributed on an \"AS IS\" BASIS, WITHOUT WARRANTIES OR CONDITIONS OF ANY KIND, either express or implied. See the License for the specific language governing permissions and limitations under the License"
      ]
    }
  ]
}