{
  "nbformat": 4,
  "nbformat_minor": 0,
  "metadata": {
    "colab": {
      "name": "c_dataset.ipynb",
      "version": "0.3.2",
      "provenance": [],
      "include_colab_link": true
    },
    "language_info": {
      "codemirror_mode": {
        "name": "ipython",
        "version": 3
      },
      "file_extension": ".py",
      "mimetype": "text/x-python",
      "name": "python",
      "nbconvert_exporter": "python",
      "pygments_lexer": "ipython3",
      "version": "3.5.6"
    },
    "kernelspec": {
      "display_name": "Python 3",
      "language": "python",
      "name": "python3"
    }
  },
  "cells": [
    {
      "cell_type": "markdown",
      "metadata": {
        "id": "view-in-github",
        "colab_type": "text"
      },
      "source": [
        "<a href=\"https://colab.research.google.com/github/rkrissada/google_ml_training/blob/master/c_dataset.ipynb\" target=\"_parent\"><img src=\"https://colab.research.google.com/assets/colab-badge.svg\" alt=\"Open In Colab\"/></a>"
      ]
    },
    {
      "metadata": {
        "id": "IRLerY2vlBAJ",
        "colab_type": "text"
      },
      "cell_type": "markdown",
      "source": [
        "<h1> 2c. Loading large datasets progressively with the tf.data.Dataset </h1>\n",
        "\n",
        "In this notebook, we continue reading the same small dataset, but refactor our ML pipeline in two small, but significant, ways:\n",
        "<ol>\n",
        "<li> Refactor the input to read data from disk progressively.\n",
        "<li> Refactor the feature creation so that it is not one-to-one with inputs.\n",
        "</ol>\n",
        "<br/>\n",
        "The Pandas function in the previous notebook first read the whole data into memory -- on a large dataset, this won't be an option."
      ]
    },
    {
      "metadata": {
        "id": "cTf4LdaNlBAK",
        "colab_type": "code",
        "colab": {},
        "outputId": "1060e609-6ed5-4d3d-d09b-acf8004f61a9"
      },
      "cell_type": "code",
      "source": [
        "import datalab.bigquery as bq\n",
        "import tensorflow as tf\n",
        "import numpy as np\n",
        "import shutil\n",
        "print(tf.__version__)"
      ],
      "execution_count": 0,
      "outputs": [
        {
          "output_type": "stream",
          "text": [
            "/usr/local/envs/py3env/lib/python3.5/site-packages/h5py/__init__.py:36: FutureWarning: Conversion of the second argument of issubdtype from `float` to `np.floating` is deprecated. In future, it will be treated as `np.float64 == np.dtype(float).type`.\n",
            "  from ._conv import register_converters as _register_converters\n"
          ],
          "name": "stderr"
        },
        {
          "output_type": "stream",
          "text": [
            "1.8.0\n"
          ],
          "name": "stdout"
        }
      ]
    },
    {
      "metadata": {
        "id": "_CQ_s4AdlBAQ",
        "colab_type": "text"
      },
      "cell_type": "markdown",
      "source": [
        "<h2> 1. Refactor the input </h2>\n",
        "\n",
        "Read data created in Lab1a, but this time make it more general, so that we can later handle large datasets. We use the Dataset API for this. It ensures that, as data gets delivered to the model in mini-batches, it is loaded from disk only when needed."
      ]
    },
    {
      "metadata": {
        "id": "0cmcYv6tlBAR",
        "colab_type": "code",
        "colab": {}
      },
      "cell_type": "code",
      "source": [
        "CSV_COLUMNS = ['fare_amount', 'pickuplon','pickuplat','dropofflon','dropofflat','passengers', 'key']\n",
        "DEFAULTS = [[0.0], [-74.0], [40.0], [-74.0], [40.7], [1.0], ['nokey']]\n",
        "\n",
        "def read_dataset(filename, mode, batch_size = 512):\n",
        "  def decode_csv(row):\n",
        "    columns = tf.decode_csv(row, record_defaults = DEFAULTS)\n",
        "    features = dict(zip(CSV_COLUMNS, columns))\n",
        "    features.pop('key') # discard, not a real feature\n",
        "    label = features.pop('fare_amount') # remove label from features and store\n",
        "    return features, label\n",
        "\n",
        "  # Create list of file names that match \"glob\" pattern (i.e. data_file_*.csv)\n",
        "  filenames_dataset = tf.data.Dataset.list_files(filename, shuffle=False)\n",
        "  # Read lines from text files\n",
        "  textlines_dataset = filenames_dataset.flat_map(tf.data.TextLineDataset)\n",
        "  # Parse text lines as comma-separated values (CSV)\n",
        "  dataset = textlines_dataset.map(decode_csv)\n",
        "\n",
        "  # Note:\n",
        "  # use tf.data.Dataset.flat_map to apply one to many transformations (here: filename -> text lines)\n",
        "  # use tf.data.Dataset.map      to apply one to one  transformations (here: text line -> feature list)\n",
        "\n",
        "  if mode == tf.estimator.ModeKeys.TRAIN:\n",
        "      num_epochs = None # loop indefinitely\n",
        "      dataset = dataset.shuffle(buffer_size = 10 * batch_size, seed=2)\n",
        "  else:\n",
        "      num_epochs = 1 # end-of-input after this\n",
        "\n",
        "  dataset = dataset.repeat(num_epochs).batch(batch_size)\n",
        "\n",
        "  return dataset\n",
        "\n",
        "def get_train_input_fn():\n",
        "  return read_dataset('./taxi-train.csv', mode = tf.estimator.ModeKeys.TRAIN)\n",
        "\n",
        "def get_valid_input_fn():\n",
        "  return read_dataset('./taxi-valid.csv', mode = tf.estimator.ModeKeys.EVAL)"
      ],
      "execution_count": 0,
      "outputs": []
    },
    {
      "metadata": {
        "id": "c4b64lBTlBAT",
        "colab_type": "text"
      },
      "cell_type": "markdown",
      "source": [
        "<h2> 2. Refactor the way features are created. </h2>\n",
        "\n",
        "For now, pass these through (same as previous lab).  However, refactoring this way will enable us to break the one-to-one relationship between inputs and features."
      ]
    },
    {
      "metadata": {
        "id": "9apb0j0JlBAT",
        "colab_type": "code",
        "colab": {}
      },
      "cell_type": "code",
      "source": [
        "INPUT_COLUMNS = [\n",
        "    tf.feature_column.numeric_column('pickuplon'),\n",
        "    tf.feature_column.numeric_column('pickuplat'),\n",
        "    tf.feature_column.numeric_column('dropofflat'),\n",
        "    tf.feature_column.numeric_column('dropofflon'),\n",
        "    tf.feature_column.numeric_column('passengers'),\n",
        "]\n",
        "\n",
        "def add_more_features(feats):\n",
        "  # Nothing to add (yet!)\n",
        "  return feats\n",
        "\n",
        "feature_cols = add_more_features(INPUT_COLUMNS)"
      ],
      "execution_count": 0,
      "outputs": []
    },
    {
      "metadata": {
        "id": "cDJEHPtWlBAW",
        "colab_type": "text"
      },
      "cell_type": "markdown",
      "source": [
        "<h2> Create and train the model </h2>\n",
        "\n",
        "Note that we train for num_steps * batch_size examples."
      ]
    },
    {
      "metadata": {
        "id": "wN4xe_k3lBAX",
        "colab_type": "code",
        "colab": {},
        "outputId": "d0399e8e-b00f-47b3-8639-e3c95b642129"
      },
      "cell_type": "code",
      "source": [
        "tf.logging.set_verbosity(tf.logging.INFO)\n",
        "OUTDIR = 'taxi_trained'\n",
        "shutil.rmtree(OUTDIR, ignore_errors = True) # start fresh each time\n",
        "model = tf.estimator.LinearRegressor(\n",
        "      feature_columns = feature_cols, model_dir = OUTDIR)\n",
        "model.train(input_fn = get_train_input_fn, steps = 200)"
      ],
      "execution_count": 0,
      "outputs": [
        {
          "output_type": "stream",
          "text": [
            "INFO:tensorflow:Using default config.\n",
            "INFO:tensorflow:Using config: {'_task_type': 'worker', '_save_checkpoints_secs': 600, '_evaluation_master': '', '_is_chief': True, '_task_id': 0, '_keep_checkpoint_max': 5, '_tf_random_seed': None, '_model_dir': 'taxi_trained', '_master': '', '_num_worker_replicas': 1, '_cluster_spec': <tensorflow.python.training.server_lib.ClusterSpec object at 0x7fbcf3536898>, '_service': None, '_save_summary_steps': 100, '_log_step_count_steps': 100, '_session_config': None, '_save_checkpoints_steps': None, '_train_distribute': None, '_global_id_in_cluster': 0, '_keep_checkpoint_every_n_hours': 10000, '_num_ps_replicas': 0}\n",
            "INFO:tensorflow:Calling model_fn.\n",
            "INFO:tensorflow:Done calling model_fn.\n",
            "INFO:tensorflow:Create CheckpointSaverHook.\n",
            "INFO:tensorflow:Graph was finalized.\n",
            "INFO:tensorflow:Running local_init_op.\n",
            "INFO:tensorflow:Done running local_init_op.\n",
            "INFO:tensorflow:Saving checkpoints for 1 into taxi_trained/model.ckpt.\n",
            "INFO:tensorflow:loss = 96542.81, step = 1\n",
            "INFO:tensorflow:global_step/sec: 39.9162\n",
            "INFO:tensorflow:loss = 61699.812, step = 101 (2.510 sec)\n",
            "INFO:tensorflow:Saving checkpoints for 200 into taxi_trained/model.ckpt.\n",
            "INFO:tensorflow:Loss for final step: 39530.062.\n"
          ],
          "name": "stdout"
        },
        {
          "output_type": "execute_result",
          "data": {
            "text/plain": [
              "<tensorflow.python.estimator.canned.linear.LinearRegressor at 0x7fbcf35362e8>"
            ]
          },
          "metadata": {
            "tags": []
          },
          "execution_count": 4
        }
      ]
    },
    {
      "metadata": {
        "id": "_DG1qcuPlBAa",
        "colab_type": "text"
      },
      "cell_type": "markdown",
      "source": [
        "<h3> Evaluate model </h3>\n",
        "\n",
        "As before, evaluate on the validation data.  We'll do the third refactoring (to move the evaluation into the training loop) in the next lab."
      ]
    },
    {
      "metadata": {
        "id": "8LjAcayYlBAb",
        "colab_type": "code",
        "colab": {},
        "outputId": "6aa2e88e-2267-4526-9234-58f221c668ff"
      },
      "cell_type": "code",
      "source": [
        "metrics = model.evaluate(input_fn = get_valid_input_fn, steps = None)\n",
        "print('RMSE on dataset = {}'.format(np.sqrt(metrics['average_loss'])))"
      ],
      "execution_count": 0,
      "outputs": [
        {
          "output_type": "stream",
          "text": [
            "INFO:tensorflow:Calling model_fn.\n",
            "INFO:tensorflow:Done calling model_fn.\n",
            "INFO:tensorflow:Starting evaluation at 2019-04-29-14:09:26\n",
            "INFO:tensorflow:Graph was finalized.\n",
            "INFO:tensorflow:Restoring parameters from taxi_trained/model.ckpt-200\n",
            "INFO:tensorflow:Running local_init_op.\n",
            "INFO:tensorflow:Done running local_init_op.\n",
            "INFO:tensorflow:Finished evaluation at 2019-04-29-14:09:27\n",
            "INFO:tensorflow:Saving dict for global step 200: average_loss = 109.93547, global_step = 200, loss = 45760.64\n",
            "RMSE on dataset = 10.48501205444336\n"
          ],
          "name": "stdout"
        }
      ]
    },
    {
      "metadata": {
        "id": "SCTDR9UglBAf",
        "colab_type": "text"
      },
      "cell_type": "markdown",
      "source": [
        "## Challenge Exercise\n",
        "\n",
        "Create a neural network that is capable of finding the volume of a cylinder given the radius of its base (r) and its height (h). Assume that the radius and height of the cylinder are both in the range 0.5 to 2.0. Unlike in the challenge exercise for b_estimator.ipynb, assume that your measurements of r, h and V are all rounded off to the nearest 0.1. Simulate the necessary training dataset. This time, you will need a lot more data to get a good predictor.\n",
        "\n",
        "Hint (highlight to see):\n",
        "<p style='color:white'>\n",
        "Create random values for r and h and compute V. Then, round off r, h and V (i.e., the volume is computed from the true value of r and h; it's only your measurement that is rounded off). Your dataset will consist of the round values of r, h and V. Do this for both the training and evaluation datasets.\n",
        "</p>\n",
        "\n",
        "Now modify the \"noise\" so that instead of just rounding off the value, there is up to a 10% error (uniformly distributed) in the measurement followed by rounding off."
      ]
    },
    {
      "metadata": {
        "id": "DkDRM9BnlBAf",
        "colab_type": "text"
      },
      "cell_type": "markdown",
      "source": [
        "Copyright 2017 Google Inc. Licensed under the Apache License, Version 2.0 (the \"License\"); you may not use this file except in compliance with the License. You may obtain a copy of the License at http://www.apache.org/licenses/LICENSE-2.0 Unless required by applicable law or agreed to in writing, software distributed under the License is distributed on an \"AS IS\" BASIS, WITHOUT WARRANTIES OR CONDITIONS OF ANY KIND, either express or implied. See the License for the specific language governing permissions and limitations under the License"
      ]
    }
  ]
}