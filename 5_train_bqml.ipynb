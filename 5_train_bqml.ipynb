{
  "nbformat": 4,
  "nbformat_minor": 0,
  "metadata": {
    "colab": {
      "name": "5_train_bqml.ipynb",
      "version": "0.3.2",
      "provenance": [],
      "include_colab_link": true
    },
    "language_info": {
      "codemirror_mode": {
        "name": "ipython",
        "version": 3
      },
      "file_extension": ".py",
      "mimetype": "text/x-python",
      "name": "python",
      "nbconvert_exporter": "python",
      "pygments_lexer": "ipython3",
      "version": "3.5.6"
    },
    "kernelspec": {
      "display_name": "Python 3",
      "language": "python",
      "name": "python3"
    }
  },
  "cells": [
    {
      "cell_type": "markdown",
      "metadata": {
        "id": "view-in-github",
        "colab_type": "text"
      },
      "source": [
        "<a href=\"https://colab.research.google.com/github/rkrissada/google_ml_training/blob/master/5_train_bqml.ipynb\" target=\"_parent\"><img src=\"https://colab.research.google.com/assets/colab-badge.svg\" alt=\"Open In Colab\"/></a>"
      ]
    },
    {
      "cell_type": "markdown",
      "metadata": {
        "colab_type": "text",
        "id": "aklJxkHBD5aR"
      },
      "source": [
        "# Predicting babyweight using BigQuery ML\n",
        "\n",
        "This notebook illustrates:\n",
        "<ol>\n",
        "<li> Machine Learning using BigQuery\n",
        "<li> Jupyter Magic for BigQuery in Cloud Datalab\n",
        "</ol>\n",
        "\n",
        "Please see [this notebook](1_explore.ipynb) for more context on this problem and how the features were chosen."
      ]
    },
    {
      "cell_type": "code",
      "metadata": {
        "colab_type": "code",
        "id": "BhUiclqCD5aT",
        "colab": {}
      },
      "source": [
        "# change these to try this notebook out\n",
        "PROJECT = 'qwiklabs-gcp-03f3aae32d6f97d5'\n",
        "REGION = 'asia-southeast1'"
      ],
      "execution_count": 0,
      "outputs": []
    },
    {
      "cell_type": "code",
      "metadata": {
        "colab_type": "code",
        "id": "F10_KsX7D5aX",
        "colab": {}
      },
      "source": [
        "import os\n",
        "os.environ['PROJECT'] = PROJECT\n",
        "os.environ['REGION'] = REGION"
      ],
      "execution_count": 0,
      "outputs": []
    },
    {
      "cell_type": "code",
      "metadata": {
        "colab_type": "code",
        "id": "YrqwSv6vD5aZ",
        "outputId": "402ed11b-ab4a-4480-a1aa-f72741cd2cc1",
        "colab": {}
      },
      "source": [
        "%bash\n",
        "gcloud config set project $PROJECT\n",
        "gcloud config set compute/region $REGION"
      ],
      "execution_count": 0,
      "outputs": [
        {
          "output_type": "stream",
          "text": [
            "Updated property [core/project].\n",
            "Updated property [compute/region].\n"
          ],
          "name": "stderr"
        }
      ]
    },
    {
      "cell_type": "markdown",
      "metadata": {
        "colab_type": "text",
        "id": "j782YaAzD5ae"
      },
      "source": [
        "## Exploring the Data\n",
        "\n",
        "Here, we will be taking natality data and training on features to predict the birth weight.\n",
        "\n",
        "The CDC's Natality data has details on US births from 1969 to 2008 and is available in BigQuery as a public data set. More details: https://bigquery.cloud.google.com/table/publicdata:samples.natality?tab=details\n",
        "\n",
        "Lets start by looking at the data since 2000 with useful values > 0!"
      ]
    },
    {
      "cell_type": "code",
      "metadata": {
        "colab_type": "code",
        "id": "odWaIcLdD5af",
        "outputId": "2654ad9b-a735-4cd3-c3d9-80ebed8ed6bf",
        "colab": {}
      },
      "source": [
        "%%bq query\n",
        "SELECT\n",
        "    *\n",
        "FROM\n",
        "  publicdata.samples.natality\n",
        "WHERE\n",
        "  year > 2000\n",
        "  AND gestation_weeks > 0\n",
        "  AND mother_age > 0\n",
        "  AND plurality > 0\n",
        "  AND weight_pounds > 0\n",
        "LIMIT 10"
      ],
      "execution_count": 0,
      "outputs": [
        {
          "output_type": "execute_result",
          "data": {
            "text/html": [
              "\n",
              "    <div class=\"bqtv\" id=\"5_155688903091\"><table><tr><th>source_year</th><th>year</th><th>month</th><th>day</th><th>wday</th><th>state</th><th>is_male</th><th>child_race</th><th>weight_pounds</th><th>plurality</th><th>apgar_1min</th><th>apgar_5min</th><th>mother_residence_state</th><th>mother_race</th><th>mother_age</th><th>gestation_weeks</th><th>lmp</th><th>mother_married</th><th>mother_birth_state</th><th>cigarette_use</th><th>cigarettes_per_day</th><th>alcohol_use</th><th>drinks_per_week</th><th>weight_gain_pounds</th><th>born_alive_alive</th><th>born_alive_dead</th><th>born_dead</th><th>ever_born</th><th>father_race</th><th>father_age</th><th>record_weight</th></tr><tr><td>2001</td><td>2001</td><td>5</td><td>&nbsp;</td><td>3</td><td>FL</td><td>True</td><td>9</td><td>6.686620406459999</td><td>1</td><td>99</td><td>9</td><td>FL</td><td>2</td><td>18</td><td>43</td><td>07992000</td><td>False</td><td>Foreign</td><td>&nbsp;</td><td>&nbsp;</td><td>False</td><td>&nbsp;</td><td>40</td><td>0</td><td>0</td><td>0</td><td>1</td><td>9</td><td>99</td><td>1</td></tr><tr><td>2001</td><td>2001</td><td>8</td><td>&nbsp;</td><td>2</td><td>KS</td><td>True</td><td>9</td><td>9.36082764452</td><td>1</td><td>99</td><td>9</td><td>KS</td><td>1</td><td>32</td><td>41</td><td>10232000</td><td>True</td><td>KS</td><td>&nbsp;</td><td>&nbsp;</td><td>False</td><td>&nbsp;</td><td>36</td><td>0</td><td>0</td><td>1</td><td>1</td><td>1</td><td>34</td><td>1</td></tr><tr><td>2001</td><td>2001</td><td>9</td><td>&nbsp;</td><td>2</td><td>KY</td><td>False</td><td>9</td><td>8.437090766739999</td><td>1</td><td>99</td><td>9</td><td>KY</td><td>1</td><td>30</td><td>39</td><td>12992000</td><td>True</td><td>KY</td><td>&nbsp;</td><td>&nbsp;</td><td>False</td><td>&nbsp;</td><td>40</td><td>0</td><td>0</td><td>0</td><td>1</td><td>1</td><td>30</td><td>1</td></tr><tr><td>2002</td><td>2002</td><td>10</td><td>&nbsp;</td><td>2</td><td>AL</td><td>False</td><td>9</td><td>6.1244416383599996</td><td>1</td><td>99</td><td>10</td><td>AL</td><td>1</td><td>24</td><td>40</td><td>01072002</td><td>True</td><td>AL</td><td>&nbsp;</td><td>&nbsp;</td><td>False</td><td>&nbsp;</td><td>27</td><td>0</td><td>0</td><td>0</td><td>1</td><td>1</td><td>26</td><td>1</td></tr><tr><td>2002</td><td>2002</td><td>5</td><td>&nbsp;</td><td>5</td><td>AZ</td><td>False</td><td>9</td><td>7.12534030784</td><td>1</td><td>99</td><td>9</td><td>AZ</td><td>1</td><td>26</td><td>41</td><td>08152001</td><td>False</td><td>AZ</td><td>&nbsp;</td><td>&nbsp;</td><td>False</td><td>&nbsp;</td><td>39</td><td>3</td><td>0</td><td>1</td><td>4</td><td>1</td><td>26</td><td>1</td></tr><tr><td>2001</td><td>2001</td><td>10</td><td>&nbsp;</td><td>3</td><td>CA</td><td>False</td><td>9</td><td>6.944561253</td><td>1</td><td>99</td><td>99</td><td>CA</td><td>1</td><td>31</td><td>40</td><td>01122001</td><td>True</td><td>IL</td><td>&nbsp;</td><td>&nbsp;</td><td>&nbsp;</td><td>&nbsp;</td><td>99</td><td>0</td><td>0</td><td>0</td><td>1</td><td>1</td><td>27</td><td>1</td></tr><tr><td>2001</td><td>2001</td><td>8</td><td>&nbsp;</td><td>2</td><td>MS</td><td>True</td><td>9</td><td>6.9996768185</td><td>1</td><td>99</td><td>10</td><td>MS</td><td>1</td><td>23</td><td>40</td><td>11012000</td><td>True</td><td>MS</td><td>&nbsp;</td><td>&nbsp;</td><td>False</td><td>&nbsp;</td><td>32</td><td>2</td><td>0</td><td>2</td><td>3</td><td>1</td><td>25</td><td>1</td></tr><tr><td>2001</td><td>2001</td><td>2</td><td>&nbsp;</td><td>6</td><td>NY</td><td>True</td><td>9</td><td>9.37405538024</td><td>1</td><td>99</td><td>9</td><td>NY</td><td>1</td><td>34</td><td>40</td><td>04252000</td><td>True</td><td>NJ</td><td>&nbsp;</td><td>&nbsp;</td><td>False</td><td>&nbsp;</td><td>48</td><td>1</td><td>0</td><td>0</td><td>2</td><td>1</td><td>32</td><td>1</td></tr><tr><td>2001</td><td>2001</td><td>11</td><td>&nbsp;</td><td>3</td><td>OR</td><td>True</td><td>9</td><td>8.37315671076</td><td>1</td><td>99</td><td>8</td><td>OR</td><td>1</td><td>33</td><td>40</td><td>02132001</td><td>True</td><td>CA</td><td>&nbsp;</td><td>&nbsp;</td><td>False</td><td>&nbsp;</td><td>25</td><td>1</td><td>0</td><td>1</td><td>2</td><td>1</td><td>40</td><td>1</td></tr><tr><td>2001</td><td>2001</td><td>7</td><td>&nbsp;</td><td>2</td><td>TX</td><td>False</td><td>9</td><td>7.1870697412</td><td>1</td><td>99</td><td>99</td><td>TX</td><td>1</td><td>23</td><td>40</td><td>09212000</td><td>False</td><td>TX</td><td>&nbsp;</td><td>&nbsp;</td><td>False</td><td>&nbsp;</td><td>24</td><td>0</td><td>0</td><td>0</td><td>1</td><td>9</td><td>99</td><td>1</td></tr></table></div>\n",
              "    <br />(rows: 10, time: 0.2s, cached, job: job_Iy8gA-OqhNZS9CT0Tk8RuVxBLU16)<br />\n",
              "    <script src=\"/static/components/requirejs/require.js\"></script>\n",
              "    <script>\n",
              "      require.config({\n",
              "        paths: {\n",
              "          base: '/static/base',\n",
              "          d3: '//cdnjs.cloudflare.com/ajax/libs/d3/3.4.13/d3',\n",
              "          plotly: 'https://cdn.plot.ly/plotly-1.5.1.min.js?noext',\n",
              "          jquery: '//ajax.googleapis.com/ajax/libs/jquery/2.0.0/jquery.min'\n",
              "        },\n",
              "        map: {\n",
              "          '*': {\n",
              "            datalab: 'nbextensions/gcpdatalab'\n",
              "          }\n",
              "        },\n",
              "        shim: {\n",
              "          plotly: {\n",
              "            deps: ['d3', 'jquery'],\n",
              "            exports: 'plotly'\n",
              "          }\n",
              "        }\n",
              "      });\n",
              "\n",
              "      require(['datalab/charting', 'datalab/element!5_155688903091', 'base/js/events',\n",
              "          'datalab/style!/nbextensions/gcpdatalab/charting.css'],\n",
              "        function(charts, dom, events) {\n",
              "          charts.render('gcharts', dom, events, 'table', [], {\"cols\": [{\"type\": \"number\", \"id\": \"source_year\", \"label\": \"source_year\"}, {\"type\": \"number\", \"id\": \"year\", \"label\": \"year\"}, {\"type\": \"number\", \"id\": \"month\", \"label\": \"month\"}, {\"type\": \"number\", \"id\": \"day\", \"label\": \"day\"}, {\"type\": \"number\", \"id\": \"wday\", \"label\": \"wday\"}, {\"type\": \"string\", \"id\": \"state\", \"label\": \"state\"}, {\"type\": \"boolean\", \"id\": \"is_male\", \"label\": \"is_male\"}, {\"type\": \"number\", \"id\": \"child_race\", \"label\": \"child_race\"}, {\"type\": \"number\", \"id\": \"weight_pounds\", \"label\": \"weight_pounds\"}, {\"type\": \"number\", \"id\": \"plurality\", \"label\": \"plurality\"}, {\"type\": \"number\", \"id\": \"apgar_1min\", \"label\": \"apgar_1min\"}, {\"type\": \"number\", \"id\": \"apgar_5min\", \"label\": \"apgar_5min\"}, {\"type\": \"string\", \"id\": \"mother_residence_state\", \"label\": \"mother_residence_state\"}, {\"type\": \"number\", \"id\": \"mother_race\", \"label\": \"mother_race\"}, {\"type\": \"number\", \"id\": \"mother_age\", \"label\": \"mother_age\"}, {\"type\": \"number\", \"id\": \"gestation_weeks\", \"label\": \"gestation_weeks\"}, {\"type\": \"string\", \"id\": \"lmp\", \"label\": \"lmp\"}, {\"type\": \"boolean\", \"id\": \"mother_married\", \"label\": \"mother_married\"}, {\"type\": \"string\", \"id\": \"mother_birth_state\", \"label\": \"mother_birth_state\"}, {\"type\": \"boolean\", \"id\": \"cigarette_use\", \"label\": \"cigarette_use\"}, {\"type\": \"number\", \"id\": \"cigarettes_per_day\", \"label\": \"cigarettes_per_day\"}, {\"type\": \"boolean\", \"id\": \"alcohol_use\", \"label\": \"alcohol_use\"}, {\"type\": \"number\", \"id\": \"drinks_per_week\", \"label\": \"drinks_per_week\"}, {\"type\": \"number\", \"id\": \"weight_gain_pounds\", \"label\": \"weight_gain_pounds\"}, {\"type\": \"number\", \"id\": \"born_alive_alive\", \"label\": \"born_alive_alive\"}, {\"type\": \"number\", \"id\": \"born_alive_dead\", \"label\": \"born_alive_dead\"}, {\"type\": \"number\", \"id\": \"born_dead\", \"label\": \"born_dead\"}, {\"type\": \"number\", \"id\": \"ever_born\", \"label\": \"ever_born\"}, {\"type\": \"number\", \"id\": \"father_race\", \"label\": \"father_race\"}, {\"type\": \"number\", \"id\": \"father_age\", \"label\": \"father_age\"}, {\"type\": \"number\", \"id\": \"record_weight\", \"label\": \"record_weight\"}], \"rows\": [{\"c\": [{\"v\": 2001}, {\"v\": 2001}, {\"v\": 5}, {\"v\": null}, {\"v\": 3}, {\"v\": \"FL\"}, {\"v\": true}, {\"v\": 9}, {\"v\": 6.686620406459999}, {\"v\": 1}, {\"v\": 99}, {\"v\": 9}, {\"v\": \"FL\"}, {\"v\": 2}, {\"v\": 18}, {\"v\": 43}, {\"v\": \"07992000\"}, {\"v\": false}, {\"v\": \"Foreign\"}, {\"v\": null}, {\"v\": null}, {\"v\": false}, {\"v\": null}, {\"v\": 40}, {\"v\": 0}, {\"v\": 0}, {\"v\": 0}, {\"v\": 1}, {\"v\": 9}, {\"v\": 99}, {\"v\": 1}]}, {\"c\": [{\"v\": 2001}, {\"v\": 2001}, {\"v\": 8}, {\"v\": null}, {\"v\": 2}, {\"v\": \"KS\"}, {\"v\": true}, {\"v\": 9}, {\"v\": 9.36082764452}, {\"v\": 1}, {\"v\": 99}, {\"v\": 9}, {\"v\": \"KS\"}, {\"v\": 1}, {\"v\": 32}, {\"v\": 41}, {\"v\": \"10232000\"}, {\"v\": true}, {\"v\": \"KS\"}, {\"v\": null}, {\"v\": null}, {\"v\": false}, {\"v\": null}, {\"v\": 36}, {\"v\": 0}, {\"v\": 0}, {\"v\": 1}, {\"v\": 1}, {\"v\": 1}, {\"v\": 34}, {\"v\": 1}]}, {\"c\": [{\"v\": 2001}, {\"v\": 2001}, {\"v\": 9}, {\"v\": null}, {\"v\": 2}, {\"v\": \"KY\"}, {\"v\": false}, {\"v\": 9}, {\"v\": 8.437090766739999}, {\"v\": 1}, {\"v\": 99}, {\"v\": 9}, {\"v\": \"KY\"}, {\"v\": 1}, {\"v\": 30}, {\"v\": 39}, {\"v\": \"12992000\"}, {\"v\": true}, {\"v\": \"KY\"}, {\"v\": null}, {\"v\": null}, {\"v\": false}, {\"v\": null}, {\"v\": 40}, {\"v\": 0}, {\"v\": 0}, {\"v\": 0}, {\"v\": 1}, {\"v\": 1}, {\"v\": 30}, {\"v\": 1}]}, {\"c\": [{\"v\": 2002}, {\"v\": 2002}, {\"v\": 10}, {\"v\": null}, {\"v\": 2}, {\"v\": \"AL\"}, {\"v\": false}, {\"v\": 9}, {\"v\": 6.1244416383599996}, {\"v\": 1}, {\"v\": 99}, {\"v\": 10}, {\"v\": \"AL\"}, {\"v\": 1}, {\"v\": 24}, {\"v\": 40}, {\"v\": \"01072002\"}, {\"v\": true}, {\"v\": \"AL\"}, {\"v\": null}, {\"v\": null}, {\"v\": false}, {\"v\": null}, {\"v\": 27}, {\"v\": 0}, {\"v\": 0}, {\"v\": 0}, {\"v\": 1}, {\"v\": 1}, {\"v\": 26}, {\"v\": 1}]}, {\"c\": [{\"v\": 2002}, {\"v\": 2002}, {\"v\": 5}, {\"v\": null}, {\"v\": 5}, {\"v\": \"AZ\"}, {\"v\": false}, {\"v\": 9}, {\"v\": 7.12534030784}, {\"v\": 1}, {\"v\": 99}, {\"v\": 9}, {\"v\": \"AZ\"}, {\"v\": 1}, {\"v\": 26}, {\"v\": 41}, {\"v\": \"08152001\"}, {\"v\": false}, {\"v\": \"AZ\"}, {\"v\": null}, {\"v\": null}, {\"v\": false}, {\"v\": null}, {\"v\": 39}, {\"v\": 3}, {\"v\": 0}, {\"v\": 1}, {\"v\": 4}, {\"v\": 1}, {\"v\": 26}, {\"v\": 1}]}, {\"c\": [{\"v\": 2001}, {\"v\": 2001}, {\"v\": 10}, {\"v\": null}, {\"v\": 3}, {\"v\": \"CA\"}, {\"v\": false}, {\"v\": 9}, {\"v\": 6.944561253}, {\"v\": 1}, {\"v\": 99}, {\"v\": 99}, {\"v\": \"CA\"}, {\"v\": 1}, {\"v\": 31}, {\"v\": 40}, {\"v\": \"01122001\"}, {\"v\": true}, {\"v\": \"IL\"}, {\"v\": null}, {\"v\": null}, {\"v\": null}, {\"v\": null}, {\"v\": 99}, {\"v\": 0}, {\"v\": 0}, {\"v\": 0}, {\"v\": 1}, {\"v\": 1}, {\"v\": 27}, {\"v\": 1}]}, {\"c\": [{\"v\": 2001}, {\"v\": 2001}, {\"v\": 8}, {\"v\": null}, {\"v\": 2}, {\"v\": \"MS\"}, {\"v\": true}, {\"v\": 9}, {\"v\": 6.9996768185}, {\"v\": 1}, {\"v\": 99}, {\"v\": 10}, {\"v\": \"MS\"}, {\"v\": 1}, {\"v\": 23}, {\"v\": 40}, {\"v\": \"11012000\"}, {\"v\": true}, {\"v\": \"MS\"}, {\"v\": null}, {\"v\": null}, {\"v\": false}, {\"v\": null}, {\"v\": 32}, {\"v\": 2}, {\"v\": 0}, {\"v\": 2}, {\"v\": 3}, {\"v\": 1}, {\"v\": 25}, {\"v\": 1}]}, {\"c\": [{\"v\": 2001}, {\"v\": 2001}, {\"v\": 2}, {\"v\": null}, {\"v\": 6}, {\"v\": \"NY\"}, {\"v\": true}, {\"v\": 9}, {\"v\": 9.37405538024}, {\"v\": 1}, {\"v\": 99}, {\"v\": 9}, {\"v\": \"NY\"}, {\"v\": 1}, {\"v\": 34}, {\"v\": 40}, {\"v\": \"04252000\"}, {\"v\": true}, {\"v\": \"NJ\"}, {\"v\": null}, {\"v\": null}, {\"v\": false}, {\"v\": null}, {\"v\": 48}, {\"v\": 1}, {\"v\": 0}, {\"v\": 0}, {\"v\": 2}, {\"v\": 1}, {\"v\": 32}, {\"v\": 1}]}, {\"c\": [{\"v\": 2001}, {\"v\": 2001}, {\"v\": 11}, {\"v\": null}, {\"v\": 3}, {\"v\": \"OR\"}, {\"v\": true}, {\"v\": 9}, {\"v\": 8.37315671076}, {\"v\": 1}, {\"v\": 99}, {\"v\": 8}, {\"v\": \"OR\"}, {\"v\": 1}, {\"v\": 33}, {\"v\": 40}, {\"v\": \"02132001\"}, {\"v\": true}, {\"v\": \"CA\"}, {\"v\": null}, {\"v\": null}, {\"v\": false}, {\"v\": null}, {\"v\": 25}, {\"v\": 1}, {\"v\": 0}, {\"v\": 1}, {\"v\": 2}, {\"v\": 1}, {\"v\": 40}, {\"v\": 1}]}, {\"c\": [{\"v\": 2001}, {\"v\": 2001}, {\"v\": 7}, {\"v\": null}, {\"v\": 2}, {\"v\": \"TX\"}, {\"v\": false}, {\"v\": 9}, {\"v\": 7.1870697412}, {\"v\": 1}, {\"v\": 99}, {\"v\": 99}, {\"v\": \"TX\"}, {\"v\": 1}, {\"v\": 23}, {\"v\": 40}, {\"v\": \"09212000\"}, {\"v\": false}, {\"v\": \"TX\"}, {\"v\": null}, {\"v\": null}, {\"v\": false}, {\"v\": null}, {\"v\": 24}, {\"v\": 0}, {\"v\": 0}, {\"v\": 0}, {\"v\": 1}, {\"v\": 9}, {\"v\": 99}, {\"v\": 1}]}]},\n",
              "            {\n",
              "              pageSize: 25,\n",
              "              cssClassNames:  {\n",
              "                tableRow: 'gchart-table-row',\n",
              "                headerRow: 'gchart-table-headerrow',\n",
              "                oddTableRow: 'gchart-table-oddrow',\n",
              "                selectedTableRow: 'gchart-table-selectedrow',\n",
              "                hoverTableRow: 'gchart-table-hoverrow',\n",
              "                tableCell: 'gchart-table-cell',\n",
              "                headerCell: 'gchart-table-headercell',\n",
              "                rowNumberCell: 'gchart-table-rownumcell'\n",
              "              }\n",
              "            },\n",
              "            {source_index: 0, fields: 'source_year,year,month,day,wday,state,is_male,child_race,weight_pounds,plurality,apgar_1min,apgar_5min,mother_residence_state,mother_race,mother_age,gestation_weeks,lmp,mother_married,mother_birth_state,cigarette_use,cigarettes_per_day,alcohol_use,drinks_per_week,weight_gain_pounds,born_alive_alive,born_alive_dead,born_dead,ever_born,father_race,father_age,record_weight'},\n",
              "            0,\n",
              "            10);\n",
              "        }\n",
              "      );\n",
              "    </script>\n",
              "  "
            ],
            "text/plain": [
              "QueryResultsTable job_Iy8gA-OqhNZS9CT0Tk8RuVxBLU16"
            ]
          },
          "metadata": {
            "tags": []
          },
          "execution_count": 20
        }
      ]
    },
    {
      "cell_type": "markdown",
      "metadata": {
        "colab_type": "text",
        "id": "ep02J20pD5ai"
      },
      "source": [
        "## Define Features\n",
        "\n",
        "Looking over the data set, there are a few columns of interest that could be leveraged into features for a reasonable prediction of approximate birth weight.\n",
        "\n",
        "Further, some feature engineering may be accomplished with the BigQuery `CAST` function -- in BQML, all strings are considered categorical features and all numeric types are considered continuous ones.\n",
        "\n",
        "The hashmonth is added so that we can repeatably split the data without leakage -- we want all babies that share a birthday to be either in training set or in test set and not spread between them (otherwise, there would be information leakage when it comes to triplets, etc.)"
      ]
    },
    {
      "cell_type": "code",
      "metadata": {
        "colab_type": "code",
        "id": "DPUCYDjlD5aj",
        "outputId": "3cbc1dbe-22d0-406c-fe9c-0a019040ae3d",
        "colab": {}
      },
      "source": [
        "%%bq query\n",
        "SELECT\n",
        "    weight_pounds, -- this is the label; because it is continuous, we need to use regression\n",
        "    CAST(is_male AS STRING) AS is_male,\n",
        "    mother_age,\n",
        "    CAST(plurality AS STRING) AS plurality,\n",
        "    gestation_weeks,\n",
        "    ABS(FARM_FINGERPRINT(CONCAT(CAST(YEAR AS STRING), CAST(month AS STRING)))) AS hashmonth\n",
        "FROM\n",
        "  publicdata.samples.natality\n",
        "WHERE\n",
        "  year > 2000\n",
        "  AND gestation_weeks > 0\n",
        "  AND mother_age > 0\n",
        "  AND plurality > 0\n",
        "  AND weight_pounds > 0\n",
        "LIMIT 10"
      ],
      "execution_count": 0,
      "outputs": [
        {
          "output_type": "execute_result",
          "data": {
            "text/html": [
              "\n",
              "    <div class=\"bqtv\" id=\"6_155688903691\"><table><tr><th>weight_pounds</th><th>is_male</th><th>mother_age</th><th>plurality</th><th>gestation_weeks</th><th>hashmonth</th></tr><tr><td>7.56846945446</td><td>true</td><td>22</td><td>1</td><td>46</td><td>1403073183891835564</td></tr><tr><td>8.8074673669</td><td>true</td><td>39</td><td>1</td><td>42</td><td>1088037545023002395</td></tr><tr><td>8.313631900019999</td><td>true</td><td>23</td><td>1</td><td>35</td><td>2126480030009879160</td></tr><tr><td>8.000575487979999</td><td>false</td><td>27</td><td>1</td><td>40</td><td>7170969733900686954</td></tr><tr><td>6.56316153974</td><td>false</td><td>29</td><td>1</td><td>39</td><td>3408502330831153141</td></tr><tr><td>7.12534030784</td><td>false</td><td>34</td><td>1</td><td>40</td><td>7108882242435606404</td></tr><tr><td>7.43839671988</td><td>false</td><td>31</td><td>1</td><td>38</td><td>6392072535155213407</td></tr><tr><td>7.3524164377</td><td>true</td><td>30</td><td>1</td><td>37</td><td>8904940584331855459</td></tr><tr><td>8.062304921339999</td><td>true</td><td>16</td><td>1</td><td>40</td><td>2126480030009879160</td></tr><tr><td>7.25100379718</td><td>true</td><td>17</td><td>1</td><td>39</td><td>1525201076796226340</td></tr></table></div>\n",
              "    <br />(rows: 10, time: 0.4s, cached, job: job_72RtANBhc19bwv6X01UL9ztF3n3G)<br />\n",
              "    <script src=\"/static/components/requirejs/require.js\"></script>\n",
              "    <script>\n",
              "      require.config({\n",
              "        paths: {\n",
              "          base: '/static/base',\n",
              "          d3: '//cdnjs.cloudflare.com/ajax/libs/d3/3.4.13/d3',\n",
              "          plotly: 'https://cdn.plot.ly/plotly-1.5.1.min.js?noext',\n",
              "          jquery: '//ajax.googleapis.com/ajax/libs/jquery/2.0.0/jquery.min'\n",
              "        },\n",
              "        map: {\n",
              "          '*': {\n",
              "            datalab: 'nbextensions/gcpdatalab'\n",
              "          }\n",
              "        },\n",
              "        shim: {\n",
              "          plotly: {\n",
              "            deps: ['d3', 'jquery'],\n",
              "            exports: 'plotly'\n",
              "          }\n",
              "        }\n",
              "      });\n",
              "\n",
              "      require(['datalab/charting', 'datalab/element!6_155688903691', 'base/js/events',\n",
              "          'datalab/style!/nbextensions/gcpdatalab/charting.css'],\n",
              "        function(charts, dom, events) {\n",
              "          charts.render('gcharts', dom, events, 'table', [], {\"cols\": [{\"type\": \"number\", \"id\": \"weight_pounds\", \"label\": \"weight_pounds\"}, {\"type\": \"string\", \"id\": \"is_male\", \"label\": \"is_male\"}, {\"type\": \"number\", \"id\": \"mother_age\", \"label\": \"mother_age\"}, {\"type\": \"string\", \"id\": \"plurality\", \"label\": \"plurality\"}, {\"type\": \"number\", \"id\": \"gestation_weeks\", \"label\": \"gestation_weeks\"}, {\"type\": \"number\", \"id\": \"hashmonth\", \"label\": \"hashmonth\"}], \"rows\": [{\"c\": [{\"v\": 7.56846945446}, {\"v\": \"true\"}, {\"v\": 22}, {\"v\": \"1\"}, {\"v\": 46}, {\"v\": 1403073183891835564}]}, {\"c\": [{\"v\": 8.8074673669}, {\"v\": \"true\"}, {\"v\": 39}, {\"v\": \"1\"}, {\"v\": 42}, {\"v\": 1088037545023002395}]}, {\"c\": [{\"v\": 8.313631900019999}, {\"v\": \"true\"}, {\"v\": 23}, {\"v\": \"1\"}, {\"v\": 35}, {\"v\": 2126480030009879160}]}, {\"c\": [{\"v\": 8.000575487979999}, {\"v\": \"false\"}, {\"v\": 27}, {\"v\": \"1\"}, {\"v\": 40}, {\"v\": 7170969733900686954}]}, {\"c\": [{\"v\": 6.56316153974}, {\"v\": \"false\"}, {\"v\": 29}, {\"v\": \"1\"}, {\"v\": 39}, {\"v\": 3408502330831153141}]}, {\"c\": [{\"v\": 7.12534030784}, {\"v\": \"false\"}, {\"v\": 34}, {\"v\": \"1\"}, {\"v\": 40}, {\"v\": 7108882242435606404}]}, {\"c\": [{\"v\": 7.43839671988}, {\"v\": \"false\"}, {\"v\": 31}, {\"v\": \"1\"}, {\"v\": 38}, {\"v\": 6392072535155213407}]}, {\"c\": [{\"v\": 7.3524164377}, {\"v\": \"true\"}, {\"v\": 30}, {\"v\": \"1\"}, {\"v\": 37}, {\"v\": 8904940584331855459}]}, {\"c\": [{\"v\": 8.062304921339999}, {\"v\": \"true\"}, {\"v\": 16}, {\"v\": \"1\"}, {\"v\": 40}, {\"v\": 2126480030009879160}]}, {\"c\": [{\"v\": 7.25100379718}, {\"v\": \"true\"}, {\"v\": 17}, {\"v\": \"1\"}, {\"v\": 39}, {\"v\": 1525201076796226340}]}]},\n",
              "            {\n",
              "              pageSize: 25,\n",
              "              cssClassNames:  {\n",
              "                tableRow: 'gchart-table-row',\n",
              "                headerRow: 'gchart-table-headerrow',\n",
              "                oddTableRow: 'gchart-table-oddrow',\n",
              "                selectedTableRow: 'gchart-table-selectedrow',\n",
              "                hoverTableRow: 'gchart-table-hoverrow',\n",
              "                tableCell: 'gchart-table-cell',\n",
              "                headerCell: 'gchart-table-headercell',\n",
              "                rowNumberCell: 'gchart-table-rownumcell'\n",
              "              }\n",
              "            },\n",
              "            {source_index: 1, fields: 'weight_pounds,is_male,mother_age,plurality,gestation_weeks,hashmonth'},\n",
              "            0,\n",
              "            10);\n",
              "        }\n",
              "      );\n",
              "    </script>\n",
              "  "
            ],
            "text/plain": [
              "QueryResultsTable job_72RtANBhc19bwv6X01UL9ztF3n3G"
            ]
          },
          "metadata": {
            "tags": []
          },
          "execution_count": 21
        }
      ]
    },
    {
      "cell_type": "markdown",
      "metadata": {
        "colab_type": "text",
        "id": "H-d7C8KcD5am"
      },
      "source": [
        "## Train Model\n",
        "\n",
        "With the relevant columns chosen to accomplish predictions, it is then possible to create (train) the model in BigQuery. First, a dataset will be needed store the model. (if this throws an error in Datalab, simply create the dataset from the BigQuery console)."
      ]
    },
    {
      "cell_type": "code",
      "metadata": {
        "colab_type": "code",
        "id": "bWMZJQdKD5an",
        "colab": {},
        "outputId": "8a689040-a752-4bf3-8732-1bb86f32f511"
      },
      "source": [
        "%%bash\n",
        "bq --location=ASIA mk -d demo"
      ],
      "execution_count": 0,
      "outputs": [
        {
          "output_type": "stream",
          "text": [
            "BigQuery error in mk operation: Cannot contact server. Please try again.\n",
            "Traceback: Traceback (most recent call last):\n",
            "File \"/tools/google-cloud-sdk/platform/bq/bigquery_client.py\", line 889, in\n",
            "BuildApiClient\n",
            "response_metadata, discovery_document = http.request(discovery_url)\n",
            "File\n",
            "\"/tools/google-cloud-sdk/platform/bq/third_party/oauth2client_4_0/transport.py\",\n",
            "line 176, in new_request\n",
            "redirections, connection_type)\n",
            "File\n",
            "\"/tools/google-cloud-sdk/platform/bq/third_party/oauth2client_4_0/transport.py\",\n",
            "line 283, in request\n",
            "connection_type=connection_type)\n",
            "File \"/tools/google-cloud-sdk/platform/bq/third_party/httplib2/__init__.py\",\n",
            "line 1626, in request\n",
            "(response, content) = self._request(conn, authority, uri, request_uri, method,\n",
            "body, headers, redirections, cachekey)\n",
            "File \"/tools/google-cloud-sdk/platform/bq/third_party/httplib2/__init__.py\",\n",
            "line 1368, in _request\n",
            "(response, content) = self._conn_request(conn, request_uri, method, body,\n",
            "headers)\n",
            "File \"/tools/google-cloud-sdk/platform/bq/third_party/httplib2/__init__.py\",\n",
            "line 1288, in _conn_request\n",
            "conn.connect()\n",
            "File \"/tools/google-cloud-sdk/platform/bq/third_party/httplib2/__init__.py\",\n",
            "line 1082, in connect\n",
            "raise SSLHandshakeError(e)\n",
            "SSLHandshakeError: [SSL: CERTIFICATE_VERIFY_FAILED] certificate verify failed\n",
            "(_ssl.c:726)\n"
          ],
          "name": "stdout"
        }
      ]
    },
    {
      "cell_type": "markdown",
      "metadata": {
        "colab_type": "text",
        "id": "T9JZIQ9nD5ap"
      },
      "source": [
        "With the demo dataset ready, it is possible to create a linear regression model to train the model.\n",
        "\n",
        "This will take approximately **4 minutes** to run and will show **Done** when complete."
      ]
    },
    {
      "cell_type": "code",
      "metadata": {
        "colab_type": "code",
        "id": "V-UJOX0tD5aq",
        "outputId": "63aa219c-a14f-4db5-a271-2e614759fe1a",
        "colab": {}
      },
      "source": [
        "%%bq query\n",
        "CREATE or REPLACE MODEL demo.babyweight_model_asis\n",
        "OPTIONS\n",
        "  (model_type='linear_reg', labels=['weight_pounds']) AS\n",
        "  \n",
        "WITH natality_data AS (\n",
        "  SELECT\n",
        "    weight_pounds,-- this is the label; because it is continuous, we need to use regression\n",
        "    CAST(is_male AS STRING) AS is_male,\n",
        "    mother_age,\n",
        "    CAST(plurality AS STRING) AS plurality,\n",
        "    gestation_weeks,\n",
        "    ABS(FARM_FINGERPRINT(CONCAT(CAST(YEAR AS STRING), CAST(month AS STRING)))) AS hashmonth\n",
        "  FROM\n",
        "    publicdata.samples.natality\n",
        "  WHERE\n",
        "    year > 2000\n",
        "    AND gestation_weeks > 0\n",
        "    AND mother_age > 0\n",
        "    AND plurality > 0\n",
        "    AND weight_pounds > 0\n",
        ")\n",
        "\n",
        "SELECT\n",
        "    weight_pounds,\n",
        "    is_male,\n",
        "    mother_age,\n",
        "    plurality,\n",
        "    gestation_weeks\n",
        "FROM\n",
        "    natality_data\n",
        "WHERE\n",
        "  MOD(hashmonth, 4) < 3  -- select 75% of the data as training"
      ],
      "execution_count": 0,
      "outputs": [
        {
          "output_type": "stream",
          "text": [
            "\n",
            "notFound: Not found: Dataset qwiklabs-gcp-03f3aae32d6f97d5:demo was not found in location US"
          ],
          "name": "stderr"
        }
      ]
    },
    {
      "cell_type": "markdown",
      "metadata": {
        "colab_type": "text",
        "id": "mJYtGxWyD5at"
      },
      "source": [
        "## Training Statistics"
      ]
    },
    {
      "cell_type": "markdown",
      "metadata": {
        "colab_type": "text",
        "id": "0L92s-gtD5au"
      },
      "source": [
        "During the model training (and after the training), it is possible to see the model's training evaluation statistics.\n",
        "\n",
        "For each training run, a table named `<model_name>_eval` is created. This table has basic performance statistics for each iteration.\n",
        "\n",
        "While the new model is training, review the training statistics in the BigQuery UI to see the below model training: https://bigquery.cloud.google.com/\n",
        "\n",
        "Since these statistics are updated after each iteration of model training, you will see different values for each refresh while the model is training.\n",
        "\n",
        "The training details may also be viewed after the training completes from this notebook."
      ]
    },
    {
      "cell_type": "code",
      "metadata": {
        "colab_type": "code",
        "id": "ZbV6aDcRD5au",
        "outputId": "9518b192-2f7f-4b69-e612-2e3068f9925c",
        "colab": {}
      },
      "source": [
        "%%bq query\n",
        "SELECT * FROM ML.TRAINING_INFO(MODEL demo.babyweight_model_asis);"
      ],
      "execution_count": 0,
      "outputs": [
        {
          "output_type": "stream",
          "text": [
            "\n",
            "notFound: Not found: Dataset qwiklabs-gcp-03f3aae32d6f97d5:demo was not found in location US"
          ],
          "name": "stderr"
        }
      ]
    },
    {
      "cell_type": "markdown",
      "metadata": {
        "colab_type": "text",
        "id": "CATWu60vD5ay"
      },
      "source": [
        "Some of these columns are obvious although what do the non-specific ML columns mean (specific to BQML)?\n",
        "\n",
        "**training_run** - Will be zero for a newly created model. If the model is re-trained using warm_start, this will increment for each re-training.\n",
        "\n",
        "**iteration** - Number of the associated `training_run`, starting with zero for the first iteration.\n",
        "\n",
        "**duration_ms** - Indicates how long the iteration took (in ms).\n",
        "\n",
        "Note: You can also see these stats by refreshing the BigQuery UI window, finding the `<model_name>` table, selecting on it, and then the Training Stats sub-header.\n",
        "\n",
        "Let's plot the training and evaluation loss to see if the model has an overfit."
      ]
    },
    {
      "cell_type": "code",
      "metadata": {
        "colab_type": "code",
        "id": "govNS3cyD5az",
        "outputId": "0187c121-e47e-4c85-e59e-00ada59c291f",
        "colab": {}
      },
      "source": [
        "import google.datalab.bigquery as bq\n",
        "df = bq.Query(\"SELECT * FROM ML.TRAINING_INFO(MODEL demo.babyweight_model_asis)\").execute().result().to_dataframe()\n",
        "# plot both lines in same graph\n",
        "import matplotlib.pyplot as plt\n",
        "plt.plot( 'iteration', 'loss', data=df, marker='o', color='orange', linewidth=2)\n",
        "plt.plot( 'iteration', 'eval_loss', data=df, marker='', color='green', linewidth=2, linestyle='dashed')\n",
        "plt.xlabel('iteration')\n",
        "plt.ylabel('loss')\n",
        "plt.legend();"
      ],
      "execution_count": 0,
      "outputs": [
        {
          "output_type": "error",
          "ename": "Exception",
          "evalue": "notFound: Not found: Dataset qwiklabs-gcp-03f3aae32d6f97d5:demo was not found in location US",
          "traceback": [
            "\u001b[0;31m---------------------------------------------------------------------------\u001b[0m",
            "\u001b[0;31mKeyError\u001b[0m                                  Traceback (most recent call last)",
            "\u001b[0;32m/usr/local/envs/py3env/lib/python3.5/site-packages/google/datalab/bigquery/_query.py\u001b[0m in \u001b[0;36mexecute_async\u001b[0;34m(self, output_options, sampling, context, query_params)\u001b[0m\n\u001b[1;32m    278\u001b[0m       \u001b[0;32mtry\u001b[0m\u001b[0;34m:\u001b[0m\u001b[0;34m\u001b[0m\u001b[0m\n\u001b[0;32m--> 279\u001b[0;31m         \u001b[0mdestination\u001b[0m \u001b[0;34m=\u001b[0m \u001b[0mquery_result\u001b[0m\u001b[0;34m[\u001b[0m\u001b[0;34m'configuration'\u001b[0m\u001b[0;34m]\u001b[0m\u001b[0;34m[\u001b[0m\u001b[0;34m'query'\u001b[0m\u001b[0;34m]\u001b[0m\u001b[0;34m[\u001b[0m\u001b[0;34m'destinationTable'\u001b[0m\u001b[0;34m]\u001b[0m\u001b[0;34m\u001b[0m\u001b[0m\n\u001b[0m\u001b[1;32m    280\u001b[0m         \u001b[0mtable_name\u001b[0m \u001b[0;34m=\u001b[0m \u001b[0;34m(\u001b[0m\u001b[0mdestination\u001b[0m\u001b[0;34m[\u001b[0m\u001b[0;34m'projectId'\u001b[0m\u001b[0;34m]\u001b[0m\u001b[0;34m,\u001b[0m \u001b[0mdestination\u001b[0m\u001b[0;34m[\u001b[0m\u001b[0;34m'datasetId'\u001b[0m\u001b[0;34m]\u001b[0m\u001b[0;34m,\u001b[0m \u001b[0mdestination\u001b[0m\u001b[0;34m[\u001b[0m\u001b[0;34m'tableId'\u001b[0m\u001b[0;34m]\u001b[0m\u001b[0;34m)\u001b[0m\u001b[0;34m\u001b[0m\u001b[0m\n",
            "\u001b[0;31mKeyError\u001b[0m: 'destinationTable'",
            "\nDuring handling of the above exception, another exception occurred:\n",
            "\u001b[0;31mException\u001b[0m                                 Traceback (most recent call last)",
            "\u001b[0;32m<ipython-input-25-de674d634ba9>\u001b[0m in \u001b[0;36m<module>\u001b[0;34m()\u001b[0m\n\u001b[1;32m      1\u001b[0m \u001b[0;32mimport\u001b[0m \u001b[0mgoogle\u001b[0m\u001b[0;34m.\u001b[0m\u001b[0mdatalab\u001b[0m\u001b[0;34m.\u001b[0m\u001b[0mbigquery\u001b[0m \u001b[0;32mas\u001b[0m \u001b[0mbq\u001b[0m\u001b[0;34m\u001b[0m\u001b[0m\n\u001b[0;32m----> 2\u001b[0;31m \u001b[0mdf\u001b[0m \u001b[0;34m=\u001b[0m \u001b[0mbq\u001b[0m\u001b[0;34m.\u001b[0m\u001b[0mQuery\u001b[0m\u001b[0;34m(\u001b[0m\u001b[0;34m\"SELECT * FROM ML.TRAINING_INFO(MODEL demo.babyweight_model_asis)\"\u001b[0m\u001b[0;34m)\u001b[0m\u001b[0;34m.\u001b[0m\u001b[0mexecute\u001b[0m\u001b[0;34m(\u001b[0m\u001b[0;34m)\u001b[0m\u001b[0;34m.\u001b[0m\u001b[0mresult\u001b[0m\u001b[0;34m(\u001b[0m\u001b[0;34m)\u001b[0m\u001b[0;34m.\u001b[0m\u001b[0mto_dataframe\u001b[0m\u001b[0;34m(\u001b[0m\u001b[0;34m)\u001b[0m\u001b[0;34m\u001b[0m\u001b[0m\n\u001b[0m\u001b[1;32m      3\u001b[0m \u001b[0;31m# plot both lines in same graph\u001b[0m\u001b[0;34m\u001b[0m\u001b[0;34m\u001b[0m\u001b[0m\n\u001b[1;32m      4\u001b[0m \u001b[0;32mimport\u001b[0m \u001b[0mmatplotlib\u001b[0m\u001b[0;34m.\u001b[0m\u001b[0mpyplot\u001b[0m \u001b[0;32mas\u001b[0m \u001b[0mplt\u001b[0m\u001b[0;34m\u001b[0m\u001b[0m\n\u001b[1;32m      5\u001b[0m \u001b[0mplt\u001b[0m\u001b[0;34m.\u001b[0m\u001b[0mplot\u001b[0m\u001b[0;34m(\u001b[0m \u001b[0;34m'iteration'\u001b[0m\u001b[0;34m,\u001b[0m \u001b[0;34m'loss'\u001b[0m\u001b[0;34m,\u001b[0m \u001b[0mdata\u001b[0m\u001b[0;34m=\u001b[0m\u001b[0mdf\u001b[0m\u001b[0;34m,\u001b[0m \u001b[0mmarker\u001b[0m\u001b[0;34m=\u001b[0m\u001b[0;34m'o'\u001b[0m\u001b[0;34m,\u001b[0m \u001b[0mcolor\u001b[0m\u001b[0;34m=\u001b[0m\u001b[0;34m'orange'\u001b[0m\u001b[0;34m,\u001b[0m \u001b[0mlinewidth\u001b[0m\u001b[0;34m=\u001b[0m\u001b[0;36m2\u001b[0m\u001b[0;34m)\u001b[0m\u001b[0;34m\u001b[0m\u001b[0m\n",
            "\u001b[0;32m/usr/local/envs/py3env/lib/python3.5/site-packages/google/datalab/bigquery/_query.py\u001b[0m in \u001b[0;36mexecute\u001b[0;34m(self, output_options, sampling, context, query_params)\u001b[0m\n\u001b[1;32m    337\u001b[0m     \"\"\"\n\u001b[1;32m    338\u001b[0m     return self.execute_async(output_options, sampling=sampling, context=context,\n\u001b[0;32m--> 339\u001b[0;31m                               query_params=query_params).wait()\n\u001b[0m\u001b[1;32m    340\u001b[0m \u001b[0;34m\u001b[0m\u001b[0m\n\u001b[1;32m    341\u001b[0m   \u001b[0;34m@\u001b[0m\u001b[0mstaticmethod\u001b[0m\u001b[0;34m\u001b[0m\u001b[0m\n",
            "\u001b[0;32m/usr/local/envs/py3env/lib/python3.5/site-packages/google/datalab/bigquery/_query.py\u001b[0m in \u001b[0;36mexecute_async\u001b[0;34m(self, output_options, sampling, context, query_params)\u001b[0m\n\u001b[1;32m    281\u001b[0m       \u001b[0;32mexcept\u001b[0m \u001b[0mKeyError\u001b[0m\u001b[0;34m:\u001b[0m\u001b[0;34m\u001b[0m\u001b[0m\n\u001b[1;32m    282\u001b[0m         \u001b[0;31m# The query was in error\u001b[0m\u001b[0;34m\u001b[0m\u001b[0;34m\u001b[0m\u001b[0m\n\u001b[0;32m--> 283\u001b[0;31m         \u001b[0;32mraise\u001b[0m \u001b[0mException\u001b[0m\u001b[0;34m(\u001b[0m\u001b[0m_utils\u001b[0m\u001b[0;34m.\u001b[0m\u001b[0mformat_query_errors\u001b[0m\u001b[0;34m(\u001b[0m\u001b[0mquery_result\u001b[0m\u001b[0;34m[\u001b[0m\u001b[0;34m'status'\u001b[0m\u001b[0;34m]\u001b[0m\u001b[0;34m[\u001b[0m\u001b[0;34m'errors'\u001b[0m\u001b[0;34m]\u001b[0m\u001b[0;34m)\u001b[0m\u001b[0;34m)\u001b[0m\u001b[0;34m\u001b[0m\u001b[0m\n\u001b[0m\u001b[1;32m    284\u001b[0m \u001b[0;34m\u001b[0m\u001b[0m\n\u001b[1;32m    285\u001b[0m     \u001b[0mexecute_job\u001b[0m \u001b[0;34m=\u001b[0m \u001b[0m_query_job\u001b[0m\u001b[0;34m.\u001b[0m\u001b[0mQueryJob\u001b[0m\u001b[0;34m(\u001b[0m\u001b[0mjob_id\u001b[0m\u001b[0;34m,\u001b[0m \u001b[0mtable_name\u001b[0m\u001b[0;34m,\u001b[0m \u001b[0msql\u001b[0m\u001b[0;34m,\u001b[0m \u001b[0mcontext\u001b[0m\u001b[0;34m=\u001b[0m\u001b[0mcontext\u001b[0m\u001b[0;34m)\u001b[0m\u001b[0;34m\u001b[0m\u001b[0m\n",
            "\u001b[0;31mException\u001b[0m: notFound: Not found: Dataset qwiklabs-gcp-03f3aae32d6f97d5:demo was not found in location US"
          ]
        }
      ]
    },
    {
      "cell_type": "markdown",
      "metadata": {
        "colab_type": "text",
        "id": "Add--LfeD5a2"
      },
      "source": [
        "As you can see, the training loss and evaluation loss are essentially identical. We do not seem to be overfitting."
      ]
    },
    {
      "cell_type": "markdown",
      "metadata": {
        "colab_type": "text",
        "id": "9QPwMA_ZD5a3"
      },
      "source": [
        "## Make a Prediction with BQML using the Model"
      ]
    },
    {
      "cell_type": "markdown",
      "metadata": {
        "colab_type": "text",
        "id": "9QBZxMb6D5a5"
      },
      "source": [
        "With a trained model, it is now possible to make a prediction on the values. The only difference from the second query above is the reference to the model. The data has been limited (`LIMIT 100`) to reduce amount of data returned.\n",
        "\n",
        "When the `ml.predict` function is leveraged, output prediction column name for the model is `predicted_<label_column_name>`."
      ]
    },
    {
      "cell_type": "code",
      "metadata": {
        "colab_type": "code",
        "id": "x-hedqSeD5a6",
        "outputId": "e9bbeb43-900c-420a-8520-2feeccf79239",
        "colab": {}
      },
      "source": [
        "%%bq query\n",
        "SELECT\n",
        "  *\n",
        "FROM\n",
        "  ml.PREDICT(MODEL demo.babyweight_model_asis,\n",
        "      (SELECT\n",
        "        weight_pounds,\n",
        "        CAST(is_male AS STRING) AS is_male,\n",
        "        mother_age,\n",
        "        CAST(plurality AS STRING) AS plurality,\n",
        "        gestation_weeks\n",
        "      FROM\n",
        "        publicdata.samples.natality\n",
        "      WHERE\n",
        "        year > 2000\n",
        "        AND gestation_weeks > 0\n",
        "        AND mother_age > 0\n",
        "        AND plurality > 0\n",
        "        AND weight_pounds > 0\n",
        "    ))\n",
        "LIMIT 100"
      ],
      "execution_count": 0,
      "outputs": [
        {
          "output_type": "stream",
          "text": [
            "\n",
            "notFound: Not found: Dataset qwiklabs-gcp-03f3aae32d6f97d5:demo was not found in location US"
          ],
          "name": "stderr"
        }
      ]
    },
    {
      "cell_type": "markdown",
      "metadata": {
        "colab_type": "text",
        "id": "0DZorSI-D5a9"
      },
      "source": [
        "# More advanced...\n",
        "\n",
        "In the original example, we were taking into account the idea that if no ultrasound has been performed, some of the features (e.g. is_male) will not be known. Therefore, we augmented the dataset with such masked features and trained a single model to deal with both these scenarios.\n",
        "\n",
        "In addition, during data exploration, we learned that the data size set for mothers older than 45 was quite sparse, so we will discretize the mother age."
      ]
    },
    {
      "cell_type": "code",
      "metadata": {
        "colab_type": "code",
        "id": "SnNOrcMfD5a-",
        "outputId": "316cc091-ffd8-4dce-ae9c-b56fef884593",
        "colab": {}
      },
      "source": [
        "%%bq query\n",
        "SELECT\n",
        "    weight_pounds,\n",
        "    CAST(is_male AS STRING) AS is_male,\n",
        "    IF(mother_age < 18, 'LOW',\n",
        "         IF(mother_age > 45, 'HIGH',\n",
        "            CAST(mother_age AS STRING))) AS mother_age,\n",
        "    CAST(plurality AS STRING) AS plurality,\n",
        "    CAST(gestation_weeks AS STRING) AS gestation_weeks,\n",
        "    ABS(FARM_FINGERPRINT(CONCAT(CAST(YEAR AS STRING), CAST(month AS STRING)))) AS hashmonth\n",
        "  FROM\n",
        "    publicdata.samples.natality\n",
        "  WHERE\n",
        "    year > 2000\n",
        "    AND gestation_weeks > 0\n",
        "    AND mother_age > 0\n",
        "    AND plurality > 0\n",
        "    AND weight_pounds > 0\n",
        "LIMIT 25"
      ],
      "execution_count": 0,
      "outputs": [
        {
          "output_type": "execute_result",
          "data": {
            "text/html": [
              "\n",
              "    <div class=\"bqtv\" id=\"7_155688910132\"><table><tr><th>weight_pounds</th><th>is_male</th><th>mother_age</th><th>plurality</th><th>gestation_weeks</th><th>hashmonth</th></tr><tr><td>7.1319541757</td><td>true</td><td>32</td><td>1</td><td>28</td><td>6691862025345277042</td></tr><tr><td>7.3744626639</td><td>true</td><td>33</td><td>1</td><td>39</td><td>7146494315947640619</td></tr><tr><td>8.062304921339999</td><td>false</td><td>26</td><td>1</td><td>40</td><td>7146494315947640619</td></tr><tr><td>7.4846937949</td><td>false</td><td>24</td><td>1</td><td>39</td><td>3408502330831153141</td></tr><tr><td>5.74965579296</td><td>false</td><td>21</td><td>2</td><td>36</td><td>1088037545023002395</td></tr><tr><td>6.1883756943399995</td><td>true</td><td>22</td><td>1</td><td>36</td><td>5896567601480310696</td></tr><tr><td>2.0392759235</td><td>false</td><td>26</td><td>1</td><td>28</td><td>6691862025345277042</td></tr><tr><td>5.18747702486</td><td>true</td><td>34</td><td>2</td><td>37</td><td>8904940584331855459</td></tr><tr><td>7.5618555866</td><td>false</td><td>34</td><td>1</td><td>38</td><td>2126480030009879160</td></tr><tr><td>4.6407306151</td><td>false</td><td>30</td><td>1</td><td>39</td><td>7108882242435606404</td></tr><tr><td>7.38769039962</td><td>false</td><td>36</td><td>1</td><td>38</td><td>6392072535155213407</td></tr><tr><td>6.2390820146</td><td>true</td><td>21</td><td>1</td><td>34</td><td>5934265245228309013</td></tr><tr><td>6.37576861704</td><td>false</td><td>19</td><td>1</td><td>37</td><td>1088037545023002395</td></tr><tr><td>8.18796841068</td><td>true</td><td>29</td><td>1</td><td>40</td><td>7146494315947640619</td></tr><tr><td>7.3413933246</td><td>false</td><td>27</td><td>1</td><td>40</td><td>6691862025345277042</td></tr><tr><td>7.3854857769999995</td><td>false</td><td>41</td><td>1</td><td>40</td><td>8904940584331855459</td></tr><tr><td>8.18796841068</td><td>true</td><td>26</td><td>1</td><td>38</td><td>1403073183891835564</td></tr><tr><td>8.62448368944</td><td>false</td><td>31</td><td>1</td><td>40</td><td>8387817883864991792</td></tr><tr><td>6.45733965398</td><td>false</td><td>22</td><td>1</td><td>40</td><td>1451354159195218418</td></tr><tr><td>7.7492485093</td><td>false</td><td>36</td><td>1</td><td>41</td><td>9068386407968572094</td></tr><tr><td>4.3761759007</td><td>false</td><td>29</td><td>2</td><td>29</td><td>6691862025345277042</td></tr><tr><td>9.87450471498</td><td>true</td><td>29</td><td>1</td><td>38</td><td>1403073183891835564</td></tr><tr><td>7.1209310625999995</td><td>false</td><td>34</td><td>1</td><td>40</td><td>5896567601480310696</td></tr><tr><td>7.50012615324</td><td>false</td><td>32</td><td>1</td><td>39</td><td>1088037545023002395</td></tr><tr><td>7.06361087448</td><td>true</td><td>29</td><td>1</td><td>39</td><td>1525201076796226340</td></tr></table></div>\n",
              "    <br />(rows: 25, time: 1.8s,     6GB processed, job: job_BkGJSkMWg4M2cEVLXCo2-pdJ5kHJ)<br />\n",
              "    <script src=\"/static/components/requirejs/require.js\"></script>\n",
              "    <script>\n",
              "      require.config({\n",
              "        paths: {\n",
              "          base: '/static/base',\n",
              "          d3: '//cdnjs.cloudflare.com/ajax/libs/d3/3.4.13/d3',\n",
              "          plotly: 'https://cdn.plot.ly/plotly-1.5.1.min.js?noext',\n",
              "          jquery: '//ajax.googleapis.com/ajax/libs/jquery/2.0.0/jquery.min'\n",
              "        },\n",
              "        map: {\n",
              "          '*': {\n",
              "            datalab: 'nbextensions/gcpdatalab'\n",
              "          }\n",
              "        },\n",
              "        shim: {\n",
              "          plotly: {\n",
              "            deps: ['d3', 'jquery'],\n",
              "            exports: 'plotly'\n",
              "          }\n",
              "        }\n",
              "      });\n",
              "\n",
              "      require(['datalab/charting', 'datalab/element!7_155688910132', 'base/js/events',\n",
              "          'datalab/style!/nbextensions/gcpdatalab/charting.css'],\n",
              "        function(charts, dom, events) {\n",
              "          charts.render('gcharts', dom, events, 'table', [], {\"cols\": [{\"type\": \"number\", \"id\": \"weight_pounds\", \"label\": \"weight_pounds\"}, {\"type\": \"string\", \"id\": \"is_male\", \"label\": \"is_male\"}, {\"type\": \"string\", \"id\": \"mother_age\", \"label\": \"mother_age\"}, {\"type\": \"string\", \"id\": \"plurality\", \"label\": \"plurality\"}, {\"type\": \"string\", \"id\": \"gestation_weeks\", \"label\": \"gestation_weeks\"}, {\"type\": \"number\", \"id\": \"hashmonth\", \"label\": \"hashmonth\"}], \"rows\": [{\"c\": [{\"v\": 7.1319541757}, {\"v\": \"true\"}, {\"v\": \"32\"}, {\"v\": \"1\"}, {\"v\": \"28\"}, {\"v\": 6691862025345277042}]}, {\"c\": [{\"v\": 7.3744626639}, {\"v\": \"true\"}, {\"v\": \"33\"}, {\"v\": \"1\"}, {\"v\": \"39\"}, {\"v\": 7146494315947640619}]}, {\"c\": [{\"v\": 8.062304921339999}, {\"v\": \"false\"}, {\"v\": \"26\"}, {\"v\": \"1\"}, {\"v\": \"40\"}, {\"v\": 7146494315947640619}]}, {\"c\": [{\"v\": 7.4846937949}, {\"v\": \"false\"}, {\"v\": \"24\"}, {\"v\": \"1\"}, {\"v\": \"39\"}, {\"v\": 3408502330831153141}]}, {\"c\": [{\"v\": 5.74965579296}, {\"v\": \"false\"}, {\"v\": \"21\"}, {\"v\": \"2\"}, {\"v\": \"36\"}, {\"v\": 1088037545023002395}]}, {\"c\": [{\"v\": 6.1883756943399995}, {\"v\": \"true\"}, {\"v\": \"22\"}, {\"v\": \"1\"}, {\"v\": \"36\"}, {\"v\": 5896567601480310696}]}, {\"c\": [{\"v\": 2.0392759235}, {\"v\": \"false\"}, {\"v\": \"26\"}, {\"v\": \"1\"}, {\"v\": \"28\"}, {\"v\": 6691862025345277042}]}, {\"c\": [{\"v\": 5.18747702486}, {\"v\": \"true\"}, {\"v\": \"34\"}, {\"v\": \"2\"}, {\"v\": \"37\"}, {\"v\": 8904940584331855459}]}, {\"c\": [{\"v\": 7.5618555866}, {\"v\": \"false\"}, {\"v\": \"34\"}, {\"v\": \"1\"}, {\"v\": \"38\"}, {\"v\": 2126480030009879160}]}, {\"c\": [{\"v\": 4.6407306151}, {\"v\": \"false\"}, {\"v\": \"30\"}, {\"v\": \"1\"}, {\"v\": \"39\"}, {\"v\": 7108882242435606404}]}, {\"c\": [{\"v\": 7.38769039962}, {\"v\": \"false\"}, {\"v\": \"36\"}, {\"v\": \"1\"}, {\"v\": \"38\"}, {\"v\": 6392072535155213407}]}, {\"c\": [{\"v\": 6.2390820146}, {\"v\": \"true\"}, {\"v\": \"21\"}, {\"v\": \"1\"}, {\"v\": \"34\"}, {\"v\": 5934265245228309013}]}, {\"c\": [{\"v\": 6.37576861704}, {\"v\": \"false\"}, {\"v\": \"19\"}, {\"v\": \"1\"}, {\"v\": \"37\"}, {\"v\": 1088037545023002395}]}, {\"c\": [{\"v\": 8.18796841068}, {\"v\": \"true\"}, {\"v\": \"29\"}, {\"v\": \"1\"}, {\"v\": \"40\"}, {\"v\": 7146494315947640619}]}, {\"c\": [{\"v\": 7.3413933246}, {\"v\": \"false\"}, {\"v\": \"27\"}, {\"v\": \"1\"}, {\"v\": \"40\"}, {\"v\": 6691862025345277042}]}, {\"c\": [{\"v\": 7.3854857769999995}, {\"v\": \"false\"}, {\"v\": \"41\"}, {\"v\": \"1\"}, {\"v\": \"40\"}, {\"v\": 8904940584331855459}]}, {\"c\": [{\"v\": 8.18796841068}, {\"v\": \"true\"}, {\"v\": \"26\"}, {\"v\": \"1\"}, {\"v\": \"38\"}, {\"v\": 1403073183891835564}]}, {\"c\": [{\"v\": 8.62448368944}, {\"v\": \"false\"}, {\"v\": \"31\"}, {\"v\": \"1\"}, {\"v\": \"40\"}, {\"v\": 8387817883864991792}]}, {\"c\": [{\"v\": 6.45733965398}, {\"v\": \"false\"}, {\"v\": \"22\"}, {\"v\": \"1\"}, {\"v\": \"40\"}, {\"v\": 1451354159195218418}]}, {\"c\": [{\"v\": 7.7492485093}, {\"v\": \"false\"}, {\"v\": \"36\"}, {\"v\": \"1\"}, {\"v\": \"41\"}, {\"v\": 9068386407968572094}]}, {\"c\": [{\"v\": 4.3761759007}, {\"v\": \"false\"}, {\"v\": \"29\"}, {\"v\": \"2\"}, {\"v\": \"29\"}, {\"v\": 6691862025345277042}]}, {\"c\": [{\"v\": 9.87450471498}, {\"v\": \"true\"}, {\"v\": \"29\"}, {\"v\": \"1\"}, {\"v\": \"38\"}, {\"v\": 1403073183891835564}]}, {\"c\": [{\"v\": 7.1209310625999995}, {\"v\": \"false\"}, {\"v\": \"34\"}, {\"v\": \"1\"}, {\"v\": \"40\"}, {\"v\": 5896567601480310696}]}, {\"c\": [{\"v\": 7.50012615324}, {\"v\": \"false\"}, {\"v\": \"32\"}, {\"v\": \"1\"}, {\"v\": \"39\"}, {\"v\": 1088037545023002395}]}, {\"c\": [{\"v\": 7.06361087448}, {\"v\": \"true\"}, {\"v\": \"29\"}, {\"v\": \"1\"}, {\"v\": \"39\"}, {\"v\": 1525201076796226340}]}]},\n",
              "            {\n",
              "              pageSize: 25,\n",
              "              cssClassNames:  {\n",
              "                tableRow: 'gchart-table-row',\n",
              "                headerRow: 'gchart-table-headerrow',\n",
              "                oddTableRow: 'gchart-table-oddrow',\n",
              "                selectedTableRow: 'gchart-table-selectedrow',\n",
              "                hoverTableRow: 'gchart-table-hoverrow',\n",
              "                tableCell: 'gchart-table-cell',\n",
              "                headerCell: 'gchart-table-headercell',\n",
              "                rowNumberCell: 'gchart-table-rownumcell'\n",
              "              }\n",
              "            },\n",
              "            {source_index: 2, fields: 'weight_pounds,is_male,mother_age,plurality,gestation_weeks,hashmonth'},\n",
              "            0,\n",
              "            25);\n",
              "        }\n",
              "      );\n",
              "    </script>\n",
              "  "
            ],
            "text/plain": [
              "QueryResultsTable job_BkGJSkMWg4M2cEVLXCo2-pdJ5kHJ"
            ]
          },
          "metadata": {
            "tags": []
          },
          "execution_count": 27
        }
      ]
    },
    {
      "cell_type": "markdown",
      "metadata": {
        "colab_type": "text",
        "id": "ZwetSzIeD5bC"
      },
      "source": [
        "On the same dataset, will also suppose that it is unknown whether the child is male or female (on the same dataset) to simulate that an ultrasound was not been performed."
      ]
    },
    {
      "cell_type": "code",
      "metadata": {
        "colab_type": "code",
        "id": "Y_MSEYqBD5bC",
        "outputId": "22f63e28-93c6-4086-f3f8-68e5ffdaa364",
        "colab": {}
      },
      "source": [
        "%%bq query\n",
        "SELECT\n",
        "    weight_pounds,\n",
        "    'Unknown' AS is_male,\n",
        "    IF(mother_age < 18, 'LOW',\n",
        "         IF(mother_age > 45, 'HIGH',\n",
        "            CAST(mother_age AS STRING))) AS mother_age,\n",
        "    IF(plurality > 1, 'Multiple', 'Single') AS plurality,\n",
        "    CAST(gestation_weeks AS STRING) AS gestation_weeks,\n",
        "    ABS(FARM_FINGERPRINT(CONCAT(CAST(YEAR AS STRING), CAST(month AS STRING)))) AS hashmonth\n",
        "  FROM\n",
        "    publicdata.samples.natality\n",
        "  WHERE\n",
        "    year > 2000\n",
        "    AND gestation_weeks > 0\n",
        "    AND mother_age > 0\n",
        "    AND plurality > 0\n",
        "    AND weight_pounds > 0\n",
        "LIMIT 25"
      ],
      "execution_count": 0,
      "outputs": [
        {
          "output_type": "execute_result",
          "data": {
            "text/html": [
              "\n",
              "    <div class=\"bqtv\" id=\"8_155688910724\"><table><tr><th>weight_pounds</th><th>is_male</th><th>mother_age</th><th>plurality</th><th>gestation_weeks</th><th>hashmonth</th></tr><tr><td>8.81849048</td><td>Unknown</td><td>LOW</td><td>Single</td><td>42</td><td>1403073183891835564</td></tr><tr><td>8.14167133566</td><td>Unknown</td><td>29</td><td>Single</td><td>38</td><td>8904940584331855459</td></tr><tr><td>5.94807182876</td><td>Unknown</td><td>38</td><td>Single</td><td>38</td><td>7108882242435606404</td></tr><tr><td>8.83833208358</td><td>Unknown</td><td>27</td><td>Single</td><td>39</td><td>3408502330831153141</td></tr><tr><td>9.259415004</td><td>Unknown</td><td>28</td><td>Single</td><td>38</td><td>1088037545023002395</td></tr><tr><td>7.12534030784</td><td>Unknown</td><td>34</td><td>Single</td><td>39</td><td>7146494315947640619</td></tr><tr><td>7.06361087448</td><td>Unknown</td><td>18</td><td>Single</td><td>40</td><td>1525201076796226340</td></tr><tr><td>7.50012615324</td><td>Unknown</td><td>31</td><td>Single</td><td>44</td><td>1525201076796226340</td></tr><tr><td>6.2501051276999995</td><td>Unknown</td><td>23</td><td>Single</td><td>41</td><td>1525201076796226340</td></tr><tr><td>3.99918543268</td><td>Unknown</td><td>30</td><td>Single</td><td>32</td><td>7146494315947640619</td></tr><tr><td>6.3713593718</td><td>Unknown</td><td>29</td><td>Single</td><td>40</td><td>8904940584331855459</td></tr><tr><td>6.1178277705</td><td>Unknown</td><td>24</td><td>Single</td><td>36</td><td>7108882242435606404</td></tr><tr><td>9.12493302418</td><td>Unknown</td><td>26</td><td>Single</td><td>40</td><td>7170969733900686954</td></tr><tr><td>8.062304921339999</td><td>Unknown</td><td>23</td><td>Single</td><td>38</td><td>7170969733900686954</td></tr><tr><td>8.02703095942</td><td>Unknown</td><td>28</td><td>Single</td><td>39</td><td>7170969733900686954</td></tr><tr><td>8.483387841759999</td><td>Unknown</td><td>27</td><td>Single</td><td>40</td><td>5896567601480310696</td></tr><tr><td>6.686620406459999</td><td>Unknown</td><td>28</td><td>Single</td><td>40</td><td>8904940584331855459</td></tr><tr><td>7.50012615324</td><td>Unknown</td><td>26</td><td>Single</td><td>39</td><td>5896567601480310696</td></tr><tr><td>7.6169711521</td><td>Unknown</td><td>36</td><td>Single</td><td>38</td><td>7170969733900686954</td></tr><tr><td>6.4374980503999994</td><td>Unknown</td><td>27</td><td>Single</td><td>40</td><td>3408502330831153141</td></tr><tr><td>8.062304921339999</td><td>Unknown</td><td>19</td><td>Single</td><td>39</td><td>1088037545023002395</td></tr><tr><td>7.94105067724</td><td>Unknown</td><td>33</td><td>Single</td><td>41</td><td>7146494315947640619</td></tr><tr><td>7.43839671988</td><td>Unknown</td><td>LOW</td><td>Single</td><td>34</td><td>7146494315947640619</td></tr><tr><td>9.37405538024</td><td>Unknown</td><td>29</td><td>Single</td><td>41</td><td>1088037545023002395</td></tr><tr><td>9.9759173555</td><td>Unknown</td><td>LOW</td><td>Single</td><td>41</td><td>6392072535155213407</td></tr></table></div>\n",
              "    <br />(rows: 25, time: 0.9s,     6GB processed, job: job_2Ip7Su3llYOwtaxQiQ3Elyy9LrwX)<br />\n",
              "    <script src=\"/static/components/requirejs/require.js\"></script>\n",
              "    <script>\n",
              "      require.config({\n",
              "        paths: {\n",
              "          base: '/static/base',\n",
              "          d3: '//cdnjs.cloudflare.com/ajax/libs/d3/3.4.13/d3',\n",
              "          plotly: 'https://cdn.plot.ly/plotly-1.5.1.min.js?noext',\n",
              "          jquery: '//ajax.googleapis.com/ajax/libs/jquery/2.0.0/jquery.min'\n",
              "        },\n",
              "        map: {\n",
              "          '*': {\n",
              "            datalab: 'nbextensions/gcpdatalab'\n",
              "          }\n",
              "        },\n",
              "        shim: {\n",
              "          plotly: {\n",
              "            deps: ['d3', 'jquery'],\n",
              "            exports: 'plotly'\n",
              "          }\n",
              "        }\n",
              "      });\n",
              "\n",
              "      require(['datalab/charting', 'datalab/element!8_155688910724', 'base/js/events',\n",
              "          'datalab/style!/nbextensions/gcpdatalab/charting.css'],\n",
              "        function(charts, dom, events) {\n",
              "          charts.render('gcharts', dom, events, 'table', [], {\"cols\": [{\"type\": \"number\", \"id\": \"weight_pounds\", \"label\": \"weight_pounds\"}, {\"type\": \"string\", \"id\": \"is_male\", \"label\": \"is_male\"}, {\"type\": \"string\", \"id\": \"mother_age\", \"label\": \"mother_age\"}, {\"type\": \"string\", \"id\": \"plurality\", \"label\": \"plurality\"}, {\"type\": \"string\", \"id\": \"gestation_weeks\", \"label\": \"gestation_weeks\"}, {\"type\": \"number\", \"id\": \"hashmonth\", \"label\": \"hashmonth\"}], \"rows\": [{\"c\": [{\"v\": 8.81849048}, {\"v\": \"Unknown\"}, {\"v\": \"LOW\"}, {\"v\": \"Single\"}, {\"v\": \"42\"}, {\"v\": 1403073183891835564}]}, {\"c\": [{\"v\": 8.14167133566}, {\"v\": \"Unknown\"}, {\"v\": \"29\"}, {\"v\": \"Single\"}, {\"v\": \"38\"}, {\"v\": 8904940584331855459}]}, {\"c\": [{\"v\": 5.94807182876}, {\"v\": \"Unknown\"}, {\"v\": \"38\"}, {\"v\": \"Single\"}, {\"v\": \"38\"}, {\"v\": 7108882242435606404}]}, {\"c\": [{\"v\": 8.83833208358}, {\"v\": \"Unknown\"}, {\"v\": \"27\"}, {\"v\": \"Single\"}, {\"v\": \"39\"}, {\"v\": 3408502330831153141}]}, {\"c\": [{\"v\": 9.259415004}, {\"v\": \"Unknown\"}, {\"v\": \"28\"}, {\"v\": \"Single\"}, {\"v\": \"38\"}, {\"v\": 1088037545023002395}]}, {\"c\": [{\"v\": 7.12534030784}, {\"v\": \"Unknown\"}, {\"v\": \"34\"}, {\"v\": \"Single\"}, {\"v\": \"39\"}, {\"v\": 7146494315947640619}]}, {\"c\": [{\"v\": 7.06361087448}, {\"v\": \"Unknown\"}, {\"v\": \"18\"}, {\"v\": \"Single\"}, {\"v\": \"40\"}, {\"v\": 1525201076796226340}]}, {\"c\": [{\"v\": 7.50012615324}, {\"v\": \"Unknown\"}, {\"v\": \"31\"}, {\"v\": \"Single\"}, {\"v\": \"44\"}, {\"v\": 1525201076796226340}]}, {\"c\": [{\"v\": 6.2501051276999995}, {\"v\": \"Unknown\"}, {\"v\": \"23\"}, {\"v\": \"Single\"}, {\"v\": \"41\"}, {\"v\": 1525201076796226340}]}, {\"c\": [{\"v\": 3.99918543268}, {\"v\": \"Unknown\"}, {\"v\": \"30\"}, {\"v\": \"Single\"}, {\"v\": \"32\"}, {\"v\": 7146494315947640619}]}, {\"c\": [{\"v\": 6.3713593718}, {\"v\": \"Unknown\"}, {\"v\": \"29\"}, {\"v\": \"Single\"}, {\"v\": \"40\"}, {\"v\": 8904940584331855459}]}, {\"c\": [{\"v\": 6.1178277705}, {\"v\": \"Unknown\"}, {\"v\": \"24\"}, {\"v\": \"Single\"}, {\"v\": \"36\"}, {\"v\": 7108882242435606404}]}, {\"c\": [{\"v\": 9.12493302418}, {\"v\": \"Unknown\"}, {\"v\": \"26\"}, {\"v\": \"Single\"}, {\"v\": \"40\"}, {\"v\": 7170969733900686954}]}, {\"c\": [{\"v\": 8.062304921339999}, {\"v\": \"Unknown\"}, {\"v\": \"23\"}, {\"v\": \"Single\"}, {\"v\": \"38\"}, {\"v\": 7170969733900686954}]}, {\"c\": [{\"v\": 8.02703095942}, {\"v\": \"Unknown\"}, {\"v\": \"28\"}, {\"v\": \"Single\"}, {\"v\": \"39\"}, {\"v\": 7170969733900686954}]}, {\"c\": [{\"v\": 8.483387841759999}, {\"v\": \"Unknown\"}, {\"v\": \"27\"}, {\"v\": \"Single\"}, {\"v\": \"40\"}, {\"v\": 5896567601480310696}]}, {\"c\": [{\"v\": 6.686620406459999}, {\"v\": \"Unknown\"}, {\"v\": \"28\"}, {\"v\": \"Single\"}, {\"v\": \"40\"}, {\"v\": 8904940584331855459}]}, {\"c\": [{\"v\": 7.50012615324}, {\"v\": \"Unknown\"}, {\"v\": \"26\"}, {\"v\": \"Single\"}, {\"v\": \"39\"}, {\"v\": 5896567601480310696}]}, {\"c\": [{\"v\": 7.6169711521}, {\"v\": \"Unknown\"}, {\"v\": \"36\"}, {\"v\": \"Single\"}, {\"v\": \"38\"}, {\"v\": 7170969733900686954}]}, {\"c\": [{\"v\": 6.4374980503999994}, {\"v\": \"Unknown\"}, {\"v\": \"27\"}, {\"v\": \"Single\"}, {\"v\": \"40\"}, {\"v\": 3408502330831153141}]}, {\"c\": [{\"v\": 8.062304921339999}, {\"v\": \"Unknown\"}, {\"v\": \"19\"}, {\"v\": \"Single\"}, {\"v\": \"39\"}, {\"v\": 1088037545023002395}]}, {\"c\": [{\"v\": 7.94105067724}, {\"v\": \"Unknown\"}, {\"v\": \"33\"}, {\"v\": \"Single\"}, {\"v\": \"41\"}, {\"v\": 7146494315947640619}]}, {\"c\": [{\"v\": 7.43839671988}, {\"v\": \"Unknown\"}, {\"v\": \"LOW\"}, {\"v\": \"Single\"}, {\"v\": \"34\"}, {\"v\": 7146494315947640619}]}, {\"c\": [{\"v\": 9.37405538024}, {\"v\": \"Unknown\"}, {\"v\": \"29\"}, {\"v\": \"Single\"}, {\"v\": \"41\"}, {\"v\": 1088037545023002395}]}, {\"c\": [{\"v\": 9.9759173555}, {\"v\": \"Unknown\"}, {\"v\": \"LOW\"}, {\"v\": \"Single\"}, {\"v\": \"41\"}, {\"v\": 6392072535155213407}]}]},\n",
              "            {\n",
              "              pageSize: 25,\n",
              "              cssClassNames:  {\n",
              "                tableRow: 'gchart-table-row',\n",
              "                headerRow: 'gchart-table-headerrow',\n",
              "                oddTableRow: 'gchart-table-oddrow',\n",
              "                selectedTableRow: 'gchart-table-selectedrow',\n",
              "                hoverTableRow: 'gchart-table-hoverrow',\n",
              "                tableCell: 'gchart-table-cell',\n",
              "                headerCell: 'gchart-table-headercell',\n",
              "                rowNumberCell: 'gchart-table-rownumcell'\n",
              "              }\n",
              "            },\n",
              "            {source_index: 3, fields: 'weight_pounds,is_male,mother_age,plurality,gestation_weeks,hashmonth'},\n",
              "            0,\n",
              "            25);\n",
              "        }\n",
              "      );\n",
              "    </script>\n",
              "  "
            ],
            "text/plain": [
              "QueryResultsTable job_2Ip7Su3llYOwtaxQiQ3Elyy9LrwX"
            ]
          },
          "metadata": {
            "tags": []
          },
          "execution_count": 28
        }
      ]
    },
    {
      "cell_type": "markdown",
      "metadata": {
        "colab_type": "text",
        "id": "MmY2chPyD5bI"
      },
      "source": [
        "Bringing these two separate data sets together, there is now a dataset for male or female children determined with ultrasound or unknown if without. "
      ]
    },
    {
      "cell_type": "code",
      "metadata": {
        "colab_type": "code",
        "id": "2XblYiMVD5bJ",
        "outputId": "38526c88-c10d-499d-f187-2296647cc1c7",
        "colab": {}
      },
      "source": [
        "%%bq query\n",
        "WITH with_ultrasound AS (\n",
        "  SELECT\n",
        "    weight_pounds,\n",
        "    CAST(is_male AS STRING) AS is_male,\n",
        "    IF(mother_age < 18, 'LOW',\n",
        "         IF(mother_age > 45, 'HIGH',\n",
        "            CAST(mother_age AS STRING))) AS mother_age,\n",
        "    CAST(plurality AS STRING) AS plurality,\n",
        "    CAST(gestation_weeks AS STRING) AS gestation_weeks,\n",
        "    ABS(FARM_FINGERPRINT(CONCAT(CAST(YEAR AS STRING), CAST(month AS STRING)))) AS hashmonth\n",
        "  FROM\n",
        "    publicdata.samples.natality\n",
        "  WHERE\n",
        "    year > 2000\n",
        "    AND gestation_weeks > 0\n",
        "    AND mother_age > 0\n",
        "    AND plurality > 0\n",
        "    AND weight_pounds > 0\n",
        "),\n",
        "\n",
        "without_ultrasound AS (\n",
        "  SELECT\n",
        "    weight_pounds,\n",
        "    'Unknown' AS is_male,\n",
        "    IF(mother_age < 18, 'LOW',\n",
        "         IF(mother_age > 45, 'HIGH',\n",
        "            CAST(mother_age AS STRING))) AS mother_age,\n",
        "    IF(plurality > 1, 'Multiple', 'Single') AS plurality,\n",
        "    CAST(gestation_weeks AS STRING) AS gestation_weeks,\n",
        "    ABS(FARM_FINGERPRINT(CONCAT(CAST(YEAR AS STRING), CAST(month AS STRING)))) AS hashmonth\n",
        "  FROM\n",
        "    publicdata.samples.natality\n",
        "  WHERE\n",
        "    year > 2000\n",
        "    AND gestation_weeks > 0\n",
        "    AND mother_age > 0\n",
        "    AND plurality > 0\n",
        "    AND weight_pounds > 0\n",
        "),\n",
        "\n",
        "preprocessed AS (\n",
        "  SELECT * from with_ultrasound\n",
        "  UNION ALL\n",
        "  SELECT * from without_ultrasound\n",
        ")\n",
        "\n",
        "SELECT\n",
        "    weight_pounds,\n",
        "    is_male,\n",
        "    mother_age,\n",
        "    plurality,\n",
        "    gestation_weeks\n",
        "FROM\n",
        "    preprocessed\n",
        "WHERE\n",
        "  MOD(hashmonth, 4) < 3\n",
        "LIMIT 25"
      ],
      "execution_count": 0,
      "outputs": [
        {
          "output_type": "execute_result",
          "data": {
            "text/html": [
              "\n",
              "    <div class=\"bqtv\" id=\"9_155688911308\"><table><tr><th>weight_pounds</th><th>is_male</th><th>mother_age</th><th>plurality</th><th>gestation_weeks</th></tr><tr><td>8.81849048</td><td>Unknown</td><td>LOW</td><td>Single</td><td>42</td></tr><tr><td>5.94807182876</td><td>Unknown</td><td>38</td><td>Single</td><td>38</td></tr><tr><td>8.83833208358</td><td>Unknown</td><td>27</td><td>Single</td><td>39</td></tr><tr><td>7.06361087448</td><td>Unknown</td><td>18</td><td>Single</td><td>40</td></tr><tr><td>7.50012615324</td><td>Unknown</td><td>31</td><td>Single</td><td>44</td></tr><tr><td>6.2501051276999995</td><td>Unknown</td><td>23</td><td>Single</td><td>41</td></tr><tr><td>6.1178277705</td><td>Unknown</td><td>24</td><td>Single</td><td>36</td></tr><tr><td>9.12493302418</td><td>Unknown</td><td>26</td><td>Single</td><td>40</td></tr><tr><td>8.062304921339999</td><td>Unknown</td><td>23</td><td>Single</td><td>38</td></tr><tr><td>8.02703095942</td><td>Unknown</td><td>28</td><td>Single</td><td>39</td></tr><tr><td>8.483387841759999</td><td>Unknown</td><td>27</td><td>Single</td><td>40</td></tr><tr><td>7.50012615324</td><td>Unknown</td><td>26</td><td>Single</td><td>39</td></tr><tr><td>7.6169711521</td><td>Unknown</td><td>36</td><td>Single</td><td>38</td></tr><tr><td>6.4374980503999994</td><td>Unknown</td><td>27</td><td>Single</td><td>40</td></tr><tr><td>5.56226287026</td><td>Unknown</td><td>38</td><td>Single</td><td>40</td></tr><tr><td>7.7492485093</td><td>Unknown</td><td>19</td><td>Single</td><td>39</td></tr><tr><td>6.8012607827</td><td>Unknown</td><td>23</td><td>Single</td><td>40</td></tr><tr><td>7.3744626639</td><td>Unknown</td><td>21</td><td>Single</td><td>38</td></tr><tr><td>6.37576861704</td><td>Unknown</td><td>36</td><td>Single</td><td>38</td></tr><tr><td>5.24920645822</td><td>Unknown</td><td>18</td><td>Single</td><td>37</td></tr><tr><td>8.26072095714</td><td>Unknown</td><td>34</td><td>Single</td><td>40</td></tr><tr><td>4.98465174382</td><td>Unknown</td><td>21</td><td>Single</td><td>41</td></tr><tr><td>10.31322461636</td><td>Unknown</td><td>20</td><td>Single</td><td>40</td></tr><tr><td>7.17825125072</td><td>Unknown</td><td>23</td><td>Single</td><td>42</td></tr><tr><td>7.947664545099999</td><td>Unknown</td><td>20</td><td>Single</td><td>41</td></tr></table></div>\n",
              "    <br />(rows: 25, time: 0.9s,     6GB processed, job: job_OCzBrz-d1PPPYE6ThAyUYdYdF-bK)<br />\n",
              "    <script src=\"/static/components/requirejs/require.js\"></script>\n",
              "    <script>\n",
              "      require.config({\n",
              "        paths: {\n",
              "          base: '/static/base',\n",
              "          d3: '//cdnjs.cloudflare.com/ajax/libs/d3/3.4.13/d3',\n",
              "          plotly: 'https://cdn.plot.ly/plotly-1.5.1.min.js?noext',\n",
              "          jquery: '//ajax.googleapis.com/ajax/libs/jquery/2.0.0/jquery.min'\n",
              "        },\n",
              "        map: {\n",
              "          '*': {\n",
              "            datalab: 'nbextensions/gcpdatalab'\n",
              "          }\n",
              "        },\n",
              "        shim: {\n",
              "          plotly: {\n",
              "            deps: ['d3', 'jquery'],\n",
              "            exports: 'plotly'\n",
              "          }\n",
              "        }\n",
              "      });\n",
              "\n",
              "      require(['datalab/charting', 'datalab/element!9_155688911308', 'base/js/events',\n",
              "          'datalab/style!/nbextensions/gcpdatalab/charting.css'],\n",
              "        function(charts, dom, events) {\n",
              "          charts.render('gcharts', dom, events, 'table', [], {\"cols\": [{\"type\": \"number\", \"id\": \"weight_pounds\", \"label\": \"weight_pounds\"}, {\"type\": \"string\", \"id\": \"is_male\", \"label\": \"is_male\"}, {\"type\": \"string\", \"id\": \"mother_age\", \"label\": \"mother_age\"}, {\"type\": \"string\", \"id\": \"plurality\", \"label\": \"plurality\"}, {\"type\": \"string\", \"id\": \"gestation_weeks\", \"label\": \"gestation_weeks\"}], \"rows\": [{\"c\": [{\"v\": 8.81849048}, {\"v\": \"Unknown\"}, {\"v\": \"LOW\"}, {\"v\": \"Single\"}, {\"v\": \"42\"}]}, {\"c\": [{\"v\": 5.94807182876}, {\"v\": \"Unknown\"}, {\"v\": \"38\"}, {\"v\": \"Single\"}, {\"v\": \"38\"}]}, {\"c\": [{\"v\": 8.83833208358}, {\"v\": \"Unknown\"}, {\"v\": \"27\"}, {\"v\": \"Single\"}, {\"v\": \"39\"}]}, {\"c\": [{\"v\": 7.06361087448}, {\"v\": \"Unknown\"}, {\"v\": \"18\"}, {\"v\": \"Single\"}, {\"v\": \"40\"}]}, {\"c\": [{\"v\": 7.50012615324}, {\"v\": \"Unknown\"}, {\"v\": \"31\"}, {\"v\": \"Single\"}, {\"v\": \"44\"}]}, {\"c\": [{\"v\": 6.2501051276999995}, {\"v\": \"Unknown\"}, {\"v\": \"23\"}, {\"v\": \"Single\"}, {\"v\": \"41\"}]}, {\"c\": [{\"v\": 6.1178277705}, {\"v\": \"Unknown\"}, {\"v\": \"24\"}, {\"v\": \"Single\"}, {\"v\": \"36\"}]}, {\"c\": [{\"v\": 9.12493302418}, {\"v\": \"Unknown\"}, {\"v\": \"26\"}, {\"v\": \"Single\"}, {\"v\": \"40\"}]}, {\"c\": [{\"v\": 8.062304921339999}, {\"v\": \"Unknown\"}, {\"v\": \"23\"}, {\"v\": \"Single\"}, {\"v\": \"38\"}]}, {\"c\": [{\"v\": 8.02703095942}, {\"v\": \"Unknown\"}, {\"v\": \"28\"}, {\"v\": \"Single\"}, {\"v\": \"39\"}]}, {\"c\": [{\"v\": 8.483387841759999}, {\"v\": \"Unknown\"}, {\"v\": \"27\"}, {\"v\": \"Single\"}, {\"v\": \"40\"}]}, {\"c\": [{\"v\": 7.50012615324}, {\"v\": \"Unknown\"}, {\"v\": \"26\"}, {\"v\": \"Single\"}, {\"v\": \"39\"}]}, {\"c\": [{\"v\": 7.6169711521}, {\"v\": \"Unknown\"}, {\"v\": \"36\"}, {\"v\": \"Single\"}, {\"v\": \"38\"}]}, {\"c\": [{\"v\": 6.4374980503999994}, {\"v\": \"Unknown\"}, {\"v\": \"27\"}, {\"v\": \"Single\"}, {\"v\": \"40\"}]}, {\"c\": [{\"v\": 5.56226287026}, {\"v\": \"Unknown\"}, {\"v\": \"38\"}, {\"v\": \"Single\"}, {\"v\": \"40\"}]}, {\"c\": [{\"v\": 7.7492485093}, {\"v\": \"Unknown\"}, {\"v\": \"19\"}, {\"v\": \"Single\"}, {\"v\": \"39\"}]}, {\"c\": [{\"v\": 6.8012607827}, {\"v\": \"Unknown\"}, {\"v\": \"23\"}, {\"v\": \"Single\"}, {\"v\": \"40\"}]}, {\"c\": [{\"v\": 7.3744626639}, {\"v\": \"Unknown\"}, {\"v\": \"21\"}, {\"v\": \"Single\"}, {\"v\": \"38\"}]}, {\"c\": [{\"v\": 6.37576861704}, {\"v\": \"Unknown\"}, {\"v\": \"36\"}, {\"v\": \"Single\"}, {\"v\": \"38\"}]}, {\"c\": [{\"v\": 5.24920645822}, {\"v\": \"Unknown\"}, {\"v\": \"18\"}, {\"v\": \"Single\"}, {\"v\": \"37\"}]}, {\"c\": [{\"v\": 8.26072095714}, {\"v\": \"Unknown\"}, {\"v\": \"34\"}, {\"v\": \"Single\"}, {\"v\": \"40\"}]}, {\"c\": [{\"v\": 4.98465174382}, {\"v\": \"Unknown\"}, {\"v\": \"21\"}, {\"v\": \"Single\"}, {\"v\": \"41\"}]}, {\"c\": [{\"v\": 10.31322461636}, {\"v\": \"Unknown\"}, {\"v\": \"20\"}, {\"v\": \"Single\"}, {\"v\": \"40\"}]}, {\"c\": [{\"v\": 7.17825125072}, {\"v\": \"Unknown\"}, {\"v\": \"23\"}, {\"v\": \"Single\"}, {\"v\": \"42\"}]}, {\"c\": [{\"v\": 7.947664545099999}, {\"v\": \"Unknown\"}, {\"v\": \"20\"}, {\"v\": \"Single\"}, {\"v\": \"41\"}]}]},\n",
              "            {\n",
              "              pageSize: 25,\n",
              "              cssClassNames:  {\n",
              "                tableRow: 'gchart-table-row',\n",
              "                headerRow: 'gchart-table-headerrow',\n",
              "                oddTableRow: 'gchart-table-oddrow',\n",
              "                selectedTableRow: 'gchart-table-selectedrow',\n",
              "                hoverTableRow: 'gchart-table-hoverrow',\n",
              "                tableCell: 'gchart-table-cell',\n",
              "                headerCell: 'gchart-table-headercell',\n",
              "                rowNumberCell: 'gchart-table-rownumcell'\n",
              "              }\n",
              "            },\n",
              "            {source_index: 4, fields: 'weight_pounds,is_male,mother_age,plurality,gestation_weeks'},\n",
              "            0,\n",
              "            25);\n",
              "        }\n",
              "      );\n",
              "    </script>\n",
              "  "
            ],
            "text/plain": [
              "QueryResultsTable job_OCzBrz-d1PPPYE6ThAyUYdYdF-bK"
            ]
          },
          "metadata": {
            "tags": []
          },
          "execution_count": 29
        }
      ]
    },
    {
      "cell_type": "markdown",
      "metadata": {
        "colab_type": "text",
        "id": "hNnZxDw9D5bN"
      },
      "source": [
        "## Create a new model\n",
        "\n",
        "With a data set which has been feature engineered, it is ready to create model with the `CREATE or REPLACE MODEL` statement\n",
        "\n",
        "This will take **5-10 minutes** and will show **Done** when complete."
      ]
    },
    {
      "cell_type": "code",
      "metadata": {
        "colab_type": "code",
        "id": "aKPqXqicD5bP",
        "colab": {},
        "outputId": "bbc1a2d9-2b7b-4c53-cf34-fc45420cf04d"
      },
      "source": [
        "%%bq query\n",
        "CREATE or REPLACE MODEL demo.babyweight_model_fc\n",
        "OPTIONS\n",
        "  (model_type='linear_reg', labels=['weight_pounds']) AS\n",
        "  \n",
        "WITH with_ultrasound AS (\n",
        "  SELECT\n",
        "    weight_pounds,\n",
        "    CAST(is_male AS STRING) AS is_male,\n",
        "    IF(mother_age < 18, 'LOW',\n",
        "         IF(mother_age > 45, 'HIGH',\n",
        "            CAST(mother_age AS STRING))) AS mother_age,\n",
        "    CAST(plurality AS STRING) AS plurality,\n",
        "    CAST(gestation_weeks AS STRING) AS gestation_weeks,\n",
        "    ABS(FARM_FINGERPRINT(CONCAT(CAST(YEAR AS STRING), CAST(month AS STRING)))) AS hashmonth\n",
        "  FROM\n",
        "    publicdata.samples.natality\n",
        "  WHERE\n",
        "    year > 2000\n",
        "    AND gestation_weeks > 0\n",
        "    AND mother_age > 0\n",
        "    AND plurality > 0\n",
        "    AND weight_pounds > 0\n",
        "),\n",
        "\n",
        "without_ultrasound AS (\n",
        "  SELECT\n",
        "    weight_pounds,\n",
        "    'Unknown' AS is_male,\n",
        "    IF(mother_age < 18, 'LOW',\n",
        "         IF(mother_age > 45, 'HIGH',\n",
        "            CAST(mother_age AS STRING))) AS mother_age,\n",
        "    IF(plurality > 1, 'Multiple', 'Single') AS plurality,\n",
        "    CAST(gestation_weeks AS STRING) AS gestation_weeks,\n",
        "    ABS(FARM_FINGERPRINT(CONCAT(CAST(YEAR AS STRING), CAST(month AS STRING)))) AS hashmonth\n",
        "  FROM\n",
        "    publicdata.samples.natality\n",
        "  WHERE\n",
        "    year > 2000\n",
        "    AND gestation_weeks > 0\n",
        "    AND mother_age > 0\n",
        "    AND plurality > 0\n",
        "    AND weight_pounds > 0\n",
        "),\n",
        "\n",
        "preprocessed AS (\n",
        "  SELECT * from with_ultrasound\n",
        "  UNION ALL\n",
        "  SELECT * from without_ultrasound\n",
        ")\n",
        "\n",
        "SELECT\n",
        "    weight_pounds,\n",
        "    is_male,\n",
        "    mother_age,\n",
        "    plurality,\n",
        "    gestation_weeks\n",
        "FROM\n",
        "    preprocessed\n",
        "WHERE\n",
        "  MOD(hashmonth, 4) < 3"
      ],
      "execution_count": 0,
      "outputs": [
        {
          "output_type": "stream",
          "text": [
            "\n",
            "notFound: Not found: Dataset qwiklabs-gcp-03f3aae32d6f97d5:demo was not found in location US"
          ],
          "name": "stderr"
        }
      ]
    },
    {
      "cell_type": "markdown",
      "metadata": {
        "colab_type": "text",
        "id": "kQw9y9pGD5bQ"
      },
      "source": [
        "## Training Statistics\n",
        "\n",
        "While the new model is training, review the training statistics in the BigQuery UI to see the below model training: https://bigquery.cloud.google.com/\n",
        "\n",
        "The training details may also be viewed after the training completes from this notebook."
      ]
    },
    {
      "cell_type": "code",
      "metadata": {
        "colab_type": "code",
        "id": "0Tl-hmIxD5bR",
        "outputId": "cc6a30e4-0001-4337-b4fa-96b0503b1f31",
        "colab": {}
      },
      "source": [
        "import google.datalab.bigquery as bq\n",
        "df = bq.Query(\"SELECT * FROM ML.TRAINING_INFO(MODEL demo.babyweight_model_fc)\").execute().result().to_dataframe()\n",
        "# plot both lines in same graph\n",
        "import matplotlib.pyplot as plt\n",
        "plt.plot( 'iteration', 'loss', data=df, marker='o', color='orange', linewidth=2)\n",
        "plt.plot( 'iteration', 'eval_loss', data=df, marker='', color='green', linewidth=2, linestyle='dashed')\n",
        "plt.xlabel('iteration')\n",
        "plt.ylabel('loss')\n",
        "plt.legend();"
      ],
      "execution_count": 0,
      "outputs": [
        {
          "output_type": "error",
          "ename": "Exception",
          "evalue": "notFound: Not found: Dataset qwiklabs-gcp-03f3aae32d6f97d5:demo was not found in location US",
          "traceback": [
            "\u001b[0;31m---------------------------------------------------------------------------\u001b[0m",
            "\u001b[0;31mKeyError\u001b[0m                                  Traceback (most recent call last)",
            "\u001b[0;32m/usr/local/envs/py3env/lib/python3.5/site-packages/google/datalab/bigquery/_query.py\u001b[0m in \u001b[0;36mexecute_async\u001b[0;34m(self, output_options, sampling, context, query_params)\u001b[0m\n\u001b[1;32m    278\u001b[0m       \u001b[0;32mtry\u001b[0m\u001b[0;34m:\u001b[0m\u001b[0;34m\u001b[0m\u001b[0m\n\u001b[0;32m--> 279\u001b[0;31m         \u001b[0mdestination\u001b[0m \u001b[0;34m=\u001b[0m \u001b[0mquery_result\u001b[0m\u001b[0;34m[\u001b[0m\u001b[0;34m'configuration'\u001b[0m\u001b[0;34m]\u001b[0m\u001b[0;34m[\u001b[0m\u001b[0;34m'query'\u001b[0m\u001b[0;34m]\u001b[0m\u001b[0;34m[\u001b[0m\u001b[0;34m'destinationTable'\u001b[0m\u001b[0;34m]\u001b[0m\u001b[0;34m\u001b[0m\u001b[0m\n\u001b[0m\u001b[1;32m    280\u001b[0m         \u001b[0mtable_name\u001b[0m \u001b[0;34m=\u001b[0m \u001b[0;34m(\u001b[0m\u001b[0mdestination\u001b[0m\u001b[0;34m[\u001b[0m\u001b[0;34m'projectId'\u001b[0m\u001b[0;34m]\u001b[0m\u001b[0;34m,\u001b[0m \u001b[0mdestination\u001b[0m\u001b[0;34m[\u001b[0m\u001b[0;34m'datasetId'\u001b[0m\u001b[0;34m]\u001b[0m\u001b[0;34m,\u001b[0m \u001b[0mdestination\u001b[0m\u001b[0;34m[\u001b[0m\u001b[0;34m'tableId'\u001b[0m\u001b[0;34m]\u001b[0m\u001b[0;34m)\u001b[0m\u001b[0;34m\u001b[0m\u001b[0m\n",
            "\u001b[0;31mKeyError\u001b[0m: 'destinationTable'",
            "\nDuring handling of the above exception, another exception occurred:\n",
            "\u001b[0;31mException\u001b[0m                                 Traceback (most recent call last)",
            "\u001b[0;32m<ipython-input-31-17d9c5caf36d>\u001b[0m in \u001b[0;36m<module>\u001b[0;34m()\u001b[0m\n\u001b[1;32m      1\u001b[0m \u001b[0;32mimport\u001b[0m \u001b[0mgoogle\u001b[0m\u001b[0;34m.\u001b[0m\u001b[0mdatalab\u001b[0m\u001b[0;34m.\u001b[0m\u001b[0mbigquery\u001b[0m \u001b[0;32mas\u001b[0m \u001b[0mbq\u001b[0m\u001b[0;34m\u001b[0m\u001b[0m\n\u001b[0;32m----> 2\u001b[0;31m \u001b[0mdf\u001b[0m \u001b[0;34m=\u001b[0m \u001b[0mbq\u001b[0m\u001b[0;34m.\u001b[0m\u001b[0mQuery\u001b[0m\u001b[0;34m(\u001b[0m\u001b[0;34m\"SELECT * FROM ML.TRAINING_INFO(MODEL demo.babyweight_model_fc)\"\u001b[0m\u001b[0;34m)\u001b[0m\u001b[0;34m.\u001b[0m\u001b[0mexecute\u001b[0m\u001b[0;34m(\u001b[0m\u001b[0;34m)\u001b[0m\u001b[0;34m.\u001b[0m\u001b[0mresult\u001b[0m\u001b[0;34m(\u001b[0m\u001b[0;34m)\u001b[0m\u001b[0;34m.\u001b[0m\u001b[0mto_dataframe\u001b[0m\u001b[0;34m(\u001b[0m\u001b[0;34m)\u001b[0m\u001b[0;34m\u001b[0m\u001b[0m\n\u001b[0m\u001b[1;32m      3\u001b[0m \u001b[0;31m# plot both lines in same graph\u001b[0m\u001b[0;34m\u001b[0m\u001b[0;34m\u001b[0m\u001b[0m\n\u001b[1;32m      4\u001b[0m \u001b[0;32mimport\u001b[0m \u001b[0mmatplotlib\u001b[0m\u001b[0;34m.\u001b[0m\u001b[0mpyplot\u001b[0m \u001b[0;32mas\u001b[0m \u001b[0mplt\u001b[0m\u001b[0;34m\u001b[0m\u001b[0m\n\u001b[1;32m      5\u001b[0m \u001b[0mplt\u001b[0m\u001b[0;34m.\u001b[0m\u001b[0mplot\u001b[0m\u001b[0;34m(\u001b[0m \u001b[0;34m'iteration'\u001b[0m\u001b[0;34m,\u001b[0m \u001b[0;34m'loss'\u001b[0m\u001b[0;34m,\u001b[0m \u001b[0mdata\u001b[0m\u001b[0;34m=\u001b[0m\u001b[0mdf\u001b[0m\u001b[0;34m,\u001b[0m \u001b[0mmarker\u001b[0m\u001b[0;34m=\u001b[0m\u001b[0;34m'o'\u001b[0m\u001b[0;34m,\u001b[0m \u001b[0mcolor\u001b[0m\u001b[0;34m=\u001b[0m\u001b[0;34m'orange'\u001b[0m\u001b[0;34m,\u001b[0m \u001b[0mlinewidth\u001b[0m\u001b[0;34m=\u001b[0m\u001b[0;36m2\u001b[0m\u001b[0;34m)\u001b[0m\u001b[0;34m\u001b[0m\u001b[0m\n",
            "\u001b[0;32m/usr/local/envs/py3env/lib/python3.5/site-packages/google/datalab/bigquery/_query.py\u001b[0m in \u001b[0;36mexecute\u001b[0;34m(self, output_options, sampling, context, query_params)\u001b[0m\n\u001b[1;32m    337\u001b[0m     \"\"\"\n\u001b[1;32m    338\u001b[0m     return self.execute_async(output_options, sampling=sampling, context=context,\n\u001b[0;32m--> 339\u001b[0;31m                               query_params=query_params).wait()\n\u001b[0m\u001b[1;32m    340\u001b[0m \u001b[0;34m\u001b[0m\u001b[0m\n\u001b[1;32m    341\u001b[0m   \u001b[0;34m@\u001b[0m\u001b[0mstaticmethod\u001b[0m\u001b[0;34m\u001b[0m\u001b[0m\n",
            "\u001b[0;32m/usr/local/envs/py3env/lib/python3.5/site-packages/google/datalab/bigquery/_query.py\u001b[0m in \u001b[0;36mexecute_async\u001b[0;34m(self, output_options, sampling, context, query_params)\u001b[0m\n\u001b[1;32m    281\u001b[0m       \u001b[0;32mexcept\u001b[0m \u001b[0mKeyError\u001b[0m\u001b[0;34m:\u001b[0m\u001b[0;34m\u001b[0m\u001b[0m\n\u001b[1;32m    282\u001b[0m         \u001b[0;31m# The query was in error\u001b[0m\u001b[0;34m\u001b[0m\u001b[0;34m\u001b[0m\u001b[0m\n\u001b[0;32m--> 283\u001b[0;31m         \u001b[0;32mraise\u001b[0m \u001b[0mException\u001b[0m\u001b[0;34m(\u001b[0m\u001b[0m_utils\u001b[0m\u001b[0;34m.\u001b[0m\u001b[0mformat_query_errors\u001b[0m\u001b[0;34m(\u001b[0m\u001b[0mquery_result\u001b[0m\u001b[0;34m[\u001b[0m\u001b[0;34m'status'\u001b[0m\u001b[0;34m]\u001b[0m\u001b[0;34m[\u001b[0m\u001b[0;34m'errors'\u001b[0m\u001b[0;34m]\u001b[0m\u001b[0;34m)\u001b[0m\u001b[0;34m)\u001b[0m\u001b[0;34m\u001b[0m\u001b[0m\n\u001b[0m\u001b[1;32m    284\u001b[0m \u001b[0;34m\u001b[0m\u001b[0m\n\u001b[1;32m    285\u001b[0m     \u001b[0mexecute_job\u001b[0m \u001b[0;34m=\u001b[0m \u001b[0m_query_job\u001b[0m\u001b[0;34m.\u001b[0m\u001b[0mQueryJob\u001b[0m\u001b[0;34m(\u001b[0m\u001b[0mjob_id\u001b[0m\u001b[0;34m,\u001b[0m \u001b[0mtable_name\u001b[0m\u001b[0;34m,\u001b[0m \u001b[0msql\u001b[0m\u001b[0;34m,\u001b[0m \u001b[0mcontext\u001b[0m\u001b[0;34m=\u001b[0m\u001b[0mcontext\u001b[0m\u001b[0;34m)\u001b[0m\u001b[0;34m\u001b[0m\u001b[0m\n",
            "\u001b[0;31mException\u001b[0m: notFound: Not found: Dataset qwiklabs-gcp-03f3aae32d6f97d5:demo was not found in location US"
          ]
        }
      ]
    },
    {
      "cell_type": "markdown",
      "metadata": {
        "colab_type": "text",
        "id": "1jlHzJqfD5bU"
      },
      "source": [
        "## Make a prediction with the new model\n",
        "\n"
      ]
    },
    {
      "cell_type": "markdown",
      "metadata": {
        "colab_type": "text",
        "id": "EGo8fj9qD5bU"
      },
      "source": [
        "Perhaps it is of interest to make a prediction of the baby's weight given a number of other factors: Male, Mother is 28 years old, Mother will only have one child, and the baby was born after 38 weeks of pregnancy.\n",
        "\n",
        "To make this prediction, these values will be passed into the SELECT statement."
      ]
    },
    {
      "cell_type": "code",
      "metadata": {
        "colab_type": "code",
        "id": "OTLYWJOSD5bV",
        "outputId": "83fe56d1-ddcb-4ca4-86bc-8a1ffa3d9c33",
        "colab": {}
      },
      "source": [
        "%%bq query\n",
        "SELECT\n",
        "  *\n",
        "FROM\n",
        "  ml.PREDICT(MODEL demo.babyweight_model_fc,\n",
        "      (SELECT\n",
        "          'True' AS is_male,\n",
        "          '28' AS mother_age,\n",
        "          '1' AS plurality,\n",
        "          '38' AS gestation_weeks\n",
        "    ))"
      ],
      "execution_count": 0,
      "outputs": [
        {
          "output_type": "stream",
          "text": [
            "\n",
            "notFound: Not found: Dataset qwiklabs-gcp-03f3aae32d6f97d5:demo was not found in location US"
          ],
          "name": "stderr"
        }
      ]
    },
    {
      "cell_type": "markdown",
      "metadata": {
        "colab_type": "text",
        "id": "PK_-WNGUD5bX"
      },
      "source": [
        "<br>\n",
        "<br>\n",
        "<br>\n",
        "<br>\n",
        "Copyright 2018 Google Inc. Licensed under the Apache License, Version 2.0 (the \"License\"); you may not use this file except in compliance with the License. You may obtain a copy of the License at http://www.apache.org/licenses/LICENSE-2.0 Unless required by applicable law or agreed to in writing, software distributed under the License is distributed on an \"AS IS\" BASIS, WITHOUT WARRANTIES OR CONDITIONS OF ANY KIND, either express or implied. See the License for the specific language governing permissions and limitations under the License"
      ]
    }
  ]
}