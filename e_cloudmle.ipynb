{
  "nbformat": 4,
  "nbformat_minor": 0,
  "metadata": {
    "colab": {
      "name": "e_cloudmle.ipynb",
      "version": "0.3.2",
      "provenance": [],
      "include_colab_link": true
    },
    "language_info": {
      "codemirror_mode": {
        "name": "ipython",
        "version": 2
      },
      "file_extension": ".py",
      "mimetype": "text/x-python",
      "name": "python",
      "nbconvert_exporter": "python",
      "pygments_lexer": "ipython2",
      "version": "2.7.15"
    },
    "kernelspec": {
      "display_name": "Python 2",
      "language": "python",
      "name": "python2"
    }
  },
  "cells": [
    {
      "cell_type": "markdown",
      "metadata": {
        "id": "view-in-github",
        "colab_type": "text"
      },
      "source": [
        "<a href=\"https://colab.research.google.com/github/rkrissada/google_ml_training/blob/master/e_cloudmle.ipynb\" target=\"_parent\"><img src=\"https://colab.research.google.com/assets/colab-badge.svg\" alt=\"Open In Colab\"/></a>"
      ]
    },
    {
      "metadata": {
        "id": "otQhrsXHknZJ",
        "colab_type": "text"
      },
      "cell_type": "markdown",
      "source": [
        "# Scaling up ML using Cloud ML Engine\n",
        "\n",
        "In this notebook, we take a previously developed TensorFlow model to predict taxifare rides and package it up so that it can be run in Cloud MLE. For now, we'll run this on a small dataset. The model that was developed is rather simplistic, and therefore, the accuracy of the model is not great either.  However, this notebook illustrates *how* to package up a TensorFlow model to run it within Cloud ML. \n",
        "\n",
        "Later in the course, we will look at ways to make a more effective machine learning model."
      ]
    },
    {
      "metadata": {
        "id": "PNZhmx4NknZL",
        "colab_type": "text"
      },
      "cell_type": "markdown",
      "source": [
        "## Environment variables for project and bucket\n",
        "\n",
        "Note that:\n",
        "<ol>\n",
        "<li> Your project id is the *unique* string that identifies your project (not the project name). You can find this from the GCP Console dashboard's Home page.  My dashboard reads:  <b>Project ID:</b> cloud-training-demos </li>\n",
        "<li> Cloud training often involves saving and restoring model files. If you don't have a bucket already, I suggest that you create one from the GCP console (because it will dynamically check whether the bucket name you want is available). A common pattern is to prefix the bucket name by the project id, so that it is unique. Also, for cost reasons, you might want to use a single region bucket. </li>\n",
        "</ol>\n",
        "<b>Change the cell below</b> to reflect your Project ID and bucket name.\n"
      ]
    },
    {
      "metadata": {
        "id": "XL-82iStknZM",
        "colab_type": "code",
        "colab": {}
      },
      "cell_type": "code",
      "source": [
        "import os\n",
        "PROJECT = 'qwiklabs-gcp-c43faf1bf75fec83' # REPLACE WITH YOUR PROJECT ID\n",
        "BUCKET = 'qwiklabs-gcp-c43faf1bf75fec83' # REPLACE WITH YOUR BUCKET NAME\n",
        "REGION = 'asia-east1' # REPLACE WITH YOUR BUCKET REGION e.g. us-central1"
      ],
      "execution_count": 0,
      "outputs": []
    },
    {
      "metadata": {
        "id": "dVe4Pg5LknZQ",
        "colab_type": "code",
        "colab": {}
      },
      "cell_type": "code",
      "source": [
        "# For Python Code\n",
        "# Model Info\n",
        "MODEL_NAME = 'taxifare'\n",
        "# Model Version\n",
        "MODEL_VERSION = 'v1'\n",
        "# Training Directory name\n",
        "TRAINING_DIR = 'taxi_trained'"
      ],
      "execution_count": 0,
      "outputs": []
    },
    {
      "metadata": {
        "id": "1GExHnnaknZT",
        "colab_type": "code",
        "colab": {}
      },
      "cell_type": "code",
      "source": [
        "# For Bash Code\n",
        "os.environ['PROJECT'] = PROJECT\n",
        "os.environ['BUCKET'] = BUCKET\n",
        "os.environ['REGION'] = REGION\n",
        "os.environ['MODEL_NAME'] = MODEL_NAME\n",
        "os.environ['MODEL_VERSION'] = MODEL_VERSION\n",
        "os.environ['TRAINING_DIR'] = TRAINING_DIR \n",
        "os.environ['TFVERSION'] = '1.8'  # Tensorflow version"
      ],
      "execution_count": 0,
      "outputs": []
    },
    {
      "metadata": {
        "id": "QIHC5CruknZV",
        "colab_type": "code",
        "colab": {},
        "outputId": "4b7d329f-8e34-4b1d-9a9d-73e812ad9115"
      },
      "cell_type": "code",
      "source": [
        "%%bash\n",
        "gcloud config set project $PROJECT\n",
        "gcloud config set compute/region $REGION"
      ],
      "execution_count": 0,
      "outputs": [
        {
          "output_type": "stream",
          "text": [
            "Updated property [core/project].\n",
            "Updated property [compute/region].\n"
          ],
          "name": "stderr"
        }
      ]
    },
    {
      "metadata": {
        "id": "C7gAUffXknZZ",
        "colab_type": "text"
      },
      "cell_type": "markdown",
      "source": [
        "### Create the bucket to store model and training data for deploying to Google Cloud Machine Learning Engine Component"
      ]
    },
    {
      "metadata": {
        "id": "WkAUl_x-knZa",
        "colab_type": "code",
        "colab": {},
        "outputId": "c26d8e34-da1c-4fae-b412-f8fd7ce9831e"
      },
      "cell_type": "code",
      "source": [
        "%%bash\n",
        "# The bucket needs to exist for the gsutil commands in next cell to work\n",
        "gsutil mb -p ${PROJECT} gs://${BUCKET}"
      ],
      "execution_count": 0,
      "outputs": [
        {
          "output_type": "stream",
          "text": [
            "Creating gs://qwiklabs-gcp-c43faf1bf75fec83/...\n",
            "ServiceException: 409 Bucket qwiklabs-gcp-c43faf1bf75fec83 already exists.\n"
          ],
          "name": "stderr"
        }
      ]
    },
    {
      "metadata": {
        "id": "dt6PDc_9knZd",
        "colab_type": "text"
      },
      "cell_type": "markdown",
      "source": [
        "### Enable the Cloud Machine Learning Engine API"
      ]
    },
    {
      "metadata": {
        "id": "_0IdPILSknZf",
        "colab_type": "text"
      },
      "cell_type": "markdown",
      "source": [
        "The next command works with Cloud Machine Learning Engine API.  In order for the command to work, you must enable the API using the Cloud Console UI.   Use this [link.](https://console.cloud.google.com/project/_/apis/library)  Then search the API list for Cloud Machine Learning and enable the API before executing the next cell."
      ]
    },
    {
      "metadata": {
        "id": "ReQxT_waknZf",
        "colab_type": "text"
      },
      "cell_type": "markdown",
      "source": [
        "Allow the Cloud ML Engine service account to read/write to the bucket containing training data."
      ]
    },
    {
      "metadata": {
        "id": "3xPCEZe9knZg",
        "colab_type": "code",
        "colab": {},
        "outputId": "78bc2950-c75f-4c04-d55f-d810e3409a23"
      },
      "cell_type": "code",
      "source": [
        "%%bash\n",
        "# This command will fail if the Cloud Machine Learning Engine API is not enabled using the link above.\n",
        "echo \"Getting the service account email associated with the Cloud Machine Learning Engine API\"\n",
        "\n",
        "AUTH_TOKEN=$(gcloud auth print-access-token)\n",
        "SVC_ACCOUNT=$(curl -X GET -H \"Content-Type: application/json\" \\\n",
        "    -H \"Authorization: Bearer $AUTH_TOKEN\" \\\n",
        "    https://ml.googleapis.com/v1/projects/${PROJECT}:getConfig \\\n",
        "    | python -c \"import json; import sys; response = json.load(sys.stdin); \\\n",
        "    print (response['serviceAccount'])\")  # If this command fails, the Cloud Machine Learning Engine API has not been enabled above.\n",
        "\n",
        "echo \"Authorizing the Cloud ML Service account $SVC_ACCOUNT to access files in $BUCKET\"\n",
        "gsutil -m defacl ch -u $SVC_ACCOUNT:R gs://$BUCKET   \n",
        "gsutil -m acl ch -u $SVC_ACCOUNT:R -r gs://$BUCKET   # error message (if bucket is empty) can be ignored.  \n",
        "gsutil -m acl ch -u $SVC_ACCOUNT:W gs://$BUCKET      "
      ],
      "execution_count": 0,
      "outputs": [
        {
          "output_type": "stream",
          "text": [
            "Getting the service account email associated with the Cloud Machine Learning Engine API\n",
            "Authorizing the Cloud ML Service account service-579151092175@cloud-ml.google.com.iam.gserviceaccount.com to access files in qwiklabs-gcp-c43faf1bf75fec83\n"
          ],
          "name": "stdout"
        },
        {
          "output_type": "stream",
          "text": [
            "  % Total    % Received % Xferd  Average Speed   Time    Time     Time  Current\n",
            "                                 Dload  Upload   Total   Spent    Left  Speed\n",
            "\r  0     0    0     0    0     0      0      0 --:--:-- --:--:-- --:--:--     0\r  0     0    0     0    0     0      0      0 --:--:-- --:--:-- --:--:--     0\r  0     0    0     0    0     0      0      0 --:--:--  0:00:01 --:--:--     0\r100   235    0   235    0     0    152      0 --:--:--  0:00:01 --:--:--   152\n",
            "Updated default ACL on gs://qwiklabs-gcp-c43faf1bf75fec83/\n",
            "Encountered a problem: CommandException: No URLs matched: gs://qwiklabs-gcp-c43faf1bf75fec83/*\n",
            "Updated ACL on gs://qwiklabs-gcp-c43faf1bf75fec83/\n"
          ],
          "name": "stderr"
        }
      ]
    },
    {
      "metadata": {
        "id": "8J0Akq-vknZk",
        "colab_type": "text"
      },
      "cell_type": "markdown",
      "source": [
        "## Packaging up the code\n",
        "\n",
        "Take your code and put into a standard Python package structure.  <a href=\"taxifare/trainer/model.py\">model.py</a> and <a href=\"taxifare/trainer/task.py\">task.py</a> containing the Tensorflow code from earlier (explore the <a href=\"taxifare/trainer/\">directory structure</a>)."
      ]
    },
    {
      "metadata": {
        "id": "XLuJsyTUknZk",
        "colab_type": "code",
        "colab": {},
        "outputId": "397e2a72-98dc-4d46-e306-5259bfabfc10"
      },
      "cell_type": "code",
      "source": [
        "%%bash\n",
        "find ${MODEL_NAME}"
      ],
      "execution_count": 0,
      "outputs": [
        {
          "output_type": "stream",
          "text": [
            "taxifare\n",
            "taxifare/trainer\n",
            "taxifare/trainer/model.py\n",
            "taxifare/trainer/__init__.py\n",
            "taxifare/trainer/task.py\n",
            "taxifare/trainer/model.pyc\n",
            "taxifare/trainer/__init__.pyc\n"
          ],
          "name": "stdout"
        }
      ]
    },
    {
      "metadata": {
        "id": "ws_sTOsdknZn",
        "colab_type": "code",
        "colab": {},
        "outputId": "d6fee32a-a328-475a-a798-ba33c28e5cfd"
      },
      "cell_type": "code",
      "source": [
        "%%bash\n",
        "cat ${MODEL_NAME}/trainer/model.py"
      ],
      "execution_count": 0,
      "outputs": [
        {
          "output_type": "stream",
          "text": [
            "#!/usr/bin/env python\n",
            "\n",
            "# Copyright 2017 Google Inc. All Rights Reserved.\n",
            "#\n",
            "# Licensed under the Apache License, Version 2.0 (the \"License\");\n",
            "# you may not use this file except in compliance with the License.\n",
            "# You may obtain a copy of the License at\n",
            "#\n",
            "#      http://www.apache.org/licenses/LICENSE-2.0\n",
            "#\n",
            "# Unless required by applicable law or agreed to in writing, software\n",
            "# distributed under the License is distributed on an \"AS IS\" BASIS,\n",
            "# WITHOUT WARRANTIES OR CONDITIONS OF ANY KIND, either express or implied.\n",
            "# See the License for the specific language governing permissions and\n",
            "# limitations under the License.\n",
            "\n",
            "from __future__ import absolute_import\n",
            "from __future__ import division\n",
            "from __future__ import print_function\n",
            "\n",
            "import tensorflow as tf\n",
            "import numpy as np\n",
            "import shutil\n",
            "\n",
            "tf.logging.set_verbosity(tf.logging.INFO)\n",
            "\n",
            "# List the CSV columns\n",
            "CSV_COLUMNS = ['fare_amount', 'pickuplon','pickuplat','dropofflon','dropofflat','passengers', 'key']\n",
            "\n",
            "#Choose which column is your label\n",
            "LABEL_COLUMN = 'fare_amount'\n",
            "\n",
            "# Set the default values for each CSV column in case there is a missing value\n",
            "DEFAULTS = [[0.0], [-74.0], [40.0], [-74.0], [40.7], [1.0], ['nokey']]\n",
            "\n",
            "# Create an input function that stores your data into a dataset\n",
            "def read_dataset(filename, mode, batch_size = 512):\n",
            "    def _input_fn():\n",
            "        def decode_csv(value_column):\n",
            "            columns = tf.decode_csv(value_column, record_defaults = DEFAULTS)\n",
            "            features = dict(zip(CSV_COLUMNS, columns))\n",
            "            label = features.pop(LABEL_COLUMN)\n",
            "            return features, label\n",
            "    \n",
            "        # Create list of files that match pattern\n",
            "        file_list = tf.gfile.Glob(filename)\n",
            "\n",
            "        # Create dataset from file list\n",
            "        dataset = tf.data.TextLineDataset(file_list).map(decode_csv)\n",
            "        \n",
            "        if mode == tf.estimator.ModeKeys.TRAIN:\n",
            "            num_epochs = None # indefinitely\n",
            "            dataset = dataset.shuffle(buffer_size = 10 * batch_size)\n",
            "        else:\n",
            "            num_epochs = 1 # end-of-input after this\n",
            "\n",
            "        dataset = dataset.repeat(num_epochs).batch(batch_size)\n",
            "        return dataset.make_one_shot_iterator().get_next()\n",
            "    return _input_fn\n",
            "\n",
            "# Define your feature columns\n",
            "INPUT_COLUMNS = [\n",
            "    tf.feature_column.numeric_column('pickuplon'),\n",
            "    tf.feature_column.numeric_column('pickuplat'),\n",
            "    tf.feature_column.numeric_column('dropofflat'),\n",
            "    tf.feature_column.numeric_column('dropofflon'),\n",
            "    tf.feature_column.numeric_column('passengers'),\n",
            "]\n",
            "\n",
            "# Create a function that will augment your feature set\n",
            "def add_more_features(feats):\n",
            "    # Nothing to add (yet!)\n",
            "    return feats\n",
            "\n",
            "feature_cols = add_more_features(INPUT_COLUMNS)\n",
            "\n",
            "# Create your serving input function so that your trained model will be able to serve predictions\n",
            "def serving_input_fn():\n",
            "    feature_placeholders = {\n",
            "        column.name: tf.placeholder(tf.float32, [None]) for column in INPUT_COLUMNS\n",
            "    }\n",
            "\n",
            "    features = feature_placeholders\n",
            "    return tf.estimator.export.ServingInputReceiver(features, feature_placeholders)\n",
            "\n",
            "# Create an estimator that we are going to train and evaluate\n",
            "def train_and_evaluate(args):\n",
            "    tf.summary.FileWriterCache.clear() # ensure filewriter cache is clear for TensorBoard events file\n",
            "    estimator = tf.estimator.DNNRegressor(\n",
            "        model_dir = args['output_dir'],\n",
            "        feature_columns = feature_cols,\n",
            "        hidden_units = args['hidden_units'])\n",
            "    train_spec = tf.estimator.TrainSpec(\n",
            "        input_fn = read_dataset(args['train_data_paths'],\n",
            "                                batch_size = args['train_batch_size'],\n",
            "                                mode = tf.estimator.ModeKeys.TRAIN),\n",
            "        max_steps = args['train_steps'])\n",
            "    exporter = tf.estimator.LatestExporter('exporter', serving_input_fn)\n",
            "    eval_spec = tf.estimator.EvalSpec(\n",
            "        input_fn = read_dataset(args['eval_data_paths'],\n",
            "                                batch_size = 10000,\n",
            "                                mode = tf.estimator.ModeKeys.EVAL),\n",
            "        steps = None,\n",
            "        start_delay_secs = args['eval_delay_secs'],\n",
            "        throttle_secs = args['throttle_secs'],\n",
            "        exporters = exporter)\n",
            "    tf.estimator.train_and_evaluate(estimator, train_spec, eval_spec)\n"
          ],
          "name": "stdout"
        }
      ]
    },
    {
      "metadata": {
        "id": "0AKgl3eiknZq",
        "colab_type": "text"
      },
      "cell_type": "markdown",
      "source": [
        "## Find absolute paths to your data"
      ]
    },
    {
      "metadata": {
        "id": "5DV7zAQeknZr",
        "colab_type": "text"
      },
      "cell_type": "markdown",
      "source": [
        "Note the absolute paths below. /content is mapped in Datalab to where the home icon takes you"
      ]
    },
    {
      "metadata": {
        "id": "Pkzfk72sknZs",
        "colab_type": "code",
        "colab": {},
        "outputId": "ca7f2f00-eae3-4b81-c0e6-4ec862c079f2"
      },
      "cell_type": "code",
      "source": [
        "%%bash\n",
        "echo \"Working Directory: ${PWD}\"\n",
        "echo \"Head of taxi-train.csv\"\n",
        "head -1 $PWD/taxi-train.csv\n",
        "echo \"Head of taxi-valid.csv\"\n",
        "head -1 $PWD/taxi-valid.csv"
      ],
      "execution_count": 0,
      "outputs": [
        {
          "output_type": "stream",
          "text": [
            "Working Directory: /content/datalab/training-data-analyst/courses/machine_learning/deepdive/03_tensorflow\n",
            "Head of taxi-train.csv\n",
            "12.0,-73.987625,40.750617,-73.971163,40.78518,1,0\n",
            "Head of taxi-valid.csv\n",
            "6.0,-74.013667,40.713935,-74.007627,40.702992,2,0\n"
          ],
          "name": "stdout"
        }
      ]
    },
    {
      "metadata": {
        "id": "QoroV9pyknZv",
        "colab_type": "text"
      },
      "cell_type": "markdown",
      "source": [
        "## Running the Python module from the command-line"
      ]
    },
    {
      "metadata": {
        "id": "eDkArO2jknZw",
        "colab_type": "text"
      },
      "cell_type": "markdown",
      "source": [
        "#### Clean model training dir/output dir"
      ]
    },
    {
      "metadata": {
        "id": "NFQtOpyRknZx",
        "colab_type": "code",
        "colab": {}
      },
      "cell_type": "code",
      "source": [
        "%%bash\n",
        "# This is so that the trained model is started fresh each time. However, this needs to be done before \n",
        "# tensorboard is started\n",
        "rm -rf $PWD/${TRAINING_DIR}"
      ],
      "execution_count": 0,
      "outputs": []
    },
    {
      "metadata": {
        "id": "XcxPEmESknZ1",
        "colab_type": "text"
      },
      "cell_type": "markdown",
      "source": [
        "#### Monitor using Tensorboard"
      ]
    },
    {
      "metadata": {
        "id": "kxFqSAfEknZ3",
        "colab_type": "code",
        "colab": {},
        "outputId": "e3c825ab-3860-4666-b3fc-959d185f9319"
      },
      "cell_type": "code",
      "source": [
        "from google.datalab.ml import TensorBoard\n",
        "TensorBoard().start('./'+ TRAINING_DIR)"
      ],
      "execution_count": 0,
      "outputs": [
        {
          "output_type": "display_data",
          "data": {
            "text/html": [
              "<p>TensorBoard was started successfully with pid 10593. Click <a href=\"/_proxy/58053/\" target=\"_blank\">here</a> to access it.</p>"
            ]
          },
          "metadata": {
            "tags": []
          }
        },
        {
          "output_type": "execute_result",
          "data": {
            "text/plain": [
              "10593"
            ]
          },
          "metadata": {
            "tags": []
          },
          "execution_count": 93
        }
      ]
    },
    {
      "metadata": {
        "id": "uEibew9BknZ6",
        "colab_type": "code",
        "colab": {},
        "outputId": "f53a065b-7506-460a-a72b-5551a0666633"
      },
      "cell_type": "code",
      "source": [
        "%%bash\n",
        "# Setup python so it sees the task module which controls the model.py\n",
        "export PYTHONPATH=${PYTHONPATH}:${PWD}/${MODEL_NAME}\n",
        "# Currently set for python 2.  To run with python 3 \n",
        "#    1.  Replace 'python' with 'python3' in the following command\n",
        "#    2.  Edit trainer/task.py to reflect proper module import method \n",
        "python -m trainer.task \\\n",
        "   --train_data_paths=\"${PWD}/taxi-train*\" \\\n",
        "   --eval_data_paths=${PWD}/taxi-valid.csv  \\\n",
        "   --output_dir=${PWD}/${TRAINING_DIR} \\\n",
        "   --train_steps=1000 --job-dir=./tmp"
      ],
      "execution_count": 0,
      "outputs": [
        {
          "output_type": "stream",
          "text": [
            "/usr/local/envs/py2env/lib/python2.7/site-packages/h5py/__init__.py:36: FutureWarning: Conversion of the second argument of issubdtype from `float` to `np.floating` is deprecated. In future, it will be treated as `np.float64 == np.dtype(float).type`.\n",
            "  from ._conv import register_converters as _register_converters\n",
            "INFO:tensorflow:Using default config.\n",
            "INFO:tensorflow:Using config: {'_save_checkpoints_secs': 600, '_session_config': None, '_keep_checkpoint_max': 5, '_task_type': 'worker', '_train_distribute': None, '_is_chief': True, '_cluster_spec': <tensorflow.python.training.server_lib.ClusterSpec object at 0x7f58ab4ab790>, '_evaluation_master': '', '_save_checkpoints_steps': None, '_keep_checkpoint_every_n_hours': 10000, '_service': None, '_num_ps_replicas': 0, '_tf_random_seed': None, '_master': '', '_num_worker_replicas': 1, '_task_id': 0, '_log_step_count_steps': 100, '_model_dir': '/content/datalab/training-data-analyst/courses/machine_learning/deepdive/03_tensorflow/taxi_trained', '_global_id_in_cluster': 0, '_save_summary_steps': 100}\n",
            "INFO:tensorflow:Running training and evaluation locally (non-distributed).\n",
            "INFO:tensorflow:Start train and evaluate loop. The evaluate will happen after 300 secs (eval_spec.throttle_secs) or training is finished.\n",
            "INFO:tensorflow:Calling model_fn.\n",
            "INFO:tensorflow:Done calling model_fn.\n",
            "INFO:tensorflow:Create CheckpointSaverHook.\n",
            "INFO:tensorflow:Graph was finalized.\n",
            "2019-04-30 02:59:30.442194: I tensorflow/core/platform/cpu_feature_guard.cc:140] Your CPU supports instructions that this TensorFlow binary was not compiled to use: AVX2 AVX512F FMA\n",
            "INFO:tensorflow:Running local_init_op.\n",
            "INFO:tensorflow:Done running local_init_op.\n",
            "INFO:tensorflow:Saving checkpoints for 1 into /content/datalab/training-data-analyst/courses/machine_learning/deepdive/03_tensorflow/taxi_trained/model.ckpt.\n",
            "INFO:tensorflow:loss = 43776.96, step = 1\n",
            "INFO:tensorflow:global_step/sec: 44.6942\n",
            "INFO:tensorflow:loss = 36717.227, step = 101 (2.238 sec)\n",
            "INFO:tensorflow:global_step/sec: 43.7234\n",
            "INFO:tensorflow:loss = 32181.45, step = 201 (2.287 sec)\n",
            "INFO:tensorflow:global_step/sec: 47.4423\n",
            "INFO:tensorflow:loss = 52535.18, step = 301 (2.108 sec)\n",
            "INFO:tensorflow:global_step/sec: 43.0672\n",
            "INFO:tensorflow:loss = 54487.85, step = 401 (2.322 sec)\n",
            "INFO:tensorflow:global_step/sec: 45.9396\n",
            "INFO:tensorflow:loss = 31930.578, step = 501 (2.177 sec)\n",
            "INFO:tensorflow:global_step/sec: 46.778\n",
            "INFO:tensorflow:loss = 34487.195, step = 601 (2.138 sec)\n",
            "INFO:tensorflow:global_step/sec: 41.8463\n",
            "INFO:tensorflow:loss = 38039.656, step = 701 (2.390 sec)\n",
            "INFO:tensorflow:global_step/sec: 44.0712\n",
            "INFO:tensorflow:loss = 36205.508, step = 801 (2.269 sec)\n",
            "INFO:tensorflow:global_step/sec: 39.9691\n",
            "INFO:tensorflow:loss = 40499.625, step = 901 (2.502 sec)\n",
            "INFO:tensorflow:Saving checkpoints for 1000 into /content/datalab/training-data-analyst/courses/machine_learning/deepdive/03_tensorflow/taxi_trained/model.ckpt.\n",
            "INFO:tensorflow:Loss for final step: 39524.08.\n",
            "INFO:tensorflow:Calling model_fn.\n",
            "INFO:tensorflow:Done calling model_fn.\n",
            "INFO:tensorflow:Starting evaluation at 2019-04-30-02:59:54\n",
            "INFO:tensorflow:Graph was finalized.\n",
            "INFO:tensorflow:Restoring parameters from /content/datalab/training-data-analyst/courses/machine_learning/deepdive/03_tensorflow/taxi_trained/model.ckpt-1000\n",
            "INFO:tensorflow:Running local_init_op.\n",
            "INFO:tensorflow:Done running local_init_op.\n",
            "INFO:tensorflow:Finished evaluation at 2019-04-30-02:59:54\n",
            "INFO:tensorflow:Saving dict for global step 1000: average_loss = 109.03036, global_step = 1000, loss = 181535.55\n",
            "INFO:tensorflow:Calling model_fn.\n",
            "INFO:tensorflow:Done calling model_fn.\n",
            "INFO:tensorflow:Signatures INCLUDED in export for Classify: None\n",
            "INFO:tensorflow:Signatures INCLUDED in export for Regress: None\n",
            "INFO:tensorflow:Signatures INCLUDED in export for Predict: ['predict']\n",
            "INFO:tensorflow:Signatures EXCLUDED from export because they cannot be be served via TensorFlow Serving APIs:\n",
            "INFO:tensorflow:'serving_default' : Regression input must be a single string Tensor; got {'passengers': <tf.Tensor 'Placeholder_4:0' shape=(?,) dtype=float32>, 'pickuplon': <tf.Tensor 'Placeholder:0' shape=(?,) dtype=float32>, 'dropofflon': <tf.Tensor 'Placeholder_3:0' shape=(?,) dtype=float32>, 'pickuplat': <tf.Tensor 'Placeholder_1:0' shape=(?,) dtype=float32>, 'dropofflat': <tf.Tensor 'Placeholder_2:0' shape=(?,) dtype=float32>}\n",
            "INFO:tensorflow:'regression' : Regression input must be a single string Tensor; got {'passengers': <tf.Tensor 'Placeholder_4:0' shape=(?,) dtype=float32>, 'pickuplon': <tf.Tensor 'Placeholder:0' shape=(?,) dtype=float32>, 'dropofflon': <tf.Tensor 'Placeholder_3:0' shape=(?,) dtype=float32>, 'pickuplat': <tf.Tensor 'Placeholder_1:0' shape=(?,) dtype=float32>, 'dropofflat': <tf.Tensor 'Placeholder_2:0' shape=(?,) dtype=float32>}\n",
            "WARNING:tensorflow:Export includes no default signature!\n",
            "INFO:tensorflow:Restoring parameters from /content/datalab/training-data-analyst/courses/machine_learning/deepdive/03_tensorflow/taxi_trained/model.ckpt-1000\n",
            "INFO:tensorflow:Assets added to graph.\n",
            "INFO:tensorflow:No assets to write.\n",
            "INFO:tensorflow:SavedModel written to: /content/datalab/training-data-analyst/courses/machine_learning/deepdive/03_tensorflow/taxi_trained/export/exporter/temp-1556593194/saved_model.pb\n"
          ],
          "name": "stderr"
        }
      ]
    },
    {
      "metadata": {
        "id": "LcIzlaYdknZ-",
        "colab_type": "code",
        "colab": {},
        "outputId": "6e35fa6b-4b19-4649-901c-fa8367ae791d"
      },
      "cell_type": "code",
      "source": [
        "%%bash\n",
        "ls $PWD/${TRAINING_DIR}/export/exporter/"
      ],
      "execution_count": 0,
      "outputs": [
        {
          "output_type": "stream",
          "text": [
            "1556593194\n"
          ],
          "name": "stdout"
        }
      ]
    },
    {
      "metadata": {
        "id": "TkzxEnCwknaE",
        "colab_type": "code",
        "colab": {},
        "outputId": "aa956900-624d-4e21-a164-c569e46579e3"
      },
      "cell_type": "code",
      "source": [
        "%%writefile ./test.json\n",
        "{\"pickuplon\": -73.885262,\"pickuplat\": 40.773008,\"dropofflon\": -73.987232,\"dropofflat\": 40.732403,\"passengers\": 2}"
      ],
      "execution_count": 0,
      "outputs": [
        {
          "output_type": "stream",
          "text": [
            "Overwriting ./test.json\n"
          ],
          "name": "stdout"
        }
      ]
    },
    {
      "metadata": {
        "id": "L2Nca_DVknaJ",
        "colab_type": "code",
        "colab": {},
        "outputId": "bf107db8-0059-48ec-81af-20368c44ce78"
      },
      "cell_type": "code",
      "source": [
        "%%bash\n",
        "# This model dir is the model exported after training and is used for prediction\n",
        "#\n",
        "model_dir=$(ls ${PWD}/${TRAINING_DIR}/export/exporter | tail -1)\n",
        "# predict using the trained model\n",
        "gcloud ml-engine local predict  \\\n",
        "    --model-dir=${PWD}/${TRAINING_DIR}/export/exporter/${model_dir} \\\n",
        "    --json-instances=./test.json"
      ],
      "execution_count": 0,
      "outputs": [
        {
          "output_type": "stream",
          "text": [
            "PREDICTIONS\n",
            "[11.220751762390137]\n"
          ],
          "name": "stdout"
        },
        {
          "output_type": "stream",
          "text": [
            "WARNING: /usr/local/envs/py2env/lib/python2.7/site-packages/h5py/__init__.py:36: FutureWarning: Conversion of the second argument of issubdtype from `float` to `np.floating` is deprecated. In future, it will be treated as `np.float64 == np.dtype(float).type`.\n",
            "  from ._conv import register_converters as _register_converters\n",
            "2019-04-30 02:59:58.299024: I tensorflow/core/platform/cpu_feature_guard.cc:140] Your CPU supports instructions that this TensorFlow binary was not compiled to use: AVX2 AVX512F FMA\n",
            "\n"
          ],
          "name": "stderr"
        }
      ]
    },
    {
      "metadata": {
        "id": "O5aWUzVzknaO",
        "colab_type": "text"
      },
      "cell_type": "markdown",
      "source": [
        "#### Stop Tensorboard\n",
        "The training directory will be deleted.  Stop the exising tensorboard before removing the directory its using."
      ]
    },
    {
      "metadata": {
        "id": "jOqCQIQoknaP",
        "colab_type": "code",
        "colab": {},
        "outputId": "e4fb07ef-06c1-473e-9320-54e326bb9e1e"
      },
      "cell_type": "code",
      "source": [
        "pids_df = TensorBoard.list()\n",
        "if not pids_df.empty:\n",
        "    for pid in pids_df['pid']:\n",
        "        TensorBoard().stop(pid)\n",
        "        print('Stopped TensorBoard with pid {}'.format(pid))"
      ],
      "execution_count": 0,
      "outputs": [
        {
          "output_type": "stream",
          "text": [
            "Stopped TensorBoard with pid 10593\n"
          ],
          "name": "stdout"
        }
      ]
    },
    {
      "metadata": {
        "id": "z00B1t3sknaT",
        "colab_type": "text"
      },
      "cell_type": "markdown",
      "source": [
        "#### Clean model training dir/output dir"
      ]
    },
    {
      "metadata": {
        "id": "Fjcwt0sHknaT",
        "colab_type": "code",
        "colab": {}
      },
      "cell_type": "code",
      "source": [
        "%%bash\n",
        "# This is so that the trained model is started fresh each time. However, this needs to be done before \n",
        "# tensorboard is started\n",
        "rm -rf $PWD/${TRAINING_DIR}"
      ],
      "execution_count": 0,
      "outputs": []
    },
    {
      "metadata": {
        "id": "DUwglBc4knaV",
        "colab_type": "text"
      },
      "cell_type": "markdown",
      "source": [
        "#### Restart tensorboard for monitoring"
      ]
    },
    {
      "metadata": {
        "id": "h-ad7YRiknaW",
        "colab_type": "code",
        "colab": {},
        "outputId": "1facd8fc-7824-4048-ff0f-2aba4b6ec681"
      },
      "cell_type": "code",
      "source": [
        "TensorBoard().start('./'+ TRAINING_DIR)"
      ],
      "execution_count": 0,
      "outputs": [
        {
          "output_type": "display_data",
          "data": {
            "text/html": [
              "<p>TensorBoard was started successfully with pid 10862. Click <a href=\"/_proxy/59807/\" target=\"_blank\">here</a> to access it.</p>"
            ]
          },
          "metadata": {
            "tags": []
          }
        },
        {
          "output_type": "execute_result",
          "data": {
            "text/plain": [
              "10862"
            ]
          },
          "metadata": {
            "tags": []
          },
          "execution_count": 100
        }
      ]
    },
    {
      "metadata": {
        "id": "CT4P6lhVknaY",
        "colab_type": "text"
      },
      "cell_type": "markdown",
      "source": [
        "## Running locally using gcloud"
      ]
    },
    {
      "metadata": {
        "hiddenCell": true,
        "id": "UKGQF0Nyknac",
        "colab_type": "code",
        "colab": {},
        "outputId": "358613bf-e7ad-489b-932e-741a6c7bbfcd"
      },
      "cell_type": "code",
      "source": [
        "%%bash\n",
        "# Use Cloud Machine Learning Engine to train the model in local file system\n",
        "gcloud ml-engine local train \\\n",
        "   --module-name=trainer.task \\\n",
        "   --package-path=${PWD}/${MODEL_NAME}/trainer \\\n",
        "   -- \\\n",
        "   --train_data_paths=${PWD}/taxi-train.csv \\\n",
        "   --eval_data_paths=${PWD}/taxi-valid.csv  \\\n",
        "   --train_steps=1000 \\\n",
        "   --output_dir=${PWD}/${TRAINING_DIR} "
      ],
      "execution_count": 0,
      "outputs": [
        {
          "output_type": "stream",
          "text": [
            "/usr/local/envs/py2env/lib/python2.7/site-packages/h5py/__init__.py:36: FutureWarning: Conversion of the second argument of issubdtype from `float` to `np.floating` is deprecated. In future, it will be treated as `np.float64 == np.dtype(float).type`.\n",
            "  from ._conv import register_converters as _register_converters\n",
            "INFO:tensorflow:TF_CONFIG environment variable: {u'environment': u'cloud', u'cluster': {}, u'job': {u'args': [u'--train_data_paths=/content/datalab/training-data-analyst/courses/machine_learning/deepdive/03_tensorflow/taxi-train.csv', u'--eval_data_paths=/content/datalab/training-data-analyst/courses/machine_learning/deepdive/03_tensorflow/taxi-valid.csv', u'--train_steps=1000', u'--output_dir=/content/datalab/training-data-analyst/courses/machine_learning/deepdive/03_tensorflow/taxi_trained'], u'job_name': u'trainer.task'}, u'task': {}}\n",
            "INFO:tensorflow:Using default config.\n",
            "INFO:tensorflow:Using config: {'_save_checkpoints_secs': 600, '_session_config': None, '_keep_checkpoint_max': 5, '_task_type': 'worker', '_train_distribute': None, '_is_chief': True, '_cluster_spec': <tensorflow.python.training.server_lib.ClusterSpec object at 0x7f1d6f45bfd0>, '_evaluation_master': '', '_save_checkpoints_steps': None, '_keep_checkpoint_every_n_hours': 10000, '_service': None, '_num_ps_replicas': 0, '_tf_random_seed': None, '_master': '', '_num_worker_replicas': 1, '_task_id': 0, '_log_step_count_steps': 100, '_model_dir': '/content/datalab/training-data-analyst/courses/machine_learning/deepdive/03_tensorflow/taxi_trained', '_global_id_in_cluster': 0, '_save_summary_steps': 100}\n",
            "INFO:tensorflow:Running training and evaluation locally (non-distributed).\n",
            "INFO:tensorflow:Start train and evaluate loop. The evaluate will happen after 300 secs (eval_spec.throttle_secs) or training is finished.\n",
            "INFO:tensorflow:Calling model_fn.\n",
            "INFO:tensorflow:Done calling model_fn.\n",
            "INFO:tensorflow:Create CheckpointSaverHook.\n",
            "INFO:tensorflow:Graph was finalized.\n",
            "2019-04-30 03:00:03.249003: I tensorflow/core/platform/cpu_feature_guard.cc:140] Your CPU supports instructions that this TensorFlow binary was not compiled to use: AVX2 AVX512F FMA\n",
            "INFO:tensorflow:Running local_init_op.\n",
            "INFO:tensorflow:Done running local_init_op.\n",
            "INFO:tensorflow:Saving checkpoints for 1 into /content/datalab/training-data-analyst/courses/machine_learning/deepdive/03_tensorflow/taxi_trained/model.ckpt.\n",
            "INFO:tensorflow:loss = 197953.53, step = 1\n",
            "INFO:tensorflow:global_step/sec: 44.7848\n",
            "INFO:tensorflow:loss = 92058.73, step = 101 (2.233 sec)\n",
            "INFO:tensorflow:global_step/sec: 43.0454\n",
            "INFO:tensorflow:loss = 102633.77, step = 201 (2.323 sec)\n",
            "INFO:tensorflow:global_step/sec: 46.8826\n",
            "INFO:tensorflow:loss = 82481.32, step = 301 (2.133 sec)\n",
            "INFO:tensorflow:global_step/sec: 42.7822\n",
            "INFO:tensorflow:loss = 84229.8, step = 401 (2.337 sec)\n",
            "INFO:tensorflow:global_step/sec: 45.3183\n",
            "INFO:tensorflow:loss = 81100.336, step = 501 (2.207 sec)\n",
            "INFO:tensorflow:global_step/sec: 45.7875\n",
            "INFO:tensorflow:loss = 86237.516, step = 601 (2.184 sec)\n",
            "INFO:tensorflow:global_step/sec: 43.7077\n",
            "INFO:tensorflow:loss = 92468.0, step = 701 (2.288 sec)\n",
            "INFO:tensorflow:global_step/sec: 47.77\n",
            "INFO:tensorflow:loss = 80903.56, step = 801 (2.093 sec)\n",
            "INFO:tensorflow:global_step/sec: 43.1385\n",
            "INFO:tensorflow:loss = 76128.65, step = 901 (2.318 sec)\n",
            "INFO:tensorflow:Saving checkpoints for 1000 into /content/datalab/training-data-analyst/courses/machine_learning/deepdive/03_tensorflow/taxi_trained/model.ckpt.\n",
            "INFO:tensorflow:Loss for final step: 86924.41.\n",
            "INFO:tensorflow:Calling model_fn.\n",
            "INFO:tensorflow:Done calling model_fn.\n",
            "INFO:tensorflow:Starting evaluation at 2019-04-30-03:00:26\n",
            "INFO:tensorflow:Graph was finalized.\n",
            "INFO:tensorflow:Restoring parameters from /content/datalab/training-data-analyst/courses/machine_learning/deepdive/03_tensorflow/taxi_trained/model.ckpt-1000\n",
            "INFO:tensorflow:Running local_init_op.\n",
            "INFO:tensorflow:Done running local_init_op.\n",
            "INFO:tensorflow:Finished evaluation at 2019-04-30-03:00:26\n",
            "INFO:tensorflow:Saving dict for global step 1000: average_loss = 185.98587, global_step = 1000, loss = 309666.47\n",
            "INFO:tensorflow:Calling model_fn.\n",
            "INFO:tensorflow:Done calling model_fn.\n",
            "INFO:tensorflow:Signatures INCLUDED in export for Classify: None\n",
            "INFO:tensorflow:Signatures INCLUDED in export for Regress: None\n",
            "INFO:tensorflow:Signatures INCLUDED in export for Predict: ['predict']\n",
            "INFO:tensorflow:Signatures EXCLUDED from export because they cannot be be served via TensorFlow Serving APIs:\n",
            "INFO:tensorflow:'serving_default' : Regression input must be a single string Tensor; got {'passengers': <tf.Tensor 'Placeholder_4:0' shape=(?,) dtype=float32>, 'pickuplon': <tf.Tensor 'Placeholder:0' shape=(?,) dtype=float32>, 'dropofflon': <tf.Tensor 'Placeholder_3:0' shape=(?,) dtype=float32>, 'pickuplat': <tf.Tensor 'Placeholder_1:0' shape=(?,) dtype=float32>, 'dropofflat': <tf.Tensor 'Placeholder_2:0' shape=(?,) dtype=float32>}\n",
            "INFO:tensorflow:'regression' : Regression input must be a single string Tensor; got {'passengers': <tf.Tensor 'Placeholder_4:0' shape=(?,) dtype=float32>, 'pickuplon': <tf.Tensor 'Placeholder:0' shape=(?,) dtype=float32>, 'dropofflon': <tf.Tensor 'Placeholder_3:0' shape=(?,) dtype=float32>, 'pickuplat': <tf.Tensor 'Placeholder_1:0' shape=(?,) dtype=float32>, 'dropofflat': <tf.Tensor 'Placeholder_2:0' shape=(?,) dtype=float32>}\n",
            "WARNING:tensorflow:Export includes no default signature!\n",
            "INFO:tensorflow:Restoring parameters from /content/datalab/training-data-analyst/courses/machine_learning/deepdive/03_tensorflow/taxi_trained/model.ckpt-1000\n",
            "INFO:tensorflow:Assets added to graph.\n",
            "INFO:tensorflow:No assets to write.\n",
            "INFO:tensorflow:SavedModel written to: /content/datalab/training-data-analyst/courses/machine_learning/deepdive/03_tensorflow/taxi_trained/export/exporter/temp-1556593227/saved_model.pb\n"
          ],
          "name": "stderr"
        }
      ]
    },
    {
      "metadata": {
        "id": "7-DQLYkOknag",
        "colab_type": "text"
      },
      "cell_type": "markdown",
      "source": [
        "Use TensorBoard to examine results.  When I ran it (due to random seeds, your results will be different), the ```average_loss``` (Mean Squared Error) on the evaluation dataset was 187, meaning that the RMSE was around 13."
      ]
    },
    {
      "metadata": {
        "id": "LShpdLrzknah",
        "colab_type": "text"
      },
      "cell_type": "markdown",
      "source": [
        "### Stop Tensorboard"
      ]
    },
    {
      "metadata": {
        "id": "jf4rNHC8knah",
        "colab_type": "code",
        "colab": {},
        "outputId": "5f1b6ed9-3ec9-4137-c0a2-a0dc022216d3"
      },
      "cell_type": "code",
      "source": [
        "pids_df = TensorBoard.list()\n",
        "if not pids_df.empty:\n",
        "    for pid in pids_df['pid']:\n",
        "        TensorBoard().stop(pid)\n",
        "        print('Stopped TensorBoard with pid {}'.format(pid))"
      ],
      "execution_count": 0,
      "outputs": [
        {
          "output_type": "stream",
          "text": [
            "Stopped TensorBoard with pid 10862\n"
          ],
          "name": "stdout"
        }
      ]
    },
    {
      "metadata": {
        "id": "vFkXP8iOknal",
        "colab_type": "text"
      },
      "cell_type": "markdown",
      "source": [
        "If the above step (to stop TensorBoard) appears stalled, just move on to the next step. You don't need to wait for it to return."
      ]
    },
    {
      "metadata": {
        "id": "PqKIiJ27knam",
        "colab_type": "code",
        "colab": {},
        "outputId": "9f1d322f-446e-4b55-8655-8a7e32d91e55"
      },
      "cell_type": "code",
      "source": [
        "%%bash\n",
        "ls $PWD/${TRAINING_DIR}"
      ],
      "execution_count": 0,
      "outputs": [
        {
          "output_type": "stream",
          "text": [
            "checkpoint\n",
            "eval\n",
            "events.out.tfevents.1556593203.7590cec858e5\n",
            "export\n",
            "graph.pbtxt\n",
            "model.ckpt-1000.data-00000-of-00001\n",
            "model.ckpt-1000.index\n",
            "model.ckpt-1000.meta\n",
            "model.ckpt-1.data-00000-of-00001\n",
            "model.ckpt-1.index\n",
            "model.ckpt-1.meta\n"
          ],
          "name": "stdout"
        }
      ]
    },
    {
      "metadata": {
        "id": "JqCA77kIknap",
        "colab_type": "text"
      },
      "cell_type": "markdown",
      "source": [
        "## Submit training job using gcloud\n",
        "\n",
        "First copy the training data to the cloud.  Then, launch a training job.\n",
        "\n",
        "After you submit the job, go to the cloud console (http://console.cloud.google.com) and select <b>Machine Learning | Jobs</b> to monitor progress.  \n",
        "\n",
        "<b>Note:</b> Don't be concerned if the notebook stalls (with a blue progress bar) or returns with an error about being unable to refresh auth tokens. This is a long-lived Cloud job and work is going on in the cloud.  Use the Cloud Console link (above) to monitor the job."
      ]
    },
    {
      "metadata": {
        "id": "bnzesw6yknaq",
        "colab_type": "code",
        "colab": {},
        "outputId": "dfdf7ecf-77b8-4b1a-c734-19dc240ac2c0"
      },
      "cell_type": "code",
      "source": [
        "%%bash\n",
        "# Clear Cloud Storage bucket and copy the CSV files to Cloud Storage bucket\n",
        "echo $BUCKET\n",
        "gsutil -m rm -rf gs://${BUCKET}/${MODEL_NAME}/smallinput/\n",
        "gsutil -m cp ${PWD}/*.csv gs://${BUCKET}/${MODEL_NAME}/smallinput/"
      ],
      "execution_count": 0,
      "outputs": [
        {
          "output_type": "stream",
          "text": [
            "qwiklabs-gcp-c43faf1bf75fec83\n"
          ],
          "name": "stdout"
        },
        {
          "output_type": "stream",
          "text": [
            "CommandException: 1 files/objects could not be removed.\n",
            "Copying file:///content/datalab/training-data-analyst/courses/machine_learning/deepdive/03_tensorflow/taxi-test.csv [Content-Type=text/csv]...\n",
            "/ [0 files][    0.0 B/ 86.5 KiB]                                                \rCopying file:///content/datalab/training-data-analyst/courses/machine_learning/deepdive/03_tensorflow/taxi-train.csv [Content-Type=text/csv]...\n",
            "/ [0/3 files][    0.0 B/580.6 KiB]   0% Done                                    \rCopying file:///content/datalab/training-data-analyst/courses/machine_learning/deepdive/03_tensorflow/taxi-valid.csv [Content-Type=text/csv]...\n",
            "/ [0/3 files][    0.0 B/580.6 KiB]   0% Done                                    \r/ [1/3 files][580.6 KiB/580.6 KiB]  99% Done                                    \r-\r- [2/3 files][580.6 KiB/580.6 KiB]  99% Done                                    \r- [3/3 files][580.6 KiB/580.6 KiB] 100% Done                                    \r\n",
            "Operation completed over 3 objects/580.6 KiB.                                    \n"
          ],
          "name": "stderr"
        }
      ]
    },
    {
      "metadata": {
        "id": "3fiqwbxCknat",
        "colab_type": "code",
        "colab": {},
        "outputId": "93fefd36-52d0-442b-98fb-9661e30f6174"
      },
      "cell_type": "code",
      "source": [
        "%%bash\n",
        "OUTDIR=gs://${BUCKET}/${MODEL_NAME}/smallinput/${TRAINING_DIR}\n",
        "JOBNAME=${MODEL_NAME}_$(date -u +%y%m%d_%H%M%S)\n",
        "echo $OUTDIR $REGION $JOBNAME\n",
        "# Clear the Cloud Storage Bucket used for the training job\n",
        "gsutil -m rm -rf $OUTDIR\n",
        "gcloud ml-engine jobs submit training $JOBNAME \\\n",
        "   --region=$REGION \\\n",
        "   --module-name=trainer.task \\\n",
        "   --package-path=${PWD}/${MODEL_NAME}/trainer \\\n",
        "   --job-dir=$OUTDIR \\\n",
        "   --staging-bucket=gs://$BUCKET \\\n",
        "   --scale-tier=BASIC \\\n",
        "   --runtime-version=$TFVERSION \\\n",
        "   -- \\\n",
        "   --train_data_paths=\"gs://${BUCKET}/${MODEL_NAME}/smallinput/taxi-train*\" \\\n",
        "   --eval_data_paths=\"gs://${BUCKET}/${MODEL_NAME}/smallinput/taxi-valid*\"  \\\n",
        "   --output_dir=$OUTDIR \\\n",
        "   --train_steps=10000"
      ],
      "execution_count": 0,
      "outputs": [
        {
          "output_type": "stream",
          "text": [
            "gs://qwiklabs-gcp-c43faf1bf75fec83/taxifare/smallinput/taxi_trained asia-east1 taxifare_190430_030033\n",
            "jobId: taxifare_190430_030033\n",
            "state: QUEUED\n"
          ],
          "name": "stdout"
        },
        {
          "output_type": "stream",
          "text": [
            "CommandException: 1 files/objects could not be removed.\n",
            "Job [taxifare_190430_030033] submitted successfully.\n",
            "Your job is still active. You may view the status of your job with the command\n",
            "\n",
            "  $ gcloud ml-engine jobs describe taxifare_190430_030033\n",
            "\n",
            "or continue streaming the logs with the command\n",
            "\n",
            "  $ gcloud ml-engine jobs stream-logs taxifare_190430_030033\n"
          ],
          "name": "stderr"
        }
      ]
    },
    {
      "metadata": {
        "id": "UUB-g6Z_knav",
        "colab_type": "text"
      },
      "cell_type": "markdown",
      "source": [
        "Don't be concerned if the notebook appears stalled (with a blue progress bar) or returns with an error about being unable to refresh auth tokens. This is a long-lived Cloud job and work is going on in the cloud. \n",
        "\n",
        "<b>Use the Cloud Console link to monitor the job and do NOT proceed until the job is done.</b>"
      ]
    },
    {
      "metadata": {
        "id": "28ZmV-t9knaw",
        "colab_type": "text"
      },
      "cell_type": "markdown",
      "source": [
        "## Deploy model\n",
        "\n",
        "Find out the actual name of the subdirectory where the model is stored and use it to deploy the model.  Deploying model will take up to <b>5 minutes</b>."
      ]
    },
    {
      "metadata": {
        "id": "7fEM-JCfknax",
        "colab_type": "code",
        "colab": {},
        "outputId": "2b486ee7-1a4c-4f6b-eda2-a3a33386fe8c"
      },
      "cell_type": "code",
      "source": [
        "%%bash\n",
        "gsutil ls gs://${BUCKET}/${MODEL_NAME}/smallinput/${TRAINING_DIR}/export/exporter"
      ],
      "execution_count": 0,
      "outputs": [
        {
          "output_type": "stream",
          "text": [
            "CommandException: One or more URLs matched no objects.\n"
          ],
          "name": "stderr"
        }
      ]
    },
    {
      "metadata": {
        "id": "ZOOM5bbZknaz",
        "colab_type": "text"
      },
      "cell_type": "markdown",
      "source": [
        "#### Deploy model : step 1 - remove version info \n",
        "Before an existing cloud model can be removed, it must have any version info removed.  If an existing model does not exist, this command will generate an error but that is ok."
      ]
    },
    {
      "metadata": {
        "id": "G77A3W--kna0",
        "colab_type": "code",
        "colab": {},
        "outputId": "925c9e69-a704-4e64-c840-f2ba78698f67"
      },
      "cell_type": "code",
      "source": [
        "%%bash\n",
        "MODEL_LOCATION=$(gsutil ls gs://${BUCKET}/${MODEL_NAME}/smallinput/${TRAINING_DIR}/export/exporter | tail -1)\n",
        "\n",
        "echo \"MODEL_LOCATION = ${MODEL_LOCATION}\"\n",
        "\n",
        "gcloud ml-engine versions delete ${MODEL_VERSION} --model ${MODEL_NAME}"
      ],
      "execution_count": 0,
      "outputs": [
        {
          "output_type": "stream",
          "text": [
            "MODEL_LOCATION = \n"
          ],
          "name": "stdout"
        },
        {
          "output_type": "stream",
          "text": [
            "CommandException: One or more URLs matched no objects.\n",
            "This will delete version [v1]...\n",
            "\n",
            "Do you want to continue (Y/n)?  \n",
            "ERROR: (gcloud.ml-engine.versions.delete) NOT_FOUND: Field: name Error: The model resource: \"taxifare\" was not found. Please create the Cloud ML model resource first by using 'gcloud ml-engine models create taxifare'.\n",
            "- '@type': type.googleapis.com/google.rpc.BadRequest\n",
            "  fieldViolations:\n",
            "  - description: \"The model resource: \\\"taxifare\\\" was not found. Please create the\\\n",
            "      \\ Cloud ML model resource first by using 'gcloud ml-engine models create taxifare'.\"\n",
            "    field: name\n"
          ],
          "name": "stderr"
        }
      ]
    },
    {
      "metadata": {
        "id": "JkK5G-8xkna2",
        "colab_type": "text"
      },
      "cell_type": "markdown",
      "source": [
        "#### Deploy model: step 2 - remove existing model\n",
        "Now that the version info is removed from an existing model, the actual model can be removed.  If an existing model is not deployed, this command will generate an error but that is ok.  It just means the model with the given name is not deployed."
      ]
    },
    {
      "metadata": {
        "id": "RUsNd45Nkna2",
        "colab_type": "code",
        "colab": {},
        "outputId": "a646306c-e293-47af-958d-379611807e0a"
      },
      "cell_type": "code",
      "source": [
        "%%bash\n",
        "gcloud ml-engine models delete ${MODEL_NAME}"
      ],
      "execution_count": 0,
      "outputs": [
        {
          "output_type": "stream",
          "text": [
            "This will delete model [taxifare]...\n",
            "\n",
            "Do you want to continue (Y/n)?  \n",
            "ERROR: (gcloud.ml-engine.models.delete) NOT_FOUND: Field: name Error: The model resource: \"taxifare\" was not found. Please create the Cloud ML model resource first by using 'gcloud ml-engine models create taxifare'.\n",
            "- '@type': type.googleapis.com/google.rpc.BadRequest\n",
            "  fieldViolations:\n",
            "  - description: \"The model resource: \\\"taxifare\\\" was not found. Please create the\\\n",
            "      \\ Cloud ML model resource first by using 'gcloud ml-engine models create taxifare'.\"\n",
            "    field: name\n"
          ],
          "name": "stderr"
        }
      ]
    },
    {
      "metadata": {
        "id": "1WOHdF9gkna4",
        "colab_type": "text"
      },
      "cell_type": "markdown",
      "source": [
        "#### Deploy model: step 3 - deploy new model"
      ]
    },
    {
      "metadata": {
        "id": "a3yXmfsRkna5",
        "colab_type": "code",
        "colab": {},
        "outputId": "821cd6a1-9ab2-45f4-87a4-5b888d757248"
      },
      "cell_type": "code",
      "source": [
        "%%bash\n",
        "gcloud ml-engine models create ${MODEL_NAME} --regions $REGION"
      ],
      "execution_count": 0,
      "outputs": [
        {
          "output_type": "stream",
          "text": [
            "ERROR: (gcloud.ml-engine.models.create) INVALID_ARGUMENT: Field: model.regions Error: The provided GCE region 'asia-east1' is not available. Options are [asia-northeast1, europe-west1, us-central1, us-east1, us-east4].\n",
            "- '@type': type.googleapis.com/google.rpc.BadRequest\n",
            "  fieldViolations:\n",
            "  - description: The provided GCE region 'asia-east1' is not available. Options are\n",
            "      [asia-northeast1, europe-west1, us-central1, us-east1, us-east4].\n",
            "    field: model.regions\n"
          ],
          "name": "stderr"
        }
      ]
    },
    {
      "metadata": {
        "id": "2TcjXfKTkna7",
        "colab_type": "text"
      },
      "cell_type": "markdown",
      "source": [
        "#### Deploy model: step 4 - add version info to the new model"
      ]
    },
    {
      "metadata": {
        "id": "ZPBbOFXdkna8",
        "colab_type": "code",
        "colab": {},
        "outputId": "8ede769a-1b1e-454c-8df2-9d4ba07a78e2"
      },
      "cell_type": "code",
      "source": [
        "%%bash\n",
        "MODEL_LOCATION=$(gsutil ls gs://${BUCKET}/${MODEL_NAME}/smallinput/${TRAINING_DIR}/export/exporter | tail -1)\n",
        "\n",
        "echo \"MODEL_LOCATION = ${MODEL_LOCATION}\"\n",
        "\n",
        "gcloud ml-engine versions create ${MODEL_VERSION} --model ${MODEL_NAME} --origin ${MODEL_LOCATION} --runtime-version $TFVERSION"
      ],
      "execution_count": 0,
      "outputs": [
        {
          "output_type": "stream",
          "text": [
            "MODEL_LOCATION = \n"
          ],
          "name": "stdout"
        },
        {
          "output_type": "stream",
          "text": [
            "CommandException: One or more URLs matched no objects.\n",
            "ERROR: (gcloud.ml-engine.versions.create) argument --origin: expected one argument\n",
            "Usage: gcloud ml-engine versions create VERSION --model=MODEL [optional flags]\n",
            "  optional flags may be  --async | --config | --description | --framework |\n",
            "                         --help | --labels | --origin | --python-version |\n",
            "                         --runtime-version | --staging-bucket\n",
            "\n",
            "For detailed information on this command and its flags, run:\n",
            "  gcloud ml-engine versions create --help\n"
          ],
          "name": "stderr"
        }
      ]
    },
    {
      "metadata": {
        "id": "bjTDoP4nknbA",
        "colab_type": "text"
      },
      "cell_type": "markdown",
      "source": [
        "## Prediction"
      ]
    },
    {
      "metadata": {
        "id": "wyNq_c97knbB",
        "colab_type": "code",
        "colab": {},
        "outputId": "36616dc5-40f9-448d-b9fe-08773d4ab8e7"
      },
      "cell_type": "code",
      "source": [
        "%%bash\n",
        "gcloud ml-engine predict --model=${MODEL_NAME} --version=${MODEL_VERSION} --json-instances=./test.json"
      ],
      "execution_count": 0,
      "outputs": [
        {
          "output_type": "stream",
          "text": [
            "ERROR: (gcloud.ml-engine.predict) HTTP request failed. Response: {\n",
            "  \"error\": {\n",
            "    \"code\": 404,\n",
            "    \"message\": \"Field: name Error: The model resource: \\\"taxifare\\\" was not found. Please create the Cloud ML model resource first by using 'gcloud ml-engine models create taxifare'.\",\n",
            "    \"status\": \"NOT_FOUND\",\n",
            "    \"details\": [\n",
            "      {\n",
            "        \"@type\": \"type.googleapis.com/google.rpc.BadRequest\",\n",
            "        \"fieldViolations\": [\n",
            "          {\n",
            "            \"field\": \"name\",\n",
            "            \"description\": \"The model resource: \\\"taxifare\\\" was not found. Please create the Cloud ML model resource first by using 'gcloud ml-engine models create taxifare'.\"\n",
            "          }\n",
            "        ]\n",
            "      }\n",
            "    ]\n",
            "  }\n",
            "}\n",
            "\n"
          ],
          "name": "stderr"
        }
      ]
    },
    {
      "metadata": {
        "id": "gbe9HIzcknbE",
        "colab_type": "code",
        "colab": {},
        "outputId": "fb70c68d-5ca7-402a-d212-be6e80f0a130"
      },
      "cell_type": "code",
      "source": [
        "from googleapiclient import discovery\n",
        "from oauth2client.client import GoogleCredentials\n",
        "import json\n",
        "\n",
        "credentials = GoogleCredentials.get_application_default()\n",
        "api = discovery.build('ml', 'v1', credentials=credentials,\n",
        "            discoveryServiceUrl='https://storage.googleapis.com/cloud-ml/discovery/ml_v1_discovery.json')\n",
        "\n",
        "request_data = {'instances':\n",
        "  [\n",
        "      {\n",
        "        'pickuplon': -73.885262,\n",
        "        'pickuplat': 40.773008,\n",
        "        'dropofflon': -73.987232,\n",
        "        'dropofflat': 40.732403,\n",
        "        'passengers': 2,\n",
        "      }\n",
        "  ]\n",
        "}\n",
        "\n",
        "parent = 'projects/%s/models/%s/versions/%s' % (PROJECT, MODEL_NAME, MODEL_VERSION)\n",
        "response = api.projects().predict(body=request_data, name=parent).execute()\n",
        "print \"response={0}\".format(response)"
      ],
      "execution_count": 0,
      "outputs": [
        {
          "output_type": "error",
          "ename": "HttpError",
          "evalue": "<HttpError 404 when requesting https://ml.googleapis.com/v1/projects/qwiklabs-gcp-c43faf1bf75fec83/models/taxifare/versions/v1:predict?alt=json returned \"Field: name Error: The model resource: \"taxifare\" was not found. Please create the Cloud ML model resource first by using 'gcloud ml-engine models create taxifare'.\">",
          "traceback": [
            "\u001b[0;31m\u001b[0m",
            "\u001b[0;31mHttpError\u001b[0mTraceback (most recent call last)",
            "\u001b[0;32m<ipython-input-112-c4c9b2cf5dc8>\u001b[0m in \u001b[0;36m<module>\u001b[0;34m()\u001b[0m\n\u001b[1;32m     20\u001b[0m \u001b[0;34m\u001b[0m\u001b[0m\n\u001b[1;32m     21\u001b[0m \u001b[0mparent\u001b[0m \u001b[0;34m=\u001b[0m \u001b[0;34m'projects/%s/models/%s/versions/%s'\u001b[0m \u001b[0;34m%\u001b[0m \u001b[0;34m(\u001b[0m\u001b[0mPROJECT\u001b[0m\u001b[0;34m,\u001b[0m \u001b[0mMODEL_NAME\u001b[0m\u001b[0;34m,\u001b[0m \u001b[0mMODEL_VERSION\u001b[0m\u001b[0;34m)\u001b[0m\u001b[0;34m\u001b[0m\u001b[0m\n\u001b[0;32m---> 22\u001b[0;31m \u001b[0mresponse\u001b[0m \u001b[0;34m=\u001b[0m \u001b[0mapi\u001b[0m\u001b[0;34m.\u001b[0m\u001b[0mprojects\u001b[0m\u001b[0;34m(\u001b[0m\u001b[0;34m)\u001b[0m\u001b[0;34m.\u001b[0m\u001b[0mpredict\u001b[0m\u001b[0;34m(\u001b[0m\u001b[0mbody\u001b[0m\u001b[0;34m=\u001b[0m\u001b[0mrequest_data\u001b[0m\u001b[0;34m,\u001b[0m \u001b[0mname\u001b[0m\u001b[0;34m=\u001b[0m\u001b[0mparent\u001b[0m\u001b[0;34m)\u001b[0m\u001b[0;34m.\u001b[0m\u001b[0mexecute\u001b[0m\u001b[0;34m(\u001b[0m\u001b[0;34m)\u001b[0m\u001b[0;34m\u001b[0m\u001b[0m\n\u001b[0m\u001b[1;32m     23\u001b[0m \u001b[0;32mprint\u001b[0m \u001b[0;34m\"response={0}\"\u001b[0m\u001b[0;34m.\u001b[0m\u001b[0mformat\u001b[0m\u001b[0;34m(\u001b[0m\u001b[0mresponse\u001b[0m\u001b[0;34m)\u001b[0m\u001b[0;34m\u001b[0m\u001b[0m\n",
            "\u001b[0;32m/usr/local/envs/py2env/lib/python2.7/site-packages/oauth2client/util.pyc\u001b[0m in \u001b[0;36mpositional_wrapper\u001b[0;34m(*args, **kwargs)\u001b[0m\n\u001b[1;32m    133\u001b[0m                 \u001b[0;32melif\u001b[0m \u001b[0mpositional_parameters_enforcement\u001b[0m \u001b[0;34m==\u001b[0m \u001b[0mPOSITIONAL_WARNING\u001b[0m\u001b[0;34m:\u001b[0m\u001b[0;34m\u001b[0m\u001b[0m\n\u001b[1;32m    134\u001b[0m                     \u001b[0mlogger\u001b[0m\u001b[0;34m.\u001b[0m\u001b[0mwarning\u001b[0m\u001b[0;34m(\u001b[0m\u001b[0mmessage\u001b[0m\u001b[0;34m)\u001b[0m\u001b[0;34m\u001b[0m\u001b[0m\n\u001b[0;32m--> 135\u001b[0;31m             \u001b[0;32mreturn\u001b[0m \u001b[0mwrapped\u001b[0m\u001b[0;34m(\u001b[0m\u001b[0;34m*\u001b[0m\u001b[0margs\u001b[0m\u001b[0;34m,\u001b[0m \u001b[0;34m**\u001b[0m\u001b[0mkwargs\u001b[0m\u001b[0;34m)\u001b[0m\u001b[0;34m\u001b[0m\u001b[0m\n\u001b[0m\u001b[1;32m    136\u001b[0m         \u001b[0;32mreturn\u001b[0m \u001b[0mpositional_wrapper\u001b[0m\u001b[0;34m\u001b[0m\u001b[0m\n\u001b[1;32m    137\u001b[0m \u001b[0;34m\u001b[0m\u001b[0m\n",
            "\u001b[0;32m/usr/local/envs/py2env/lib/python2.7/site-packages/googleapiclient/http.pyc\u001b[0m in \u001b[0;36mexecute\u001b[0;34m(self, http, num_retries)\u001b[0m\n\u001b[1;32m    838\u001b[0m       \u001b[0mcallback\u001b[0m\u001b[0;34m(\u001b[0m\u001b[0mresp\u001b[0m\u001b[0;34m)\u001b[0m\u001b[0;34m\u001b[0m\u001b[0m\n\u001b[1;32m    839\u001b[0m     \u001b[0;32mif\u001b[0m \u001b[0mresp\u001b[0m\u001b[0;34m.\u001b[0m\u001b[0mstatus\u001b[0m \u001b[0;34m>=\u001b[0m \u001b[0;36m300\u001b[0m\u001b[0;34m:\u001b[0m\u001b[0;34m\u001b[0m\u001b[0m\n\u001b[0;32m--> 840\u001b[0;31m       \u001b[0;32mraise\u001b[0m \u001b[0mHttpError\u001b[0m\u001b[0;34m(\u001b[0m\u001b[0mresp\u001b[0m\u001b[0;34m,\u001b[0m \u001b[0mcontent\u001b[0m\u001b[0;34m,\u001b[0m \u001b[0muri\u001b[0m\u001b[0;34m=\u001b[0m\u001b[0mself\u001b[0m\u001b[0;34m.\u001b[0m\u001b[0muri\u001b[0m\u001b[0;34m)\u001b[0m\u001b[0;34m\u001b[0m\u001b[0m\n\u001b[0m\u001b[1;32m    841\u001b[0m     \u001b[0;32mreturn\u001b[0m \u001b[0mself\u001b[0m\u001b[0;34m.\u001b[0m\u001b[0mpostproc\u001b[0m\u001b[0;34m(\u001b[0m\u001b[0mresp\u001b[0m\u001b[0;34m,\u001b[0m \u001b[0mcontent\u001b[0m\u001b[0;34m)\u001b[0m\u001b[0;34m\u001b[0m\u001b[0m\n\u001b[1;32m    842\u001b[0m \u001b[0;34m\u001b[0m\u001b[0m\n",
            "\u001b[0;31mHttpError\u001b[0m: <HttpError 404 when requesting https://ml.googleapis.com/v1/projects/qwiklabs-gcp-c43faf1bf75fec83/models/taxifare/versions/v1:predict?alt=json returned \"Field: name Error: The model resource: \"taxifare\" was not found. Please create the Cloud ML model resource first by using 'gcloud ml-engine models create taxifare'.\">"
          ]
        }
      ]
    },
    {
      "metadata": {
        "id": "7QZJeZ05knbH",
        "colab_type": "text"
      },
      "cell_type": "markdown",
      "source": [
        "## Train on larger dataset\n",
        "\n",
        "I have already followed the steps below and the files are already available. <b> You don't need to do the steps in this comment. </b> In the next chapter (on feature engineering), we will avoid all this manual processing by using Cloud Dataflow.\n",
        "\n",
        "Go to http://bigquery.cloud.google.com/ and type the query:\n",
        "<pre>\n",
        "SELECT\n",
        "  (tolls_amount + fare_amount) AS fare_amount,\n",
        "  pickup_longitude AS pickuplon,\n",
        "  pickup_latitude AS pickuplat,\n",
        "  dropoff_longitude AS dropofflon,\n",
        "  dropoff_latitude AS dropofflat,\n",
        "  passenger_count*1.0 AS passengers,\n",
        "  'nokeyindata' AS key\n",
        "FROM\n",
        "  [nyc-tlc:yellow.trips]\n",
        "WHERE\n",
        "  trip_distance > 0\n",
        "  AND fare_amount >= 2.5\n",
        "  AND pickup_longitude > -78\n",
        "  AND pickup_longitude < -70\n",
        "  AND dropoff_longitude > -78\n",
        "  AND dropoff_longitude < -70\n",
        "  AND pickup_latitude > 37\n",
        "  AND pickup_latitude < 45\n",
        "  AND dropoff_latitude > 37\n",
        "  AND dropoff_latitude < 45\n",
        "  AND passenger_count > 0\n",
        "  AND ABS(HASH(pickup_datetime)) % 1000 == 1\n",
        "</pre>\n",
        "\n",
        "Note that this is now 1,000,000 rows (i.e. 100x the original dataset).  Export this to CSV using the following steps (Note that <b>I have already done this and made the resulting GCS data publicly available</b>, so you don't need to do it.):\n",
        "<ol>\n",
        "<li> Click on the \"Save As Table\" button and note down the name of the dataset and table.\n",
        "<li> On the BigQuery console, find the newly exported table in the left-hand-side menu, and click on the name.\n",
        "<li> Click on \"Export Table\"\n",
        "<li> Supply your bucket name and give it the name train.csv (for example: gs://cloud-training-demos-ml/taxifare/ch3/train.csv). Note down what this is.  Wait for the job to finish (look at the \"Job History\" on the left-hand-side menu)\n",
        "<li> In the query above, change the final \"== 1\" to \"== 2\" and export this to Cloud Storage as valid.csv (e.g.  gs://cloud-training-demos-ml/taxifare/ch3/valid.csv)\n",
        "<li> Download the two files, remove the header line and upload it back to GCS.\n",
        "</ol>\n",
        "\n",
        "<p/>\n",
        "<p/>\n",
        "\n",
        "## Run Cloud training on 1-million row dataset\n",
        "\n",
        "This took 60 minutes and uses as input 1-million rows.  The model is exactly the same as above. The only changes are to the input (to use the larger dataset) and to the Cloud MLE tier (to use STANDARD_1 instead of BASIC -- STANDARD_1 is approximately 10x more powerful than BASIC).  At the end of the training the loss was 32, but the RMSE (calculated on the validation dataset) was stubbornly at 9.03. So, simply adding more data doesn't help."
      ]
    },
    {
      "metadata": {
        "id": "eeeLYb53knbJ",
        "colab_type": "code",
        "colab": {}
      },
      "cell_type": "code",
      "source": [
        "%%bash\n",
        "\n",
        "XXXXX  this takes 60 minutes. if you are sure you want to run it, then remove this line.\n",
        "\n",
        "OUTDIR=gs://${BUCKET}/${MODEL_NAME}/${TRAINING_DIR}\n",
        "JOBNAME=${MODEL_NAME}_$(date -u +%y%m%d_%H%M%S)\n",
        "CRS_BUCKET=cloud-training-demos # use the already exported data\n",
        "echo $OUTDIR $REGION $JOBNAME\n",
        "gsutil -m rm -rf $OUTDIR\n",
        "gcloud ml-engine jobs submit training $JOBNAME \\\n",
        "   --region=$REGION \\\n",
        "   --module-name=trainer.task \\\n",
        "   --package-path=${PWD}/${MODEL_NAME}/trainer \\\n",
        "   --job-dir=$OUTDIR \\\n",
        "   --staging-bucket=gs://$BUCKET \\\n",
        "   --scale-tier=STANDARD_1 \\\n",
        "   --runtime-version=$TFVERSION \\\n",
        "   -- \\\n",
        "   --train_data_paths=\"gs://${CRS_BUCKET}/${MODEL_NAME}/ch3/train.csv\" \\\n",
        "   --eval_data_paths=\"gs://${CRS_BUCKET}/${MODEL_NAME}/ch3/valid.csv\"  \\\n",
        "   --output_dir=$OUTDIR \\\n",
        "   --train_steps=100000   "
      ],
      "execution_count": 0,
      "outputs": []
    },
    {
      "metadata": {
        "id": "gVtDPXc9knbN",
        "colab_type": "text"
      },
      "cell_type": "markdown",
      "source": [
        "## Challenge Exercise\n",
        "\n",
        "Modify your solution to the challenge exercise in d_trainandevaluate.ipynb appropriately. Make sure that you implement training and deployment. Increase the size of your dataset by 10x since you are running on the cloud. Does your accuracy improve?"
      ]
    },
    {
      "metadata": {
        "id": "c06ffyKrknbO",
        "colab_type": "text"
      },
      "cell_type": "markdown",
      "source": [
        "### Clean-up"
      ]
    },
    {
      "metadata": {
        "id": "IXvM0LYQknbP",
        "colab_type": "text"
      },
      "cell_type": "markdown",
      "source": [
        "#### Delete Model : step 1 - remove version info \n",
        "Before an existing cloud model can be removed, it must have any version info removed.  "
      ]
    },
    {
      "metadata": {
        "id": "mDaZUABAknbQ",
        "colab_type": "code",
        "colab": {}
      },
      "cell_type": "code",
      "source": [
        "%%bash\n",
        "gcloud ml-engine versions delete ${MODEL_VERSION} --model ${MODEL_NAME}"
      ],
      "execution_count": 0,
      "outputs": []
    },
    {
      "metadata": {
        "id": "A7OLb1byknbS",
        "colab_type": "text"
      },
      "cell_type": "markdown",
      "source": [
        "#### Delete model: step 2 - remove existing model\n",
        "Now that the version info is removed from an existing model, the actual model can be removed.  "
      ]
    },
    {
      "metadata": {
        "id": "D8M-iJ41knbT",
        "colab_type": "code",
        "colab": {}
      },
      "cell_type": "code",
      "source": [
        "%%bash\n",
        "gcloud ml-engine models delete ${MODEL_NAME}"
      ],
      "execution_count": 0,
      "outputs": []
    },
    {
      "metadata": {
        "id": "3CGj-NHZknbX",
        "colab_type": "text"
      },
      "cell_type": "markdown",
      "source": [
        "Copyright 2016 Google Inc. Licensed under the Apache License, Version 2.0 (the \"License\"); you may not use this file except in compliance with the License. You may obtain a copy of the License at http://www.apache.org/licenses/LICENSE-2.0 Unless required by applicable law or agreed to in writing, software distributed under the License is distributed on an \"AS IS\" BASIS, WITHOUT WARRANTIES OR CONDITIONS OF ANY KIND, either express or implied. See the License for the specific language governing permissions and limitations under the License"
      ]
    }
  ]
}