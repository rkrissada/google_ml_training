{
  "nbformat": 4,
  "nbformat_minor": 0,
  "metadata": {
    "colab": {
      "name": "3_tensorflow.ipynb",
      "version": "0.3.2",
      "provenance": [],
      "include_colab_link": true
    },
    "language_info": {
      "codemirror_mode": {
        "name": "ipython",
        "version": 3
      },
      "file_extension": ".py",
      "mimetype": "text/x-python",
      "name": "python",
      "nbconvert_exporter": "python",
      "pygments_lexer": "ipython3",
      "version": "3.5.6"
    },
    "kernelspec": {
      "display_name": "Python 3",
      "language": "python",
      "name": "python3"
    }
  },
  "cells": [
    {
      "cell_type": "markdown",
      "metadata": {
        "id": "view-in-github",
        "colab_type": "text"
      },
      "source": [
        "<a href=\"https://colab.research.google.com/github/rkrissada/google_ml_training/blob/master/3_tensorflow.ipynb\" target=\"_parent\"><img src=\"https://colab.research.google.com/assets/colab-badge.svg\" alt=\"Open In Colab\"/></a>"
      ]
    },
    {
      "cell_type": "markdown",
      "metadata": {
        "id": "ZMeGS2yqR-Nq",
        "colab_type": "text"
      },
      "source": [
        "<h1> Create TensorFlow model </h1>\n",
        "\n",
        "This notebook illustrates:\n",
        "<ol>\n",
        "<li> Creating a model using the high-level Estimator API \n",
        "</ol>"
      ]
    },
    {
      "cell_type": "code",
      "metadata": {
        "id": "SakIU9dUR-Nr",
        "colab_type": "code",
        "colab": {}
      },
      "source": [
        "# change these to try this notebook out\n",
        "BUCKET = 'qwiklabs-gcp-394bd6ac587bed14'\n",
        "PROJECT = 'qwiklabs-gcp-394bd6ac587bed14'\n",
        "REGION = 'us-central1'"
      ],
      "execution_count": 0,
      "outputs": []
    },
    {
      "cell_type": "code",
      "metadata": {
        "id": "Q_8-M1ekR-Nw",
        "colab_type": "code",
        "colab": {}
      },
      "source": [
        "import os\n",
        "os.environ['BUCKET'] = BUCKET\n",
        "os.environ['PROJECT'] = PROJECT\n",
        "os.environ['REGION'] = REGION"
      ],
      "execution_count": 0,
      "outputs": []
    },
    {
      "cell_type": "code",
      "metadata": {
        "id": "bAqo12M-R-Ny",
        "colab_type": "code",
        "colab": {}
      },
      "source": [
        "%%bash\n",
        "if ! gsutil ls | grep -q gs://${BUCKET}/; then\n",
        "  gsutil mb -l ${REGION} gs://${BUCKET}\n",
        "fi"
      ],
      "execution_count": 0,
      "outputs": []
    },
    {
      "cell_type": "code",
      "metadata": {
        "id": "am9py339R-N0",
        "colab_type": "code",
        "colab": {},
        "outputId": "5abdd0e8-e9f2-4d10-db85-053d1fa7a04e"
      },
      "source": [
        "%bash\n",
        "ls *.csv"
      ],
      "execution_count": 0,
      "outputs": [
        {
          "output_type": "stream",
          "text": [
            "eval.csv\n",
            "train.csv\n"
          ],
          "name": "stdout"
        }
      ]
    },
    {
      "cell_type": "markdown",
      "metadata": {
        "id": "k4PKBZCPR-N5",
        "colab_type": "text"
      },
      "source": [
        "<h2> Create TensorFlow model using TensorFlow's Estimator API </h2>\n",
        "<p>\n",
        "First, write an input_fn to read the data.\n",
        "<p>\n",
        "\n",
        "## Lab Task 1\n",
        "Verify that the headers match your CSV output"
      ]
    },
    {
      "cell_type": "code",
      "metadata": {
        "id": "PlgX4z3tR-N6",
        "colab_type": "code",
        "colab": {}
      },
      "source": [
        "import shutil\n",
        "import numpy as np\n",
        "import tensorflow as tf"
      ],
      "execution_count": 0,
      "outputs": []
    },
    {
      "cell_type": "code",
      "metadata": {
        "id": "sTQwPNObR-N8",
        "colab_type": "code",
        "colab": {}
      },
      "source": [
        "# Determine CSV, label, and key columns\n",
        "CSV_COLUMNS = 'weight_pounds,is_male,mother_age,plurality,gestation_weeks,key'.split(',')\n",
        "LABEL_COLUMN = 'weight_pounds'\n",
        "KEY_COLUMN = 'key'\n",
        "\n",
        "# Set default values for each CSV column\n",
        "DEFAULTS = [[0.0], ['null'], [0.0], ['null'], [0.0], ['nokey']]\n",
        "TRAIN_STEPS = 1000"
      ],
      "execution_count": 0,
      "outputs": []
    },
    {
      "cell_type": "markdown",
      "metadata": {
        "id": "L9mceXiTR-N-",
        "colab_type": "text"
      },
      "source": [
        "## Lab Task 2\n",
        "\n",
        "Fill out the details of the input function below"
      ]
    },
    {
      "cell_type": "code",
      "metadata": {
        "id": "r7AUwJ8GR-N_",
        "colab_type": "code",
        "colab": {}
      },
      "source": [
        "# Create an input function reading a file using the Dataset API\n",
        "# Then provide the results to the Estimator API\n",
        "def read_dataset(filename_pattern, mode, batch_size = 512):\n",
        "  def _input_fn():\n",
        "    def decode_csv(line_of_text):\n",
        "      # TODO #1: Use tf.decode_csv to parse the provided line\n",
        "      # TODO #2: Make a Python dict.  The keys are the column names, the values are from the parsed data\n",
        "      # TODO #3: Return a tuple of features, label where features is a Python dict and label a float\n",
        "      columns = tf.decode_csv(line_of_text, record_defaults=DEFAULTS)\n",
        "      features = dict(zip(CSV_COLUMNS, columns))\n",
        "      label = features.pop(LABEL_COLUMN)\n",
        "      return features, label\n",
        "    \n",
        "    # TODO #4: Use tf.gfile.Glob to create list of files that match pattern\n",
        "    file_list = tf.gfile.Glob(filename_pattern)\n",
        "\n",
        "    # Create dataset from file list\n",
        "    dataset = (tf.data.TextLineDataset(file_list)  # Read text file\n",
        "                 .map(decode_csv))  # Transform each elem by applying decode_csv fn\n",
        "    \n",
        "    # TODO #5: In training mode, shuffle the dataset and repeat indefinitely\n",
        "    #                (Look at the API for tf.data.dataset shuffle)\n",
        "    #          The mode input variable will be tf.estimator.ModeKeys.TRAIN if in training mode\n",
        "    #          Tell the dataset to provide data in batches of batch_size \n",
        "    if mode == tf.estimator.ModeKeys.TRAIN:\n",
        "      num_epochs = None\n",
        "      dataset = dataset.shuffle(buffer_size = 10*batch_size)\n",
        "    else:\n",
        "      num_epochs = 1\n",
        "      \n",
        "    dataset = dataset.repeat(num_epochs).batch(batch_size)\n",
        "    # This will now return batches of features, label\n",
        "    return dataset\n",
        "  return _input_fn"
      ],
      "execution_count": 0,
      "outputs": []
    },
    {
      "cell_type": "markdown",
      "metadata": {
        "id": "j1XVwRDRR-OC",
        "colab_type": "text"
      },
      "source": [
        "## Lab Task 3\n",
        "\n",
        "Use the TensorFlow feature column API to define appropriate feature columns for your raw features that come from the CSV.\n",
        "\n",
        "<b> Bonus: </b> Separate your columns into wide columns (categorical, discrete, etc.) and deep columns (numeric, embedding, etc.)"
      ]
    },
    {
      "cell_type": "code",
      "metadata": {
        "id": "7NgV1y4kR-OC",
        "colab_type": "code",
        "colab": {}
      },
      "source": [
        "# Define feature columns\n",
        "def get_categorical(name, values):\n",
        "  return tf.feature_column.indicator_column(\n",
        "    tf.feature_column.categorical_column_with_vocabulary_list(name, values))\n",
        "\n",
        "def get_cols():\n",
        "  # Define column types\n",
        "  return [\\\n",
        "          get_categorical('is_male', ['True', 'False', 'Unknown']),\n",
        "          tf.feature_column.numeric_column('mother_age'),\n",
        "          get_categorical('plurality',\n",
        "                      ['Single(1)', 'Twins(2)', 'Triplets(3)',\n",
        "                       'Quadruplets(4)', 'Quintuplets(5)','Multiple(2+)']),\n",
        "          tf.feature_column.numeric_column('gestation_weeks')\n",
        "      ]"
      ],
      "execution_count": 0,
      "outputs": []
    },
    {
      "cell_type": "markdown",
      "metadata": {
        "id": "vdLklfbNR-OF",
        "colab_type": "text"
      },
      "source": [
        "## Lab Task 4\n",
        "\n",
        "To predict with the TensorFlow model, we also need a serving input function (we'll use this in a later lab). We will want all the inputs from our user.\n",
        "\n",
        "Verify and change the column names and types here as appropriate. These should match your CSV_COLUMNS"
      ]
    },
    {
      "cell_type": "code",
      "metadata": {
        "id": "0thARiCbR-OG",
        "colab_type": "code",
        "colab": {}
      },
      "source": [
        "# Create serving input function to be able to serve predictions later using provided inputs\n",
        "def serving_input_fn():\n",
        "    feature_placeholders = {\n",
        "        'is_male': tf.placeholder(tf.string, [None]),\n",
        "        'mother_age': tf.placeholder(tf.float32, [None]),\n",
        "        'plurality': tf.placeholder(tf.string, [None]),\n",
        "        'gestation_weeks': tf.placeholder(tf.float32, [None])\n",
        "    }\n",
        "    features = {\n",
        "        key: tf.expand_dims(tensor, -1)\n",
        "        for key, tensor in feature_placeholders.items()\n",
        "    }\n",
        "    return tf.estimator.export.ServingInputReceiver(features, feature_placeholders)"
      ],
      "execution_count": 0,
      "outputs": []
    },
    {
      "cell_type": "markdown",
      "metadata": {
        "id": "sw6wiasiR-OJ",
        "colab_type": "text"
      },
      "source": [
        "## Lab Task 5\n",
        "\n",
        "Complete the TODOs in this code:"
      ]
    },
    {
      "cell_type": "code",
      "metadata": {
        "id": "exYUM5fqR-OK",
        "colab_type": "code",
        "colab": {}
      },
      "source": [
        "# Create estimator to train and evaluate\n",
        "def train_and_evaluate(output_dir):\n",
        "  EVAL_INTERVAL = 300\n",
        "  run_config = tf.estimator.RunConfig(save_checkpoints_secs = EVAL_INTERVAL,\n",
        "                                      keep_checkpoint_max = 3)\n",
        "  # TODO #1: Create your estimator\n",
        "  estimator = tf.estimator.DNNRegressor(\n",
        "                       model_dir = output_dir,\n",
        "                       feature_columns = get_cols(),\n",
        "                       hidden_units = [64, 32],\n",
        "                       config = run_config)\n",
        "  train_spec = tf.estimator.TrainSpec(\n",
        "                       # TODO #2: Call read_dataset passing in the training CSV file and the appropriate mode\n",
        "                       input_fn = read_dataset('train.csv', mode = tf.estimator.ModeKeys.TRAIN),\n",
        "                       max_steps = TRAIN_STEPS)\n",
        "  exporter = tf.estimator.LatestExporter('exporter', serving_input_fn)\n",
        "  eval_spec = tf.estimator.EvalSpec(\n",
        "                       # TODO #3: Call read_dataset passing in the evaluation CSV file and the appropriate mode\n",
        "                       input_fn = read_dataset('eval.csv', mode = tf.estimator.ModeKeys.EVAL),\n",
        "                       steps = None,\n",
        "                       start_delay_secs = 60, # start evaluating after N seconds\n",
        "                       throttle_secs = EVAL_INTERVAL,  # evaluate every N seconds\n",
        "                       exporters = exporter)\n",
        "  tf.estimator.train_and_evaluate(estimator, train_spec, eval_spec)"
      ],
      "execution_count": 0,
      "outputs": []
    },
    {
      "cell_type": "markdown",
      "metadata": {
        "id": "EjZu5Nv8R-OM",
        "colab_type": "text"
      },
      "source": [
        "Finally, train!"
      ]
    },
    {
      "cell_type": "code",
      "metadata": {
        "id": "194Z3di9R-OM",
        "colab_type": "code",
        "colab": {},
        "outputId": "feac00d3-03af-4404-e9d3-bc3812d2a847"
      },
      "source": [
        "# Run the model\n",
        "shutil.rmtree('babyweight_trained', ignore_errors = True) # start fresh each time\n",
        "tf.summary.FileWriterCache.clear() # ensure filewriter cache is clear for TensorBoard events file\n",
        "train_and_evaluate('babyweight_trained')"
      ],
      "execution_count": 0,
      "outputs": [
        {
          "output_type": "stream",
          "text": [
            "INFO:tensorflow:Using config: {'_model_dir': 'babyweight_trained', '_service': None, '_master': '', '_global_id_in_cluster': 0, '_keep_checkpoint_every_n_hours': 10000, '_is_chief': True, '_save_checkpoints_secs': 300, '_save_summary_steps': 100, '_log_step_count_steps': 100, '_keep_checkpoint_max': 3, '_save_checkpoints_steps': None, '_train_distribute': None, '_cluster_spec': <tensorflow.python.training.server_lib.ClusterSpec object at 0x7f6fe49d95f8>, '_task_type': 'worker', '_evaluation_master': '', '_num_ps_replicas': 0, '_task_id': 0, '_tf_random_seed': None, '_num_worker_replicas': 1, '_session_config': None}\n",
            "INFO:tensorflow:Running training and evaluation locally (non-distributed).\n",
            "INFO:tensorflow:Start train and evaluate loop. The evaluate will happen after 300 secs (eval_spec.throttle_secs) or training is finished.\n",
            "INFO:tensorflow:Calling model_fn.\n",
            "INFO:tensorflow:Done calling model_fn.\n",
            "INFO:tensorflow:Create CheckpointSaverHook.\n",
            "INFO:tensorflow:Graph was finalized.\n",
            "INFO:tensorflow:Running local_init_op.\n",
            "INFO:tensorflow:Done running local_init_op.\n",
            "INFO:tensorflow:Saving checkpoints for 1 into babyweight_trained/model.ckpt.\n",
            "INFO:tensorflow:loss = 84692.82, step = 1\n",
            "INFO:tensorflow:global_step/sec: 44.7234\n",
            "INFO:tensorflow:loss = 609.06537, step = 101 (2.241 sec)\n",
            "INFO:tensorflow:global_step/sec: 41.4146\n",
            "INFO:tensorflow:loss = 610.0051, step = 201 (2.417 sec)\n",
            "INFO:tensorflow:global_step/sec: 43.8264\n",
            "INFO:tensorflow:loss = 667.02515, step = 301 (2.282 sec)\n",
            "INFO:tensorflow:global_step/sec: 42.6347\n",
            "INFO:tensorflow:loss = 669.7921, step = 401 (2.345 sec)\n",
            "INFO:tensorflow:global_step/sec: 42.1978\n",
            "INFO:tensorflow:loss = 634.7212, step = 501 (2.370 sec)\n",
            "INFO:tensorflow:global_step/sec: 43.0478\n",
            "INFO:tensorflow:loss = 578.6013, step = 601 (2.323 sec)\n",
            "INFO:tensorflow:global_step/sec: 42.6647\n",
            "INFO:tensorflow:loss = 623.54395, step = 701 (2.343 sec)\n",
            "INFO:tensorflow:global_step/sec: 43.7252\n",
            "INFO:tensorflow:loss = 546.9358, step = 801 (2.287 sec)\n",
            "INFO:tensorflow:global_step/sec: 44.3949\n",
            "INFO:tensorflow:loss = 547.2355, step = 901 (2.253 sec)\n",
            "INFO:tensorflow:Saving checkpoints for 1000 into babyweight_trained/model.ckpt.\n",
            "INFO:tensorflow:Loss for final step: 580.6863.\n",
            "INFO:tensorflow:Calling model_fn.\n",
            "INFO:tensorflow:Done calling model_fn.\n",
            "INFO:tensorflow:Starting evaluation at 2019-05-03-10:22:05\n",
            "INFO:tensorflow:Graph was finalized.\n",
            "INFO:tensorflow:Restoring parameters from babyweight_trained/model.ckpt-1000\n",
            "INFO:tensorflow:Running local_init_op.\n",
            "INFO:tensorflow:Done running local_init_op.\n",
            "INFO:tensorflow:Finished evaluation at 2019-05-03-10:22:05\n",
            "INFO:tensorflow:Saving dict for global step 1000: average_loss = 1.1541584, global_step = 1000, loss = 577.7894\n",
            "INFO:tensorflow:Calling model_fn.\n",
            "INFO:tensorflow:Done calling model_fn.\n",
            "INFO:tensorflow:Signatures INCLUDED in export for Classify: None\n",
            "INFO:tensorflow:Signatures INCLUDED in export for Regress: None\n",
            "INFO:tensorflow:Signatures INCLUDED in export for Predict: ['predict']\n",
            "INFO:tensorflow:Signatures EXCLUDED from export because they cannot be be served via TensorFlow Serving APIs:\n",
            "INFO:tensorflow:'regression' : Regression input must be a single string Tensor; got {'gestation_weeks': <tf.Tensor 'Placeholder_3:0' shape=(?,) dtype=float32>, 'mother_age': <tf.Tensor 'Placeholder_1:0' shape=(?,) dtype=float32>, 'is_male': <tf.Tensor 'Placeholder:0' shape=(?,) dtype=string>, 'plurality': <tf.Tensor 'Placeholder_2:0' shape=(?,) dtype=string>}\n",
            "INFO:tensorflow:'serving_default' : Regression input must be a single string Tensor; got {'gestation_weeks': <tf.Tensor 'Placeholder_3:0' shape=(?,) dtype=float32>, 'mother_age': <tf.Tensor 'Placeholder_1:0' shape=(?,) dtype=float32>, 'is_male': <tf.Tensor 'Placeholder:0' shape=(?,) dtype=string>, 'plurality': <tf.Tensor 'Placeholder_2:0' shape=(?,) dtype=string>}\n",
            "WARNING:tensorflow:Export includes no default signature!\n",
            "INFO:tensorflow:Restoring parameters from babyweight_trained/model.ckpt-1000\n",
            "INFO:tensorflow:Assets added to graph.\n",
            "INFO:tensorflow:No assets to write.\n",
            "INFO:tensorflow:SavedModel written to: b\"babyweight_trained/export/exporter/temp-b'1556878926'/saved_model.pb\"\n"
          ],
          "name": "stdout"
        }
      ]
    },
    {
      "cell_type": "markdown",
      "metadata": {
        "id": "Q4aHZSKSR-OQ",
        "colab_type": "text"
      },
      "source": [
        "When I ran it, the final lines of the output (above) were:\n",
        "<pre>\n",
        "INFO:tensorflow:Saving dict for global step 1000: average_loss = 1.2693067, global_step = 1000, loss = 635.9226\n",
        "INFO:tensorflow:Restoring parameters from babyweight_trained/model.ckpt-1000\n",
        "INFO:tensorflow:Assets added to graph.\n",
        "INFO:tensorflow:No assets to write.\n",
        "INFO:tensorflow:SavedModel written to: babyweight_trained/export/exporter/temp-1517899936/saved_model.pb\n",
        "</pre>\n",
        "The exporter directory contains the final model and the final RMSE (the average_loss) is 1.2693067"
      ]
    },
    {
      "cell_type": "markdown",
      "metadata": {
        "id": "3pTnOnRsR-OR",
        "colab_type": "text"
      },
      "source": [
        "<h2> Monitor and experiment with training </h2>"
      ]
    },
    {
      "cell_type": "code",
      "metadata": {
        "id": "ikWAWW3GR-OR",
        "colab_type": "code",
        "colab": {},
        "outputId": "c77d578d-1742-451c-f7a4-e3650bcd0743"
      },
      "source": [
        "from google.datalab.ml import TensorBoard\n",
        "TensorBoard().start('./babyweight_trained')"
      ],
      "execution_count": 0,
      "outputs": [
        {
          "output_type": "display_data",
          "data": {
            "text/html": [
              "<p>TensorBoard was started successfully with pid 4083. Click <a href=\"/_proxy/52995/\" target=\"_blank\">here</a> to access it.</p>"
            ]
          },
          "metadata": {
            "tags": []
          }
        },
        {
          "output_type": "execute_result",
          "data": {
            "text/plain": [
              "4083"
            ]
          },
          "metadata": {
            "tags": []
          },
          "execution_count": 32
        }
      ]
    },
    {
      "cell_type": "code",
      "metadata": {
        "id": "iL_lD7KoR-OV",
        "colab_type": "code",
        "colab": {},
        "outputId": "1e9ac104-7e83-4b22-f04b-b80a65311dc2"
      },
      "source": [
        "for pid in TensorBoard.list()['pid']:\n",
        "  TensorBoard().stop(pid)\n",
        "  print('Stopped TensorBoard with pid {}'.format(pid))"
      ],
      "execution_count": 0,
      "outputs": [
        {
          "output_type": "stream",
          "text": [
            "Stopped TensorBoard with pid 4083\n"
          ],
          "name": "stdout"
        }
      ]
    },
    {
      "cell_type": "markdown",
      "metadata": {
        "id": "5z1hEJ-2R-OY",
        "colab_type": "text"
      },
      "source": [
        "Copyright 2017-2018 Google Inc. Licensed under the Apache License, Version 2.0 (the \"License\"); you may not use this file except in compliance with the License. You may obtain a copy of the License at http://www.apache.org/licenses/LICENSE-2.0 Unless required by applicable law or agreed to in writing, software distributed under the License is distributed on an \"AS IS\" BASIS, WITHOUT WARRANTIES OR CONDITIONS OF ANY KIND, either express or implied. See the License for the specific language governing permissions and limitations under the License"
      ]
    }
  ]
}